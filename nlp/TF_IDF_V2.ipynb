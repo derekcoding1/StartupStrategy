{
  "nbformat": 4,
  "nbformat_minor": 0,
  "metadata": {
    "colab": {
      "name": "TF_IDF.ipynb",
      "provenance": [],
      "collapsed_sections": [],
      "toc_visible": true
    },
    "kernelspec": {
      "name": "python3",
      "display_name": "Python 3"
    }
  },
  "cells": [
    {
      "cell_type": "markdown",
      "metadata": {
        "id": "jLCTXbk12Q-0"
      },
      "source": [
        "# **Package installation**"
      ]
    },
    {
      "cell_type": "code",
      "metadata": {
        "id": "t-U-od5yygzu",
        "outputId": "bca7d9f2-c3ff-4857-bb71-843cbe96eda6",
        "colab": {
          "base_uri": "https://localhost:8080/"
        }
      },
      "source": [
        "pip install -U sentence-transformers"
      ],
      "execution_count": 1,
      "outputs": [
        {
          "output_type": "stream",
          "text": [
            "Collecting sentence-transformers\n",
            "\u001b[?25l  Downloading https://files.pythonhosted.org/packages/f4/fd/0190080aa0af78d7cd5874e4e8e85f0bed9967dd387cf05d760832b95da9/sentence-transformers-0.3.8.tar.gz (66kB)\n",
            "\u001b[K     |████████████████████████████████| 71kB 1.9MB/s \n",
            "\u001b[?25hCollecting transformers<3.4.0,>=3.1.0\n",
            "\u001b[?25l  Downloading https://files.pythonhosted.org/packages/19/22/aff234f4a841f8999e68a7a94bdd4b60b4cebcfeca5d67d61cd08c9179de/transformers-3.3.1-py3-none-any.whl (1.1MB)\n",
            "\u001b[K     |████████████████████████████████| 1.1MB 7.5MB/s \n",
            "\u001b[?25hRequirement already satisfied, skipping upgrade: tqdm in /usr/local/lib/python3.6/dist-packages (from sentence-transformers) (4.41.1)\n",
            "Requirement already satisfied, skipping upgrade: torch>=1.2.0 in /usr/local/lib/python3.6/dist-packages (from sentence-transformers) (1.6.0+cu101)\n",
            "Requirement already satisfied, skipping upgrade: numpy in /usr/local/lib/python3.6/dist-packages (from sentence-transformers) (1.18.5)\n",
            "Requirement already satisfied, skipping upgrade: scikit-learn in /usr/local/lib/python3.6/dist-packages (from sentence-transformers) (0.22.2.post1)\n",
            "Requirement already satisfied, skipping upgrade: scipy in /usr/local/lib/python3.6/dist-packages (from sentence-transformers) (1.4.1)\n",
            "Requirement already satisfied, skipping upgrade: nltk in /usr/local/lib/python3.6/dist-packages (from sentence-transformers) (3.2.5)\n",
            "Requirement already satisfied, skipping upgrade: dataclasses; python_version < \"3.7\" in /usr/local/lib/python3.6/dist-packages (from transformers<3.4.0,>=3.1.0->sentence-transformers) (0.7)\n",
            "Requirement already satisfied, skipping upgrade: packaging in /usr/local/lib/python3.6/dist-packages (from transformers<3.4.0,>=3.1.0->sentence-transformers) (20.4)\n",
            "Collecting tokenizers==0.8.1.rc2\n",
            "\u001b[?25l  Downloading https://files.pythonhosted.org/packages/80/83/8b9fccb9e48eeb575ee19179e2bdde0ee9a1904f97de5f02d19016b8804f/tokenizers-0.8.1rc2-cp36-cp36m-manylinux1_x86_64.whl (3.0MB)\n",
            "\u001b[K     |████████████████████████████████| 3.0MB 23.6MB/s \n",
            "\u001b[?25hCollecting sacremoses\n",
            "\u001b[?25l  Downloading https://files.pythonhosted.org/packages/7d/34/09d19aff26edcc8eb2a01bed8e98f13a1537005d31e95233fd48216eed10/sacremoses-0.0.43.tar.gz (883kB)\n",
            "\u001b[K     |████████████████████████████████| 890kB 40.1MB/s \n",
            "\u001b[?25hCollecting sentencepiece!=0.1.92\n",
            "\u001b[?25l  Downloading https://files.pythonhosted.org/packages/e5/2d/6d4ca4bef9a67070fa1cac508606328329152b1df10bdf31fb6e4e727894/sentencepiece-0.1.94-cp36-cp36m-manylinux2014_x86_64.whl (1.1MB)\n",
            "\u001b[K     |████████████████████████████████| 1.1MB 38.3MB/s \n",
            "\u001b[?25hRequirement already satisfied, skipping upgrade: regex!=2019.12.17 in /usr/local/lib/python3.6/dist-packages (from transformers<3.4.0,>=3.1.0->sentence-transformers) (2019.12.20)\n",
            "Requirement already satisfied, skipping upgrade: requests in /usr/local/lib/python3.6/dist-packages (from transformers<3.4.0,>=3.1.0->sentence-transformers) (2.23.0)\n",
            "Requirement already satisfied, skipping upgrade: filelock in /usr/local/lib/python3.6/dist-packages (from transformers<3.4.0,>=3.1.0->sentence-transformers) (3.0.12)\n",
            "Requirement already satisfied, skipping upgrade: future in /usr/local/lib/python3.6/dist-packages (from torch>=1.2.0->sentence-transformers) (0.16.0)\n",
            "Requirement already satisfied, skipping upgrade: joblib>=0.11 in /usr/local/lib/python3.6/dist-packages (from scikit-learn->sentence-transformers) (0.17.0)\n",
            "Requirement already satisfied, skipping upgrade: six in /usr/local/lib/python3.6/dist-packages (from nltk->sentence-transformers) (1.15.0)\n",
            "Requirement already satisfied, skipping upgrade: pyparsing>=2.0.2 in /usr/local/lib/python3.6/dist-packages (from packaging->transformers<3.4.0,>=3.1.0->sentence-transformers) (2.4.7)\n",
            "Requirement already satisfied, skipping upgrade: click in /usr/local/lib/python3.6/dist-packages (from sacremoses->transformers<3.4.0,>=3.1.0->sentence-transformers) (7.1.2)\n",
            "Requirement already satisfied, skipping upgrade: chardet<4,>=3.0.2 in /usr/local/lib/python3.6/dist-packages (from requests->transformers<3.4.0,>=3.1.0->sentence-transformers) (3.0.4)\n",
            "Requirement already satisfied, skipping upgrade: certifi>=2017.4.17 in /usr/local/lib/python3.6/dist-packages (from requests->transformers<3.4.0,>=3.1.0->sentence-transformers) (2020.6.20)\n",
            "Requirement already satisfied, skipping upgrade: urllib3!=1.25.0,!=1.25.1,<1.26,>=1.21.1 in /usr/local/lib/python3.6/dist-packages (from requests->transformers<3.4.0,>=3.1.0->sentence-transformers) (1.24.3)\n",
            "Requirement already satisfied, skipping upgrade: idna<3,>=2.5 in /usr/local/lib/python3.6/dist-packages (from requests->transformers<3.4.0,>=3.1.0->sentence-transformers) (2.10)\n",
            "Building wheels for collected packages: sentence-transformers, sacremoses\n",
            "  Building wheel for sentence-transformers (setup.py) ... \u001b[?25l\u001b[?25hdone\n",
            "  Created wheel for sentence-transformers: filename=sentence_transformers-0.3.8-cp36-none-any.whl size=101996 sha256=92c47d5ac1dc9b8e1c6b7d6edc900aa7802b59151ecd191be10f18c6737546e5\n",
            "  Stored in directory: /root/.cache/pip/wheels/27/ec/b3/d12cc8e4daf77846db6543033d3a5642f204c0320b15945647\n",
            "  Building wheel for sacremoses (setup.py) ... \u001b[?25l\u001b[?25hdone\n",
            "  Created wheel for sacremoses: filename=sacremoses-0.0.43-cp36-none-any.whl size=893257 sha256=33eb8aa9fb41955acd983e4b3b7e279b2c4ee563cf4c41851fc2e01c243a37c8\n",
            "  Stored in directory: /root/.cache/pip/wheels/29/3c/fd/7ce5c3f0666dab31a50123635e6fb5e19ceb42ce38d4e58f45\n",
            "Successfully built sentence-transformers sacremoses\n",
            "Installing collected packages: tokenizers, sacremoses, sentencepiece, transformers, sentence-transformers\n",
            "Successfully installed sacremoses-0.0.43 sentence-transformers-0.3.8 sentencepiece-0.1.94 tokenizers-0.8.1rc2 transformers-3.3.1\n"
          ],
          "name": "stdout"
        }
      ]
    },
    {
      "cell_type": "code",
      "metadata": {
        "id": "BmrXBL680aPY",
        "outputId": "38e05e99-d945-43e7-b307-203f8b4cfefc",
        "colab": {
          "base_uri": "https://localhost:8080/"
        }
      },
      "source": [
        "pip install gcld3"
      ],
      "execution_count": 2,
      "outputs": [
        {
          "output_type": "stream",
          "text": [
            "Collecting gcld3\n",
            "\u001b[?25l  Downloading https://files.pythonhosted.org/packages/61/63/0f5816f6c60fce2f5b2d6106ad1d3a50fc785ac68b1520a78c80b4b84fb7/gcld3-3.0.13-cp36-cp36m-manylinux2010_x86_64.whl (3.8MB)\n",
            "\u001b[K     |████████████████████████████████| 3.8MB 2.8MB/s \n",
            "\u001b[?25hInstalling collected packages: gcld3\n",
            "Successfully installed gcld3-3.0.13\n"
          ],
          "name": "stdout"
        }
      ]
    },
    {
      "cell_type": "code",
      "metadata": {
        "id": "ZF5EN4NE2H7P"
      },
      "source": [
        "import pandas as pd\n",
        "import numpy as np\n",
        "import matplotlib.pyplot as plt\n",
        "import spacy\n",
        "import pathlib\n",
        "import random\n",
        "import math\n",
        "import re\n",
        "import torch\n",
        "from transformers import AutoTokenizer, AutoModel\n",
        "from sklearn.metrics.pairwise import cosine_similarity\n",
        "from sklearn.metrics.pairwise import euclidean_distances\n",
        "from sentence_transformers import SentenceTransformer\n",
        "from sklearn.feature_extraction.text import TfidfVectorizer"
      ],
      "execution_count": 3,
      "outputs": []
    },
    {
      "cell_type": "code",
      "metadata": {
        "id": "h3Xk5vv32JxK",
        "outputId": "e7a6723c-674b-4487-90e5-aecb5df60d0b",
        "colab": {
          "base_uri": "https://localhost:8080/"
        }
      },
      "source": [
        "import nltk\n",
        "nltk.download('stopwords')\n",
        "from nltk.corpus import stopwords\n",
        "import gcld3"
      ],
      "execution_count": 4,
      "outputs": [
        {
          "output_type": "stream",
          "text": [
            "[nltk_data] Downloading package stopwords to /root/nltk_data...\n",
            "[nltk_data]   Unzipping corpora/stopwords.zip.\n"
          ],
          "name": "stdout"
        }
      ]
    },
    {
      "cell_type": "code",
      "metadata": {
        "id": "iBG5lU414qiy",
        "outputId": "7210d223-b238-43df-a31a-cf36263ecd38",
        "colab": {
          "base_uri": "https://localhost:8080/"
        }
      },
      "source": [
        "from google.colab import drive\n",
        "drive.mount('/content/drive')"
      ],
      "execution_count": 5,
      "outputs": [
        {
          "output_type": "stream",
          "text": [
            "Mounted at /content/drive\n"
          ],
          "name": "stdout"
        }
      ]
    },
    {
      "cell_type": "code",
      "metadata": {
        "id": "nasP9Q7c6DZN",
        "outputId": "ca6f8e3c-03b1-43a4-a338-006136fa71b7",
        "colab": {
          "base_uri": "https://localhost:8080/"
        }
      },
      "source": [
        "!ls '/content/drive/My Drive/Capstone Shared Docs/result'"
      ],
      "execution_count": 6,
      "outputs": [
        {
          "output_type": "stream",
          "text": [
            "'EC2 full run Oct14 result'  'Local Oct 13 result'\n",
            "'EC2 Oct 13 result'\t     'Local Oct 6 result'\n",
            "'EC2 Oct26 public data'      'terminal log_oct5_am.txt'\n",
            "'Error Log Resume.xlsx'      'terminal log_oct5.txt'\n"
          ],
          "name": "stdout"
        }
      ]
    },
    {
      "cell_type": "markdown",
      "metadata": {
        "id": "Rpjx0mSHA0T5"
      },
      "source": [
        "# **Loading dta files**"
      ]
    },
    {
      "cell_type": "code",
      "metadata": {
        "id": "nv4fDJh8Azpw"
      },
      "source": [
        "df_startup = pd.read_stata(\"drive/My Drive/Capstone Shared Docs/data/all_deals.dta\")\n",
        "df_startup_unique = df_startup.drop_duplicates([\"portfoliocompanyid\"],keep=\"first\")"
      ],
      "execution_count": 7,
      "outputs": []
    },
    {
      "cell_type": "code",
      "metadata": {
        "id": "mtKVZEdCAz7K"
      },
      "source": [
        "df_public = pd.read_stata(\"drive/My Drive/Capstone Shared Docs/data/all_public_firms.dta\")\n",
        "df_public_unique = df_public.drop_duplicates([\"ÿþmark\"],keep=\"first\")"
      ],
      "execution_count": 8,
      "outputs": []
    },
    {
      "cell_type": "markdown",
      "metadata": {
        "id": "Vgh0e5R04rPq"
      },
      "source": [
        "# **Loading txt Data Startups**"
      ]
    },
    {
      "cell_type": "code",
      "metadata": {
        "id": "lREb78Eo-GOD"
      },
      "source": [
        "path_startup = pathlib.Path(\"drive/My Drive/Capstone Shared Docs/result/EC2 full run Oct14 result\")"
      ],
      "execution_count": 9,
      "outputs": []
    },
    {
      "cell_type": "code",
      "metadata": {
        "id": "ZJJjiMeP-R3R"
      },
      "source": [
        "txt_startup =list(path_startup.glob('*.txt'))"
      ],
      "execution_count": 10,
      "outputs": []
    },
    {
      "cell_type": "code",
      "metadata": {
        "id": "GHvd9jfB_rIQ",
        "outputId": "b647c018-4daa-4577-e587-1165c7dd969d",
        "colab": {
          "base_uri": "https://localhost:8080/"
        }
      },
      "source": [
        "all_text_startup = {}\n",
        "\n",
        "for p in txt_startup:\n",
        "    n = p.name.split(\"_\")[0]\n",
        "    file = open(p)\n",
        "    # Remove first two and last characters, because of ascii encoding\n",
        "    text = file.read().replace(\"***///***\",\"\")[2:-1]\n",
        "    # remove \"\"\n",
        "    text_list = text.split(\" \")\n",
        "    text_list = [x for x in text_list if x!=\"\"]\n",
        "    text = \" \".join(text_list)\n",
        "    file.close()\n",
        "    all_text_startup[n] = text\n",
        "  \n",
        "print(len(all_text_startup))"
      ],
      "execution_count": 11,
      "outputs": [
        {
          "output_type": "stream",
          "text": [
            "430\n"
          ],
          "name": "stdout"
        }
      ]
    },
    {
      "cell_type": "code",
      "metadata": {
        "id": "-wp-dVCUNJhu"
      },
      "source": [
        "Txt_startup_frame = pd.DataFrame.from_dict(all_text_startup, orient='index')\n",
        "Txt_startup_frame.columns = ['Text']\n",
        "Txt_startup_frame['companyid'] = Txt_startup_frame.index\n",
        "Txt_startup_frame.index = np.arange(0,len(Txt_startup_frame.companyid))\n",
        "Txt_startup_frame = Txt_startup_frame.assign(comp_type='S')\n",
        "Txt_startup_frame = Txt_startup_frame[['companyid', 'comp_type', 'Text']]"
      ],
      "execution_count": 12,
      "outputs": []
    },
    {
      "cell_type": "code",
      "metadata": {
        "id": "P5a4gquUZizc"
      },
      "source": [
        "stop_words_l=stopwords.words('english')\n",
        "Txt_startup_frame['Text_cleaned']=Txt_startup_frame.Text.apply(lambda x: \" \".join(re.sub(r'[^a-zA-Z]',' ',w).lower() for w in x.split() if re.sub(r'[^a-zA-Z]',' ',w).lower() not in stop_words_l) )"
      ],
      "execution_count": 13,
      "outputs": []
    },
    {
      "cell_type": "code",
      "metadata": {
        "id": "xeFfVY_iZ8nj",
        "outputId": "1cf30b6a-5ab9-4516-d5c5-31582885b893",
        "colab": {
          "base_uri": "https://localhost:8080/",
          "height": 194
        }
      },
      "source": [
        "Txt_startup_frame.head()"
      ],
      "execution_count": 14,
      "outputs": [
        {
          "output_type": "execute_result",
          "data": {
            "text/html": [
              "<div>\n",
              "<style scoped>\n",
              "    .dataframe tbody tr th:only-of-type {\n",
              "        vertical-align: middle;\n",
              "    }\n",
              "\n",
              "    .dataframe tbody tr th {\n",
              "        vertical-align: top;\n",
              "    }\n",
              "\n",
              "    .dataframe thead th {\n",
              "        text-align: right;\n",
              "    }\n",
              "</style>\n",
              "<table border=\"1\" class=\"dataframe\">\n",
              "  <thead>\n",
              "    <tr style=\"text-align: right;\">\n",
              "      <th></th>\n",
              "      <th>companyid</th>\n",
              "      <th>comp_type</th>\n",
              "      <th>Text</th>\n",
              "      <th>Text_cleaned</th>\n",
              "    </tr>\n",
              "  </thead>\n",
              "  <tbody>\n",
              "    <tr>\n",
              "      <th>0</th>\n",
              "      <td>73501</td>\n",
              "      <td>S</td>\n",
              "      <td>JOOR Skip navigation Member Log In Forgot pass...</td>\n",
              "      <td>joor skip navigation member log forgot passwor...</td>\n",
              "    </tr>\n",
              "    <tr>\n",
              "      <th>1</th>\n",
              "      <td>160418</td>\n",
              "      <td>S</td>\n",
              "      <td>Patients Physicians Employers Login Crossover ...</td>\n",
              "      <td>patients physicians employers login crossover ...</td>\n",
              "    </tr>\n",
              "    <tr>\n",
              "      <th>2</th>\n",
              "      <td>161261</td>\n",
              "      <td>S</td>\n",
              "      <td>Home | Recent questions | Directories | Feedba...</td>\n",
              "      <td>home   recent questions   directories   feedba...</td>\n",
              "    </tr>\n",
              "    <tr>\n",
              "      <th>3</th>\n",
              "      <td>129092</td>\n",
              "      <td>S</td>\n",
              "      <td>Nanotronics Home News Products What is nSpec ?...</td>\n",
              "      <td>nanotronics home news products nspec   system ...</td>\n",
              "    </tr>\n",
              "    <tr>\n",
              "      <th>4</th>\n",
              "      <td>77179</td>\n",
              "      <td>S</td>\n",
              "      <td>Home About Us Our Approach Technology Our Cust...</td>\n",
              "      <td>home us approach technology customers contact ...</td>\n",
              "    </tr>\n",
              "  </tbody>\n",
              "</table>\n",
              "</div>"
            ],
            "text/plain": [
              "  companyid  ...                                       Text_cleaned\n",
              "0     73501  ...  joor skip navigation member log forgot passwor...\n",
              "1    160418  ...  patients physicians employers login crossover ...\n",
              "2    161261  ...  home   recent questions   directories   feedba...\n",
              "3    129092  ...  nanotronics home news products nspec   system ...\n",
              "4     77179  ...  home us approach technology customers contact ...\n",
              "\n",
              "[5 rows x 4 columns]"
            ]
          },
          "metadata": {
            "tags": []
          },
          "execution_count": 14
        }
      ]
    },
    {
      "cell_type": "markdown",
      "metadata": {
        "id": "inxH4lpMdo7Q"
      },
      "source": [
        "# **Loading txt Data Public Companies**"
      ]
    },
    {
      "cell_type": "code",
      "metadata": {
        "id": "lBPBSvu6dv7y"
      },
      "source": [
        "path_public = pathlib.Path(\"drive/My Drive/Capstone Shared Docs/result/EC2 Oct26 public data\")"
      ],
      "execution_count": 15,
      "outputs": []
    },
    {
      "cell_type": "code",
      "metadata": {
        "id": "eCeeeaebdwFU"
      },
      "source": [
        "txt_public =list(path_public.glob('*.txt'))"
      ],
      "execution_count": 16,
      "outputs": []
    },
    {
      "cell_type": "code",
      "metadata": {
        "id": "F3DD_lDMdwPN",
        "outputId": "14dfaec0-7c4e-46e6-8c5b-609148060720",
        "colab": {
          "base_uri": "https://localhost:8080/"
        }
      },
      "source": [
        "all_text_public = {}\n",
        "\n",
        "for p in txt_public:\n",
        "    n = p.name.split(\"_\")[0]\n",
        "    file = open(p)\n",
        "    # Remove first two and last characters, because of ascii encoding\n",
        "    text = file.read().replace(\"***///***\",\"\")[2:-1]\n",
        "    # remove \"\"\n",
        "    text_list = text.split(\" \")\n",
        "    text_list = [x for x in text_list if x!=\"\"]\n",
        "    text = \" \".join(text_list)\n",
        "    file.close()\n",
        "    all_text_public[n] = text\n",
        "\n",
        "print(len(all_text_public))"
      ],
      "execution_count": 17,
      "outputs": [
        {
          "output_type": "stream",
          "text": [
            "536\n"
          ],
          "name": "stdout"
        }
      ]
    },
    {
      "cell_type": "code",
      "metadata": {
        "id": "IP1G4F9BeIjm"
      },
      "source": [
        "Txt_public_frame = pd.DataFrame.from_dict(all_text_public, orient='index')\n",
        "Txt_public_frame.columns = ['Text']\n",
        "Txt_public_frame['companyid'] = Txt_public_frame.index\n",
        "Txt_public_frame.index = np.arange(0,len(Txt_public_frame.companyid))\n",
        "Txt_public_frame = Txt_public_frame.assign(comp_type='P')\n",
        "Txt_public_frame = Txt_public_frame[['companyid', 'comp_type', 'Text']]"
      ],
      "execution_count": 18,
      "outputs": []
    },
    {
      "cell_type": "code",
      "metadata": {
        "id": "r2ni6-Dbeq3i"
      },
      "source": [
        "stop_words_l=stopwords.words('english')\n",
        "Txt_public_frame['Text_cleaned']=Txt_public_frame.Text.apply(lambda x: \" \".join(re.sub(r'[^a-zA-Z]',' ',w).lower() for w in x.split() if re.sub(r'[^a-zA-Z]',' ',w).lower() not in stop_words_l) )"
      ],
      "execution_count": 19,
      "outputs": []
    },
    {
      "cell_type": "code",
      "metadata": {
        "id": "4_QQIVh-evsz",
        "outputId": "735656f5-657a-4767-cd51-fe67efa52b58",
        "colab": {
          "base_uri": "https://localhost:8080/",
          "height": 194
        }
      },
      "source": [
        "Txt_public_frame\n",
        "Txt_public_frame.head()"
      ],
      "execution_count": 20,
      "outputs": [
        {
          "output_type": "execute_result",
          "data": {
            "text/html": [
              "<div>\n",
              "<style scoped>\n",
              "    .dataframe tbody tr th:only-of-type {\n",
              "        vertical-align: middle;\n",
              "    }\n",
              "\n",
              "    .dataframe tbody tr th {\n",
              "        vertical-align: top;\n",
              "    }\n",
              "\n",
              "    .dataframe thead th {\n",
              "        text-align: right;\n",
              "    }\n",
              "</style>\n",
              "<table border=\"1\" class=\"dataframe\">\n",
              "  <thead>\n",
              "    <tr style=\"text-align: right;\">\n",
              "      <th></th>\n",
              "      <th>companyid</th>\n",
              "      <th>comp_type</th>\n",
              "      <th>Text</th>\n",
              "      <th>Text_cleaned</th>\n",
              "    </tr>\n",
              "  </thead>\n",
              "  <tbody>\n",
              "    <tr>\n",
              "      <th>0</th>\n",
              "      <td>151</td>\n",
              "      <td>P</td>\n",
              "      <td>CVR Energy is an independent petroleum refiner...</td>\n",
              "      <td>cvr energy independent petroleum refiner marke...</td>\n",
              "    </tr>\n",
              "    <tr>\n",
              "      <th>1</th>\n",
              "      <td>1658</td>\n",
              "      <td>P</td>\n",
              "      <td>COMPANY Executive Profiles History Company Val...</td>\n",
              "      <td>company executive profiles history company val...</td>\n",
              "    </tr>\n",
              "    <tr>\n",
              "      <th>2</th>\n",
              "      <td>5503</td>\n",
              "      <td>P</td>\n",
              "      <td>Home | About Us | Locations | ATM Locations | ...</td>\n",
              "      <td>home   us   locations   atm locations   contac...</td>\n",
              "    </tr>\n",
              "    <tr>\n",
              "      <th>3</th>\n",
              "      <td>2901</td>\n",
              "      <td>P</td>\n",
              "      <td>Home | Site Map | Contact Us Information is be...</td>\n",
              "      <td>home   site map   contact us information colle...</td>\n",
              "    </tr>\n",
              "    <tr>\n",
              "      <th>4</th>\n",
              "      <td>1510</td>\n",
              "      <td>P</td>\n",
              "      <td>Search: Corporate Info | Contact GAF | News &amp; ...</td>\n",
              "      <td>search  corporate info   contact gaf   news   ...</td>\n",
              "    </tr>\n",
              "  </tbody>\n",
              "</table>\n",
              "</div>"
            ],
            "text/plain": [
              "  companyid  ...                                       Text_cleaned\n",
              "0       151  ...  cvr energy independent petroleum refiner marke...\n",
              "1      1658  ...  company executive profiles history company val...\n",
              "2      5503  ...  home   us   locations   atm locations   contac...\n",
              "3      2901  ...  home   site map   contact us information colle...\n",
              "4      1510  ...  search  corporate info   contact gaf   news   ...\n",
              "\n",
              "[5 rows x 4 columns]"
            ]
          },
          "metadata": {
            "tags": []
          },
          "execution_count": 20
        }
      ]
    },
    {
      "cell_type": "markdown",
      "metadata": {
        "id": "qIlY3JW2h8ts"
      },
      "source": [
        "# **Concatenate Public and Startup DB**"
      ]
    },
    {
      "cell_type": "code",
      "metadata": {
        "id": "qiy1zTKfirar"
      },
      "source": [
        "Txt_all_frame = pd.concat([Txt_startup_frame, Txt_public_frame])\n",
        "Txt_all_frame.index = np.arange(0,len(Txt_all_frame.companyid))"
      ],
      "execution_count": 21,
      "outputs": []
    },
    {
      "cell_type": "code",
      "metadata": {
        "id": "6bOsNCrloe7s",
        "outputId": "566da9f7-7bc5-4003-d3f2-009f3daac4cb",
        "colab": {
          "base_uri": "https://localhost:8080/",
          "height": 194
        }
      },
      "source": [
        "Txt_all_frame.head()"
      ],
      "execution_count": 22,
      "outputs": [
        {
          "output_type": "execute_result",
          "data": {
            "text/html": [
              "<div>\n",
              "<style scoped>\n",
              "    .dataframe tbody tr th:only-of-type {\n",
              "        vertical-align: middle;\n",
              "    }\n",
              "\n",
              "    .dataframe tbody tr th {\n",
              "        vertical-align: top;\n",
              "    }\n",
              "\n",
              "    .dataframe thead th {\n",
              "        text-align: right;\n",
              "    }\n",
              "</style>\n",
              "<table border=\"1\" class=\"dataframe\">\n",
              "  <thead>\n",
              "    <tr style=\"text-align: right;\">\n",
              "      <th></th>\n",
              "      <th>companyid</th>\n",
              "      <th>comp_type</th>\n",
              "      <th>Text</th>\n",
              "      <th>Text_cleaned</th>\n",
              "    </tr>\n",
              "  </thead>\n",
              "  <tbody>\n",
              "    <tr>\n",
              "      <th>0</th>\n",
              "      <td>73501</td>\n",
              "      <td>S</td>\n",
              "      <td>JOOR Skip navigation Member Log In Forgot pass...</td>\n",
              "      <td>joor skip navigation member log forgot passwor...</td>\n",
              "    </tr>\n",
              "    <tr>\n",
              "      <th>1</th>\n",
              "      <td>160418</td>\n",
              "      <td>S</td>\n",
              "      <td>Patients Physicians Employers Login Crossover ...</td>\n",
              "      <td>patients physicians employers login crossover ...</td>\n",
              "    </tr>\n",
              "    <tr>\n",
              "      <th>2</th>\n",
              "      <td>161261</td>\n",
              "      <td>S</td>\n",
              "      <td>Home | Recent questions | Directories | Feedba...</td>\n",
              "      <td>home   recent questions   directories   feedba...</td>\n",
              "    </tr>\n",
              "    <tr>\n",
              "      <th>3</th>\n",
              "      <td>129092</td>\n",
              "      <td>S</td>\n",
              "      <td>Nanotronics Home News Products What is nSpec ?...</td>\n",
              "      <td>nanotronics home news products nspec   system ...</td>\n",
              "    </tr>\n",
              "    <tr>\n",
              "      <th>4</th>\n",
              "      <td>77179</td>\n",
              "      <td>S</td>\n",
              "      <td>Home About Us Our Approach Technology Our Cust...</td>\n",
              "      <td>home us approach technology customers contact ...</td>\n",
              "    </tr>\n",
              "  </tbody>\n",
              "</table>\n",
              "</div>"
            ],
            "text/plain": [
              "  companyid  ...                                       Text_cleaned\n",
              "0     73501  ...  joor skip navigation member log forgot passwor...\n",
              "1    160418  ...  patients physicians employers login crossover ...\n",
              "2    161261  ...  home   recent questions   directories   feedba...\n",
              "3    129092  ...  nanotronics home news products nspec   system ...\n",
              "4     77179  ...  home us approach technology customers contact ...\n",
              "\n",
              "[5 rows x 4 columns]"
            ]
          },
          "metadata": {
            "tags": []
          },
          "execution_count": 22
        }
      ]
    },
    {
      "cell_type": "markdown",
      "metadata": {
        "id": "_1Vav7zszip3"
      },
      "source": [
        "# **Solving some language issues**"
      ]
    },
    {
      "cell_type": "code",
      "metadata": {
        "id": "LzAxzNFX0CDA",
        "outputId": "ab73f05e-c486-4733-bce3-1ef8a8a57d33",
        "colab": {
          "base_uri": "https://localhost:8080/",
          "height": 76
        }
      },
      "source": [
        "Txt_all_frame.iloc[33:34,:]"
      ],
      "execution_count": 23,
      "outputs": [
        {
          "output_type": "execute_result",
          "data": {
            "text/html": [
              "<div>\n",
              "<style scoped>\n",
              "    .dataframe tbody tr th:only-of-type {\n",
              "        vertical-align: middle;\n",
              "    }\n",
              "\n",
              "    .dataframe tbody tr th {\n",
              "        vertical-align: top;\n",
              "    }\n",
              "\n",
              "    .dataframe thead th {\n",
              "        text-align: right;\n",
              "    }\n",
              "</style>\n",
              "<table border=\"1\" class=\"dataframe\">\n",
              "  <thead>\n",
              "    <tr style=\"text-align: right;\">\n",
              "      <th></th>\n",
              "      <th>companyid</th>\n",
              "      <th>comp_type</th>\n",
              "      <th>Text</th>\n",
              "      <th>Text_cleaned</th>\n",
              "    </tr>\n",
              "  </thead>\n",
              "  <tbody>\n",
              "    <tr>\n",
              "      <th>33</th>\n",
              "      <td>230198</td>\n",
              "      <td>S</td>\n",
              "      <td>Presentacin Asesores / Colaboradores Com desca...</td>\n",
              "      <td>presentacin asesores   colaboradores com desca...</td>\n",
              "    </tr>\n",
              "  </tbody>\n",
              "</table>\n",
              "</div>"
            ],
            "text/plain": [
              "   companyid  ...                                       Text_cleaned\n",
              "33    230198  ...  presentacin asesores   colaboradores com desca...\n",
              "\n",
              "[1 rows x 4 columns]"
            ]
          },
          "metadata": {
            "tags": []
          },
          "execution_count": 23
        }
      ]
    },
    {
      "cell_type": "code",
      "metadata": {
        "id": "JXQSgXCe0nNx"
      },
      "source": [
        "lan = []\n",
        "rel_lan = []\n",
        "detector = gcld3.NNetLanguageIdentifier(min_num_bytes=0, max_num_bytes=10000)\n",
        "\n",
        "for i in range(len(Txt_all_frame['Text_cleaned'])):\n",
        "  t =Txt_all_frame.Text_cleaned[i]\n",
        "  t = str(t)\n",
        "  \n",
        "  result = detector.FindLanguage(text=t)\n",
        "  lan.append(result.language)\n",
        "  rel_lan.append(result.is_reliable)\n"
      ],
      "execution_count": 24,
      "outputs": []
    },
    {
      "cell_type": "code",
      "metadata": {
        "id": "Q8NTeRhB2jl4"
      },
      "source": [
        "Txt_all_frame['language'] = lan\n",
        "Txt_all_frame['Rela_language'] = rel_lan"
      ],
      "execution_count": 25,
      "outputs": []
    },
    {
      "cell_type": "code",
      "metadata": {
        "id": "IeWO8JJQ2yxJ",
        "outputId": "827485ed-32c4-4b35-dc2f-f1013aa7fac3",
        "colab": {
          "base_uri": "https://localhost:8080/"
        }
      },
      "source": [
        "Txt_all_frame.language.unique()"
      ],
      "execution_count": 26,
      "outputs": [
        {
          "output_type": "execute_result",
          "data": {
            "text/plain": [
              "array(['en', 'it', 'es', 'fr', 'mg', 'no', 'sn', 'gl', 'zu', 'eo', 'da',\n",
              "       'fy', 'lb', 'de', 'sr', 'nl', 'fi', 'vi', 'hu', 'su', 'jv', 'pt',\n",
              "       'ru-Latn'], dtype=object)"
            ]
          },
          "metadata": {
            "tags": []
          },
          "execution_count": 26
        }
      ]
    },
    {
      "cell_type": "code",
      "metadata": {
        "id": "GDXT0PMLzokX",
        "outputId": "69ff8a74-b5fe-42ee-c898-29a3f4141f1a",
        "colab": {
          "base_uri": "https://localhost:8080/",
          "height": 252
        }
      },
      "source": [
        "Txt_all_frame[Txt_all_frame.language=='es']"
      ],
      "execution_count": 27,
      "outputs": [
        {
          "output_type": "execute_result",
          "data": {
            "text/html": [
              "<div>\n",
              "<style scoped>\n",
              "    .dataframe tbody tr th:only-of-type {\n",
              "        vertical-align: middle;\n",
              "    }\n",
              "\n",
              "    .dataframe tbody tr th {\n",
              "        vertical-align: top;\n",
              "    }\n",
              "\n",
              "    .dataframe thead th {\n",
              "        text-align: right;\n",
              "    }\n",
              "</style>\n",
              "<table border=\"1\" class=\"dataframe\">\n",
              "  <thead>\n",
              "    <tr style=\"text-align: right;\">\n",
              "      <th></th>\n",
              "      <th>companyid</th>\n",
              "      <th>comp_type</th>\n",
              "      <th>Text</th>\n",
              "      <th>Text_cleaned</th>\n",
              "      <th>language</th>\n",
              "      <th>Rela_language</th>\n",
              "    </tr>\n",
              "  </thead>\n",
              "  <tbody>\n",
              "    <tr>\n",
              "      <th>27</th>\n",
              "      <td>112162</td>\n",
              "      <td>S</td>\n",
              "      <td>Bienvenido al Nuevo Mundo de Nativo Network . ...</td>\n",
              "      <td>bienvenido al nuevo mundo de nativo network   ...</td>\n",
              "      <td>es</td>\n",
              "      <td>True</td>\n",
              "    </tr>\n",
              "    <tr>\n",
              "      <th>33</th>\n",
              "      <td>230198</td>\n",
              "      <td>S</td>\n",
              "      <td>Presentacin Asesores / Colaboradores Com desca...</td>\n",
              "      <td>presentacin asesores   colaboradores com desca...</td>\n",
              "      <td>es</td>\n",
              "      <td>True</td>\n",
              "    </tr>\n",
              "    <tr>\n",
              "      <th>74</th>\n",
              "      <td>297244</td>\n",
              "      <td>S</td>\n",
              "      <td>movista.com Algunos sitios relacionados con: m...</td>\n",
              "      <td>movista com algunos sitios relacionados con  m...</td>\n",
              "      <td>es</td>\n",
              "      <td>True</td>\n",
              "    </tr>\n",
              "    <tr>\n",
              "      <th>355</th>\n",
              "      <td>150133</td>\n",
              "      <td>S</td>\n",
              "      <td>Error 503 Service Unavailable Service Unavaila...</td>\n",
              "      <td>error     service unavailable service unavaila...</td>\n",
              "      <td>es</td>\n",
              "      <td>True</td>\n",
              "    </tr>\n",
              "    <tr>\n",
              "      <th>508</th>\n",
              "      <td>4691</td>\n",
              "      <td>P</td>\n",
              "      <td>Call Us 24/7 1-800-786-7235 Why Bank Stem Cell...</td>\n",
              "      <td>call us                     bank stem cells  v...</td>\n",
              "      <td>es</td>\n",
              "      <td>True</td>\n",
              "    </tr>\n",
              "    <tr>\n",
              "      <th>773</th>\n",
              "      <td>4640</td>\n",
              "      <td>P</td>\n",
              "      <td>Welcome to the Worlds Healthy Coffee Company M...</td>\n",
              "      <td>welcome worlds healthy coffee company manufact...</td>\n",
              "      <td>es</td>\n",
              "      <td>True</td>\n",
              "    </tr>\n",
              "    <tr>\n",
              "      <th>803</th>\n",
              "      <td>51</td>\n",
              "      <td>P</td>\n",
              "      <td>-------- Including dojo Configurations -------...</td>\n",
              "      <td>including dojo configurations        ...</td>\n",
              "      <td>es</td>\n",
              "      <td>False</td>\n",
              "    </tr>\n",
              "  </tbody>\n",
              "</table>\n",
              "</div>"
            ],
            "text/plain": [
              "    companyid comp_type  ... language Rela_language\n",
              "27     112162         S  ...       es          True\n",
              "33     230198         S  ...       es          True\n",
              "74     297244         S  ...       es          True\n",
              "355    150133         S  ...       es          True\n",
              "508      4691         P  ...       es          True\n",
              "773      4640         P  ...       es          True\n",
              "803        51         P  ...       es         False\n",
              "\n",
              "[7 rows x 6 columns]"
            ]
          },
          "metadata": {
            "tags": []
          },
          "execution_count": 27
        }
      ]
    },
    {
      "cell_type": "code",
      "metadata": {
        "id": "ZQC9TPPOztwn",
        "outputId": "8b9020d7-5c0f-4ab2-a6c1-07939f46997a",
        "colab": {
          "base_uri": "https://localhost:8080/",
          "height": 252
        }
      },
      "source": [
        "Txt_all_frame[Txt_all_frame.language=='fr']"
      ],
      "execution_count": 28,
      "outputs": [
        {
          "output_type": "execute_result",
          "data": {
            "text/html": [
              "<div>\n",
              "<style scoped>\n",
              "    .dataframe tbody tr th:only-of-type {\n",
              "        vertical-align: middle;\n",
              "    }\n",
              "\n",
              "    .dataframe tbody tr th {\n",
              "        vertical-align: top;\n",
              "    }\n",
              "\n",
              "    .dataframe thead th {\n",
              "        text-align: right;\n",
              "    }\n",
              "</style>\n",
              "<table border=\"1\" class=\"dataframe\">\n",
              "  <thead>\n",
              "    <tr style=\"text-align: right;\">\n",
              "      <th></th>\n",
              "      <th>companyid</th>\n",
              "      <th>comp_type</th>\n",
              "      <th>Text</th>\n",
              "      <th>Text_cleaned</th>\n",
              "      <th>language</th>\n",
              "      <th>Rela_language</th>\n",
              "    </tr>\n",
              "  </thead>\n",
              "  <tbody>\n",
              "    <tr>\n",
              "      <th>55</th>\n",
              "      <td>93431</td>\n",
              "      <td>S</td>\n",
              "      <td>banned interdit verboden vietato prohibido ver...</td>\n",
              "      <td>banned interdit verboden vietato prohibido ver...</td>\n",
              "      <td>fr</td>\n",
              "      <td>False</td>\n",
              "    </tr>\n",
              "    <tr>\n",
              "      <th>257</th>\n",
              "      <td>139205</td>\n",
              "      <td>S</td>\n",
              "      <td>Recherche de noms de domaine : www.indom.com L...</td>\n",
              "      <td>recherche de noms de domaine   www indom com l...</td>\n",
              "      <td>fr</td>\n",
              "      <td>True</td>\n",
              "    </tr>\n",
              "    <tr>\n",
              "      <th>316</th>\n",
              "      <td>107417</td>\n",
              "      <td>S</td>\n",
              "      <td>Index of / cgi-bin/ dev/ Apache/2.2.15 (Unix) ...</td>\n",
              "      <td>index   cgi bin  dev  apache         unix  mod...</td>\n",
              "      <td>fr</td>\n",
              "      <td>True</td>\n",
              "    </tr>\n",
              "    <tr>\n",
              "      <th>343</th>\n",
              "      <td>129019</td>\n",
              "      <td>S</td>\n",
              "      <td>banned interdit verboden vietato prohibido ver...</td>\n",
              "      <td>banned interdit verboden vietato prohibido ver...</td>\n",
              "      <td>fr</td>\n",
              "      <td>False</td>\n",
              "    </tr>\n",
              "    <tr>\n",
              "      <th>491</th>\n",
              "      <td>5208</td>\n",
              "      <td>P</td>\n",
              "      <td>Alpha Innotech is now part of Cell Biosciences...</td>\n",
              "      <td>alpha innotech part cell biosciences  visit ww...</td>\n",
              "      <td>fr</td>\n",
              "      <td>True</td>\n",
              "    </tr>\n",
              "    <tr>\n",
              "      <th>650</th>\n",
              "      <td>5107</td>\n",
              "      <td>P</td>\n",
              "      <td>Forbidden You don't have permission to access ...</td>\n",
              "      <td>forbidden don t permission access   server  ap...</td>\n",
              "      <td>fr</td>\n",
              "      <td>True</td>\n",
              "    </tr>\n",
              "    <tr>\n",
              "      <th>733</th>\n",
              "      <td>3106</td>\n",
              "      <td>P</td>\n",
              "      <td>Skip Navigation Country UK (English) France (F...</td>\n",
              "      <td>skip navigation country uk  english  france  f...</td>\n",
              "      <td>fr</td>\n",
              "      <td>True</td>\n",
              "    </tr>\n",
              "  </tbody>\n",
              "</table>\n",
              "</div>"
            ],
            "text/plain": [
              "    companyid comp_type  ... language Rela_language\n",
              "55      93431         S  ...       fr         False\n",
              "257    139205         S  ...       fr          True\n",
              "316    107417         S  ...       fr          True\n",
              "343    129019         S  ...       fr         False\n",
              "491      5208         P  ...       fr          True\n",
              "650      5107         P  ...       fr          True\n",
              "733      3106         P  ...       fr          True\n",
              "\n",
              "[7 rows x 6 columns]"
            ]
          },
          "metadata": {
            "tags": []
          },
          "execution_count": 28
        }
      ]
    },
    {
      "cell_type": "code",
      "metadata": {
        "id": "iKg79uIR4bST"
      },
      "source": [
        "Txt_all_frame_en = Txt_all_frame[(Txt_all_frame.language=='en') ] #| ( (Txt_all_frame.language!='en') & (Txt_all_frame.language==False) )\n",
        "Txt_all_frame_en.index = np.arange(0,len(Txt_all_frame_en.companyid))"
      ],
      "execution_count": 29,
      "outputs": []
    },
    {
      "cell_type": "markdown",
      "metadata": {
        "id": "QHtMM6W56UUy"
      },
      "source": [
        "# **Lenght of text**"
      ]
    },
    {
      "cell_type": "code",
      "metadata": {
        "id": "0MYFdp015S5s"
      },
      "source": [
        "word_len = [len(i.split()) for i in Txt_all_frame_en.Text_cleaned ]\n",
        "text_len = [len(i) for i in Txt_all_frame_en.Text_cleaned ]\n",
        "Txt_all_frame_en['Word_len'] = word_len\n",
        "Txt_all_frame_en['Text_len'] = text_len"
      ],
      "execution_count": null,
      "outputs": []
    },
    {
      "cell_type": "code",
      "metadata": {
        "id": "S5MPzO9xMWRh",
        "outputId": "0d8a83b4-c8e2-4e33-b067-57b0e4f4e365",
        "colab": {
          "base_uri": "https://localhost:8080/",
          "height": 194
        }
      },
      "source": [
        "Txt_all_frame_en.head()"
      ],
      "execution_count": 31,
      "outputs": [
        {
          "output_type": "execute_result",
          "data": {
            "text/html": [
              "<div>\n",
              "<style scoped>\n",
              "    .dataframe tbody tr th:only-of-type {\n",
              "        vertical-align: middle;\n",
              "    }\n",
              "\n",
              "    .dataframe tbody tr th {\n",
              "        vertical-align: top;\n",
              "    }\n",
              "\n",
              "    .dataframe thead th {\n",
              "        text-align: right;\n",
              "    }\n",
              "</style>\n",
              "<table border=\"1\" class=\"dataframe\">\n",
              "  <thead>\n",
              "    <tr style=\"text-align: right;\">\n",
              "      <th></th>\n",
              "      <th>companyid</th>\n",
              "      <th>comp_type</th>\n",
              "      <th>Text</th>\n",
              "      <th>Text_cleaned</th>\n",
              "      <th>language</th>\n",
              "      <th>Rela_language</th>\n",
              "      <th>Word_len</th>\n",
              "      <th>Text_len</th>\n",
              "    </tr>\n",
              "  </thead>\n",
              "  <tbody>\n",
              "    <tr>\n",
              "      <th>0</th>\n",
              "      <td>73501</td>\n",
              "      <td>S</td>\n",
              "      <td>JOOR Skip navigation Member Log In Forgot pass...</td>\n",
              "      <td>joor skip navigation member log forgot passwor...</td>\n",
              "      <td>en</td>\n",
              "      <td>True</td>\n",
              "      <td>3614</td>\n",
              "      <td>27748</td>\n",
              "    </tr>\n",
              "    <tr>\n",
              "      <th>1</th>\n",
              "      <td>160418</td>\n",
              "      <td>S</td>\n",
              "      <td>Patients Physicians Employers Login Crossover ...</td>\n",
              "      <td>patients physicians employers login crossover ...</td>\n",
              "      <td>en</td>\n",
              "      <td>True</td>\n",
              "      <td>66</td>\n",
              "      <td>489</td>\n",
              "    </tr>\n",
              "    <tr>\n",
              "      <th>2</th>\n",
              "      <td>161261</td>\n",
              "      <td>S</td>\n",
              "      <td>Home | Recent questions | Directories | Feedba...</td>\n",
              "      <td>home   recent questions   directories   feedba...</td>\n",
              "      <td>en</td>\n",
              "      <td>True</td>\n",
              "      <td>92</td>\n",
              "      <td>656</td>\n",
              "    </tr>\n",
              "    <tr>\n",
              "      <th>3</th>\n",
              "      <td>129092</td>\n",
              "      <td>S</td>\n",
              "      <td>Nanotronics Home News Products What is nSpec ?...</td>\n",
              "      <td>nanotronics home news products nspec   system ...</td>\n",
              "      <td>en</td>\n",
              "      <td>True</td>\n",
              "      <td>2337</td>\n",
              "      <td>19264</td>\n",
              "    </tr>\n",
              "    <tr>\n",
              "      <th>4</th>\n",
              "      <td>77179</td>\n",
              "      <td>S</td>\n",
              "      <td>Home About Us Our Approach Technology Our Cust...</td>\n",
              "      <td>home us approach technology customers contact ...</td>\n",
              "      <td>en</td>\n",
              "      <td>True</td>\n",
              "      <td>167</td>\n",
              "      <td>1326</td>\n",
              "    </tr>\n",
              "  </tbody>\n",
              "</table>\n",
              "</div>"
            ],
            "text/plain": [
              "  companyid comp_type  ... Word_len Text_len\n",
              "0     73501         S  ...     3614    27748\n",
              "1    160418         S  ...       66      489\n",
              "2    161261         S  ...       92      656\n",
              "3    129092         S  ...     2337    19264\n",
              "4     77179         S  ...      167     1326\n",
              "\n",
              "[5 rows x 8 columns]"
            ]
          },
          "metadata": {
            "tags": []
          },
          "execution_count": 31
        }
      ]
    },
    {
      "cell_type": "code",
      "metadata": {
        "id": "t-Y9sUvT8FKc",
        "outputId": "3677d55f-993f-4037-f1c3-4dc56e8b64b4",
        "colab": {
          "base_uri": "https://localhost:8080/"
        }
      },
      "source": [
        "Txt_all_frame_en.Word_len.mean()"
      ],
      "execution_count": 32,
      "outputs": [
        {
          "output_type": "execute_result",
          "data": {
            "text/plain": [
              "30677.095135135136"
            ]
          },
          "metadata": {
            "tags": []
          },
          "execution_count": 32
        }
      ]
    },
    {
      "cell_type": "code",
      "metadata": {
        "id": "jk-_X8dIMk6A",
        "outputId": "5ff60494-2c76-4b3b-d4e2-3ace5b5e5c0b",
        "colab": {
          "base_uri": "https://localhost:8080/"
        }
      },
      "source": [
        "Txt_all_frame_en.Text_len.mean()"
      ],
      "execution_count": 33,
      "outputs": [
        {
          "output_type": "execute_result",
          "data": {
            "text/plain": [
              "133178.79027027026"
            ]
          },
          "metadata": {
            "tags": []
          },
          "execution_count": 33
        }
      ]
    },
    {
      "cell_type": "code",
      "metadata": {
        "id": "hdglnbdT8I-P",
        "outputId": "942185c9-bc9c-4f24-fe43-10b0363d8169",
        "colab": {
          "base_uri": "https://localhost:8080/"
        }
      },
      "source": [
        "Txt_all_frame_en.Word_len.max()"
      ],
      "execution_count": 34,
      "outputs": [
        {
          "output_type": "execute_result",
          "data": {
            "text/plain": [
              "4806695"
            ]
          },
          "metadata": {
            "tags": []
          },
          "execution_count": 34
        }
      ]
    },
    {
      "cell_type": "code",
      "metadata": {
        "id": "c9MrneE9MqOv",
        "outputId": "e47e7d3b-41d6-49c8-d973-9402783d5150",
        "colab": {
          "base_uri": "https://localhost:8080/"
        }
      },
      "source": [
        "Txt_all_frame_en.Text_len.max()"
      ],
      "execution_count": 35,
      "outputs": [
        {
          "output_type": "execute_result",
          "data": {
            "text/plain": [
              "16065268"
            ]
          },
          "metadata": {
            "tags": []
          },
          "execution_count": 35
        }
      ]
    },
    {
      "cell_type": "code",
      "metadata": {
        "id": "DuxX5e5M8Kp_",
        "outputId": "eccb5dcb-e9eb-4dcc-ff44-ef22f118dbf3",
        "colab": {
          "base_uri": "https://localhost:8080/"
        }
      },
      "source": [
        "np.percentile(Txt_all_frame_en.Word_len, 95)"
      ],
      "execution_count": 36,
      "outputs": [
        {
          "output_type": "execute_result",
          "data": {
            "text/plain": [
              "58185.59999999997"
            ]
          },
          "metadata": {
            "tags": []
          },
          "execution_count": 36
        }
      ]
    },
    {
      "cell_type": "code",
      "metadata": {
        "id": "CrFrRSdLMwiY",
        "outputId": "679d04e1-0a89-4b3e-b78b-7e87acb97587",
        "colab": {
          "base_uri": "https://localhost:8080/"
        }
      },
      "source": [
        "np.percentile(Txt_all_frame_en.Text_len, 95)"
      ],
      "execution_count": 37,
      "outputs": [
        {
          "output_type": "execute_result",
          "data": {
            "text/plain": [
              "353595.39999999985"
            ]
          },
          "metadata": {
            "tags": []
          },
          "execution_count": 37
        }
      ]
    },
    {
      "cell_type": "code",
      "metadata": {
        "id": "rT4ba5bv5TLG",
        "outputId": "d98691fc-2558-402f-e065-4e2f9b4e89db",
        "colab": {
          "base_uri": "https://localhost:8080/"
        }
      },
      "source": [
        "np.percentile(Txt_all_frame_en.Word_len, 99)"
      ],
      "execution_count": 38,
      "outputs": [
        {
          "output_type": "execute_result",
          "data": {
            "text/plain": [
              "565369.6799999988"
            ]
          },
          "metadata": {
            "tags": []
          },
          "execution_count": 38
        }
      ]
    },
    {
      "cell_type": "code",
      "metadata": {
        "id": "IxPlldtfM0pQ",
        "outputId": "232fe7fa-b27d-4080-8018-4e5cbdec8159",
        "colab": {
          "base_uri": "https://localhost:8080/"
        }
      },
      "source": [
        "np.percentile(Txt_all_frame_en.Text_len, 99)"
      ],
      "execution_count": 39,
      "outputs": [
        {
          "output_type": "execute_result",
          "data": {
            "text/plain": [
              "2461761.719999997"
            ]
          },
          "metadata": {
            "tags": []
          },
          "execution_count": 39
        }
      ]
    },
    {
      "cell_type": "markdown",
      "metadata": {
        "id": "vTzrB4ElNHXH"
      },
      "source": [
        "# **TF-IDF**"
      ]
    },
    {
      "cell_type": "code",
      "metadata": {
        "id": "mVf6SzOwgqbo"
      },
      "source": [
        "stopWords = set(stopwords.words(\"english\"))"
      ],
      "execution_count": 41,
      "outputs": []
    },
    {
      "cell_type": "code",
      "metadata": {
        "id": "5UC7W4ITBenz"
      },
      "source": [
        "vectorizer = TfidfVectorizer(stop_words = stopWords)"
      ],
      "execution_count": 42,
      "outputs": []
    },
    {
      "cell_type": "code",
      "metadata": {
        "id": "T5S7yMeIfD9J",
        "outputId": "bcf5d392-0262-46d1-b6e6-f4f660e8d7a0",
        "colab": {
          "base_uri": "https://localhost:8080/",
          "height": 311
        }
      },
      "source": [
        "Complete_frame = Txt_all_frame_en\n",
        "Complete_frame.head(9)"
      ],
      "execution_count": 43,
      "outputs": [
        {
          "output_type": "execute_result",
          "data": {
            "text/html": [
              "<div>\n",
              "<style scoped>\n",
              "    .dataframe tbody tr th:only-of-type {\n",
              "        vertical-align: middle;\n",
              "    }\n",
              "\n",
              "    .dataframe tbody tr th {\n",
              "        vertical-align: top;\n",
              "    }\n",
              "\n",
              "    .dataframe thead th {\n",
              "        text-align: right;\n",
              "    }\n",
              "</style>\n",
              "<table border=\"1\" class=\"dataframe\">\n",
              "  <thead>\n",
              "    <tr style=\"text-align: right;\">\n",
              "      <th></th>\n",
              "      <th>companyid</th>\n",
              "      <th>comp_type</th>\n",
              "      <th>Text</th>\n",
              "      <th>Text_cleaned</th>\n",
              "      <th>language</th>\n",
              "      <th>Rela_language</th>\n",
              "      <th>Word_len</th>\n",
              "      <th>Text_len</th>\n",
              "    </tr>\n",
              "  </thead>\n",
              "  <tbody>\n",
              "    <tr>\n",
              "      <th>0</th>\n",
              "      <td>73501</td>\n",
              "      <td>S</td>\n",
              "      <td>JOOR Skip navigation Member Log In Forgot pass...</td>\n",
              "      <td>joor skip navigation member log forgot passwor...</td>\n",
              "      <td>en</td>\n",
              "      <td>True</td>\n",
              "      <td>3614</td>\n",
              "      <td>27748</td>\n",
              "    </tr>\n",
              "    <tr>\n",
              "      <th>1</th>\n",
              "      <td>160418</td>\n",
              "      <td>S</td>\n",
              "      <td>Patients Physicians Employers Login Crossover ...</td>\n",
              "      <td>patients physicians employers login crossover ...</td>\n",
              "      <td>en</td>\n",
              "      <td>True</td>\n",
              "      <td>66</td>\n",
              "      <td>489</td>\n",
              "    </tr>\n",
              "    <tr>\n",
              "      <th>2</th>\n",
              "      <td>161261</td>\n",
              "      <td>S</td>\n",
              "      <td>Home | Recent questions | Directories | Feedba...</td>\n",
              "      <td>home   recent questions   directories   feedba...</td>\n",
              "      <td>en</td>\n",
              "      <td>True</td>\n",
              "      <td>92</td>\n",
              "      <td>656</td>\n",
              "    </tr>\n",
              "    <tr>\n",
              "      <th>3</th>\n",
              "      <td>129092</td>\n",
              "      <td>S</td>\n",
              "      <td>Nanotronics Home News Products What is nSpec ?...</td>\n",
              "      <td>nanotronics home news products nspec   system ...</td>\n",
              "      <td>en</td>\n",
              "      <td>True</td>\n",
              "      <td>2337</td>\n",
              "      <td>19264</td>\n",
              "    </tr>\n",
              "    <tr>\n",
              "      <th>4</th>\n",
              "      <td>77179</td>\n",
              "      <td>S</td>\n",
              "      <td>Home About Us Our Approach Technology Our Cust...</td>\n",
              "      <td>home us approach technology customers contact ...</td>\n",
              "      <td>en</td>\n",
              "      <td>True</td>\n",
              "      <td>167</td>\n",
              "      <td>1326</td>\n",
              "    </tr>\n",
              "    <tr>\n",
              "      <th>5</th>\n",
              "      <td>89064</td>\n",
              "      <td>S</td>\n",
              "      <td>StyleSaint Something incredible is happening i...</td>\n",
              "      <td>stylesaint something incredible happening fash...</td>\n",
              "      <td>en</td>\n",
              "      <td>True</td>\n",
              "      <td>8</td>\n",
              "      <td>68</td>\n",
              "    </tr>\n",
              "    <tr>\n",
              "      <th>6</th>\n",
              "      <td>76857</td>\n",
              "      <td>S</td>\n",
              "      <td>Client Login Signup Free Consultation Services...</td>\n",
              "      <td>client login signup free consultation services...</td>\n",
              "      <td>en</td>\n",
              "      <td>True</td>\n",
              "      <td>6487</td>\n",
              "      <td>49653</td>\n",
              "    </tr>\n",
              "    <tr>\n",
              "      <th>7</th>\n",
              "      <td>77461</td>\n",
              "      <td>S</td>\n",
              "      <td>Connection Engine beta Have an account? Sign i...</td>\n",
              "      <td>connection engine beta account  sign username ...</td>\n",
              "      <td>en</td>\n",
              "      <td>True</td>\n",
              "      <td>107</td>\n",
              "      <td>873</td>\n",
              "    </tr>\n",
              "    <tr>\n",
              "      <th>8</th>\n",
              "      <td>88411</td>\n",
              "      <td>S</td>\n",
              "      <td>Blog Features About Management Team Investors ...</td>\n",
              "      <td>blog features management team investors adviso...</td>\n",
              "      <td>en</td>\n",
              "      <td>True</td>\n",
              "      <td>4664</td>\n",
              "      <td>35884</td>\n",
              "    </tr>\n",
              "  </tbody>\n",
              "</table>\n",
              "</div>"
            ],
            "text/plain": [
              "  companyid comp_type  ... Word_len Text_len\n",
              "0     73501         S  ...     3614    27748\n",
              "1    160418         S  ...       66      489\n",
              "2    161261         S  ...       92      656\n",
              "3    129092         S  ...     2337    19264\n",
              "4     77179         S  ...      167     1326\n",
              "5     89064         S  ...        8       68\n",
              "6     76857         S  ...     6487    49653\n",
              "7     77461         S  ...      107      873\n",
              "8     88411         S  ...     4664    35884\n",
              "\n",
              "[9 rows x 8 columns]"
            ]
          },
          "metadata": {
            "tags": []
          },
          "execution_count": 43
        }
      ]
    },
    {
      "cell_type": "code",
      "metadata": {
        "id": "7qofV08uhxe8",
        "outputId": "6b55bfc3-4c4e-47cb-c436-9e6a9b311df7",
        "colab": {
          "base_uri": "https://localhost:8080/"
        }
      },
      "source": [
        "X_train = vectorizer.fit_transform(Complete_frame['Text_cleaned'])\n",
        "X_train.shape"
      ],
      "execution_count": 48,
      "outputs": [
        {
          "output_type": "execute_result",
          "data": {
            "text/plain": [
              "(925, 679401)"
            ]
          },
          "metadata": {
            "tags": []
          },
          "execution_count": 48
        }
      ]
    },
    {
      "cell_type": "code",
      "metadata": {
        "id": "moDqwRWm4BV3"
      },
      "source": [
        "with open('/content/drive/My Drive/Capstone Shared Docs/TF_IDF_matrix.npy', 'wb') as f:\n",
        "  np.save(f, X_train)"
      ],
      "execution_count": 55,
      "outputs": []
    },
    {
      "cell_type": "code",
      "metadata": {
        "id": "Vcx2tjbYVPh8",
        "outputId": "163ff43b-372c-4415-fd8f-b18ab58c9a25",
        "colab": {
          "base_uri": "https://localhost:8080/"
        }
      },
      "source": [
        "pairwise_similarities=cosine_similarity(X_train)"
      ],
      "execution_count": 50,
      "outputs": [
        {
          "output_type": "execute_result",
          "data": {
            "text/plain": [
              "(925, 925)"
            ]
          },
          "metadata": {
            "tags": []
          },
          "execution_count": 50
        }
      ]
    },
    {
      "cell_type": "code",
      "metadata": {
        "id": "g4an8z4rZBd3"
      },
      "source": [
        "def get_most_similar(sim_matrix_v, startup_index, how_many=1):\n",
        "  sim_matrix_copy = sim_matrix_v.copy()\n",
        "  v = sim_matrix_copy[startup_index,:]\n",
        "  v[startup_index] = 0\n",
        "  most_similar_indices = []\n",
        "  similarity_list = []\n",
        "  for i in range(how_many):\n",
        "    ind = np.argmax(v)\n",
        "    similarity = np.max(v)\n",
        "    v[ind] = 0\n",
        "    most_similar_indices.append(ind)\n",
        "    similarity_list.append(similarity)\n",
        "  return most_similar_indices, similarity_list"
      ],
      "execution_count": 51,
      "outputs": []
    },
    {
      "cell_type": "code",
      "metadata": {
        "id": "SJrDSpx9ZUlV"
      },
      "source": [
        "Dict_similarity = []\n",
        "Strat_score = []\n",
        "n = 5\n",
        "\n",
        "for i in range(len(Complete_frame.companyid)):\n",
        "\n",
        "  most_similar_index,most_similar_similarity = get_most_similar(pairwise_similarities, i, n)\n",
        "  IDs = [Complete_frame.companyid[j] for j in most_similar_index]\n",
        "  dict_sim = {IDs[i]: most_similar_similarity[i] for i in range(len(IDs))} \n",
        "  strategy_score = np.mean(1-np.array(most_similar_similarity))\n",
        "\n",
        "  Dict_similarity.append(dict_sim)\n",
        "  Strat_score.append(strategy_score)"
      ],
      "execution_count": 52,
      "outputs": []
    },
    {
      "cell_type": "code",
      "metadata": {
        "id": "L2vqa0RWg-Jc"
      },
      "source": [
        "Complete_frame['Dict_similarity'] = Dict_similarity\n",
        "Complete_frame['Strat_score'] = Strat_score"
      ],
      "execution_count": null,
      "outputs": []
    },
    {
      "cell_type": "code",
      "metadata": {
        "id": "NfHk4KCBl5At"
      },
      "source": [
        "Complete_frame.to_csv('/content/drive/My Drive/Capstone Shared Docs/TF_IDF_Results.csv')"
      ],
      "execution_count": 56,
      "outputs": []
    },
    {
      "cell_type": "code",
      "metadata": {
        "id": "nDJMD6xAEsFn",
        "outputId": "460e483d-4f41-4622-ccf4-9349e05c8463",
        "colab": {
          "base_uri": "https://localhost:8080/",
          "height": 363
        }
      },
      "source": [
        "Complete_frame.head()"
      ],
      "execution_count": 54,
      "outputs": [
        {
          "output_type": "execute_result",
          "data": {
            "text/html": [
              "<div>\n",
              "<style scoped>\n",
              "    .dataframe tbody tr th:only-of-type {\n",
              "        vertical-align: middle;\n",
              "    }\n",
              "\n",
              "    .dataframe tbody tr th {\n",
              "        vertical-align: top;\n",
              "    }\n",
              "\n",
              "    .dataframe thead th {\n",
              "        text-align: right;\n",
              "    }\n",
              "</style>\n",
              "<table border=\"1\" class=\"dataframe\">\n",
              "  <thead>\n",
              "    <tr style=\"text-align: right;\">\n",
              "      <th></th>\n",
              "      <th>companyid</th>\n",
              "      <th>comp_type</th>\n",
              "      <th>Text</th>\n",
              "      <th>Text_cleaned</th>\n",
              "      <th>language</th>\n",
              "      <th>Rela_language</th>\n",
              "      <th>Word_len</th>\n",
              "      <th>Text_len</th>\n",
              "      <th>Dict_similarity</th>\n",
              "      <th>Strat_score</th>\n",
              "    </tr>\n",
              "  </thead>\n",
              "  <tbody>\n",
              "    <tr>\n",
              "      <th>0</th>\n",
              "      <td>73501</td>\n",
              "      <td>S</td>\n",
              "      <td>JOOR Skip navigation Member Log In Forgot pass...</td>\n",
              "      <td>joor skip navigation member log forgot passwor...</td>\n",
              "      <td>en</td>\n",
              "      <td>True</td>\n",
              "      <td>3614</td>\n",
              "      <td>27748</td>\n",
              "      <td>{'96698': 0.11229419254224686, '180156': 0.112...</td>\n",
              "      <td>0.890763</td>\n",
              "    </tr>\n",
              "    <tr>\n",
              "      <th>1</th>\n",
              "      <td>160418</td>\n",
              "      <td>S</td>\n",
              "      <td>Patients Physicians Employers Login Crossover ...</td>\n",
              "      <td>patients physicians employers login crossover ...</td>\n",
              "      <td>en</td>\n",
              "      <td>True</td>\n",
              "      <td>66</td>\n",
              "      <td>489</td>\n",
              "      <td>{'96769': 0.15112988169856748, '2626': 0.13765...</td>\n",
              "      <td>0.874485</td>\n",
              "    </tr>\n",
              "    <tr>\n",
              "      <th>2</th>\n",
              "      <td>161261</td>\n",
              "      <td>S</td>\n",
              "      <td>Home | Recent questions | Directories | Feedba...</td>\n",
              "      <td>home   recent questions   directories   feedba...</td>\n",
              "      <td>en</td>\n",
              "      <td>True</td>\n",
              "      <td>92</td>\n",
              "      <td>656</td>\n",
              "      <td>{'4178': 0.38381624059169467, '96769': 0.12201...</td>\n",
              "      <td>0.846288</td>\n",
              "    </tr>\n",
              "    <tr>\n",
              "      <th>3</th>\n",
              "      <td>129092</td>\n",
              "      <td>S</td>\n",
              "      <td>Nanotronics Home News Products What is nSpec ?...</td>\n",
              "      <td>nanotronics home news products nspec   system ...</td>\n",
              "      <td>en</td>\n",
              "      <td>True</td>\n",
              "      <td>2337</td>\n",
              "      <td>19264</td>\n",
              "      <td>{'6238': 0.09628984286210562, '3322': 0.082600...</td>\n",
              "      <td>0.923961</td>\n",
              "    </tr>\n",
              "    <tr>\n",
              "      <th>4</th>\n",
              "      <td>77179</td>\n",
              "      <td>S</td>\n",
              "      <td>Home About Us Our Approach Technology Our Cust...</td>\n",
              "      <td>home us approach technology customers contact ...</td>\n",
              "      <td>en</td>\n",
              "      <td>True</td>\n",
              "      <td>167</td>\n",
              "      <td>1326</td>\n",
              "      <td>{'1690': 0.07245344750386438, '240117': 0.0720...</td>\n",
              "      <td>0.930001</td>\n",
              "    </tr>\n",
              "  </tbody>\n",
              "</table>\n",
              "</div>"
            ],
            "text/plain": [
              "  companyid  ... Strat_score\n",
              "0     73501  ...    0.890763\n",
              "1    160418  ...    0.874485\n",
              "2    161261  ...    0.846288\n",
              "3    129092  ...    0.923961\n",
              "4     77179  ...    0.930001\n",
              "\n",
              "[5 rows x 10 columns]"
            ]
          },
          "metadata": {
            "tags": []
          },
          "execution_count": 54
        }
      ]
    }
  ]
}
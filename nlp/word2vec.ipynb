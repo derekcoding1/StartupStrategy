{
  "nbformat": 4,
  "nbformat_minor": 0,
  "metadata": {
    "kernelspec": {
      "display_name": "eods-f19",
      "language": "python",
      "name": "eods-f19"
    },
    "language_info": {
      "codemirror_mode": {
        "name": "ipython",
        "version": 3
      },
      "file_extension": ".py",
      "mimetype": "text/x-python",
      "name": "python",
      "nbconvert_exporter": "python",
      "pygments_lexer": "ipython3",
      "version": "3.7.4"
    },
    "colab": {
      "name": "text_similarity.ipynb",
      "provenance": [],
      "collapsed_sections": []
    }
  },
  "cells": [
    {
      "cell_type": "markdown",
      "metadata": {
        "id": "NB7c1S1YCvAZ"
      },
      "source": [
        "# Text similarity and strategy score using word2vec"
      ]
    },
    {
      "cell_type": "code",
      "metadata": {
        "id": "n8HJDN4eCvAc"
      },
      "source": [
        "import pandas as pd\n",
        "import numpy as np\n",
        "import matplotlib.pyplot as plt\n",
        "import spacy\n",
        "import pathlib\n",
        "import random\n",
        "import math"
      ],
      "execution_count": null,
      "outputs": []
    },
    {
      "cell_type": "markdown",
      "metadata": {
        "id": "3-y3DYzvhpwX"
      },
      "source": [
        "Download the pretrained model. After doing this the first time you have to restart runtime."
      ]
    },
    {
      "cell_type": "code",
      "metadata": {
        "id": "CAU5rZFbE1b4",
        "outputId": "be472448-24cf-4985-a81f-9ed08abb5d05",
        "colab": {
          "base_uri": "https://localhost:8080/",
          "height": 436
        }
      },
      "source": [
        "!python -m spacy download en_core_web_lg"
      ],
      "execution_count": null,
      "outputs": [
        {
          "output_type": "stream",
          "text": [
            "Requirement already satisfied: en_core_web_lg==2.2.5 from https://github.com/explosion/spacy-models/releases/download/en_core_web_lg-2.2.5/en_core_web_lg-2.2.5.tar.gz#egg=en_core_web_lg==2.2.5 in /usr/local/lib/python3.6/dist-packages (2.2.5)\n",
            "Requirement already satisfied: spacy>=2.2.2 in /usr/local/lib/python3.6/dist-packages (from en_core_web_lg==2.2.5) (2.2.4)\n",
            "Requirement already satisfied: thinc==7.4.0 in /usr/local/lib/python3.6/dist-packages (from spacy>=2.2.2->en_core_web_lg==2.2.5) (7.4.0)\n",
            "Requirement already satisfied: catalogue<1.1.0,>=0.0.7 in /usr/local/lib/python3.6/dist-packages (from spacy>=2.2.2->en_core_web_lg==2.2.5) (1.0.0)\n",
            "Requirement already satisfied: cymem<2.1.0,>=2.0.2 in /usr/local/lib/python3.6/dist-packages (from spacy>=2.2.2->en_core_web_lg==2.2.5) (2.0.3)\n",
            "Requirement already satisfied: requests<3.0.0,>=2.13.0 in /usr/local/lib/python3.6/dist-packages (from spacy>=2.2.2->en_core_web_lg==2.2.5) (2.23.0)\n",
            "Requirement already satisfied: murmurhash<1.1.0,>=0.28.0 in /usr/local/lib/python3.6/dist-packages (from spacy>=2.2.2->en_core_web_lg==2.2.5) (1.0.2)\n",
            "Requirement already satisfied: wasabi<1.1.0,>=0.4.0 in /usr/local/lib/python3.6/dist-packages (from spacy>=2.2.2->en_core_web_lg==2.2.5) (0.8.0)\n",
            "Requirement already satisfied: tqdm<5.0.0,>=4.38.0 in /usr/local/lib/python3.6/dist-packages (from spacy>=2.2.2->en_core_web_lg==2.2.5) (4.41.1)\n",
            "Requirement already satisfied: plac<1.2.0,>=0.9.6 in /usr/local/lib/python3.6/dist-packages (from spacy>=2.2.2->en_core_web_lg==2.2.5) (1.1.3)\n",
            "Requirement already satisfied: blis<0.5.0,>=0.4.0 in /usr/local/lib/python3.6/dist-packages (from spacy>=2.2.2->en_core_web_lg==2.2.5) (0.4.1)\n",
            "Requirement already satisfied: srsly<1.1.0,>=1.0.2 in /usr/local/lib/python3.6/dist-packages (from spacy>=2.2.2->en_core_web_lg==2.2.5) (1.0.2)\n",
            "Requirement already satisfied: numpy>=1.15.0 in /usr/local/lib/python3.6/dist-packages (from spacy>=2.2.2->en_core_web_lg==2.2.5) (1.18.5)\n",
            "Requirement already satisfied: setuptools in /usr/local/lib/python3.6/dist-packages (from spacy>=2.2.2->en_core_web_lg==2.2.5) (50.3.0)\n",
            "Requirement already satisfied: preshed<3.1.0,>=3.0.2 in /usr/local/lib/python3.6/dist-packages (from spacy>=2.2.2->en_core_web_lg==2.2.5) (3.0.2)\n",
            "Requirement already satisfied: importlib-metadata>=0.20; python_version < \"3.8\" in /usr/local/lib/python3.6/dist-packages (from catalogue<1.1.0,>=0.0.7->spacy>=2.2.2->en_core_web_lg==2.2.5) (2.0.0)\n",
            "Requirement already satisfied: chardet<4,>=3.0.2 in /usr/local/lib/python3.6/dist-packages (from requests<3.0.0,>=2.13.0->spacy>=2.2.2->en_core_web_lg==2.2.5) (3.0.4)\n",
            "Requirement already satisfied: urllib3!=1.25.0,!=1.25.1,<1.26,>=1.21.1 in /usr/local/lib/python3.6/dist-packages (from requests<3.0.0,>=2.13.0->spacy>=2.2.2->en_core_web_lg==2.2.5) (1.24.3)\n",
            "Requirement already satisfied: idna<3,>=2.5 in /usr/local/lib/python3.6/dist-packages (from requests<3.0.0,>=2.13.0->spacy>=2.2.2->en_core_web_lg==2.2.5) (2.10)\n",
            "Requirement already satisfied: certifi>=2017.4.17 in /usr/local/lib/python3.6/dist-packages (from requests<3.0.0,>=2.13.0->spacy>=2.2.2->en_core_web_lg==2.2.5) (2020.6.20)\n",
            "Requirement already satisfied: zipp>=0.5 in /usr/local/lib/python3.6/dist-packages (from importlib-metadata>=0.20; python_version < \"3.8\"->catalogue<1.1.0,>=0.0.7->spacy>=2.2.2->en_core_web_lg==2.2.5) (3.2.0)\n",
            "\u001b[38;5;2m✔ Download and installation successful\u001b[0m\n",
            "You can now load the model via spacy.load('en_core_web_lg')\n"
          ],
          "name": "stdout"
        }
      ]
    },
    {
      "cell_type": "markdown",
      "metadata": {
        "id": "zHxfzKEfhy2A"
      },
      "source": [
        "Mount google drive to read the files. For this to work you have to go into your google drive, find the sared folder, right click on it and select \"Add shortcut to Drive\"."
      ]
    },
    {
      "cell_type": "code",
      "metadata": {
        "id": "8dZrAm5lCyH1",
        "outputId": "4ff8f917-8224-4924-e315-625c2e91a129",
        "colab": {
          "base_uri": "https://localhost:8080/",
          "height": 34
        }
      },
      "source": [
        "from google.colab import drive\n",
        "drive.mount('/content/drive')"
      ],
      "execution_count": null,
      "outputs": [
        {
          "output_type": "stream",
          "text": [
            "Drive already mounted at /content/drive; to attempt to forcibly remount, call drive.mount(\"/content/drive\", force_remount=True).\n"
          ],
          "name": "stdout"
        }
      ]
    },
    {
      "cell_type": "code",
      "metadata": {
        "id": "Zhv8iIaKLx_2"
      },
      "source": [
        "df = pd.read_stata(\"drive/My Drive/Capstone Shared Docs/data/all_deals.dta\")\n",
        "\n",
        "df_unique = df.drop_duplicates([\"portfoliocompanyid\"],keep=\"first\")"
      ],
      "execution_count": null,
      "outputs": []
    },
    {
      "cell_type": "code",
      "metadata": {
        "id": "S_vPQUVYCvAv",
        "outputId": "b7d6fde6-2950-43df-f79a-230d7023484d",
        "colab": {
          "base_uri": "https://localhost:8080/",
          "height": 86
        }
      },
      "source": [
        "!ls drive/My\\ Drive/Capstone\\ Shared\\ Docs/result"
      ],
      "execution_count": null,
      "outputs": [
        {
          "output_type": "stream",
          "text": [
            "'EC2 full run Oct14 result'  'Local Oct 6 result'\n",
            "'EC2 Oct 13 result'\t     'terminal log_oct5_am.txt'\n",
            "'Error Log Resume.xlsx'      'terminal log_oct5.txt'\n",
            "'Local Oct 13 result'\n"
          ],
          "name": "stdout"
        }
      ]
    },
    {
      "cell_type": "code",
      "metadata": {
        "id": "pZwrleh6CvA7"
      },
      "source": [
        "path = pathlib.Path(\"drive/My Drive/Capstone Shared Docs/result/Local Oct 13 result\")"
      ],
      "execution_count": null,
      "outputs": []
    },
    {
      "cell_type": "code",
      "metadata": {
        "id": "gjSwvs5SiMM_",
        "outputId": "8af9f071-ba66-41e9-e40b-788d069e94a5",
        "colab": {
          "base_uri": "https://localhost:8080/",
          "height": 52
        }
      },
      "source": [
        "folders_with_data =list(path.glob('*'))\n",
        "folders_with_data =  [x for x in folders_with_data if x.is_dir()]\n",
        "folders_with_data"
      ],
      "execution_count": null,
      "outputs": [
        {
          "output_type": "execute_result",
          "data": {
            "text/plain": [
              "[PosixPath('drive/My Drive/Capstone Shared Docs/result/Local Oct 13 result/Local Oct 13 result 1-250'),\n",
              " PosixPath('drive/My Drive/Capstone Shared Docs/result/Local Oct 13 result/Local Oct 13 result_251-500')]"
            ]
          },
          "metadata": {
            "tags": []
          },
          "execution_count": 33
        }
      ]
    },
    {
      "cell_type": "code",
      "metadata": {
        "id": "C0t5HsXxCvBE",
        "outputId": "61c6f8fd-b385-4886-a71d-049ef52ca948",
        "colab": {
          "base_uri": "https://localhost:8080/",
          "height": 104
        }
      },
      "source": [
        "all_paths=[]\n",
        "for f in folders_with_data:\n",
        "  paths = list(f.glob('*.txt'))\n",
        "  all_paths = all_paths + paths\n",
        "all_paths[:5]"
      ],
      "execution_count": null,
      "outputs": [
        {
          "output_type": "execute_result",
          "data": {
            "text/plain": [
              "[PosixPath('drive/My Drive/Capstone Shared Docs/result/Local Oct 13 result/Local Oct 13 result 1-250/61058_2011.txt'),\n",
              " PosixPath('drive/My Drive/Capstone Shared Docs/result/Local Oct 13 result/Local Oct 13 result 1-250/61319_2011.txt'),\n",
              " PosixPath('drive/My Drive/Capstone Shared Docs/result/Local Oct 13 result/Local Oct 13 result 1-250/61345_2011.txt'),\n",
              " PosixPath('drive/My Drive/Capstone Shared Docs/result/Local Oct 13 result/Local Oct 13 result 1-250/61791_2011.txt'),\n",
              " PosixPath('drive/My Drive/Capstone Shared Docs/result/Local Oct 13 result/Local Oct 13 result 1-250/61896_2011.txt')]"
            ]
          },
          "metadata": {
            "tags": []
          },
          "execution_count": 34
        }
      ]
    },
    {
      "cell_type": "code",
      "metadata": {
        "id": "bTphhkeECvBL",
        "outputId": "4f071f54-538d-41f4-b3c4-42732686643a",
        "colab": {
          "base_uri": "https://localhost:8080/",
          "height": 34
        }
      },
      "source": [
        "all_text = {}\n",
        "for p in all_paths:\n",
        "    n = p.name.split(\"_\")[0]\n",
        "    file = open(p)\n",
        "    # Remove first two and last characters, because of ascii encoding\n",
        "    text = file.read().replace(\"***///***\",\"\")[2:-1]\n",
        "    # remove \"\"\n",
        "    text_list = text.split(\" \")\n",
        "    text_list = [x for x in text_list if x!=\"\"]\n",
        "    text = \" \".join(text_list)\n",
        "    file.close()\n",
        "    all_text[n] = text\n",
        "\n",
        "print(len(all_text))"
      ],
      "execution_count": null,
      "outputs": [
        {
          "output_type": "stream",
          "text": [
            "347\n"
          ],
          "name": "stdout"
        }
      ]
    },
    {
      "cell_type": "markdown",
      "metadata": {
        "id": "DxF1AtIejIAJ"
      },
      "source": [
        "The following are some dicts to go from code to indices, website and so on."
      ]
    },
    {
      "cell_type": "code",
      "metadata": {
        "id": "Fx3Mr_oBMrRM",
        "outputId": "50bc0807-c7cd-4728-8abc-852f040283a0",
        "colab": {
          "base_uri": "https://localhost:8080/",
          "height": 34
        }
      },
      "source": [
        "code_to_name = {}\n",
        "code_to_website = {}\n",
        "\n",
        "for p in all_paths:\n",
        "  n = int(p.name.split(\"_\")[0])\n",
        "  code_to_name[n] = df_unique[df_unique.portfoliocompanyid==n].iloc[0].portfoliocompany\n",
        "  code_to_website[n] = df_unique[df_unique.portfoliocompanyid==n].iloc[0].website\n",
        "\n",
        "print(list(code_to_name.values())[:5], list(code_to_website.values())[:5])"
      ],
      "execution_count": null,
      "outputs": [
        {
          "output_type": "stream",
          "text": [
            "['Kiip Inc.', 'SocialFlow, Inc.', 'Alteryx, Inc.', 'Velocita Inc.', 'Linkable Networks, Inc.'] ['www.kiip.me', 'www.socialflow.com', 'www.alteryx.com', 'www.shopsocially.com', 'www.linkablenetworks.com']\n"
          ],
          "name": "stdout"
        }
      ]
    },
    {
      "cell_type": "code",
      "metadata": {
        "id": "w8nuUxs4YfMe"
      },
      "source": [
        "codes_list = list(code_to_name.keys())\n",
        "codes_list.sort()\n",
        "code_to_index = {k:i for i,k in enumerate(codes_list)}\n",
        "index_to_code = {i:k for i,k in enumerate(codes_list)}"
      ],
      "execution_count": null,
      "outputs": []
    },
    {
      "cell_type": "code",
      "metadata": {
        "id": "PTjZG5nFCvBS"
      },
      "source": [
        "nlp = spacy.load(\"en_core_web_lg\", disable=[\"tagger\", \"parser\", \"ner\"])"
      ],
      "execution_count": null,
      "outputs": []
    },
    {
      "cell_type": "markdown",
      "metadata": {
        "id": "zlseXF0tjMXo"
      },
      "source": [
        "Go from documents to vectors using the pretrained model. \n",
        "\n",
        "Word2vect has a limit on the maximum number of characters allowed. If a text is larger than the allowed I am creating many vectors and then I take the average.\n"
      ]
    },
    {
      "cell_type": "code",
      "metadata": {
        "id": "O0IDNtgYCvBa",
        "outputId": "12ebb3ff-a7ab-4911-b574-66c40ba6243e",
        "colab": {
          "base_uri": "https://localhost:8080/",
          "height": 34
        }
      },
      "source": [
        "# word2vec has a max of 1000000 characters\n",
        "max_characters = 1000000\n",
        "docs_train = []\n",
        "\n",
        "for i in index_to_code:\n",
        "  doc_text = all_text[ str(index_to_code[i]) ]\n",
        "  text_len = len(doc_text)\n",
        "  num_of_vectors = math.ceil(text_len/max_characters)\n",
        "  v = np.zeros((300,1))\n",
        "  w = 0\n",
        "  for j in range(num_of_vectors):\n",
        "    small_text = doc_text[max_characters*(j):max_characters*(j+1)]\n",
        "    vec = nlp(small_text).vector.reshape(vec.shape[0],1)\n",
        "    v = np.sum( np.hstack((v,vec*len(small_text))),axis=1)\n",
        "    v = v.reshape((v.shape[0],1))\n",
        "    w += len(small_text)\n",
        "  v /= w\n",
        "  docs_train.append(v)\n",
        "\n"
      ],
      "execution_count": null,
      "outputs": [
        {
          "output_type": "execute_result",
          "data": {
            "text/plain": [
              "(104100, 1)"
            ]
          },
          "metadata": {
            "tags": []
          },
          "execution_count": 40
        }
      ]
    },
    {
      "cell_type": "code",
      "metadata": {
        "id": "3P8FczDHPsV7",
        "outputId": "2629de38-2c87-43e4-e474-648f256af9e1",
        "colab": {
          "base_uri": "https://localhost:8080/",
          "height": 34
        }
      },
      "source": [
        "X_train = np.vstack([d.T for d in docs_train])\n",
        "X_train.shape"
      ],
      "execution_count": null,
      "outputs": [
        {
          "output_type": "execute_result",
          "data": {
            "text/plain": [
              "(347, 300)"
            ]
          },
          "metadata": {
            "tags": []
          },
          "execution_count": 44
        }
      ]
    },
    {
      "cell_type": "code",
      "metadata": {
        "id": "R9F11BcsCvBe"
      },
      "source": [
        "def cos_sim(v1,v2):\n",
        "    return np.dot(v1.T,v2)/(np.sqrt( np.sum(np.dot(v1.T,v1)))*np.sqrt(np.sum(np.dot(v2.T,v2))))\n",
        "\n",
        "def similarity_to_all(vec):\n",
        "    similarities = np.asarray([cos_sim(vec, X_train[i]) for i in range(0,X_train.shape[0])])\n",
        "    similarities = similarities.reshape(similarities.shape[0],1)\n",
        "    return similarities\n",
        "\n",
        "def get_most_similar(sim_matrix_v, startup_index, how_many=1):\n",
        "  sim_matrix_copy = sim_matrix_v.copy()\n",
        "  v = sim_matrix_copy[startup_index,:]\n",
        "  v[startup_index] = 0\n",
        "  most_similar_indices = []\n",
        "  similarity_list = []\n",
        "  for i in range(how_many):\n",
        "    ind = np.argmax(v)\n",
        "    similarity = np.max(v)\n",
        "    v[ind] = 0\n",
        "    most_similar_indices.append(ind)\n",
        "    similarity_list.append(similarity)\n",
        "  return most_similar_indices, similarity_list"
      ],
      "execution_count": null,
      "outputs": []
    },
    {
      "cell_type": "code",
      "metadata": {
        "id": "YquKaK1eCvBr",
        "outputId": "ad90af9d-cf35-4b36-9b3f-366355563e37",
        "colab": {
          "base_uri": "https://localhost:8080/",
          "height": 34
        }
      },
      "source": [
        "cos_sim(X_train[0],X_train[1])"
      ],
      "execution_count": null,
      "outputs": [
        {
          "output_type": "execute_result",
          "data": {
            "text/plain": [
              "0.9701763996232649"
            ]
          },
          "metadata": {
            "tags": []
          },
          "execution_count": 46
        }
      ]
    },
    {
      "cell_type": "code",
      "metadata": {
        "id": "4-gFdndLCvBx",
        "outputId": "460167ec-24ab-4782-80dc-f92c03362bf4",
        "colab": {
          "base_uri": "https://localhost:8080/",
          "height": 34
        }
      },
      "source": [
        "similarity_to_all(X_train[0]).shape"
      ],
      "execution_count": null,
      "outputs": [
        {
          "output_type": "execute_result",
          "data": {
            "text/plain": [
              "(347, 1)"
            ]
          },
          "metadata": {
            "tags": []
          },
          "execution_count": 47
        }
      ]
    },
    {
      "cell_type": "markdown",
      "metadata": {
        "id": "krHFVE5QjfPB"
      },
      "source": [
        "This is the matrix with the similarity between all startups."
      ]
    },
    {
      "cell_type": "code",
      "metadata": {
        "id": "rtENQdZQCvB5",
        "outputId": "9d21e346-9e4b-4be5-a391-d24c792e91ef",
        "colab": {
          "base_uri": "https://localhost:8080/",
          "height": 243
        }
      },
      "source": [
        "sim_vect = []\n",
        "for i in range(0,X_train.shape[0]):\n",
        "    sim_vect.append(similarity_to_all(X_train[i]))\n",
        "sim_matrix = np.hstack(sim_vect)\n",
        "sim_matrix"
      ],
      "execution_count": null,
      "outputs": [
        {
          "output_type": "execute_result",
          "data": {
            "text/plain": [
              "array([[1.        , 0.9701764 , 0.9527012 , ..., 0.94450052, 0.9469321 ,\n",
              "        0.91789354],\n",
              "       [0.9701764 , 1.        , 0.97579093, ..., 0.95779241, 0.95242794,\n",
              "        0.94785295],\n",
              "       [0.9527012 , 0.97579093, 1.        , ..., 0.95789746, 0.95234001,\n",
              "        0.97478235],\n",
              "       ...,\n",
              "       [0.94450052, 0.95779241, 0.95789746, ..., 1.        , 0.92986277,\n",
              "        0.93278403],\n",
              "       [0.9469321 , 0.95242794, 0.95234001, ..., 0.92986277, 1.        ,\n",
              "        0.91541858],\n",
              "       [0.91789354, 0.94785295, 0.97478235, ..., 0.93278403, 0.91541858,\n",
              "        1.        ]])"
            ]
          },
          "metadata": {
            "tags": []
          },
          "execution_count": 48
        }
      ]
    },
    {
      "cell_type": "code",
      "metadata": {
        "id": "up5q1BmBCvCd"
      },
      "source": [
        "def website_from_index(ind):\n",
        "  return code_to_website[index_to_code[ind]]\n",
        "\n",
        "def index_to_backgroud(ind):\n",
        "  return df_unique[df_unique.portfoliocompanyid==int(index_to_code[ind])].iloc[0].background"
      ],
      "execution_count": null,
      "outputs": []
    },
    {
      "cell_type": "markdown",
      "metadata": {
        "id": "YHzgMdSRjkA2"
      },
      "source": [
        "## Run an example to see the most similar startups of a company"
      ]
    },
    {
      "cell_type": "code",
      "metadata": {
        "id": "HU_HoO7wbGsB",
        "outputId": "601a3dd0-c661-4eb4-bdae-f809f047f998",
        "colab": {
          "base_uri": "https://localhost:8080/",
          "height": 367
        }
      },
      "source": [
        "example_index = random.randint(0,len(codes_list)-1)\n",
        "n = 5\n",
        "most_similar_index,most_similar_similarity = get_most_similar(sim_matrix, example_index, n)\n",
        "\n",
        "print(f\"Example startup: {website_from_index(example_index)}\")\n",
        "print(index_to_backgroud(example_index))\n",
        "print(\"-----------------------------------------------------------------\")\n",
        "print(\"Similar startups:\")\n",
        "for i in range(n):\n",
        "  print(f\"{i+1}): {website_from_index(most_similar_index[i])}  |   Similarity: {most_similar_similarity[i]}\")\n",
        "  print(index_to_backgroud(most_similar_index[i]), end=\"\\n\\n\")\n"
      ],
      "execution_count": null,
      "outputs": [
        {
          "output_type": "stream",
          "text": [
            "Example startup: www.submittable.com\n",
            "Founded in 2010 and based in Montana, US, Submittable Holdings Inc. operates as a developer of cloud-based online submission marketplace for publishers and organizations. It allows users to submit their creative content and grant applications to be screened and selected by organizations.\n",
            "-----------------------------------------------------------------\n",
            "Similar startups:\n",
            "1): www.simplymeasured.com  |   Similarity: 0.9880040822610014\n",
            "Established in 2010 and based in Washington, US, Simply Measured, Inc. is a provider of social media analytic solutions which allows marketing, public relations and social media professionals to create excel based reports.\n",
            "\n",
            "2): www.insightsquared.com  |   Similarity: 0.9854135896836758\n",
            "Founded in 2010 and based in Massachusetts, US, InsightSquared Inc. operates as a provider of data intelligence software designed specifically for small and medium-sized businesses. The company's software helps users to manage pipelines and portfolios, forecast sales and marketing opportunities, conduct data driven-planning and analysis and understand marketing impact.\n",
            "\n",
            "3): www.kinvey.com  |   Similarity: 0.9844834574708562\n",
            "Established in 2010 and based in Massachusetts, US, Kinvey, Inc. operates as a provider of 3rd party data integration services for mobile applications. The company offers cloud backend servers to developers which help in maintaining and auto-scaling their backend. The company also offers push notifications, custom business logic, versioning, data storage, analytics and security.\n",
            "\n",
            "4): www.swivl.com  |   Similarity: 0.9840281788017052\n",
            "Founded in 2010 and based in Menlo Park, US, Swivl, Inc. provides robotic video solutions complemented with cloud services, which allows instructors to use video for teaching purposes and to monitor student progress.\n",
            "\n",
            "5): www.zerply.com  |   Similarity: 0.983999042908668\n",
            "Established in 2010 and based in California, US, Zerply, Inc. operates as a provider of an AI-driven digital platform which helps artists and production talent to search for available jobs in various enterprises within TV, games and XR.\n",
            "\n"
          ],
          "name": "stdout"
        }
      ]
    },
    {
      "cell_type": "markdown",
      "metadata": {
        "id": "n9f2JQT9jypw"
      },
      "source": [
        "# Strategy score"
      ]
    },
    {
      "cell_type": "markdown",
      "metadata": {
        "id": "K0ztQaxokAvz"
      },
      "source": [
        "These functions should compute the strategy score used in the paper."
      ]
    },
    {
      "cell_type": "code",
      "metadata": {
        "id": "ErY44wE5fSuj"
      },
      "source": [
        "def compute_strategy_score(similarity_list):\n",
        "  distance_list = [1-x for x in similarity_list]\n",
        "  return (1.0/len(distance_list))*np.sum(distance_list)\n",
        "\n",
        "def get_similarity_score(ind):\n",
        "  ms_index,ms_similarity = get_most_similar(sim_matrix, ind, 5)\n",
        "  return compute_strategy_score(ms_similarity)"
      ],
      "execution_count": null,
      "outputs": []
    },
    {
      "cell_type": "code",
      "metadata": {
        "id": "hf2ZAS1DcXLx"
      },
      "source": [
        "all_scores={index_to_code[i]:get_similarity_score(i) for i in index_to_code}\n",
        "all_scores = sorted(all_scores.items(), key=lambda x: x[1], reverse=False)"
      ],
      "execution_count": null,
      "outputs": []
    },
    {
      "cell_type": "markdown",
      "metadata": {
        "id": "XHRFph9Cg9N6"
      },
      "source": [
        "## Companies with the best score"
      ]
    },
    {
      "cell_type": "code",
      "metadata": {
        "id": "clwNm5hZgayg",
        "outputId": "eace6b97-68e4-42a3-e4b9-55d99b01c770",
        "colab": {
          "base_uri": "https://localhost:8080/",
          "height": 558
        }
      },
      "source": [
        "n =10\n",
        "for i in range(n):\n",
        "  print(f\"{i+1}): {code_to_website[all_scores[i][0]]}  |   Score: {all_scores[i][1]}\")\n",
        "  print(index_to_backgroud(code_to_index[all_scores[i][0]]), end=\"\\n\\n\")"
      ],
      "execution_count": null,
      "outputs": [
        {
          "output_type": "stream",
          "text": [
            "1): www.educreations.com  |   Score: 0.004449631700104662\n",
            "Founded in 2010, based in Sunnyvale, California, Educreations, Inc. operate educreations.com, an Internet community that allows users to teach and learn.\n",
            "\n",
            "2): www.familyid.com  |   Score: 0.0050636840651746345\n",
            "Founded in 2010 and based in Massachusetts, US, FamilyID, Inc. operates an online platform that enables online student registration for educational institutions.\n",
            "\n",
            "3): www.ifeelgoods.com  |   Score: 0.005135826039561842\n",
            "Founded in 2010 and based in California, US, Ifeelgoods, Inc. is an online promotion platform provider that offers gifts, rewards and incentives to their audiences real-time.\n",
            "\n",
            "4): www.astrolome.com  |   Score: 0.005171245911951661\n",
            "Founded in 2010 and based in California, US, Astrolome Inc. operates an online platform for customized astrology forecasting services.\n",
            "\n",
            "5): www.jooraccess.com  |   Score: 0.00556618386581036\n",
            "Founded in 2010 and based in New York, US, JOOR, Inc. operates as an online fashion marketplace and data exchange that connects brands and retailers. The company's platform allows users to capture orders offline by converting notes into orders. It also provides real-time reports which give the users the option to drill down to view their order details, export reports with images, visualizes their data by door and class, and manage their orders through phone, tablet, or desktop.\n",
            "\n",
            "6): www.trover.com  |   Score: 0.005587460499680974\n",
            "Founded in 2010 and based in Seattle, Washigton, Trover operates as a mobile application for share pictures, tips & inspirations.\n",
            "\n",
            "7): www.sharecare.com  |   Score: 0.005670853451627034\n",
            "Founded in 2010 and based in Georgia, US, Sharecare, Inc. operates an interactive healthcare platform that provides users with personalized information, programs, and resources about health and wellness.\n",
            "\n",
            "8): www.mequilibrium.com  |   Score: 0.0060579391717513476\n",
            "Founded in 2010 and based in Massachusetts, US, New Life Solution, Inc. operates meQuilibrium, a provider of personalized online stress management solutions for consumers and employers that uses behavioral psychology, neuroscience, and analytics. It tracks individual and population metrics in real time to provide transformative insights.\n",
            "\n",
            "9): www.zerply.com  |   Score: 0.006103831263950199\n",
            "Established in 2010 and based in California, US, Zerply, Inc. operates as a provider of an AI-driven digital platform which helps artists and production talent to search for available jobs in various enterprises within TV, games and XR.\n",
            "\n",
            "10): www.aerofs.com  |   Score: 0.0062380547429475635\n",
            "Founded in 2010 and based in California, US, Air Computing, Inc. develops AeroFS software that offers private syncing and storage solutions which enable users to sync data on devices.\n",
            "\n"
          ],
          "name": "stdout"
        }
      ]
    },
    {
      "cell_type": "code",
      "metadata": {
        "id": "c4ltieRwgwUg"
      },
      "source": [
        ""
      ],
      "execution_count": null,
      "outputs": []
    }
  ]
}
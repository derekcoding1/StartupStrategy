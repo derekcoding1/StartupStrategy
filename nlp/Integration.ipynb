{
  "nbformat": 4,
  "nbformat_minor": 0,
  "metadata": {
    "colab": {
      "name": "Integration.ipynb",
      "provenance": [],
      "collapsed_sections": []
    },
    "kernelspec": {
      "name": "python3",
      "display_name": "Python 3"
    }
  },
  "cells": [
    {
      "cell_type": "markdown",
      "metadata": {
        "id": "CafaEimHLC71"
      },
      "source": [
        "###Package installation\n"
      ]
    },
    {
      "cell_type": "code",
      "metadata": {
        "id": "4KqXlyK5qt_Z"
      },
      "source": [
        "!pip install -U sentence-transformers\n",
        "!pip install gcld3"
      ],
      "execution_count": null,
      "outputs": []
    },
    {
      "cell_type": "code",
      "metadata": {
        "id": "_m-Kb02irFcO",
        "outputId": "70db859a-254b-4f53-81a6-9b6f2ed5b171",
        "colab": {
          "base_uri": "https://localhost:8080/"
        }
      },
      "source": [
        "import pandas as pd\n",
        "import numpy as np\n",
        "import matplotlib.pyplot as plt\n",
        "import spacy\n",
        "import pathlib\n",
        "import random\n",
        "import math\n",
        "import re\n",
        "import torch\n",
        "from transformers import AutoTokenizer, AutoModel\n",
        "from sklearn.metrics.pairwise import cosine_similarity\n",
        "from sklearn.metrics.pairwise import euclidean_distances\n",
        "from sentence_transformers import SentenceTransformer\n",
        "from sklearn.feature_extraction.text import TfidfVectorizer\n",
        "import scipy\n",
        "import nltk\n",
        "nltk.download('stopwords')\n",
        "from nltk.corpus import stopwords\n",
        "import gcld3"
      ],
      "execution_count": 4,
      "outputs": [
        {
          "output_type": "stream",
          "text": [
            "[nltk_data] Downloading package stopwords to /root/nltk_data...\n",
            "[nltk_data]   Package stopwords is already up-to-date!\n"
          ],
          "name": "stdout"
        }
      ]
    },
    {
      "cell_type": "code",
      "metadata": {
        "id": "bSei8QPItO5g"
      },
      "source": [
        "import en_core_web_lg\n",
        "nlp = en_core_web_lg.load()"
      ],
      "execution_count": 8,
      "outputs": []
    },
    {
      "cell_type": "code",
      "metadata": {
        "id": "m-7DH2parFgo",
        "outputId": "b8078ad5-5548-4a25-b617-0917c024e97d",
        "colab": {
          "base_uri": "https://localhost:8080/"
        }
      },
      "source": [
        "from google.colab import drive\n",
        "drive.mount('/content/drive')"
      ],
      "execution_count": 6,
      "outputs": [
        {
          "output_type": "stream",
          "text": [
            "Mounted at /content/drive\n"
          ],
          "name": "stdout"
        }
      ]
    },
    {
      "cell_type": "markdown",
      "metadata": {
        "id": "XJ1x0ZjnsIhV"
      },
      "source": [
        "# **Loading txt Data Startups**"
      ]
    },
    {
      "cell_type": "code",
      "metadata": {
        "id": "yzi-KZ9WsRhM"
      },
      "source": [
        "path_startup = pathlib.Path(\"drive/My Drive/Capstone Shared Docs/result/Txt Files Public and Startups/Startups/Startup 2013\")"
      ],
      "execution_count": 9,
      "outputs": []
    },
    {
      "cell_type": "code",
      "metadata": {
        "id": "yLRkG0ncsRjn"
      },
      "source": [
        "txt_startup =list(path_startup.glob('*.txt'))"
      ],
      "execution_count": 10,
      "outputs": []
    },
    {
      "cell_type": "code",
      "metadata": {
        "id": "IxGn7tUqsRnD",
        "outputId": "7bcc70f2-43a2-44ba-8e9c-0a0995f7d952",
        "colab": {
          "base_uri": "https://localhost:8080/"
        }
      },
      "source": [
        "all_text_startup = {}\n",
        "\n",
        "for p in txt_startup:\n",
        "    n = p.name.split(\"_\")[0]\n",
        "    file = open(p)\n",
        "    # Remove first two and last characters, because of ascii encoding\n",
        "    text = file.read().replace(\"***///***\",\"\")[2:-1]\n",
        "    # remove \"\"\n",
        "    text_list = text.split(\" \")\n",
        "    text_list = [x for x in text_list if x!=\"\"]\n",
        "    text = \" \".join(text_list)\n",
        "    file.close()\n",
        "    all_text_startup[n] = text\n",
        "  \n",
        "print(len(all_text_startup))"
      ],
      "execution_count": 11,
      "outputs": [
        {
          "output_type": "stream",
          "text": [
            "894\n"
          ],
          "name": "stdout"
        }
      ]
    },
    {
      "cell_type": "code",
      "metadata": {
        "id": "NYI449rEsRqF"
      },
      "source": [
        "Txt_startup_frame = pd.DataFrame.from_dict(all_text_startup, orient='index')\n",
        "Txt_startup_frame.columns = ['Text']\n",
        "Txt_startup_frame['companyid'] = Txt_startup_frame.index\n",
        "Txt_startup_frame.index = np.arange(0,len(Txt_startup_frame.companyid))\n",
        "Txt_startup_frame = Txt_startup_frame.assign(comp_type='S')\n",
        "Txt_startup_frame = Txt_startup_frame[['companyid', 'comp_type', 'Text']]"
      ],
      "execution_count": 12,
      "outputs": []
    },
    {
      "cell_type": "code",
      "metadata": {
        "id": "wTEg-_OysRtU"
      },
      "source": [
        "stop_words_l=stopwords.words('english')\n",
        "Txt_startup_frame['Text_cleaned']=Txt_startup_frame.Text.apply(lambda x: \" \".join(re.sub(r'[^a-zA-Z]',' ',w).lower() for w in x.split() if re.sub(r'[^a-zA-Z]',' ',w).lower() not in stop_words_l) )"
      ],
      "execution_count": 13,
      "outputs": []
    },
    {
      "cell_type": "code",
      "metadata": {
        "id": "yGL8Jr5VsRsF",
        "outputId": "956c08f8-870d-4306-dce4-56e3ac6f2ac3",
        "colab": {
          "base_uri": "https://localhost:8080/",
          "height": 195
        }
      },
      "source": [
        "Txt_startup_frame.head()"
      ],
      "execution_count": 14,
      "outputs": [
        {
          "output_type": "execute_result",
          "data": {
            "text/html": [
              "<div>\n",
              "<style scoped>\n",
              "    .dataframe tbody tr th:only-of-type {\n",
              "        vertical-align: middle;\n",
              "    }\n",
              "\n",
              "    .dataframe tbody tr th {\n",
              "        vertical-align: top;\n",
              "    }\n",
              "\n",
              "    .dataframe thead th {\n",
              "        text-align: right;\n",
              "    }\n",
              "</style>\n",
              "<table border=\"1\" class=\"dataframe\">\n",
              "  <thead>\n",
              "    <tr style=\"text-align: right;\">\n",
              "      <th></th>\n",
              "      <th>companyid</th>\n",
              "      <th>comp_type</th>\n",
              "      <th>Text</th>\n",
              "      <th>Text_cleaned</th>\n",
              "    </tr>\n",
              "  </thead>\n",
              "  <tbody>\n",
              "    <tr>\n",
              "      <th>0</th>\n",
              "      <td>110847</td>\n",
              "      <td>S</td>\n",
              "      <td>Blog Jobs Company Interested in contributing t...</td>\n",
              "      <td>blog jobs company interested contributing alph...</td>\n",
              "    </tr>\n",
              "    <tr>\n",
              "      <th>1</th>\n",
              "      <td>109827</td>\n",
              "      <td>S</td>\n",
              "      <td>Home List Your Boat LOG IN SIGN UP HOW IT WORK...</td>\n",
              "      <td>home list boat log sign works find boat rent c...</td>\n",
              "    </tr>\n",
              "    <tr>\n",
              "      <th>2</th>\n",
              "      <td>71885</td>\n",
              "      <td>S</td>\n",
              "      <td>Digital Guardian | Verdasys Your web-browser d...</td>\n",
              "      <td>digital guardian   verdasys web browser suppor...</td>\n",
              "    </tr>\n",
              "    <tr>\n",
              "      <th>3</th>\n",
              "      <td>73604</td>\n",
              "      <td>S</td>\n",
              "      <td>A Better Way to Work Helping {{ value }} be mo...</td>\n",
              "      <td>better way work helping    value    successful...</td>\n",
              "    </tr>\n",
              "    <tr>\n",
              "      <th>4</th>\n",
              "      <td>106695</td>\n",
              "      <td>S</td>\n",
              "      <td>Products News Blog How It Works Login Store Lo...</td>\n",
              "      <td>products news blog works login store locator f...</td>\n",
              "    </tr>\n",
              "  </tbody>\n",
              "</table>\n",
              "</div>"
            ],
            "text/plain": [
              "  companyid  ...                                       Text_cleaned\n",
              "0    110847  ...  blog jobs company interested contributing alph...\n",
              "1    109827  ...  home list boat log sign works find boat rent c...\n",
              "2     71885  ...  digital guardian   verdasys web browser suppor...\n",
              "3     73604  ...  better way work helping    value    successful...\n",
              "4    106695  ...  products news blog works login store locator f...\n",
              "\n",
              "[5 rows x 4 columns]"
            ]
          },
          "metadata": {
            "tags": []
          },
          "execution_count": 14
        }
      ]
    },
    {
      "cell_type": "markdown",
      "metadata": {
        "id": "YimN_pKIsxlQ"
      },
      "source": [
        "# **Loading txt Data Public Companies**"
      ]
    },
    {
      "cell_type": "code",
      "metadata": {
        "id": "XP8EjRaIsRl_"
      },
      "source": [
        "path_public = pathlib.Path(\"drive/My Drive/Capstone Shared Docs/result/Txt Files Public and Startups/Public Companies/Public 2013\")"
      ],
      "execution_count": 18,
      "outputs": []
    },
    {
      "cell_type": "code",
      "metadata": {
        "id": "0KRp7iCQszw_"
      },
      "source": [
        "txt_public =list(path_public.glob('*.txt'))"
      ],
      "execution_count": 17,
      "outputs": []
    },
    {
      "cell_type": "code",
      "metadata": {
        "id": "Od6FqJQZs1MU",
        "outputId": "2b573bf7-c2ae-4337-98de-c54b0b00c756",
        "colab": {
          "base_uri": "https://localhost:8080/"
        }
      },
      "source": [
        "all_text_public = {}\n",
        "\n",
        "for p in txt_public:\n",
        "    n = p.name.split(\"_\")[0]\n",
        "    file = open(p)\n",
        "    # Remove first two and last characters, because of ascii encoding\n",
        "    text = file.read().replace(\"***///***\",\"\")[2:-1]\n",
        "    # remove \"\"\n",
        "    text_list = text.split(\" \")\n",
        "    text_list = [x for x in text_list if x!=\"\"]\n",
        "    text = \" \".join(text_list)\n",
        "    file.close()\n",
        "    all_text_public[n] = text\n",
        "\n",
        "print(len(all_text_public))"
      ],
      "execution_count": 19,
      "outputs": [
        {
          "output_type": "stream",
          "text": [
            "9929\n"
          ],
          "name": "stdout"
        }
      ]
    },
    {
      "cell_type": "code",
      "metadata": {
        "id": "r7fGd_54s3_o"
      },
      "source": [
        "Txt_public_frame = pd.DataFrame.from_dict(all_text_public, orient='index')\n",
        "Txt_public_frame.columns = ['Text']\n",
        "Txt_public_frame['companyid'] = Txt_public_frame.index\n",
        "Txt_public_frame.index = np.arange(0,len(Txt_public_frame.companyid))\n",
        "Txt_public_frame = Txt_public_frame.assign(comp_type='P')\n",
        "Txt_public_frame = Txt_public_frame[['companyid', 'comp_type', 'Text']]"
      ],
      "execution_count": 21,
      "outputs": []
    },
    {
      "cell_type": "code",
      "metadata": {
        "id": "yTCfItbPs5WM"
      },
      "source": [
        "stop_words_l=stopwords.words('english')\n",
        "Txt_public_frame['Text_cleaned']=Txt_public_frame.Text.apply(lambda x: \" \".join(re.sub(r'[^a-zA-Z]',' ',w).lower() for w in x.split() if re.sub(r'[^a-zA-Z]',' ',w).lower() not in stop_words_l) )"
      ],
      "execution_count": 22,
      "outputs": []
    },
    {
      "cell_type": "code",
      "metadata": {
        "id": "sXWs6VlSteiT"
      },
      "source": [
        "Txt_public_frame.head()"
      ],
      "execution_count": null,
      "outputs": []
    },
    {
      "cell_type": "code",
      "metadata": {
        "id": "U_tm3bgKtgYW"
      },
      "source": [
        ""
      ],
      "execution_count": null,
      "outputs": []
    },
    {
      "cell_type": "markdown",
      "metadata": {
        "id": "ddpvTSurtgp3"
      },
      "source": [
        "# **Concatenate Public and Startup DB**"
      ]
    },
    {
      "cell_type": "code",
      "metadata": {
        "id": "KLGTCqWetz4V"
      },
      "source": [
        "Txt_all_frame = pd.concat([Txt_startup_frame, Txt_public_frame])\n",
        "Txt_all_frame.index = np.arange(0,len(Txt_all_frame.companyid))"
      ],
      "execution_count": 23,
      "outputs": []
    },
    {
      "cell_type": "code",
      "metadata": {
        "id": "ANgY8Ls7t0dT"
      },
      "source": [
        "Txt_all_frame.head()"
      ],
      "execution_count": null,
      "outputs": []
    },
    {
      "cell_type": "markdown",
      "metadata": {
        "id": "xSESYjXVt6Ox"
      },
      "source": [
        "# **Solving some language issues**"
      ]
    },
    {
      "cell_type": "code",
      "metadata": {
        "id": "F1LYrCo-t0fz"
      },
      "source": [
        "lan = []\n",
        "rel_lan = []\n",
        "detector = gcld3.NNetLanguageIdentifier(min_num_bytes=0, max_num_bytes=10000)\n",
        "\n",
        "for i in range(len(Txt_all_frame['Text_cleaned'])):\n",
        "  t =Txt_all_frame.Text_cleaned[i]\n",
        "  t = str(t)\n",
        "  \n",
        "  result = detector.FindLanguage(text=t)\n",
        "  lan.append(result.language)\n",
        "  rel_lan.append(result.is_reliable)\n"
      ],
      "execution_count": 24,
      "outputs": []
    },
    {
      "cell_type": "code",
      "metadata": {
        "id": "d0DLE_ect0j9"
      },
      "source": [
        "Txt_all_frame['language'] = lan\n",
        "Txt_all_frame['Rela_language'] = rel_lan"
      ],
      "execution_count": 25,
      "outputs": []
    },
    {
      "cell_type": "code",
      "metadata": {
        "id": "t7n4karct0iW"
      },
      "source": [
        "Txt_all_frame_en = Txt_all_frame[(Txt_all_frame.language=='en') ] #| ( (Txt_all_frame.language!='en') & (Txt_all_frame.language==False) )\n",
        "Txt_all_frame_en.index = np.arange(0,len(Txt_all_frame_en.companyid))"
      ],
      "execution_count": 26,
      "outputs": []
    },
    {
      "cell_type": "markdown",
      "metadata": {
        "id": "GuvBqEKtwaXI"
      },
      "source": [
        "# **Lenght of text**"
      ]
    },
    {
      "cell_type": "code",
      "metadata": {
        "id": "cFLgKofMwZk-",
        "outputId": "bc76f611-5e84-4413-b137-4f392ec7f12a",
        "colab": {
          "base_uri": "https://localhost:8080/",
          "height": 195
        }
      },
      "source": [
        "Txt_all_frame_en.head()"
      ],
      "execution_count": 30,
      "outputs": [
        {
          "output_type": "execute_result",
          "data": {
            "text/html": [
              "<div>\n",
              "<style scoped>\n",
              "    .dataframe tbody tr th:only-of-type {\n",
              "        vertical-align: middle;\n",
              "    }\n",
              "\n",
              "    .dataframe tbody tr th {\n",
              "        vertical-align: top;\n",
              "    }\n",
              "\n",
              "    .dataframe thead th {\n",
              "        text-align: right;\n",
              "    }\n",
              "</style>\n",
              "<table border=\"1\" class=\"dataframe\">\n",
              "  <thead>\n",
              "    <tr style=\"text-align: right;\">\n",
              "      <th></th>\n",
              "      <th>companyid</th>\n",
              "      <th>comp_type</th>\n",
              "      <th>Text</th>\n",
              "      <th>Text_cleaned</th>\n",
              "      <th>language</th>\n",
              "      <th>Rela_language</th>\n",
              "    </tr>\n",
              "  </thead>\n",
              "  <tbody>\n",
              "    <tr>\n",
              "      <th>0</th>\n",
              "      <td>110847</td>\n",
              "      <td>S</td>\n",
              "      <td>Blog Jobs Company Interested in contributing t...</td>\n",
              "      <td>blog jobs company interested contributing alph...</td>\n",
              "      <td>en</td>\n",
              "      <td>True</td>\n",
              "    </tr>\n",
              "    <tr>\n",
              "      <th>1</th>\n",
              "      <td>109827</td>\n",
              "      <td>S</td>\n",
              "      <td>Home List Your Boat LOG IN SIGN UP HOW IT WORK...</td>\n",
              "      <td>home list boat log sign works find boat rent c...</td>\n",
              "      <td>en</td>\n",
              "      <td>True</td>\n",
              "    </tr>\n",
              "    <tr>\n",
              "      <th>2</th>\n",
              "      <td>71885</td>\n",
              "      <td>S</td>\n",
              "      <td>Digital Guardian | Verdasys Your web-browser d...</td>\n",
              "      <td>digital guardian   verdasys web browser suppor...</td>\n",
              "      <td>en</td>\n",
              "      <td>True</td>\n",
              "    </tr>\n",
              "    <tr>\n",
              "      <th>3</th>\n",
              "      <td>73604</td>\n",
              "      <td>S</td>\n",
              "      <td>A Better Way to Work Helping {{ value }} be mo...</td>\n",
              "      <td>better way work helping    value    successful...</td>\n",
              "      <td>en</td>\n",
              "      <td>True</td>\n",
              "    </tr>\n",
              "    <tr>\n",
              "      <th>4</th>\n",
              "      <td>106695</td>\n",
              "      <td>S</td>\n",
              "      <td>Products News Blog How It Works Login Store Lo...</td>\n",
              "      <td>products news blog works login store locator f...</td>\n",
              "      <td>en</td>\n",
              "      <td>True</td>\n",
              "    </tr>\n",
              "  </tbody>\n",
              "</table>\n",
              "</div>"
            ],
            "text/plain": [
              "  companyid comp_type  ... language Rela_language\n",
              "0    110847         S  ...       en          True\n",
              "1    109827         S  ...       en          True\n",
              "2     71885         S  ...       en          True\n",
              "3     73604         S  ...       en          True\n",
              "4    106695         S  ...       en          True\n",
              "\n",
              "[5 rows x 6 columns]"
            ]
          },
          "metadata": {
            "tags": []
          },
          "execution_count": 30
        }
      ]
    },
    {
      "cell_type": "markdown",
      "metadata": {
        "id": "OhEFwL-Uh2Mf"
      },
      "source": [
        "# **embeddings**"
      ]
    },
    {
      "cell_type": "markdown",
      "metadata": {
        "id": "eBYrxc7Tqvkb"
      },
      "source": [
        "### embedding for word2vec"
      ]
    },
    {
      "cell_type": "code",
      "metadata": {
        "id": "UNEIqAZRLAD7",
        "outputId": "184ec1ee-9d9c-4368-f2d0-213cf3870acc",
        "colab": {
          "base_uri": "https://localhost:8080/"
        }
      },
      "source": [
        "import spacy.cli\n",
        "spacy.cli.download(\"en_core_web_lg\")\n",
        "nlp = spacy.load(\"en_core_web_lg\", disable=[\"tagger\", \"parser\", \"ner\"])"
      ],
      "execution_count": 27,
      "outputs": [
        {
          "output_type": "stream",
          "text": [
            "\u001b[38;5;2m✔ Download and installation successful\u001b[0m\n",
            "You can now load the model via spacy.load('en_core_web_lg')\n"
          ],
          "name": "stdout"
        }
      ]
    },
    {
      "cell_type": "code",
      "metadata": {
        "id": "IvTQcKFJKnKh"
      },
      "source": [
        "max_characters = 1000000\n",
        "docs_train = []\n",
        "\n",
        "for i,r in Txt_all_frame_en.iterrows():\n",
        "  doc_text = r.Text_cleaned\n",
        "  text_len = len(doc_text)\n",
        "  num_of_vectors = math.ceil(text_len/max_characters)\n",
        "  v = np.zeros((300,1))\n",
        "  w = 0\n",
        "  for j in range(num_of_vectors):\n",
        "    small_text = doc_text[max_characters*(j):max_characters*(j+1)]\n",
        "    vec = nlp(small_text).vector\n",
        "    vec = vec.reshape(vec.shape[0],1)\n",
        "    v = np.sum( np.hstack((v,vec*len(small_text))),axis=1)\n",
        "    v = v.reshape((v.shape[0],1))\n",
        "    w += len(small_text)\n",
        "  v /= w\n",
        "  docs_train.append(v)\n",
        "X_train = np.vstack([d.T for d in docs_train])"
      ],
      "execution_count": 31,
      "outputs": []
    },
    {
      "cell_type": "code",
      "metadata": {
        "id": "-KKve06XFQVl",
        "outputId": "01b3254a-4b99-47fa-86d6-aa086585a17d",
        "colab": {
          "base_uri": "https://localhost:8080/"
        }
      },
      "source": [
        "X_train.shape\n"
      ],
      "execution_count": 33,
      "outputs": [
        {
          "output_type": "execute_result",
          "data": {
            "text/plain": [
              "(10823, 300)"
            ]
          },
          "metadata": {
            "tags": []
          },
          "execution_count": 33
        }
      ]
    },
    {
      "cell_type": "markdown",
      "metadata": {
        "id": "AgDyc84QLX04"
      },
      "source": [
        "### embedding for tf-idf\n",
        "\n",
        "\n",
        "```\n",
        "# This is formatted as code\n",
        "```\n",
        "\n"
      ]
    },
    {
      "cell_type": "code",
      "metadata": {
        "id": "wSVaMl9qLQ-i"
      },
      "source": [
        "pip install gcld3\n",
        "import nltk\n",
        "nltk.download('stopwords')\n",
        "from nltk.corpus import stopwords\n",
        "import gcld3"
      ],
      "execution_count": null,
      "outputs": []
    },
    {
      "cell_type": "code",
      "metadata": {
        "id": "qLsAEGs1LXhT"
      },
      "source": [
        "stopWords = set(stopwords.words(\"english\"))\n",
        "vectorizer = TfidfVectorizer(stop_words = stopWords)"
      ],
      "execution_count": null,
      "outputs": []
    },
    {
      "cell_type": "code",
      "metadata": {
        "id": "fKtIMy8YLXjL"
      },
      "source": [
        "X_train = vectorizer.fit_transform(Txt_all_frame_en['Text_cleaned'])"
      ],
      "execution_count": null,
      "outputs": []
    },
    {
      "cell_type": "markdown",
      "metadata": {
        "id": "rPbj7_djMDOJ"
      },
      "source": [
        "### embedding for Bert\n"
      ]
    },
    {
      "cell_type": "code",
      "metadata": {
        "id": "KbWQ07DkMAjS"
      },
      "source": [
        "sbert_model = SentenceTransformer('roberta-large-nli-stsb-mean-tokens')"
      ],
      "execution_count": null,
      "outputs": []
    },
    {
      "cell_type": "code",
      "metadata": {
        "id": "CPJ8mciWMC4F"
      },
      "source": [
        "%%time\n",
        "docs_train = []\n",
        "\n",
        "pct = int(np.percentile(Txt_all_frame_en.Text_len, 95))\n",
        "\n",
        "for i in range(len(Complete_frame)):\n",
        "\n",
        "  if len(Complete_frame['Text_cleaned'][i]) > pct :\n",
        "    v = sbert_model.encode(Complete_frame['Text_cleaned'][i][:pct])\n",
        "    docs_train.append(v)\n",
        "  \n",
        "  else:\n",
        "    v = sbert_model.encode(Complete_frame['Text_cleaned'][i])\n",
        "    docs_train.append(v)\n",
        "X_train = np.vstack([d.T for d in docs_train])"
      ],
      "execution_count": null,
      "outputs": []
    },
    {
      "cell_type": "markdown",
      "metadata": {
        "id": "s7f2n99oh9gb"
      },
      "source": [
        "# **similarity**"
      ]
    },
    {
      "cell_type": "code",
      "metadata": {
        "id": "4tUOPyque8IV"
      },
      "source": [
        "pairwise_similarities=cosine_similarity(X_train)"
      ],
      "execution_count": 34,
      "outputs": []
    },
    {
      "cell_type": "code",
      "metadata": {
        "id": "1X_L84iQe8uq"
      },
      "source": [
        "def get_most_similar(sim_matrix_v, startup_index, how_many=1):\n",
        "  sim_matrix_copy = sim_matrix_v.copy()\n",
        "  v = sim_matrix_copy[startup_index,:]\n",
        "  v[startup_index] = 0\n",
        "  most_similar_indices = []\n",
        "  similarity_list = []\n",
        "  for i in range(how_many):\n",
        "    ind = np.argmax(v)\n",
        "    similarity = np.max(v)\n",
        "    v[ind] = 0\n",
        "    most_similar_indices.append(ind)\n",
        "    similarity_list.append(similarity)\n",
        "  return most_similar_indices, similarity_list"
      ],
      "execution_count": 36,
      "outputs": []
    },
    {
      "cell_type": "code",
      "metadata": {
        "id": "AqVJsdYOfgNJ"
      },
      "source": [
        "rows_startup = Txt_all_frame_en[Txt_all_frame_en.comp_type == 'S'].index.tolist()"
      ],
      "execution_count": 38,
      "outputs": []
    },
    {
      "cell_type": "code",
      "metadata": {
        "id": "YiKD5tX_f6mN",
        "outputId": "015967bf-ab15-450d-c7fe-1648dd86cf5a",
        "colab": {
          "base_uri": "https://localhost:8080/",
          "height": 402
        }
      },
      "source": [
        "Txt_all_frame_en"
      ],
      "execution_count": 42,
      "outputs": [
        {
          "output_type": "execute_result",
          "data": {
            "text/html": [
              "<div>\n",
              "<style scoped>\n",
              "    .dataframe tbody tr th:only-of-type {\n",
              "        vertical-align: middle;\n",
              "    }\n",
              "\n",
              "    .dataframe tbody tr th {\n",
              "        vertical-align: top;\n",
              "    }\n",
              "\n",
              "    .dataframe thead th {\n",
              "        text-align: right;\n",
              "    }\n",
              "</style>\n",
              "<table border=\"1\" class=\"dataframe\">\n",
              "  <thead>\n",
              "    <tr style=\"text-align: right;\">\n",
              "      <th></th>\n",
              "      <th>companyid</th>\n",
              "      <th>comp_type</th>\n",
              "      <th>Text</th>\n",
              "      <th>Text_cleaned</th>\n",
              "      <th>language</th>\n",
              "      <th>Rela_language</th>\n",
              "    </tr>\n",
              "  </thead>\n",
              "  <tbody>\n",
              "    <tr>\n",
              "      <th>0</th>\n",
              "      <td>110847</td>\n",
              "      <td>S</td>\n",
              "      <td>Blog Jobs Company Interested in contributing t...</td>\n",
              "      <td>blog jobs company interested contributing alph...</td>\n",
              "      <td>en</td>\n",
              "      <td>True</td>\n",
              "    </tr>\n",
              "    <tr>\n",
              "      <th>1</th>\n",
              "      <td>109827</td>\n",
              "      <td>S</td>\n",
              "      <td>Home List Your Boat LOG IN SIGN UP HOW IT WORK...</td>\n",
              "      <td>home list boat log sign works find boat rent c...</td>\n",
              "      <td>en</td>\n",
              "      <td>True</td>\n",
              "    </tr>\n",
              "    <tr>\n",
              "      <th>2</th>\n",
              "      <td>71885</td>\n",
              "      <td>S</td>\n",
              "      <td>Digital Guardian | Verdasys Your web-browser d...</td>\n",
              "      <td>digital guardian   verdasys web browser suppor...</td>\n",
              "      <td>en</td>\n",
              "      <td>True</td>\n",
              "    </tr>\n",
              "    <tr>\n",
              "      <th>3</th>\n",
              "      <td>73604</td>\n",
              "      <td>S</td>\n",
              "      <td>A Better Way to Work Helping {{ value }} be mo...</td>\n",
              "      <td>better way work helping    value    successful...</td>\n",
              "      <td>en</td>\n",
              "      <td>True</td>\n",
              "    </tr>\n",
              "    <tr>\n",
              "      <th>4</th>\n",
              "      <td>106695</td>\n",
              "      <td>S</td>\n",
              "      <td>Products News Blog How It Works Login Store Lo...</td>\n",
              "      <td>products news blog works login store locator f...</td>\n",
              "      <td>en</td>\n",
              "      <td>True</td>\n",
              "    </tr>\n",
              "    <tr>\n",
              "      <th>...</th>\n",
              "      <td>...</td>\n",
              "      <td>...</td>\n",
              "      <td>...</td>\n",
              "      <td>...</td>\n",
              "      <td>...</td>\n",
              "      <td>...</td>\n",
              "    </tr>\n",
              "    <tr>\n",
              "      <th>10570</th>\n",
              "      <td>5516</td>\n",
              "      <td>P</td>\n",
              "      <td>You are here: home symbol lookup Content Solut...</td>\n",
              "      <td>here  home symbol lookup content solutions app...</td>\n",
              "      <td>en</td>\n",
              "      <td>True</td>\n",
              "    </tr>\n",
              "    <tr>\n",
              "      <th>10571</th>\n",
              "      <td>12924</td>\n",
              "      <td>P</td>\n",
              "      <td>About Us About Us As the worlds largest asset ...</td>\n",
              "      <td>us us worlds largest asset manager  help indiv...</td>\n",
              "      <td>en</td>\n",
              "      <td>True</td>\n",
              "    </tr>\n",
              "    <tr>\n",
              "      <th>10572</th>\n",
              "      <td>8064</td>\n",
              "      <td>P</td>\n",
              "      <td>English Japanese z[ j[X[X j[X[X 2007.11.05 A}i...</td>\n",
              "      <td>english japanese z  j x x j x x            a i...</td>\n",
              "      <td>en</td>\n",
              "      <td>True</td>\n",
              "    </tr>\n",
              "    <tr>\n",
              "      <th>10573</th>\n",
              "      <td>7375</td>\n",
              "      <td>P</td>\n",
              "      <td>&gt;Register &gt;Advisor Login &gt;Home &gt;Allianz Worldw...</td>\n",
              "      <td>register  advisor login  home  allianz worldw...</td>\n",
              "      <td>en</td>\n",
              "      <td>True</td>\n",
              "    </tr>\n",
              "    <tr>\n",
              "      <th>10574</th>\n",
              "      <td>4547</td>\n",
              "      <td>P</td>\n",
              "      <td>For the best experience, please upgrade your b...</td>\n",
              "      <td>best experience  please upgrade browser ie    ...</td>\n",
              "      <td>en</td>\n",
              "      <td>True</td>\n",
              "    </tr>\n",
              "  </tbody>\n",
              "</table>\n",
              "<p>10575 rows × 6 columns</p>\n",
              "</div>"
            ],
            "text/plain": [
              "      companyid comp_type  ... language Rela_language\n",
              "0        110847         S  ...       en          True\n",
              "1        109827         S  ...       en          True\n",
              "2         71885         S  ...       en          True\n",
              "3         73604         S  ...       en          True\n",
              "4        106695         S  ...       en          True\n",
              "...         ...       ...  ...      ...           ...\n",
              "10570      5516         P  ...       en          True\n",
              "10571     12924         P  ...       en          True\n",
              "10572      8064         P  ...       en          True\n",
              "10573      7375         P  ...       en          True\n",
              "10574      4547         P  ...       en          True\n",
              "\n",
              "[10575 rows x 6 columns]"
            ]
          },
          "metadata": {
            "tags": []
          },
          "execution_count": 42
        }
      ]
    },
    {
      "cell_type": "code",
      "metadata": {
        "id": "7Ovb_tWGfBLO"
      },
      "source": [
        "Dict_similarity = []\n",
        "Strat_score = []\n",
        "n = 5\n",
        "\n",
        "for i in rows_startup:\n",
        "\n",
        "  most_similar_index,most_similar_similarity = get_most_similar(pairwise_similarities, i, n)\n",
        "  print(most_similar_index)\n",
        "  IDs = [Txt_all_frame_en.companyid[j] for j in most_similar_index]\n",
        "  dict_sim = {IDs[i]: most_similar_similarity[i] for i in range(len(IDs))} \n",
        "  strategy_score = np.mean(1-np.array(most_similar_similarity))\n",
        "\n",
        "  Dict_similarity.append(dict_sim)\n",
        "  Strat_score.append(strategy_score)"
      ],
      "execution_count": null,
      "outputs": []
    },
    {
      "cell_type": "code",
      "metadata": {
        "id": "i1_hYZeuffhv"
      },
      "source": [
        "startups = Txt_all_frame_en[Txt_all_frame_en.comp_type == 'S']\n",
        "startups['Dict_similarity'] = Dict_similarity\n",
        "startups['Strat_score'] = Strat_score"
      ],
      "execution_count": null,
      "outputs": []
    },
    {
      "cell_type": "code",
      "metadata": {
        "id": "q20mmuVvhqVV"
      },
      "source": [
        "startups.Strat_score.var()"
      ],
      "execution_count": null,
      "outputs": []
    }
  ]
}
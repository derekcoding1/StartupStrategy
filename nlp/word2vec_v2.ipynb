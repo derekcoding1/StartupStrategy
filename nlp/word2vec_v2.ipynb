{
  "nbformat": 4,
  "nbformat_minor": 0,
  "metadata": {
    "kernelspec": {
      "name": "python3",
      "display_name": "Python 3"
    },
    "colab": {
      "name": "text_similarity.ipynb",
      "provenance": [],
      "collapsed_sections": []
    }
  },
  "cells": [
    {
      "cell_type": "markdown",
      "metadata": {
        "id": "NB7c1S1YCvAZ"
      },
      "source": [
        "# Text similarity and strategy score using word2vec"
      ]
    },
    {
      "cell_type": "code",
      "metadata": {
        "id": "n8HJDN4eCvAc"
      },
      "source": [
        "import pandas as pd\n",
        "import numpy as np\n",
        "import matplotlib.pyplot as plt\n",
        "import spacy\n",
        "import pathlib\n",
        "import random\n",
        "import math\n",
        "import re"
      ],
      "execution_count": 1,
      "outputs": []
    },
    {
      "cell_type": "code",
      "metadata": {
        "id": "ZVsM7O4kG0Sa",
        "outputId": "637e1215-e968-43d5-96ed-80c5577fb375",
        "colab": {
          "base_uri": "https://localhost:8080/"
        }
      },
      "source": [
        "import nltk\n",
        "nltk.download('stopwords')\n",
        "from nltk.corpus import stopwords"
      ],
      "execution_count": 2,
      "outputs": [
        {
          "output_type": "stream",
          "text": [
            "[nltk_data] Downloading package stopwords to /root/nltk_data...\n",
            "[nltk_data]   Package stopwords is already up-to-date!\n"
          ],
          "name": "stdout"
        }
      ]
    },
    {
      "cell_type": "markdown",
      "metadata": {
        "id": "3-y3DYzvhpwX"
      },
      "source": [
        "Download the pretrained model. After doing this the first time you have to restart runtime."
      ]
    },
    {
      "cell_type": "code",
      "metadata": {
        "id": "CAU5rZFbE1b4",
        "outputId": "6aca41e0-b2e3-4ee8-82bc-df69c7f9a7eb",
        "colab": {
          "base_uri": "https://localhost:8080/"
        }
      },
      "source": [
        "!python -m spacy download en_core_web_lg"
      ],
      "execution_count": 3,
      "outputs": [
        {
          "output_type": "stream",
          "text": [
            "Requirement already satisfied: en_core_web_lg==2.2.5 from https://github.com/explosion/spacy-models/releases/download/en_core_web_lg-2.2.5/en_core_web_lg-2.2.5.tar.gz#egg=en_core_web_lg==2.2.5 in /usr/local/lib/python3.6/dist-packages (2.2.5)\n",
            "Requirement already satisfied: spacy>=2.2.2 in /usr/local/lib/python3.6/dist-packages (from en_core_web_lg==2.2.5) (2.2.4)\n",
            "Requirement already satisfied: blis<0.5.0,>=0.4.0 in /usr/local/lib/python3.6/dist-packages (from spacy>=2.2.2->en_core_web_lg==2.2.5) (0.4.1)\n",
            "Requirement already satisfied: cymem<2.1.0,>=2.0.2 in /usr/local/lib/python3.6/dist-packages (from spacy>=2.2.2->en_core_web_lg==2.2.5) (2.0.3)\n",
            "Requirement already satisfied: thinc==7.4.0 in /usr/local/lib/python3.6/dist-packages (from spacy>=2.2.2->en_core_web_lg==2.2.5) (7.4.0)\n",
            "Requirement already satisfied: preshed<3.1.0,>=3.0.2 in /usr/local/lib/python3.6/dist-packages (from spacy>=2.2.2->en_core_web_lg==2.2.5) (3.0.2)\n",
            "Requirement already satisfied: setuptools in /usr/local/lib/python3.6/dist-packages (from spacy>=2.2.2->en_core_web_lg==2.2.5) (50.3.2)\n",
            "Requirement already satisfied: numpy>=1.15.0 in /usr/local/lib/python3.6/dist-packages (from spacy>=2.2.2->en_core_web_lg==2.2.5) (1.18.5)\n",
            "Requirement already satisfied: plac<1.2.0,>=0.9.6 in /usr/local/lib/python3.6/dist-packages (from spacy>=2.2.2->en_core_web_lg==2.2.5) (1.1.3)\n",
            "Requirement already satisfied: murmurhash<1.1.0,>=0.28.0 in /usr/local/lib/python3.6/dist-packages (from spacy>=2.2.2->en_core_web_lg==2.2.5) (1.0.2)\n",
            "Requirement already satisfied: requests<3.0.0,>=2.13.0 in /usr/local/lib/python3.6/dist-packages (from spacy>=2.2.2->en_core_web_lg==2.2.5) (2.23.0)\n",
            "Requirement already satisfied: srsly<1.1.0,>=1.0.2 in /usr/local/lib/python3.6/dist-packages (from spacy>=2.2.2->en_core_web_lg==2.2.5) (1.0.2)\n",
            "Requirement already satisfied: tqdm<5.0.0,>=4.38.0 in /usr/local/lib/python3.6/dist-packages (from spacy>=2.2.2->en_core_web_lg==2.2.5) (4.41.1)\n",
            "Requirement already satisfied: catalogue<1.1.0,>=0.0.7 in /usr/local/lib/python3.6/dist-packages (from spacy>=2.2.2->en_core_web_lg==2.2.5) (1.0.0)\n",
            "Requirement already satisfied: wasabi<1.1.0,>=0.4.0 in /usr/local/lib/python3.6/dist-packages (from spacy>=2.2.2->en_core_web_lg==2.2.5) (0.8.0)\n",
            "Requirement already satisfied: idna<3,>=2.5 in /usr/local/lib/python3.6/dist-packages (from requests<3.0.0,>=2.13.0->spacy>=2.2.2->en_core_web_lg==2.2.5) (2.10)\n",
            "Requirement already satisfied: urllib3!=1.25.0,!=1.25.1,<1.26,>=1.21.1 in /usr/local/lib/python3.6/dist-packages (from requests<3.0.0,>=2.13.0->spacy>=2.2.2->en_core_web_lg==2.2.5) (1.24.3)\n",
            "Requirement already satisfied: certifi>=2017.4.17 in /usr/local/lib/python3.6/dist-packages (from requests<3.0.0,>=2.13.0->spacy>=2.2.2->en_core_web_lg==2.2.5) (2020.6.20)\n",
            "Requirement already satisfied: chardet<4,>=3.0.2 in /usr/local/lib/python3.6/dist-packages (from requests<3.0.0,>=2.13.0->spacy>=2.2.2->en_core_web_lg==2.2.5) (3.0.4)\n",
            "Requirement already satisfied: importlib-metadata>=0.20; python_version < \"3.8\" in /usr/local/lib/python3.6/dist-packages (from catalogue<1.1.0,>=0.0.7->spacy>=2.2.2->en_core_web_lg==2.2.5) (2.0.0)\n",
            "Requirement already satisfied: zipp>=0.5 in /usr/local/lib/python3.6/dist-packages (from importlib-metadata>=0.20; python_version < \"3.8\"->catalogue<1.1.0,>=0.0.7->spacy>=2.2.2->en_core_web_lg==2.2.5) (3.3.1)\n",
            "\u001b[38;5;2m✔ Download and installation successful\u001b[0m\n",
            "You can now load the model via spacy.load('en_core_web_lg')\n"
          ],
          "name": "stdout"
        }
      ]
    },
    {
      "cell_type": "markdown",
      "metadata": {
        "id": "zHxfzKEfhy2A"
      },
      "source": [
        "Mount google drive to read the files. For this to work you have to go into your google drive, find the sared folder, right click on it and select \"Add shortcut to Drive\"."
      ]
    },
    {
      "cell_type": "code",
      "metadata": {
        "id": "8dZrAm5lCyH1",
        "outputId": "01200b06-1d52-4bd1-996d-bb5a4bb97a29",
        "colab": {
          "base_uri": "https://localhost:8080/"
        }
      },
      "source": [
        "from google.colab import drive\n",
        "drive.mount('/content/drive')"
      ],
      "execution_count": 4,
      "outputs": [
        {
          "output_type": "stream",
          "text": [
            "Drive already mounted at /content/drive; to attempt to forcibly remount, call drive.mount(\"/content/drive\", force_remount=True).\n"
          ],
          "name": "stdout"
        }
      ]
    },
    {
      "cell_type": "code",
      "metadata": {
        "id": "Zhv8iIaKLx_2"
      },
      "source": [
        "df_startups = pd.read_stata(\"drive/My Drive/Capstone Shared Docs/data/all_deals.dta\")\n",
        "df_startups_unique = df_startups.drop_duplicates([\"portfoliocompanyid\"],keep=\"first\")\n",
        "\n",
        "df_public = pd.read_stata(\"drive/My Drive/Capstone Shared Docs/data/all_public_firms.dta\")\n",
        "df_public_unique = df_public.drop_duplicates([\"ÿþmark\"],keep=\"first\")"
      ],
      "execution_count": 5,
      "outputs": []
    },
    {
      "cell_type": "code",
      "metadata": {
        "id": "S_vPQUVYCvAv",
        "outputId": "629afb99-6c29-440f-bce2-7bf5e8e9faf4",
        "colab": {
          "base_uri": "https://localhost:8080/"
        }
      },
      "source": [
        "!ls drive/My\\ Drive/Capstone\\ Shared\\ Docs/result"
      ],
      "execution_count": 6,
      "outputs": [
        {
          "output_type": "stream",
          "text": [
            "'Colab Nov1 startup 2000'  'Colab Nov3 Public 2013'\n",
            "'Colab Nov1 startup 2001'  'Colab Nov3 Public 2014'\n",
            "'Colab Nov1 startup 2002'  'Colab Oct30 startup 2009'\n",
            "'Colab Nov1 startup 2003'  'Colab Oct30 startup 2011'\n",
            "'Colab Nov1 startup 2004'  'Colab Oct30 startup 2017'\n",
            "'Colab Nov1 startup 2005'  'Colab Oct30 startup 2018'\n",
            "'Colab Nov1 startup 2006'  'Colab Oct30 startup 2019'\n",
            "'Colab Nov1 startup 2007'  'EC2 full run Oct14 result'\n",
            "'Colab Nov1 startup 2008'  'EC2 Oct 13 result'\n",
            "'Colab Nov1 startup 2012'  'EC2 Oct26 public data'\n",
            "'Colab Nov1 startup 2013'  'Error Log Resume.xlsx'\n",
            "'Colab Nov1 startup 2014'  'Local Oct 13 result'\n",
            "'Colab Nov1 startup 2015'  'Local Oct 6 result'\n",
            "'Colab Nov1 startup 2016'  'terminal log_oct5_am.txt'\n",
            "'Colab Nov3 Public 2012'   'terminal log_oct5.txt'\n"
          ],
          "name": "stdout"
        }
      ]
    },
    {
      "cell_type": "markdown",
      "metadata": {
        "id": "5C5JiFIUGFOB"
      },
      "source": [
        "## Loading startup data"
      ]
    },
    {
      "cell_type": "code",
      "metadata": {
        "id": "pZwrleh6CvA7"
      },
      "source": [
        "path_startup = pathlib.Path(\"drive/My Drive/Capstone Shared Docs/result/EC2 full run Oct14 result\")"
      ],
      "execution_count": 7,
      "outputs": []
    },
    {
      "cell_type": "code",
      "metadata": {
        "id": "C0t5HsXxCvBE",
        "outputId": "ecdedf26-074e-420b-dd71-3dd403062045",
        "colab": {
          "base_uri": "https://localhost:8080/"
        }
      },
      "source": [
        "startup_paths = list(path_startup.glob('*.txt'))\n",
        "startup_paths[:5]"
      ],
      "execution_count": 8,
      "outputs": [
        {
          "output_type": "execute_result",
          "data": {
            "text/plain": [
              "[PosixPath('drive/My Drive/Capstone Shared Docs/result/EC2 full run Oct14 result/73501_2011.txt'),\n",
              " PosixPath('drive/My Drive/Capstone Shared Docs/result/EC2 full run Oct14 result/160418_2011.txt'),\n",
              " PosixPath('drive/My Drive/Capstone Shared Docs/result/EC2 full run Oct14 result/161261_2011.txt'),\n",
              " PosixPath('drive/My Drive/Capstone Shared Docs/result/EC2 full run Oct14 result/129092_2011.txt'),\n",
              " PosixPath('drive/My Drive/Capstone Shared Docs/result/EC2 full run Oct14 result/77179_2011.txt')]"
            ]
          },
          "metadata": {
            "tags": []
          },
          "execution_count": 8
        }
      ]
    },
    {
      "cell_type": "code",
      "metadata": {
        "id": "bTphhkeECvBL",
        "outputId": "2dc99cba-052b-4fc9-b190-418afef3bc09",
        "colab": {
          "base_uri": "https://localhost:8080/"
        }
      },
      "source": [
        "startups_text = {}\n",
        "for p in startup_paths:\n",
        "    n = p.name.split(\"_\")[0]\n",
        "    file = open(p)\n",
        "    # Remove first two and last characters, because of ascii encoding\n",
        "    text = file.read().replace(\"***///***\",\"\\n\")[2:-1]\n",
        "    # remove \"\"\n",
        "    text_list = text.split(\" \")\n",
        "    text_list = [x for x in text_list if x!=\"\"]\n",
        "    text = \" \".join(text_list)\n",
        "    file.close()\n",
        "    startups_text[n] = text\n",
        "\n",
        "print(len(startups_text))"
      ],
      "execution_count": 9,
      "outputs": [
        {
          "output_type": "stream",
          "text": [
            "430\n"
          ],
          "name": "stdout"
        }
      ]
    },
    {
      "cell_type": "code",
      "metadata": {
        "id": "4oS59cooGKOd",
        "outputId": "4d948b3d-ce9d-4256-9ee3-a3391b08185d",
        "colab": {
          "base_uri": "https://localhost:8080/",
          "height": 206
        }
      },
      "source": [
        "startup_frame = pd.DataFrame.from_dict(startups_text, orient='index')\n",
        "startup_frame.columns = ['text']\n",
        "# startup_frame['companyid'] = startup_frame.index\n",
        "# startup_frame.index = np.arange(0,len(startup_frame.companyid))\n",
        "startup_frame = startup_frame.assign(comp_type='S')\n",
        "stop_words_l=stopwords.words('english')\n",
        "startup_frame['text_cleaned']=startup_frame.text.apply(lambda x: \" \".join(re.sub(r'[^a-zA-Z]',' ',w).lower() for w in x.split() if re.sub(r'[^a-zA-Z]',' ',w).lower() not in stop_words_l) )\n",
        "startup_frame.head()"
      ],
      "execution_count": 10,
      "outputs": [
        {
          "output_type": "execute_result",
          "data": {
            "text/html": [
              "<div>\n",
              "<style scoped>\n",
              "    .dataframe tbody tr th:only-of-type {\n",
              "        vertical-align: middle;\n",
              "    }\n",
              "\n",
              "    .dataframe tbody tr th {\n",
              "        vertical-align: top;\n",
              "    }\n",
              "\n",
              "    .dataframe thead th {\n",
              "        text-align: right;\n",
              "    }\n",
              "</style>\n",
              "<table border=\"1\" class=\"dataframe\">\n",
              "  <thead>\n",
              "    <tr style=\"text-align: right;\">\n",
              "      <th></th>\n",
              "      <th>text</th>\n",
              "      <th>comp_type</th>\n",
              "      <th>text_cleaned</th>\n",
              "    </tr>\n",
              "  </thead>\n",
              "  <tbody>\n",
              "    <tr>\n",
              "      <th>73501</th>\n",
              "      <td>JOOR Skip navigation Member Log In Forgot pass...</td>\n",
              "      <td>S</td>\n",
              "      <td>joor skip navigation member log forgot passwor...</td>\n",
              "    </tr>\n",
              "    <tr>\n",
              "      <th>160418</th>\n",
              "      <td>Patients Physicians Employers Login Crossover ...</td>\n",
              "      <td>S</td>\n",
              "      <td>patients physicians employers login crossover ...</td>\n",
              "    </tr>\n",
              "    <tr>\n",
              "      <th>161261</th>\n",
              "      <td>Home | Recent questions | Directories | Feedba...</td>\n",
              "      <td>S</td>\n",
              "      <td>home   recent questions   directories   feedba...</td>\n",
              "    </tr>\n",
              "    <tr>\n",
              "      <th>129092</th>\n",
              "      <td>Nanotronics Home News Products What is nSpec ?...</td>\n",
              "      <td>S</td>\n",
              "      <td>nanotronics home news products nspec   system ...</td>\n",
              "    </tr>\n",
              "    <tr>\n",
              "      <th>77179</th>\n",
              "      <td>Home About Us Our Approach Technology Our Cust...</td>\n",
              "      <td>S</td>\n",
              "      <td>home us approach technology customers contact ...</td>\n",
              "    </tr>\n",
              "  </tbody>\n",
              "</table>\n",
              "</div>"
            ],
            "text/plain": [
              "                                                     text  ...                                       text_cleaned\n",
              "73501   JOOR Skip navigation Member Log In Forgot pass...  ...  joor skip navigation member log forgot passwor...\n",
              "160418  Patients Physicians Employers Login Crossover ...  ...  patients physicians employers login crossover ...\n",
              "161261  Home | Recent questions | Directories | Feedba...  ...  home   recent questions   directories   feedba...\n",
              "129092  Nanotronics Home News Products What is nSpec ?...  ...  nanotronics home news products nspec   system ...\n",
              "77179   Home About Us Our Approach Technology Our Cust...  ...  home us approach technology customers contact ...\n",
              "\n",
              "[5 rows x 3 columns]"
            ]
          },
          "metadata": {
            "tags": []
          },
          "execution_count": 10
        }
      ]
    },
    {
      "cell_type": "code",
      "metadata": {
        "id": "DV2KexzzJDae"
      },
      "source": [
        "startup_frame[\"compid\"] = startup_frame.index\n",
        "startup_frame.reset_index(inplace=True,drop=True)"
      ],
      "execution_count": 11,
      "outputs": []
    },
    {
      "cell_type": "markdown",
      "metadata": {
        "id": "WRYVLh5uHRET"
      },
      "source": [
        "## Loading public companies data"
      ]
    },
    {
      "cell_type": "code",
      "metadata": {
        "id": "IU9y4YtYHV__"
      },
      "source": [
        "path_public = pathlib.Path(\"drive/My Drive/Capstone Shared Docs/result/EC2 Oct26 public data\")"
      ],
      "execution_count": 12,
      "outputs": []
    },
    {
      "cell_type": "code",
      "metadata": {
        "id": "ln0_fB_-HV8U"
      },
      "source": [
        "public_paths =list(path_public.glob('*.txt'))"
      ],
      "execution_count": 13,
      "outputs": []
    },
    {
      "cell_type": "code",
      "metadata": {
        "id": "s9Iqc4ojHV2s",
        "outputId": "8095b0ac-4f7e-444f-c8cf-03124413e7ce",
        "colab": {
          "base_uri": "https://localhost:8080/"
        }
      },
      "source": [
        "public_text = {}\n",
        "for p in public_paths:\n",
        "    n = p.name.split(\"_\")[0]\n",
        "    file = open(p)\n",
        "    # Remove first two and last characters, because of ascii encoding\n",
        "    text = file.read().replace(\"***///***\",\"\\n\")[2:-1]\n",
        "    # remove \"\"\n",
        "    text_list = text.split(\" \")\n",
        "    text_list = [x for x in text_list if x!=\"\"]\n",
        "    text = \" \".join(text_list)\n",
        "    file.close()\n",
        "    public_text[n] = text\n",
        "\n",
        "print(len(public_text))"
      ],
      "execution_count": 14,
      "outputs": [
        {
          "output_type": "stream",
          "text": [
            "536\n"
          ],
          "name": "stdout"
        }
      ]
    },
    {
      "cell_type": "code",
      "metadata": {
        "id": "kp6qn-q3HVsV",
        "outputId": "8613fd2e-13b1-4c26-f7ea-773e709e05c3",
        "colab": {
          "base_uri": "https://localhost:8080/",
          "height": 206
        }
      },
      "source": [
        "public_frame = pd.DataFrame.from_dict(public_text, orient='index')\n",
        "public_frame.columns = ['text']\n",
        "# public_frame['companyid'] = public_frame.index\n",
        "# public_frame.index = np.arange(0,len(public_frame.companyid))\n",
        "public_frame = public_frame.assign(comp_type='P')\n",
        "public_frame['text_cleaned']=public_frame.text.apply(lambda x: \" \".join(re.sub(r'[^a-zA-Z]',' ',w).lower() for w in x.split() if re.sub(r'[^a-zA-Z]',' ',w).lower() not in stop_words_l) )\n",
        "public_frame.head()\n"
      ],
      "execution_count": 15,
      "outputs": [
        {
          "output_type": "execute_result",
          "data": {
            "text/html": [
              "<div>\n",
              "<style scoped>\n",
              "    .dataframe tbody tr th:only-of-type {\n",
              "        vertical-align: middle;\n",
              "    }\n",
              "\n",
              "    .dataframe tbody tr th {\n",
              "        vertical-align: top;\n",
              "    }\n",
              "\n",
              "    .dataframe thead th {\n",
              "        text-align: right;\n",
              "    }\n",
              "</style>\n",
              "<table border=\"1\" class=\"dataframe\">\n",
              "  <thead>\n",
              "    <tr style=\"text-align: right;\">\n",
              "      <th></th>\n",
              "      <th>text</th>\n",
              "      <th>comp_type</th>\n",
              "      <th>text_cleaned</th>\n",
              "    </tr>\n",
              "  </thead>\n",
              "  <tbody>\n",
              "    <tr>\n",
              "      <th>151</th>\n",
              "      <td>CVR Energy is an independent petroleum refiner...</td>\n",
              "      <td>P</td>\n",
              "      <td>cvr energy independent petroleum refiner marke...</td>\n",
              "    </tr>\n",
              "    <tr>\n",
              "      <th>1658</th>\n",
              "      <td>COMPANY Executive Profiles History Company Val...</td>\n",
              "      <td>P</td>\n",
              "      <td>company executive profiles history company val...</td>\n",
              "    </tr>\n",
              "    <tr>\n",
              "      <th>5503</th>\n",
              "      <td>Home | About Us | Locations | ATM Locations | ...</td>\n",
              "      <td>P</td>\n",
              "      <td>home   us   locations   atm locations   contac...</td>\n",
              "    </tr>\n",
              "    <tr>\n",
              "      <th>2901</th>\n",
              "      <td>Home | Site Map | Contact Us Information is be...</td>\n",
              "      <td>P</td>\n",
              "      <td>home   site map   contact us information colle...</td>\n",
              "    </tr>\n",
              "    <tr>\n",
              "      <th>1510</th>\n",
              "      <td>Search: Corporate Info | Contact GAF | News &amp; ...</td>\n",
              "      <td>P</td>\n",
              "      <td>search  corporate info   contact gaf   news   ...</td>\n",
              "    </tr>\n",
              "  </tbody>\n",
              "</table>\n",
              "</div>"
            ],
            "text/plain": [
              "                                                   text  ...                                       text_cleaned\n",
              "151   CVR Energy is an independent petroleum refiner...  ...  cvr energy independent petroleum refiner marke...\n",
              "1658  COMPANY Executive Profiles History Company Val...  ...  company executive profiles history company val...\n",
              "5503  Home | About Us | Locations | ATM Locations | ...  ...  home   us   locations   atm locations   contac...\n",
              "2901  Home | Site Map | Contact Us Information is be...  ...  home   site map   contact us information colle...\n",
              "1510  Search: Corporate Info | Contact GAF | News & ...  ...  search  corporate info   contact gaf   news   ...\n",
              "\n",
              "[5 rows x 3 columns]"
            ]
          },
          "metadata": {
            "tags": []
          },
          "execution_count": 15
        }
      ]
    },
    {
      "cell_type": "code",
      "metadata": {
        "id": "6JRfLSlKI4k3"
      },
      "source": [
        "public_frame[\"compid\"] = public_frame.index\n",
        "public_frame.reset_index(inplace=True,drop=True)"
      ],
      "execution_count": 16,
      "outputs": []
    },
    {
      "cell_type": "markdown",
      "metadata": {
        "id": "NLCSpm6OISvA"
      },
      "source": [
        "## Language issues"
      ]
    },
    {
      "cell_type": "code",
      "metadata": {
        "id": "14x1MoGcHVct",
        "outputId": "66610c4e-d4b5-46aa-90a0-5e2977bcc1e6",
        "colab": {
          "base_uri": "https://localhost:8080/",
          "height": 224
        }
      },
      "source": [
        "all_frame = pd.concat([startup_frame, public_frame]).reset_index(drop=True)\n",
        "print(all_frame.shape)\n",
        "all_frame.head()"
      ],
      "execution_count": 17,
      "outputs": [
        {
          "output_type": "stream",
          "text": [
            "(966, 4)\n"
          ],
          "name": "stdout"
        },
        {
          "output_type": "execute_result",
          "data": {
            "text/html": [
              "<div>\n",
              "<style scoped>\n",
              "    .dataframe tbody tr th:only-of-type {\n",
              "        vertical-align: middle;\n",
              "    }\n",
              "\n",
              "    .dataframe tbody tr th {\n",
              "        vertical-align: top;\n",
              "    }\n",
              "\n",
              "    .dataframe thead th {\n",
              "        text-align: right;\n",
              "    }\n",
              "</style>\n",
              "<table border=\"1\" class=\"dataframe\">\n",
              "  <thead>\n",
              "    <tr style=\"text-align: right;\">\n",
              "      <th></th>\n",
              "      <th>text</th>\n",
              "      <th>comp_type</th>\n",
              "      <th>text_cleaned</th>\n",
              "      <th>compid</th>\n",
              "    </tr>\n",
              "  </thead>\n",
              "  <tbody>\n",
              "    <tr>\n",
              "      <th>0</th>\n",
              "      <td>JOOR Skip navigation Member Log In Forgot pass...</td>\n",
              "      <td>S</td>\n",
              "      <td>joor skip navigation member log forgot passwor...</td>\n",
              "      <td>73501</td>\n",
              "    </tr>\n",
              "    <tr>\n",
              "      <th>1</th>\n",
              "      <td>Patients Physicians Employers Login Crossover ...</td>\n",
              "      <td>S</td>\n",
              "      <td>patients physicians employers login crossover ...</td>\n",
              "      <td>160418</td>\n",
              "    </tr>\n",
              "    <tr>\n",
              "      <th>2</th>\n",
              "      <td>Home | Recent questions | Directories | Feedba...</td>\n",
              "      <td>S</td>\n",
              "      <td>home   recent questions   directories   feedba...</td>\n",
              "      <td>161261</td>\n",
              "    </tr>\n",
              "    <tr>\n",
              "      <th>3</th>\n",
              "      <td>Nanotronics Home News Products What is nSpec ?...</td>\n",
              "      <td>S</td>\n",
              "      <td>nanotronics home news products nspec   system ...</td>\n",
              "      <td>129092</td>\n",
              "    </tr>\n",
              "    <tr>\n",
              "      <th>4</th>\n",
              "      <td>Home About Us Our Approach Technology Our Cust...</td>\n",
              "      <td>S</td>\n",
              "      <td>home us approach technology customers contact ...</td>\n",
              "      <td>77179</td>\n",
              "    </tr>\n",
              "  </tbody>\n",
              "</table>\n",
              "</div>"
            ],
            "text/plain": [
              "                                                text  ...  compid\n",
              "0  JOOR Skip navigation Member Log In Forgot pass...  ...   73501\n",
              "1  Patients Physicians Employers Login Crossover ...  ...  160418\n",
              "2  Home | Recent questions | Directories | Feedba...  ...  161261\n",
              "3  Nanotronics Home News Products What is nSpec ?...  ...  129092\n",
              "4  Home About Us Our Approach Technology Our Cust...  ...   77179\n",
              "\n",
              "[5 rows x 4 columns]"
            ]
          },
          "metadata": {
            "tags": []
          },
          "execution_count": 17
        }
      ]
    },
    {
      "cell_type": "code",
      "metadata": {
        "id": "jdZZ8eSzonVj",
        "outputId": "3af3818d-83d2-4a73-cb7b-c7be61fc1277",
        "colab": {
          "base_uri": "https://localhost:8080/",
          "height": 802
        }
      },
      "source": [
        "all_frame[all_frame.duplicated(\"text\")]"
      ],
      "execution_count": 57,
      "outputs": [
        {
          "output_type": "execute_result",
          "data": {
            "text/html": [
              "<div>\n",
              "<style scoped>\n",
              "    .dataframe tbody tr th:only-of-type {\n",
              "        vertical-align: middle;\n",
              "    }\n",
              "\n",
              "    .dataframe tbody tr th {\n",
              "        vertical-align: top;\n",
              "    }\n",
              "\n",
              "    .dataframe thead th {\n",
              "        text-align: right;\n",
              "    }\n",
              "</style>\n",
              "<table border=\"1\" class=\"dataframe\">\n",
              "  <thead>\n",
              "    <tr style=\"text-align: right;\">\n",
              "      <th></th>\n",
              "      <th>text</th>\n",
              "      <th>comp_type</th>\n",
              "      <th>text_cleaned</th>\n",
              "      <th>compid</th>\n",
              "      <th>language</th>\n",
              "      <th>Rela_language</th>\n",
              "    </tr>\n",
              "  </thead>\n",
              "  <tbody>\n",
              "    <tr>\n",
              "      <th>85</th>\n",
              "      <td>503 Service Unavailable No server is available...</td>\n",
              "      <td>S</td>\n",
              "      <td>service unavailable server available handl...</td>\n",
              "      <td>165407</td>\n",
              "      <td>en</td>\n",
              "      <td>True</td>\n",
              "    </tr>\n",
              "    <tr>\n",
              "      <th>95</th>\n",
              "      <td>503 Service Unavailable No server is available...</td>\n",
              "      <td>S</td>\n",
              "      <td>service unavailable server available handl...</td>\n",
              "      <td>73277</td>\n",
              "      <td>en</td>\n",
              "      <td>True</td>\n",
              "    </tr>\n",
              "    <tr>\n",
              "      <th>181</th>\n",
              "      <td>503 Service Unavailable No server is available...</td>\n",
              "      <td>S</td>\n",
              "      <td>service unavailable server available handl...</td>\n",
              "      <td>74117</td>\n",
              "      <td>en</td>\n",
              "      <td>True</td>\n",
              "    </tr>\n",
              "    <tr>\n",
              "      <th>198</th>\n",
              "      <td>503 Service Unavailable No server is available...</td>\n",
              "      <td>S</td>\n",
              "      <td>service unavailable server available handl...</td>\n",
              "      <td>71518</td>\n",
              "      <td>en</td>\n",
              "      <td>True</td>\n",
              "    </tr>\n",
              "    <tr>\n",
              "      <th>255</th>\n",
              "      <td>503 Service Unavailable No server is available...</td>\n",
              "      <td>S</td>\n",
              "      <td>service unavailable server available handl...</td>\n",
              "      <td>71519</td>\n",
              "      <td>en</td>\n",
              "      <td>True</td>\n",
              "    </tr>\n",
              "    <tr>\n",
              "      <th>261</th>\n",
              "      <td>2011 Marchex Sales, Inc. | Terms Of Use | Priv...</td>\n",
              "      <td>S</td>\n",
              "      <td>marchex sales  inc    terms use   privacy...</td>\n",
              "      <td>180156</td>\n",
              "      <td>en</td>\n",
              "      <td>True</td>\n",
              "    </tr>\n",
              "    <tr>\n",
              "      <th>343</th>\n",
              "      <td>banned interdit verboden vietato prohibido ver...</td>\n",
              "      <td>S</td>\n",
              "      <td>banned interdit verboden vietato prohibido ver...</td>\n",
              "      <td>129019</td>\n",
              "      <td>fr</td>\n",
              "      <td>False</td>\n",
              "    </tr>\n",
              "    <tr>\n",
              "      <th>419</th>\n",
              "      <td>Your browser does not support frames. We recom...</td>\n",
              "      <td>S</td>\n",
              "      <td>browser support frames  recommend upgrading br...</td>\n",
              "      <td>135700</td>\n",
              "      <td>en</td>\n",
              "      <td>False</td>\n",
              "    </tr>\n",
              "    <tr>\n",
              "      <th>423</th>\n",
              "      <td>503 Service Unavailable No server is available...</td>\n",
              "      <td>S</td>\n",
              "      <td>service unavailable server available handl...</td>\n",
              "      <td>73304</td>\n",
              "      <td>en</td>\n",
              "      <td>True</td>\n",
              "    </tr>\n",
              "    <tr>\n",
              "      <th>554</th>\n",
              "      <td>About BlackRock Contact United States Change C...</td>\n",
              "      <td>P</td>\n",
              "      <td>blackrock contact united states change country...</td>\n",
              "      <td>4058</td>\n",
              "      <td>en</td>\n",
              "      <td>True</td>\n",
              "    </tr>\n",
              "    <tr>\n",
              "      <th>564</th>\n",
              "      <td>About BlackRock Contact United States Change C...</td>\n",
              "      <td>P</td>\n",
              "      <td>blackrock contact united states change country...</td>\n",
              "      <td>7388</td>\n",
              "      <td>en</td>\n",
              "      <td>True</td>\n",
              "    </tr>\n",
              "    <tr>\n",
              "      <th>583</th>\n",
              "      <td>Login Financial Advisor RIA Institutional Inve...</td>\n",
              "      <td>P</td>\n",
              "      <td>login financial advisor ria institutional inve...</td>\n",
              "      <td>4154</td>\n",
              "      <td>en</td>\n",
              "      <td>True</td>\n",
              "    </tr>\n",
              "    <tr>\n",
              "      <th>708</th>\n",
              "      <td>Under Construction The site you are trying to ...</td>\n",
              "      <td>P</td>\n",
              "      <td>construction site trying view currently defaul...</td>\n",
              "      <td>3425</td>\n",
              "      <td>en</td>\n",
              "      <td>True</td>\n",
              "    </tr>\n",
              "    <tr>\n",
              "      <th>724</th>\n",
              "      <td>Skip To Content Home News About Investor Accou...</td>\n",
              "      <td>P</td>\n",
              "      <td>skip content home news investor account access...</td>\n",
              "      <td>7368</td>\n",
              "      <td>en</td>\n",
              "      <td>True</td>\n",
              "    </tr>\n",
              "    <tr>\n",
              "      <th>725</th>\n",
              "      <td>Directory Listing Denied This Virtual Director...</td>\n",
              "      <td>P</td>\n",
              "      <td>directory listing denied virtual directory all...</td>\n",
              "      <td>3704</td>\n",
              "      <td>en</td>\n",
              "      <td>True</td>\n",
              "    </tr>\n",
              "    <tr>\n",
              "      <th>736</th>\n",
              "      <td>Login Financial Advisor RIA Institutional Inve...</td>\n",
              "      <td>P</td>\n",
              "      <td>login financial advisor ria institutional inve...</td>\n",
              "      <td>7497</td>\n",
              "      <td>en</td>\n",
              "      <td>True</td>\n",
              "    </tr>\n",
              "    <tr>\n",
              "      <th>747</th>\n",
              "      <td>This page uses frames, but your browser doesn'...</td>\n",
              "      <td>P</td>\n",
              "      <td>page uses frames  browser doesn t support them</td>\n",
              "      <td>63</td>\n",
              "      <td>en</td>\n",
              "      <td>True</td>\n",
              "    </tr>\n",
              "    <tr>\n",
              "      <th>752</th>\n",
              "      <td>About BlackRock Contact United States Change C...</td>\n",
              "      <td>P</td>\n",
              "      <td>blackrock contact united states change country...</td>\n",
              "      <td>8130</td>\n",
              "      <td>en</td>\n",
              "      <td>True</td>\n",
              "    </tr>\n",
              "    <tr>\n",
              "      <th>815</th>\n",
              "      <td>About BlackRock Contact United States Change C...</td>\n",
              "      <td>P</td>\n",
              "      <td>blackrock contact united states change country...</td>\n",
              "      <td>8132</td>\n",
              "      <td>en</td>\n",
              "      <td>True</td>\n",
              "    </tr>\n",
              "    <tr>\n",
              "      <th>823</th>\n",
              "      <td>About BlackRock Contact United States Change C...</td>\n",
              "      <td>P</td>\n",
              "      <td>blackrock contact united states change country...</td>\n",
              "      <td>7407</td>\n",
              "      <td>en</td>\n",
              "      <td>True</td>\n",
              "    </tr>\n",
              "    <tr>\n",
              "      <th>825</th>\n",
              "      <td>Skip To Content Home News About Investor Accou...</td>\n",
              "      <td>P</td>\n",
              "      <td>skip content home news investor account access...</td>\n",
              "      <td>2307</td>\n",
              "      <td>en</td>\n",
              "      <td>True</td>\n",
              "    </tr>\n",
              "    <tr>\n",
              "      <th>837</th>\n",
              "      <td>Login Financial Advisor RIA Institutional Inve...</td>\n",
              "      <td>P</td>\n",
              "      <td>login financial advisor ria institutional inve...</td>\n",
              "      <td>8081</td>\n",
              "      <td>en</td>\n",
              "      <td>True</td>\n",
              "    </tr>\n",
              "    <tr>\n",
              "      <th>922</th>\n",
              "      <td>2011 Marchex Sales, Inc. | Terms Of Use | Priv...</td>\n",
              "      <td>P</td>\n",
              "      <td>marchex sales  inc    terms use   privacy...</td>\n",
              "      <td>6423</td>\n",
              "      <td>en</td>\n",
              "      <td>True</td>\n",
              "    </tr>\n",
              "    <tr>\n",
              "      <th>958</th>\n",
              "      <td>About BlackRock Contact United States Change C...</td>\n",
              "      <td>P</td>\n",
              "      <td>blackrock contact united states change country...</td>\n",
              "      <td>8145</td>\n",
              "      <td>en</td>\n",
              "      <td>True</td>\n",
              "    </tr>\n",
              "  </tbody>\n",
              "</table>\n",
              "</div>"
            ],
            "text/plain": [
              "                                                  text  ... Rela_language\n",
              "85   503 Service Unavailable No server is available...  ...          True\n",
              "95   503 Service Unavailable No server is available...  ...          True\n",
              "181  503 Service Unavailable No server is available...  ...          True\n",
              "198  503 Service Unavailable No server is available...  ...          True\n",
              "255  503 Service Unavailable No server is available...  ...          True\n",
              "261  2011 Marchex Sales, Inc. | Terms Of Use | Priv...  ...          True\n",
              "343  banned interdit verboden vietato prohibido ver...  ...         False\n",
              "419  Your browser does not support frames. We recom...  ...         False\n",
              "423  503 Service Unavailable No server is available...  ...          True\n",
              "554  About BlackRock Contact United States Change C...  ...          True\n",
              "564  About BlackRock Contact United States Change C...  ...          True\n",
              "583  Login Financial Advisor RIA Institutional Inve...  ...          True\n",
              "708  Under Construction The site you are trying to ...  ...          True\n",
              "724  Skip To Content Home News About Investor Accou...  ...          True\n",
              "725  Directory Listing Denied This Virtual Director...  ...          True\n",
              "736  Login Financial Advisor RIA Institutional Inve...  ...          True\n",
              "747  This page uses frames, but your browser doesn'...  ...          True\n",
              "752  About BlackRock Contact United States Change C...  ...          True\n",
              "815  About BlackRock Contact United States Change C...  ...          True\n",
              "823  About BlackRock Contact United States Change C...  ...          True\n",
              "825  Skip To Content Home News About Investor Accou...  ...          True\n",
              "837  Login Financial Advisor RIA Institutional Inve...  ...          True\n",
              "922  2011 Marchex Sales, Inc. | Terms Of Use | Priv...  ...          True\n",
              "958  About BlackRock Contact United States Change C...  ...          True\n",
              "\n",
              "[24 rows x 6 columns]"
            ]
          },
          "metadata": {
            "tags": []
          },
          "execution_count": 57
        }
      ]
    },
    {
      "cell_type": "code",
      "metadata": {
        "id": "P3IH3haZnqPm",
        "outputId": "0fb8e9fe-0caf-4fd3-b2b3-a2d9a9047180",
        "colab": {
          "base_uri": "https://localhost:8080/",
          "height": 35
        }
      },
      "source": [
        "all_frame[all_frame.duplicated(\"text\")].iloc[0].text"
      ],
      "execution_count": 58,
      "outputs": [
        {
          "output_type": "execute_result",
          "data": {
            "application/vnd.google.colaboratory.intrinsic+json": {
              "type": "string"
            },
            "text/plain": [
              "'503 Service Unavailable No server is available to handle this request.'"
            ]
          },
          "metadata": {
            "tags": []
          },
          "execution_count": 58
        }
      ]
    },
    {
      "cell_type": "code",
      "metadata": {
        "id": "ckhZVdYNouDB"
      },
      "source": [
        "all_frame.drop_duplicates(subset=\"text\", keep=\"first\",inplace=True)"
      ],
      "execution_count": 61,
      "outputs": []
    },
    {
      "cell_type": "code",
      "metadata": {
        "id": "iXR1SBebrhnM",
        "outputId": "cf62560c-7ba8-4c8e-aead-eddf5cf0cdbc",
        "colab": {
          "base_uri": "https://localhost:8080/",
          "height": 49
        }
      },
      "source": [
        "all_frame[all_frame.duplicated(\"text\")]"
      ],
      "execution_count": 62,
      "outputs": [
        {
          "output_type": "execute_result",
          "data": {
            "text/html": [
              "<div>\n",
              "<style scoped>\n",
              "    .dataframe tbody tr th:only-of-type {\n",
              "        vertical-align: middle;\n",
              "    }\n",
              "\n",
              "    .dataframe tbody tr th {\n",
              "        vertical-align: top;\n",
              "    }\n",
              "\n",
              "    .dataframe thead th {\n",
              "        text-align: right;\n",
              "    }\n",
              "</style>\n",
              "<table border=\"1\" class=\"dataframe\">\n",
              "  <thead>\n",
              "    <tr style=\"text-align: right;\">\n",
              "      <th></th>\n",
              "      <th>text</th>\n",
              "      <th>comp_type</th>\n",
              "      <th>text_cleaned</th>\n",
              "      <th>compid</th>\n",
              "      <th>language</th>\n",
              "      <th>Rela_language</th>\n",
              "    </tr>\n",
              "  </thead>\n",
              "  <tbody>\n",
              "  </tbody>\n",
              "</table>\n",
              "</div>"
            ],
            "text/plain": [
              "Empty DataFrame\n",
              "Columns: [text, comp_type, text_cleaned, compid, language, Rela_language]\n",
              "Index: []"
            ]
          },
          "metadata": {
            "tags": []
          },
          "execution_count": 62
        }
      ]
    },
    {
      "cell_type": "code",
      "metadata": {
        "id": "AySjHPUDKG4T",
        "outputId": "ae3ce356-6407-4436-d191-682af09a85bc",
        "colab": {
          "base_uri": "https://localhost:8080/"
        }
      },
      "source": [
        "!pip install gcld3"
      ],
      "execution_count": 21,
      "outputs": [
        {
          "output_type": "stream",
          "text": [
            "Requirement already satisfied: gcld3 in /usr/local/lib/python3.6/dist-packages (3.0.13)\n"
          ],
          "name": "stdout"
        }
      ]
    },
    {
      "cell_type": "code",
      "metadata": {
        "id": "Vr-tvsxvKG0y"
      },
      "source": [
        "import gcld3\n",
        "detector = gcld3.NNetLanguageIdentifier(min_num_bytes=0, max_num_bytes=10000)"
      ],
      "execution_count": 22,
      "outputs": []
    },
    {
      "cell_type": "code",
      "metadata": {
        "id": "H5477y5tKQS-"
      },
      "source": [
        "lan = []\n",
        "rel_lan = []\n",
        "for i,r in all_frame.iterrows():\n",
        "  t =r.text_cleaned\n",
        "  t = str(t)\n",
        "  \n",
        "  result = detector.FindLanguage(text=t)\n",
        "  lan.append(result.language)\n",
        "  rel_lan.append(result.is_reliable)"
      ],
      "execution_count": 63,
      "outputs": []
    },
    {
      "cell_type": "code",
      "metadata": {
        "id": "ceCcag02Kjsc",
        "outputId": "bbc13377-217b-4a67-aa6b-f7f9881c0328",
        "colab": {
          "base_uri": "https://localhost:8080/",
          "height": 206
        }
      },
      "source": [
        "all_frame['language'] = lan\n",
        "all_frame['Rela_language'] = rel_lan\n",
        "all_frame.head()"
      ],
      "execution_count": 64,
      "outputs": [
        {
          "output_type": "execute_result",
          "data": {
            "text/html": [
              "<div>\n",
              "<style scoped>\n",
              "    .dataframe tbody tr th:only-of-type {\n",
              "        vertical-align: middle;\n",
              "    }\n",
              "\n",
              "    .dataframe tbody tr th {\n",
              "        vertical-align: top;\n",
              "    }\n",
              "\n",
              "    .dataframe thead th {\n",
              "        text-align: right;\n",
              "    }\n",
              "</style>\n",
              "<table border=\"1\" class=\"dataframe\">\n",
              "  <thead>\n",
              "    <tr style=\"text-align: right;\">\n",
              "      <th></th>\n",
              "      <th>text</th>\n",
              "      <th>comp_type</th>\n",
              "      <th>text_cleaned</th>\n",
              "      <th>compid</th>\n",
              "      <th>language</th>\n",
              "      <th>Rela_language</th>\n",
              "    </tr>\n",
              "  </thead>\n",
              "  <tbody>\n",
              "    <tr>\n",
              "      <th>0</th>\n",
              "      <td>JOOR Skip navigation Member Log In Forgot pass...</td>\n",
              "      <td>S</td>\n",
              "      <td>joor skip navigation member log forgot passwor...</td>\n",
              "      <td>73501</td>\n",
              "      <td>en</td>\n",
              "      <td>True</td>\n",
              "    </tr>\n",
              "    <tr>\n",
              "      <th>1</th>\n",
              "      <td>Patients Physicians Employers Login Crossover ...</td>\n",
              "      <td>S</td>\n",
              "      <td>patients physicians employers login crossover ...</td>\n",
              "      <td>160418</td>\n",
              "      <td>en</td>\n",
              "      <td>True</td>\n",
              "    </tr>\n",
              "    <tr>\n",
              "      <th>2</th>\n",
              "      <td>Home | Recent questions | Directories | Feedba...</td>\n",
              "      <td>S</td>\n",
              "      <td>home   recent questions   directories   feedba...</td>\n",
              "      <td>161261</td>\n",
              "      <td>en</td>\n",
              "      <td>True</td>\n",
              "    </tr>\n",
              "    <tr>\n",
              "      <th>3</th>\n",
              "      <td>Nanotronics Home News Products What is nSpec ?...</td>\n",
              "      <td>S</td>\n",
              "      <td>nanotronics home news products nspec   system ...</td>\n",
              "      <td>129092</td>\n",
              "      <td>en</td>\n",
              "      <td>True</td>\n",
              "    </tr>\n",
              "    <tr>\n",
              "      <th>4</th>\n",
              "      <td>Home About Us Our Approach Technology Our Cust...</td>\n",
              "      <td>S</td>\n",
              "      <td>home us approach technology customers contact ...</td>\n",
              "      <td>77179</td>\n",
              "      <td>en</td>\n",
              "      <td>True</td>\n",
              "    </tr>\n",
              "  </tbody>\n",
              "</table>\n",
              "</div>"
            ],
            "text/plain": [
              "                                                text  ... Rela_language\n",
              "0  JOOR Skip navigation Member Log In Forgot pass...  ...          True\n",
              "1  Patients Physicians Employers Login Crossover ...  ...          True\n",
              "2  Home | Recent questions | Directories | Feedba...  ...          True\n",
              "3  Nanotronics Home News Products What is nSpec ?...  ...          True\n",
              "4  Home About Us Our Approach Technology Our Cust...  ...          True\n",
              "\n",
              "[5 rows x 6 columns]"
            ]
          },
          "metadata": {
            "tags": []
          },
          "execution_count": 64
        }
      ]
    },
    {
      "cell_type": "code",
      "metadata": {
        "id": "ufAUC-MYK3m9",
        "outputId": "55d90b0a-a9c4-4e5a-bc0d-b8de49492cc4",
        "colab": {
          "base_uri": "https://localhost:8080/",
          "height": 1000
        }
      },
      "source": [
        "all_frame[all_frame.language!=\"en\"]"
      ],
      "execution_count": 65,
      "outputs": [
        {
          "output_type": "execute_result",
          "data": {
            "text/html": [
              "<div>\n",
              "<style scoped>\n",
              "    .dataframe tbody tr th:only-of-type {\n",
              "        vertical-align: middle;\n",
              "    }\n",
              "\n",
              "    .dataframe tbody tr th {\n",
              "        vertical-align: top;\n",
              "    }\n",
              "\n",
              "    .dataframe thead th {\n",
              "        text-align: right;\n",
              "    }\n",
              "</style>\n",
              "<table border=\"1\" class=\"dataframe\">\n",
              "  <thead>\n",
              "    <tr style=\"text-align: right;\">\n",
              "      <th></th>\n",
              "      <th>text</th>\n",
              "      <th>comp_type</th>\n",
              "      <th>text_cleaned</th>\n",
              "      <th>compid</th>\n",
              "      <th>language</th>\n",
              "      <th>Rela_language</th>\n",
              "    </tr>\n",
              "  </thead>\n",
              "  <tbody>\n",
              "    <tr>\n",
              "      <th>17</th>\n",
              "      <td>Index of / Name Last modified Size Description...</td>\n",
              "      <td>S</td>\n",
              "      <td>index   name last modified size description fa...</td>\n",
              "      <td>79115</td>\n",
              "      <td>it</td>\n",
              "      <td>True</td>\n",
              "    </tr>\n",
              "    <tr>\n",
              "      <th>27</th>\n",
              "      <td>Bienvenido al Nuevo Mundo de Nativo Network . ...</td>\n",
              "      <td>S</td>\n",
              "      <td>bienvenido al nuevo mundo de nativo network   ...</td>\n",
              "      <td>112162</td>\n",
              "      <td>es</td>\n",
              "      <td>True</td>\n",
              "    </tr>\n",
              "    <tr>\n",
              "      <th>33</th>\n",
              "      <td>Presentacin Asesores / Colaboradores Com desca...</td>\n",
              "      <td>S</td>\n",
              "      <td>presentacin asesores   colaboradores com desca...</td>\n",
              "      <td>230198</td>\n",
              "      <td>es</td>\n",
              "      <td>True</td>\n",
              "    </tr>\n",
              "    <tr>\n",
              "      <th>55</th>\n",
              "      <td>banned interdit verboden vietato prohibido ver...</td>\n",
              "      <td>S</td>\n",
              "      <td>banned interdit verboden vietato prohibido ver...</td>\n",
              "      <td>93431</td>\n",
              "      <td>fr</td>\n",
              "      <td>False</td>\n",
              "    </tr>\n",
              "    <tr>\n",
              "      <th>66</th>\n",
              "      <td>Who wants another funny behind the scenes vid ...</td>\n",
              "      <td>S</td>\n",
              "      <td>wants another funny behind scenes vid announce...</td>\n",
              "      <td>178116</td>\n",
              "      <td>mg</td>\n",
              "      <td>False</td>\n",
              "    </tr>\n",
              "    <tr>\n",
              "      <th>71</th>\n",
              "      <td>The Domain SOSH.COM was Successfully Registere...</td>\n",
              "      <td>S</td>\n",
              "      <td>domain sosh com successfully registered joker ...</td>\n",
              "      <td>97785</td>\n",
              "      <td>no</td>\n",
              "      <td>False</td>\n",
              "    </tr>\n",
              "    <tr>\n",
              "      <th>74</th>\n",
              "      <td>movista.com Algunos sitios relacionados con: m...</td>\n",
              "      <td>S</td>\n",
              "      <td>movista com algunos sitios relacionados con  m...</td>\n",
              "      <td>297244</td>\n",
              "      <td>es</td>\n",
              "      <td>True</td>\n",
              "    </tr>\n",
              "    <tr>\n",
              "      <th>118</th>\n",
              "      <td>Moda Operandi puts you front row at the runway...</td>\n",
              "      <td>S</td>\n",
              "      <td>moda operandi puts front row runway  comfort p...</td>\n",
              "      <td>72780</td>\n",
              "      <td>sn</td>\n",
              "      <td>False</td>\n",
              "    </tr>\n",
              "    <tr>\n",
              "      <th>125</th>\n",
              "      <td>A stealth mode San Francisco startup ContextLo...</td>\n",
              "      <td>S</td>\n",
              "      <td>stealth mode san francisco startup contextlogi...</td>\n",
              "      <td>81046</td>\n",
              "      <td>gl</td>\n",
              "      <td>True</td>\n",
              "    </tr>\n",
              "    <tr>\n",
              "      <th>169</th>\n",
              "      <td>Microsoft JET Database Engine error '80040e07'...</td>\n",
              "      <td>S</td>\n",
              "      <td>microsoft jet database engine error       e   ...</td>\n",
              "      <td>74020</td>\n",
              "      <td>zu</td>\n",
              "      <td>False</td>\n",
              "    </tr>\n",
              "    <tr>\n",
              "      <th>234</th>\n",
              "      <td>Viableware 12220 -113th Ave. NE Suite 210 Kirk...</td>\n",
              "      <td>S</td>\n",
              "      <td>viableware           th ave  ne suite     kirk...</td>\n",
              "      <td>77695</td>\n",
              "      <td>eo</td>\n",
              "      <td>False</td>\n",
              "    </tr>\n",
              "    <tr>\n",
              "      <th>238</th>\n",
              "      <td>if !vml endif if !vml endif Coming Soon! if !v...</td>\n",
              "      <td>S</td>\n",
              "      <td>vml endif  vml endif coming soon   vml endif ...</td>\n",
              "      <td>103647</td>\n",
              "      <td>da</td>\n",
              "      <td>False</td>\n",
              "    </tr>\n",
              "    <tr>\n",
              "      <th>257</th>\n",
              "      <td>Recherche de noms de domaine : www.indom.com L...</td>\n",
              "      <td>S</td>\n",
              "      <td>recherche de noms de domaine   www indom com l...</td>\n",
              "      <td>139205</td>\n",
              "      <td>fr</td>\n",
              "      <td>True</td>\n",
              "    </tr>\n",
              "    <tr>\n",
              "      <th>304</th>\n",
              "      <td>mobile apps app.net Welcome to app.net March 2...</td>\n",
              "      <td>S</td>\n",
              "      <td>mobile apps app net welcome app net march     ...</td>\n",
              "      <td>95739</td>\n",
              "      <td>fy</td>\n",
              "      <td>False</td>\n",
              "    </tr>\n",
              "    <tr>\n",
              "      <th>312</th>\n",
              "      <td>ENTER YOUR E-MAIL ADDRESS TO SIGN UP FOR FABUL...</td>\n",
              "      <td>S</td>\n",
              "      <td>enter e mail address sign fabulous deals</td>\n",
              "      <td>162029</td>\n",
              "      <td>lb</td>\n",
              "      <td>False</td>\n",
              "    </tr>\n",
              "    <tr>\n",
              "      <th>314</th>\n",
              "      <td>Home Deutsch Sommer Angebot Downloads Download...</td>\n",
              "      <td>S</td>\n",
              "      <td>home deutsch sommer angebot downloads download...</td>\n",
              "      <td>238967</td>\n",
              "      <td>de</td>\n",
              "      <td>True</td>\n",
              "    </tr>\n",
              "    <tr>\n",
              "      <th>316</th>\n",
              "      <td>Index of / cgi-bin/ dev/ Apache/2.2.15 (Unix) ...</td>\n",
              "      <td>S</td>\n",
              "      <td>index   cgi bin  dev  apache         unix  mod...</td>\n",
              "      <td>107417</td>\n",
              "      <td>fr</td>\n",
              "      <td>True</td>\n",
              "    </tr>\n",
              "    <tr>\n",
              "      <th>355</th>\n",
              "      <td>Error 503 Service Unavailable Service Unavaila...</td>\n",
              "      <td>S</td>\n",
              "      <td>error     service unavailable service unavaila...</td>\n",
              "      <td>150133</td>\n",
              "      <td>es</td>\n",
              "      <td>True</td>\n",
              "    </tr>\n",
              "    <tr>\n",
              "      <th>399</th>\n",
              "      <td>If you are the owner of this web site you have...</td>\n",
              "      <td>S</td>\n",
              "      <td>owner web site uploaded  or incorrectly upload...</td>\n",
              "      <td>78192</td>\n",
              "      <td>da</td>\n",
              "      <td>False</td>\n",
              "    </tr>\n",
              "    <tr>\n",
              "      <th>429</th>\n",
              "      <td>Click here if you are not redirected to Medime...</td>\n",
              "      <td>S</td>\n",
              "      <td>click redirected medimetrixexchange com</td>\n",
              "      <td>94895</td>\n",
              "      <td>sr</td>\n",
              "      <td>False</td>\n",
              "    </tr>\n",
              "    <tr>\n",
              "      <th>461</th>\n",
              "      <td>HOME iShares ETFs (Exchange Traded Funds) Info...</td>\n",
              "      <td>P</td>\n",
              "      <td>home ishares etfs  exchange traded funds  info...</td>\n",
              "      <td>2919</td>\n",
              "      <td>nl</td>\n",
              "      <td>True</td>\n",
              "    </tr>\n",
              "    <tr>\n",
              "      <th>467</th>\n",
              "      <td>. . OPTi Inc. 3430 W. Bayshore Rd., Suite 103 ...</td>\n",
              "      <td>P</td>\n",
              "      <td>opti inc       w  bayshore rd   suite     ...</td>\n",
              "      <td>7191</td>\n",
              "      <td>it</td>\n",
              "      <td>True</td>\n",
              "    </tr>\n",
              "    <tr>\n",
              "      <th>491</th>\n",
              "      <td>Alpha Innotech is now part of Cell Biosciences...</td>\n",
              "      <td>P</td>\n",
              "      <td>alpha innotech part cell biosciences  visit ww...</td>\n",
              "      <td>5208</td>\n",
              "      <td>fr</td>\n",
              "      <td>True</td>\n",
              "    </tr>\n",
              "    <tr>\n",
              "      <th>500</th>\n",
              "      <td>In English In der deutschen En franais Custome...</td>\n",
              "      <td>P</td>\n",
              "      <td>english der deutschen en franais customer port...</td>\n",
              "      <td>3140</td>\n",
              "      <td>de</td>\n",
              "      <td>True</td>\n",
              "    </tr>\n",
              "    <tr>\n",
              "      <th>508</th>\n",
              "      <td>Call Us 24/7 1-800-786-7235 Why Bank Stem Cell...</td>\n",
              "      <td>P</td>\n",
              "      <td>call us                     bank stem cells  v...</td>\n",
              "      <td>4691</td>\n",
              "      <td>es</td>\n",
              "      <td>True</td>\n",
              "    </tr>\n",
              "    <tr>\n",
              "      <th>544</th>\n",
              "      <td>EONLABS NEWS TOP Copyrightsince2010EONLABSAllr...</td>\n",
              "      <td>P</td>\n",
              "      <td>eonlabs news top copyrightsince    eonlabsallr...</td>\n",
              "      <td>2203</td>\n",
              "      <td>fi</td>\n",
              "      <td>False</td>\n",
              "    </tr>\n",
              "    <tr>\n",
              "      <th>574</th>\n",
              "      <td>| | | | Adobe Flash Player Adobe Flash Player ...</td>\n",
              "      <td>P</td>\n",
              "      <td>adobe flash player adobe flash player ...</td>\n",
              "      <td>530</td>\n",
              "      <td>vi</td>\n",
              "      <td>True</td>\n",
              "    </tr>\n",
              "    <tr>\n",
              "      <th>584</th>\n",
              "      <td>Technical Support Careers Invest Login Evergre...</td>\n",
              "      <td>P</td>\n",
              "      <td>technical support careers invest login evergre...</td>\n",
              "      <td>2433</td>\n",
              "      <td>de</td>\n",
              "      <td>True</td>\n",
              "    </tr>\n",
              "    <tr>\n",
              "      <th>612</th>\n",
              "      <td>| | English &gt;&gt; +86 22 58838558 2010 ... ... .....</td>\n",
              "      <td>P</td>\n",
              "      <td>english                                   ...</td>\n",
              "      <td>2746</td>\n",
              "      <td>hu</td>\n",
              "      <td>False</td>\n",
              "    </tr>\n",
              "    <tr>\n",
              "      <th>650</th>\n",
              "      <td>Forbidden You don't have permission to access ...</td>\n",
              "      <td>P</td>\n",
              "      <td>forbidden don t permission access   server  ap...</td>\n",
              "      <td>5107</td>\n",
              "      <td>fr</td>\n",
              "      <td>True</td>\n",
              "    </tr>\n",
              "    <tr>\n",
              "      <th>673</th>\n",
              "      <td>| English .. --.. [ 09-07-18 ] [ 09-07-15 ] [ ...</td>\n",
              "      <td>P</td>\n",
              "      <td>english                                     ...</td>\n",
              "      <td>2800</td>\n",
              "      <td>su</td>\n",
              "      <td>False</td>\n",
              "    </tr>\n",
              "    <tr>\n",
              "      <th>686</th>\n",
              "      <td>&lt;&lt; Skip Intro and continue to the Trans World ...</td>\n",
              "      <td>P</td>\n",
              "      <td>skip intro continue trans world corporation...</td>\n",
              "      <td>4218</td>\n",
              "      <td>it</td>\n",
              "      <td>False</td>\n",
              "    </tr>\n",
              "    <tr>\n",
              "      <th>690</th>\n",
              "      <td>bpre.de Genauere Suche: Buy this Domain Genaue...</td>\n",
              "      <td>P</td>\n",
              "      <td>bpre de genauere suche  buy domain genauere su...</td>\n",
              "      <td>7534</td>\n",
              "      <td>de</td>\n",
              "      <td>True</td>\n",
              "    </tr>\n",
              "    <tr>\n",
              "      <th>733</th>\n",
              "      <td>Skip Navigation Country UK (English) France (F...</td>\n",
              "      <td>P</td>\n",
              "      <td>skip navigation country uk  english  france  f...</td>\n",
              "      <td>3106</td>\n",
              "      <td>fr</td>\n",
              "      <td>True</td>\n",
              "    </tr>\n",
              "    <tr>\n",
              "      <th>773</th>\n",
              "      <td>Welcome to the Worlds Healthy Coffee Company M...</td>\n",
              "      <td>P</td>\n",
              "      <td>welcome worlds healthy coffee company manufact...</td>\n",
              "      <td>4640</td>\n",
              "      <td>es</td>\n",
              "      <td>True</td>\n",
              "    </tr>\n",
              "    <tr>\n",
              "      <th>803</th>\n",
              "      <td>-------- Including dojo Configurations -------...</td>\n",
              "      <td>P</td>\n",
              "      <td>including dojo configurations        ...</td>\n",
              "      <td>51</td>\n",
              "      <td>es</td>\n",
              "      <td>False</td>\n",
              "    </tr>\n",
              "    <tr>\n",
              "      <th>871</th>\n",
              "      <td>Largest gourmet coffee roaster in Shanghai Eng...</td>\n",
              "      <td>P</td>\n",
              "      <td>largest gourmet coffee roaster shanghai english</td>\n",
              "      <td>5004</td>\n",
              "      <td>jv</td>\n",
              "      <td>False</td>\n",
              "    </tr>\n",
              "    <tr>\n",
              "      <th>915</th>\n",
              "      <td>Home 14 2011/02/02 (+o+) (^O^)**:..*..:* (*^_^...</td>\n",
              "      <td>P</td>\n",
              "      <td>home                 o     o                  ...</td>\n",
              "      <td>5770</td>\n",
              "      <td>pt</td>\n",
              "      <td>True</td>\n",
              "    </tr>\n",
              "    <tr>\n",
              "      <th>941</th>\n",
              "      <td>2011-5-14 5:12:28 IPTV - - - - - - 51GPS GPS -...</td>\n",
              "      <td>P</td>\n",
              "      <td>iptv               gps gps  ...</td>\n",
              "      <td>1912</td>\n",
              "      <td>ru-Latn</td>\n",
              "      <td>False</td>\n",
              "    </tr>\n",
              "    <tr>\n",
              "      <th>945</th>\n",
              "      <td>Store Locator Catalog Request Shopping Cart Sh...</td>\n",
              "      <td>P</td>\n",
              "      <td>store locator catalog request shopping cart sh...</td>\n",
              "      <td>2048</td>\n",
              "      <td>de</td>\n",
              "      <td>False</td>\n",
              "    </tr>\n",
              "  </tbody>\n",
              "</table>\n",
              "</div>"
            ],
            "text/plain": [
              "                                                  text  ... Rela_language\n",
              "17   Index of / Name Last modified Size Description...  ...          True\n",
              "27   Bienvenido al Nuevo Mundo de Nativo Network . ...  ...          True\n",
              "33   Presentacin Asesores / Colaboradores Com desca...  ...          True\n",
              "55   banned interdit verboden vietato prohibido ver...  ...         False\n",
              "66   Who wants another funny behind the scenes vid ...  ...         False\n",
              "71   The Domain SOSH.COM was Successfully Registere...  ...         False\n",
              "74   movista.com Algunos sitios relacionados con: m...  ...          True\n",
              "118  Moda Operandi puts you front row at the runway...  ...         False\n",
              "125  A stealth mode San Francisco startup ContextLo...  ...          True\n",
              "169  Microsoft JET Database Engine error '80040e07'...  ...         False\n",
              "234  Viableware 12220 -113th Ave. NE Suite 210 Kirk...  ...         False\n",
              "238  if !vml endif if !vml endif Coming Soon! if !v...  ...         False\n",
              "257  Recherche de noms de domaine : www.indom.com L...  ...          True\n",
              "304  mobile apps app.net Welcome to app.net March 2...  ...         False\n",
              "312  ENTER YOUR E-MAIL ADDRESS TO SIGN UP FOR FABUL...  ...         False\n",
              "314  Home Deutsch Sommer Angebot Downloads Download...  ...          True\n",
              "316  Index of / cgi-bin/ dev/ Apache/2.2.15 (Unix) ...  ...          True\n",
              "355  Error 503 Service Unavailable Service Unavaila...  ...          True\n",
              "399  If you are the owner of this web site you have...  ...         False\n",
              "429  Click here if you are not redirected to Medime...  ...         False\n",
              "461  HOME iShares ETFs (Exchange Traded Funds) Info...  ...          True\n",
              "467  . . OPTi Inc. 3430 W. Bayshore Rd., Suite 103 ...  ...          True\n",
              "491  Alpha Innotech is now part of Cell Biosciences...  ...          True\n",
              "500  In English In der deutschen En franais Custome...  ...          True\n",
              "508  Call Us 24/7 1-800-786-7235 Why Bank Stem Cell...  ...          True\n",
              "544  EONLABS NEWS TOP Copyrightsince2010EONLABSAllr...  ...         False\n",
              "574  | | | | Adobe Flash Player Adobe Flash Player ...  ...          True\n",
              "584  Technical Support Careers Invest Login Evergre...  ...          True\n",
              "612  | | English >> +86 22 58838558 2010 ... ... .....  ...         False\n",
              "650  Forbidden You don't have permission to access ...  ...          True\n",
              "673  | English .. --.. [ 09-07-18 ] [ 09-07-15 ] [ ...  ...         False\n",
              "686  << Skip Intro and continue to the Trans World ...  ...         False\n",
              "690  bpre.de Genauere Suche: Buy this Domain Genaue...  ...          True\n",
              "733  Skip Navigation Country UK (English) France (F...  ...          True\n",
              "773  Welcome to the Worlds Healthy Coffee Company M...  ...          True\n",
              "803  -------- Including dojo Configurations -------...  ...         False\n",
              "871  Largest gourmet coffee roaster in Shanghai Eng...  ...         False\n",
              "915  Home 14 2011/02/02 (+o+) (^O^)**:..*..:* (*^_^...  ...          True\n",
              "941  2011-5-14 5:12:28 IPTV - - - - - - 51GPS GPS -...  ...         False\n",
              "945  Store Locator Catalog Request Shopping Cart Sh...  ...         False\n",
              "\n",
              "[40 rows x 6 columns]"
            ]
          },
          "metadata": {
            "tags": []
          },
          "execution_count": 65
        }
      ]
    },
    {
      "cell_type": "code",
      "metadata": {
        "id": "p5B0HF4ILI6s"
      },
      "source": [
        "all_frame_en = all_frame[(all_frame.language=='en') ].copy() #| ( (all_frame.language!='en') & (all_frame.language==False) )\n",
        "all_frame_en.reset_index(drop=True,inplace=True)"
      ],
      "execution_count": 66,
      "outputs": []
    },
    {
      "cell_type": "code",
      "metadata": {
        "id": "ALgvBsM2MxUZ",
        "outputId": "f86add8d-2738-40dc-d731-7da91cf5ad3e",
        "colab": {
          "base_uri": "https://localhost:8080/",
          "height": 206
        }
      },
      "source": [
        "all_frame_en[\"text_len\"] = all_frame_en.text_cleaned.apply(lambda x: len(x))\n",
        "all_frame_en[\"words_len\"] = all_frame_en.text_cleaned.apply(lambda x: len(x.split()))\n",
        "all_frame_en.sort_values(\"text_len\",ascending=False).head()"
      ],
      "execution_count": 67,
      "outputs": [
        {
          "output_type": "execute_result",
          "data": {
            "text/html": [
              "<div>\n",
              "<style scoped>\n",
              "    .dataframe tbody tr th:only-of-type {\n",
              "        vertical-align: middle;\n",
              "    }\n",
              "\n",
              "    .dataframe tbody tr th {\n",
              "        vertical-align: top;\n",
              "    }\n",
              "\n",
              "    .dataframe thead th {\n",
              "        text-align: right;\n",
              "    }\n",
              "</style>\n",
              "<table border=\"1\" class=\"dataframe\">\n",
              "  <thead>\n",
              "    <tr style=\"text-align: right;\">\n",
              "      <th></th>\n",
              "      <th>text</th>\n",
              "      <th>comp_type</th>\n",
              "      <th>text_cleaned</th>\n",
              "      <th>compid</th>\n",
              "      <th>language</th>\n",
              "      <th>Rela_language</th>\n",
              "      <th>text_len</th>\n",
              "      <th>words_len</th>\n",
              "    </tr>\n",
              "  </thead>\n",
              "  <tbody>\n",
              "    <tr>\n",
              "      <th>592</th>\n",
              "      <td>Home Suppliers Site Map Contact Us Automotive ...</td>\n",
              "      <td>P</td>\n",
              "      <td>home suppliers site map contact us automotive ...</td>\n",
              "      <td>143</td>\n",
              "      <td>en</td>\n",
              "      <td>True</td>\n",
              "      <td>16065268</td>\n",
              "      <td>4806695</td>\n",
              "    </tr>\n",
              "    <tr>\n",
              "      <th>886</th>\n",
              "      <td>Subscriptions Log in to FlowSelex Select Langu...</td>\n",
              "      <td>P</td>\n",
              "      <td>subscriptions log flowselex select language en...</td>\n",
              "      <td>604</td>\n",
              "      <td>en</td>\n",
              "      <td>True</td>\n",
              "      <td>10026805</td>\n",
              "      <td>2897832</td>\n",
              "    </tr>\n",
              "    <tr>\n",
              "      <th>709</th>\n",
              "      <td>LSI.com is no longer optimized for IE6. Please...</td>\n",
              "      <td>P</td>\n",
              "      <td>lsi com longer optimized ie   please upgrade b...</td>\n",
              "      <td>861</td>\n",
              "      <td>en</td>\n",
              "      <td>True</td>\n",
              "      <td>7854029</td>\n",
              "      <td>2289538</td>\n",
              "    </tr>\n",
              "    <tr>\n",
              "      <th>660</th>\n",
              "      <td>RSS Feb 1, 2011 Silver Dragon Reports ~10.2M o...</td>\n",
              "      <td>P</td>\n",
              "      <td>rss feb         silver dragon reports      m o...</td>\n",
              "      <td>7678</td>\n",
              "      <td>en</td>\n",
              "      <td>True</td>\n",
              "      <td>5834470</td>\n",
              "      <td>1749186</td>\n",
              "    </tr>\n",
              "    <tr>\n",
              "      <th>797</th>\n",
              "      <td>Home | Ag Services | Farm Brokerage | Customer...</td>\n",
              "      <td>P</td>\n",
              "      <td>home   ag services   farm brokerage   customer...</td>\n",
              "      <td>2268</td>\n",
              "      <td>en</td>\n",
              "      <td>True</td>\n",
              "      <td>5508864</td>\n",
              "      <td>1598096</td>\n",
              "    </tr>\n",
              "  </tbody>\n",
              "</table>\n",
              "</div>"
            ],
            "text/plain": [
              "                                                  text  ... words_len\n",
              "592  Home Suppliers Site Map Contact Us Automotive ...  ...   4806695\n",
              "886  Subscriptions Log in to FlowSelex Select Langu...  ...   2897832\n",
              "709  LSI.com is no longer optimized for IE6. Please...  ...   2289538\n",
              "660  RSS Feb 1, 2011 Silver Dragon Reports ~10.2M o...  ...   1749186\n",
              "797  Home | Ag Services | Farm Brokerage | Customer...  ...   1598096\n",
              "\n",
              "[5 rows x 8 columns]"
            ]
          },
          "metadata": {
            "tags": []
          },
          "execution_count": 67
        }
      ]
    },
    {
      "cell_type": "markdown",
      "metadata": {
        "id": "7kHvOFPJNxup"
      },
      "source": [
        "## Informative columns"
      ]
    },
    {
      "cell_type": "markdown",
      "metadata": {
        "id": "DxF1AtIejIAJ"
      },
      "source": [
        "The following are some dicts to go from code to indices, website and so on."
      ]
    },
    {
      "cell_type": "code",
      "metadata": {
        "id": "Fx3Mr_oBMrRM"
      },
      "source": [
        "startup_code_to_name = {}\n",
        "startup_code_to_website = {}\n",
        "public_code_to_name = {}\n",
        "public_code_to_website = {}\n",
        "\n",
        "for p in startup_paths:\n",
        "  n = int(p.name.split(\"_\")[0])\n",
        "  startup_code_to_name[n] = df_startups_unique[df_startups_unique.portfoliocompanyid==n].iloc[0].portfoliocompany\n",
        "  startup_code_to_website[n] = df_startups_unique[df_startups_unique.portfoliocompanyid==n].iloc[0].website\n",
        "\n",
        "for p in public_paths:\n",
        "  n = str(p.name.split(\"_\")[0])\n",
        "  public_code_to_name[n] = df_public_unique[df_public_unique[\"ÿþmark\"]==n].iloc[0].companyname\n",
        "  public_code_to_website[n] = df_public_unique[df_public_unique[\"ÿþmark\"]==n].iloc[0].websiteaddress\n"
      ],
      "execution_count": 68,
      "outputs": []
    },
    {
      "cell_type": "code",
      "metadata": {
        "id": "VkuKK5AIXX2K"
      },
      "source": [
        "startup_code_to_info = df_startups_unique.set_index(\"portfoliocompanyid\").background.to_dict()\n",
        "public_code_to_info = df_public_unique.set_index(\"ÿþmark\").descriptionandhistory.to_dict()"
      ],
      "execution_count": 69,
      "outputs": []
    },
    {
      "cell_type": "code",
      "metadata": {
        "id": "P5-zQ067OAZw",
        "outputId": "69b6b70b-aa94-4d4a-d4f6-2199d1132641",
        "colab": {
          "base_uri": "https://localhost:8080/",
          "height": 293
        }
      },
      "source": [
        "all_frame_en.loc[all_frame_en.comp_type==\"S\",\"website\"] = all_frame_en[all_frame_en.comp_type==\"S\"].compid.astype(int).map(startup_code_to_website)\n",
        "all_frame_en.loc[all_frame_en.comp_type==\"S\",\"name\"] = all_frame_en[all_frame_en.comp_type==\"S\"].compid.astype(int).map(startup_code_to_name)\n",
        "all_frame_en.loc[all_frame_en.comp_type==\"S\",\"info\"] = all_frame_en[all_frame_en.comp_type==\"S\"].compid.astype(int).map(startup_code_to_info)\n",
        "\n",
        "all_frame_en.loc[all_frame_en.comp_type==\"P\",\"website\"] = all_frame_en[all_frame_en.comp_type==\"P\"].compid.astype(str).map(public_code_to_website)\n",
        "all_frame_en.loc[all_frame_en.comp_type==\"P\",\"name\"] = all_frame_en[all_frame_en.comp_type==\"P\"].compid.astype(str).map(public_code_to_name)\n",
        "all_frame_en.loc[all_frame_en.comp_type==\"P\",\"info\"] = all_frame_en[all_frame_en.comp_type==\"P\"].compid.astype(str).map(public_code_to_info)\n",
        "all_frame_en.head()"
      ],
      "execution_count": 70,
      "outputs": [
        {
          "output_type": "execute_result",
          "data": {
            "text/html": [
              "<div>\n",
              "<style scoped>\n",
              "    .dataframe tbody tr th:only-of-type {\n",
              "        vertical-align: middle;\n",
              "    }\n",
              "\n",
              "    .dataframe tbody tr th {\n",
              "        vertical-align: top;\n",
              "    }\n",
              "\n",
              "    .dataframe thead th {\n",
              "        text-align: right;\n",
              "    }\n",
              "</style>\n",
              "<table border=\"1\" class=\"dataframe\">\n",
              "  <thead>\n",
              "    <tr style=\"text-align: right;\">\n",
              "      <th></th>\n",
              "      <th>text</th>\n",
              "      <th>comp_type</th>\n",
              "      <th>text_cleaned</th>\n",
              "      <th>compid</th>\n",
              "      <th>language</th>\n",
              "      <th>Rela_language</th>\n",
              "      <th>text_len</th>\n",
              "      <th>words_len</th>\n",
              "      <th>website</th>\n",
              "      <th>name</th>\n",
              "      <th>info</th>\n",
              "    </tr>\n",
              "  </thead>\n",
              "  <tbody>\n",
              "    <tr>\n",
              "      <th>0</th>\n",
              "      <td>JOOR Skip navigation Member Log In Forgot pass...</td>\n",
              "      <td>S</td>\n",
              "      <td>joor skip navigation member log forgot passwor...</td>\n",
              "      <td>73501</td>\n",
              "      <td>en</td>\n",
              "      <td>True</td>\n",
              "      <td>27748</td>\n",
              "      <td>3614</td>\n",
              "      <td>www.jooraccess.com</td>\n",
              "      <td>JOOR, Inc.</td>\n",
              "      <td>Founded in 2010 and based in New York, US, JOO...</td>\n",
              "    </tr>\n",
              "    <tr>\n",
              "      <th>1</th>\n",
              "      <td>Patients Physicians Employers Login Crossover ...</td>\n",
              "      <td>S</td>\n",
              "      <td>patients physicians employers login crossover ...</td>\n",
              "      <td>160418</td>\n",
              "      <td>en</td>\n",
              "      <td>True</td>\n",
              "      <td>489</td>\n",
              "      <td>66</td>\n",
              "      <td>www.crossoverhealth.com</td>\n",
              "      <td>Crossover Health Management Services, Inc.</td>\n",
              "      <td>Founded in 2010 and based in California, US, C...</td>\n",
              "    </tr>\n",
              "    <tr>\n",
              "      <th>2</th>\n",
              "      <td>Home | Recent questions | Directories | Feedba...</td>\n",
              "      <td>S</td>\n",
              "      <td>home   recent questions   directories   feedba...</td>\n",
              "      <td>161261</td>\n",
              "      <td>en</td>\n",
              "      <td>True</td>\n",
              "      <td>656</td>\n",
              "      <td>92</td>\n",
              "      <td>www.medwhat.com</td>\n",
              "      <td>Medwhat.com, Inc.</td>\n",
              "      <td>Established in 2010, based in California, US, ...</td>\n",
              "    </tr>\n",
              "    <tr>\n",
              "      <th>3</th>\n",
              "      <td>Nanotronics Home News Products What is nSpec ?...</td>\n",
              "      <td>S</td>\n",
              "      <td>nanotronics home news products nspec   system ...</td>\n",
              "      <td>129092</td>\n",
              "      <td>en</td>\n",
              "      <td>True</td>\n",
              "      <td>19264</td>\n",
              "      <td>2337</td>\n",
              "      <td>www.nanotronicsimaging.com</td>\n",
              "      <td>Nanotronics Imaging, Inc.</td>\n",
              "      <td>Founded in 2010 and based in New York, US, Nan...</td>\n",
              "    </tr>\n",
              "    <tr>\n",
              "      <th>4</th>\n",
              "      <td>Home About Us Our Approach Technology Our Cust...</td>\n",
              "      <td>S</td>\n",
              "      <td>home us approach technology customers contact ...</td>\n",
              "      <td>77179</td>\n",
              "      <td>en</td>\n",
              "      <td>True</td>\n",
              "      <td>1326</td>\n",
              "      <td>167</td>\n",
              "      <td>www.hello.getsidecar.com</td>\n",
              "      <td>Sidecar Interactive, Inc.</td>\n",
              "      <td>Established in 2010 and based in Philadelphia,...</td>\n",
              "    </tr>\n",
              "  </tbody>\n",
              "</table>\n",
              "</div>"
            ],
            "text/plain": [
              "                                                text  ...                                               info\n",
              "0  JOOR Skip navigation Member Log In Forgot pass...  ...  Founded in 2010 and based in New York, US, JOO...\n",
              "1  Patients Physicians Employers Login Crossover ...  ...  Founded in 2010 and based in California, US, C...\n",
              "2  Home | Recent questions | Directories | Feedba...  ...  Established in 2010, based in California, US, ...\n",
              "3  Nanotronics Home News Products What is nSpec ?...  ...  Founded in 2010 and based in New York, US, Nan...\n",
              "4  Home About Us Our Approach Technology Our Cust...  ...  Established in 2010 and based in Philadelphia,...\n",
              "\n",
              "[5 rows x 11 columns]"
            ]
          },
          "metadata": {
            "tags": []
          },
          "execution_count": 70
        }
      ]
    },
    {
      "cell_type": "markdown",
      "metadata": {
        "id": "WMLgo8LFN9J6"
      },
      "source": [
        "## NLP with word2vec"
      ]
    },
    {
      "cell_type": "code",
      "metadata": {
        "id": "PTjZG5nFCvBS"
      },
      "source": [
        "nlp = spacy.load(\"en_core_web_lg\", disable=[\"tagger\", \"parser\", \"ner\"])"
      ],
      "execution_count": 71,
      "outputs": []
    },
    {
      "cell_type": "markdown",
      "metadata": {
        "id": "zlseXF0tjMXo"
      },
      "source": [
        "Go from documents to vectors using the pretrained model. \n",
        "\n",
        "Word2vect has a limit on the maximum number of characters allowed. If a text is larger than the allowed I am creating many vectors and then I take the average.\n"
      ]
    },
    {
      "cell_type": "code",
      "metadata": {
        "id": "O0IDNtgYCvBa"
      },
      "source": [
        "# word2vec has a max of 1000000 characters\n",
        "max_characters = 1000000\n",
        "docs_train = []\n",
        "\n",
        "for i,r in all_frame_en.iterrows():\n",
        "  doc_text = r.text_cleaned\n",
        "  text_len = len(doc_text)\n",
        "  num_of_vectors = math.ceil(text_len/max_characters)\n",
        "  v = np.zeros((300,1))\n",
        "  w = 0\n",
        "  for j in range(num_of_vectors):\n",
        "    small_text = doc_text[max_characters*(j):max_characters*(j+1)]\n",
        "    vec = nlp(small_text).vector\n",
        "    vec = vec.reshape(vec.shape[0],1)\n",
        "    v = np.sum( np.hstack((v,vec*len(small_text))),axis=1)\n",
        "    v = v.reshape((v.shape[0],1))\n",
        "    w += len(small_text)\n",
        "  v /= w\n",
        "  docs_train.append(v)"
      ],
      "execution_count": 72,
      "outputs": []
    },
    {
      "cell_type": "code",
      "metadata": {
        "id": "3P8FczDHPsV7",
        "outputId": "ee5b8524-dfff-419d-908a-3f54fa639e5d",
        "colab": {
          "base_uri": "https://localhost:8080/"
        }
      },
      "source": [
        "X_train = np.vstack([d.T for d in docs_train])\n",
        "X_train.shape"
      ],
      "execution_count": 73,
      "outputs": [
        {
          "output_type": "execute_result",
          "data": {
            "text/plain": [
              "(902, 300)"
            ]
          },
          "metadata": {
            "tags": []
          },
          "execution_count": 73
        }
      ]
    },
    {
      "cell_type": "code",
      "metadata": {
        "id": "R9F11BcsCvBe"
      },
      "source": [
        "def cos_sim(v1,v2):\n",
        "    return np.dot(v1.T,v2)/(np.sqrt( np.sum(np.dot(v1.T,v1)))*np.sqrt(np.sum(np.dot(v2.T,v2))))\n",
        "\n",
        "def similarity_to_all(vec):\n",
        "    similarities = np.asarray([cos_sim(vec, X_train[i]) for i in range(0,X_train.shape[0])])\n",
        "    similarities = similarities.reshape(similarities.shape[0],1)\n",
        "    return similarities\n",
        "\n",
        "def get_most_similar(sim_matrix_v, startup_index, how_many=1):\n",
        "  sim_matrix_copy = sim_matrix_v.copy()\n",
        "  v = sim_matrix_copy[startup_index,:]\n",
        "  v[startup_index] = 0\n",
        "  most_similar_indices = []\n",
        "  similarity_list = []\n",
        "  for i in range(how_many):\n",
        "    ind = np.argmax(v)\n",
        "    similarity = np.max(v)\n",
        "    v[ind] = 0\n",
        "    most_similar_indices.append(ind)\n",
        "    similarity_list.append(similarity)\n",
        "  return most_similar_indices, similarity_list"
      ],
      "execution_count": 74,
      "outputs": []
    },
    {
      "cell_type": "code",
      "metadata": {
        "id": "YquKaK1eCvBr",
        "outputId": "ca26d67f-d066-4b45-ac50-61ef1b73f508",
        "colab": {
          "base_uri": "https://localhost:8080/"
        }
      },
      "source": [
        "cos_sim(X_train[0],X_train[1])"
      ],
      "execution_count": 75,
      "outputs": [
        {
          "output_type": "execute_result",
          "data": {
            "text/plain": [
              "0.9026528357083603"
            ]
          },
          "metadata": {
            "tags": []
          },
          "execution_count": 75
        }
      ]
    },
    {
      "cell_type": "code",
      "metadata": {
        "id": "4-gFdndLCvBx",
        "outputId": "4466d015-05a1-4acd-8531-bfa0e2660089",
        "colab": {
          "base_uri": "https://localhost:8080/"
        }
      },
      "source": [
        "similarity_to_all(X_train[0]).shape"
      ],
      "execution_count": 76,
      "outputs": [
        {
          "output_type": "execute_result",
          "data": {
            "text/plain": [
              "(902, 1)"
            ]
          },
          "metadata": {
            "tags": []
          },
          "execution_count": 76
        }
      ]
    },
    {
      "cell_type": "markdown",
      "metadata": {
        "id": "krHFVE5QjfPB"
      },
      "source": [
        "This is the matrix with the similarity between all startups."
      ]
    },
    {
      "cell_type": "code",
      "metadata": {
        "id": "rtENQdZQCvB5",
        "outputId": "e30e8328-ccd6-4d65-af27-d0d28d23f22a",
        "colab": {
          "base_uri": "https://localhost:8080/"
        }
      },
      "source": [
        "sim_vect = []\n",
        "for i in range(0,X_train.shape[0]):\n",
        "    sim_vect.append(similarity_to_all(X_train[i]))\n",
        "sim_matrix = np.hstack(sim_vect)\n",
        "sim_matrix"
      ],
      "execution_count": 77,
      "outputs": [
        {
          "output_type": "execute_result",
          "data": {
            "text/plain": [
              "array([[1.        , 0.90265284, 0.92210691, ..., 0.88866732, 0.88491462,\n",
              "        0.83882375],\n",
              "       [0.90265284, 1.        , 0.89521577, ..., 0.83928689, 0.86952002,\n",
              "        0.8244992 ],\n",
              "       [0.92210691, 0.89521577, 1.        , ..., 0.85628396, 0.83364919,\n",
              "        0.79175202],\n",
              "       ...,\n",
              "       [0.88866732, 0.83928689, 0.85628396, ..., 1.        , 0.84989794,\n",
              "        0.85579738],\n",
              "       [0.88491462, 0.86952002, 0.83364919, ..., 0.84989794, 1.        ,\n",
              "        0.8696521 ],\n",
              "       [0.83882375, 0.8244992 , 0.79175202, ..., 0.85579738, 0.8696521 ,\n",
              "        1.        ]])"
            ]
          },
          "metadata": {
            "tags": []
          },
          "execution_count": 77
        }
      ]
    },
    {
      "cell_type": "code",
      "metadata": {
        "id": "LEtXZCcOINi1",
        "outputId": "a5251a84-6f7c-4a88-a04d-8c60dbf3bdae",
        "colab": {
          "base_uri": "https://localhost:8080/"
        }
      },
      "source": [
        "np.mean(sim_matrix[0]),np.min(sim_matrix[0])"
      ],
      "execution_count": 78,
      "outputs": [
        {
          "output_type": "execute_result",
          "data": {
            "text/plain": [
              "(0.8336655301845008, 0.10433832217566776)"
            ]
          },
          "metadata": {
            "tags": []
          },
          "execution_count": 78
        }
      ]
    },
    {
      "cell_type": "markdown",
      "metadata": {
        "id": "YHzgMdSRjkA2"
      },
      "source": [
        "## Run an example to see the most similar startups of a company"
      ]
    },
    {
      "cell_type": "code",
      "metadata": {
        "id": "hj_SAUIVZZ96"
      },
      "source": [
        "def background_text(t, line_len,line_num):\n",
        "  b = [t[j*line_len:(j+1)*line_len] for j in range(line_num)]\n",
        "  b = \"\\n\".join([c for c in b if c!=\"\"])\n",
        "  if len(t)>line_len*line_num:\n",
        "    b+=\"...\"\n",
        "  return b"
      ],
      "execution_count": 79,
      "outputs": []
    },
    {
      "cell_type": "code",
      "metadata": {
        "id": "HU_HoO7wbGsB",
        "outputId": "3d4d7b4d-ff78-4b8a-d753-db48f5156820",
        "colab": {
          "base_uri": "https://localhost:8080/"
        }
      },
      "source": [
        "example_index = random.randint(0,all_frame_en.shape[0]-1)\n",
        "n = 5\n",
        "most_similar_index,most_similar_similarity = get_most_similar(sim_matrix, example_index, n)\n",
        "line_len = 100\n",
        "line_num = 4\n",
        "\n",
        "print(f\"Example company ({all_frame_en.loc[example_index].comp_type}): {all_frame_en.loc[example_index].website}\")\n",
        "print(background_text(all_frame_en.loc[example_index].info,line_len,line_num))\n",
        "print(\"-----------------------------------------------------------------\")\n",
        "print(\"Similar companies:\")\n",
        "for i in range(n):\n",
        "  print(f\"{i+1}): {all_frame_en.loc[most_similar_index[i]].website} ({all_frame_en.loc[most_similar_index[i]].comp_type})  |   Similarity: {most_similar_similarity[i]}\")\n",
        "  background = all_frame_en.loc[most_similar_index[i]].info\n",
        "  background = background_text(background, line_len, line_num)\n",
        "  print(background)\n",
        "  print(\"\")\n"
      ],
      "execution_count": 80,
      "outputs": [
        {
          "output_type": "stream",
          "text": [
            "Example company (P): www.aeroflex.com\n",
            "Aeroflex Holding Corp. (Aeroflex Holding), incorporated on May 9, 2005, is a provider of radio frequ\n",
            "ency (RF) and microwave integrated circuits, components and systems used in the design, development \n",
            "and maintenance of wireless communication systems. The Company's solutions include microelectronic c\n",
            "omponents and test and measurement equipment used by companies in the space, avionics and defense; c...\n",
            "-----------------------------------------------------------------\n",
            "Similar companies:\n",
            "1): www.cifc.com (P)  |   Similarity: 0.9553968220863334\n",
            "The Company is a real estate investment trust.\n",
            "\n",
            "2): www.alliedwaste.com (P)  |   Similarity: 0.9494804556386659\n",
            "Allied Waste Industries, Inc. (Allied), incorporated in 1989, is a non-hazardous, solid waste manage\n",
            "ment company. The Company provides collection, transfer, recycling and disposal services for more th\n",
            "an eight million residential, commercial and industrial customers. Allied serves its customers throu\n",
            "gh a network of 291 collection companies, 161 transfer stations, 161 active landfills and 53 recycli...\n",
            "\n",
            "3): www.flexshopper.com (P)  |   Similarity: 0.9458421003176712\n",
            "FlexShopper, Inc., incorporated on August 16, 2006, is a holding company that conducts business thro\n",
            "ugh its subsidiary, FlexShopper, LLC. The Company is a financial technology company that enables con\n",
            "sumers to utilize its e-commerce marketplace to shop for brand name electronics, home furnishings an\n",
            "d other durable goods on a lease-to-own (LTO) basis.   The product categories include electronics, t...\n",
            "\n",
            "4): www.americanfunds.com (P)  |   Similarity: 0.9455276801868576\n",
            "\n",
            "\n",
            "5): www.capitalgroup.com (P)  |   Similarity: 0.9414841302852983\n",
            "\n",
            "\n"
          ],
          "name": "stdout"
        }
      ]
    },
    {
      "cell_type": "markdown",
      "metadata": {
        "id": "n9f2JQT9jypw"
      },
      "source": [
        "# Strategy score"
      ]
    },
    {
      "cell_type": "markdown",
      "metadata": {
        "id": "K0ztQaxokAvz"
      },
      "source": [
        "These functions should compute the strategy score used in the paper."
      ]
    },
    {
      "cell_type": "code",
      "metadata": {
        "id": "ErY44wE5fSuj"
      },
      "source": [
        "def compute_strategy_score(similarity_list):\n",
        "  distance_list = [1-x for x in similarity_list]\n",
        "  return (1.0/len(distance_list))*np.sum(distance_list)\n",
        "\n",
        "def get_similarity_score(ind):\n",
        "  ms_index,ms_similarity = get_most_similar(sim_matrix, ind, 5)\n",
        "  return compute_strategy_score(ms_similarity)"
      ],
      "execution_count": 81,
      "outputs": []
    },
    {
      "cell_type": "code",
      "metadata": {
        "id": "hf2ZAS1DcXLx"
      },
      "source": [
        "all_frame_en[\"score\"] = all_frame_en.index.to_series().apply(get_similarity_score)\n",
        "all_frame_en.sort_values(\"score\",ascending=False,inplace=True)\n",
        "startups_score = all_frame_en[all_frame_en.comp_type==\"S\"]"
      ],
      "execution_count": 97,
      "outputs": []
    },
    {
      "cell_type": "code",
      "metadata": {
        "id": "qvgIqDvJfaUr",
        "outputId": "ee89e000-9fcc-46b5-e13b-4fc6427196ee",
        "colab": {
          "base_uri": "https://localhost:8080/",
          "height": 293
        }
      },
      "source": [
        "startups_score.head()"
      ],
      "execution_count": 98,
      "outputs": [
        {
          "output_type": "execute_result",
          "data": {
            "text/html": [
              "<div>\n",
              "<style scoped>\n",
              "    .dataframe tbody tr th:only-of-type {\n",
              "        vertical-align: middle;\n",
              "    }\n",
              "\n",
              "    .dataframe tbody tr th {\n",
              "        vertical-align: top;\n",
              "    }\n",
              "\n",
              "    .dataframe thead th {\n",
              "        text-align: right;\n",
              "    }\n",
              "</style>\n",
              "<table border=\"1\" class=\"dataframe\">\n",
              "  <thead>\n",
              "    <tr style=\"text-align: right;\">\n",
              "      <th></th>\n",
              "      <th>text</th>\n",
              "      <th>comp_type</th>\n",
              "      <th>text_cleaned</th>\n",
              "      <th>compid</th>\n",
              "      <th>language</th>\n",
              "      <th>Rela_language</th>\n",
              "      <th>text_len</th>\n",
              "      <th>words_len</th>\n",
              "      <th>website</th>\n",
              "      <th>name</th>\n",
              "      <th>info</th>\n",
              "      <th>score</th>\n",
              "    </tr>\n",
              "  </thead>\n",
              "  <tbody>\n",
              "    <tr>\n",
              "      <th>20</th>\n",
              "      <td>rel8tion Coming Soon copyright 2010 rel8tion, ...</td>\n",
              "      <td>S</td>\n",
              "      <td>rel tion coming soon copyright      rel tion  ...</td>\n",
              "      <td>75381</td>\n",
              "      <td>en</td>\n",
              "      <td>True</td>\n",
              "      <td>62</td>\n",
              "      <td>10</td>\n",
              "      <td>www.rel8tion.com</td>\n",
              "      <td>Rel8tion</td>\n",
              "      <td>Founded in 2010 and is based in Seattle, Washi...</td>\n",
              "      <td>0.290578</td>\n",
              "    </tr>\n",
              "    <tr>\n",
              "      <th>289</th>\n",
              "      <td>Please enter your E-mail Save Close Welcome ba...</td>\n",
              "      <td>S</td>\n",
              "      <td>please enter e mail save close welcome back vi...</td>\n",
              "      <td>103883</td>\n",
              "      <td>en</td>\n",
              "      <td>False</td>\n",
              "      <td>175872</td>\n",
              "      <td>22722</td>\n",
              "      <td>www.vivino.com</td>\n",
              "      <td>Vivino, Inc.</td>\n",
              "      <td>Founded in 2010 and based in California, US, V...</td>\n",
              "      <td>0.247564</td>\n",
              "    </tr>\n",
              "    <tr>\n",
              "      <th>45</th>\n",
              "      <td>| | | Sitemap 10Cookies 68 PT FAQ PT Copyright...</td>\n",
              "      <td>S</td>\n",
              "      <td>sitemap   cookies    pt faq pt copyright...</td>\n",
              "      <td>172978</td>\n",
              "      <td>en</td>\n",
              "      <td>True</td>\n",
              "      <td>101</td>\n",
              "      <td>13</td>\n",
              "      <td>www.ptmind.com</td>\n",
              "      <td>Ptmind Inc.</td>\n",
              "      <td>Founded in 2010 and based in Washington, US, P...</td>\n",
              "      <td>0.241406</td>\n",
              "    </tr>\n",
              "    <tr>\n",
              "      <th>370</th>\n",
              "      <td>Mobile Login Register for Free Invite friends ...</td>\n",
              "      <td>S</td>\n",
              "      <td>mobile login register free invite friends beta...</td>\n",
              "      <td>120176</td>\n",
              "      <td>en</td>\n",
              "      <td>False</td>\n",
              "      <td>7868</td>\n",
              "      <td>1020</td>\n",
              "      <td>www.letshum.com</td>\n",
              "      <td>Hum</td>\n",
              "      <td>Founded in 2010 and based in California, US, H...</td>\n",
              "      <td>0.238755</td>\n",
              "    </tr>\n",
              "    <tr>\n",
              "      <th>299</th>\n",
              "      <td>DIRT BIKES Dirt Bike Gear Dirt Bike Parts Top ...</td>\n",
              "      <td>S</td>\n",
              "      <td>dirt bikes dirt bike gear dirt bike parts top ...</td>\n",
              "      <td>112592</td>\n",
              "      <td>en</td>\n",
              "      <td>True</td>\n",
              "      <td>346</td>\n",
              "      <td>49</td>\n",
              "      <td>www.jumpbikes.com</td>\n",
              "      <td>Social Bicycles, Inc.</td>\n",
              "      <td>Founded in 2010 and based in New York, US, Soc...</td>\n",
              "      <td>0.233409</td>\n",
              "    </tr>\n",
              "  </tbody>\n",
              "</table>\n",
              "</div>"
            ],
            "text/plain": [
              "                                                  text  ...     score\n",
              "20   rel8tion Coming Soon copyright 2010 rel8tion, ...  ...  0.290578\n",
              "289  Please enter your E-mail Save Close Welcome ba...  ...  0.247564\n",
              "45   | | | Sitemap 10Cookies 68 PT FAQ PT Copyright...  ...  0.241406\n",
              "370  Mobile Login Register for Free Invite friends ...  ...  0.238755\n",
              "299  DIRT BIKES Dirt Bike Gear Dirt Bike Parts Top ...  ...  0.233409\n",
              "\n",
              "[5 rows x 12 columns]"
            ]
          },
          "metadata": {
            "tags": []
          },
          "execution_count": 98
        }
      ]
    },
    {
      "cell_type": "markdown",
      "metadata": {
        "id": "XHRFph9Cg9N6"
      },
      "source": [
        "## Startups with the best score"
      ]
    },
    {
      "cell_type": "code",
      "metadata": {
        "id": "clwNm5hZgayg",
        "outputId": "27705b68-be9a-49a4-f0ef-f52bdbb1ee15",
        "colab": {
          "base_uri": "https://localhost:8080/"
        }
      },
      "source": [
        "n =10\n",
        "for i in range(n):\n",
        "  print(f\"{i+1}): {startups_score.iloc[i].website} |   Score: {startups_score.iloc[i].score}\")\n",
        "  print(background_text(startups_score.iloc[i].info, line_len, line_num), end=\"\\n\\n\")"
      ],
      "execution_count": 101,
      "outputs": [
        {
          "output_type": "stream",
          "text": [
            "1): www.rel8tion.com |   Score: 0.2905777420454519\n",
            "Founded in 2010 and is based in Seattle, Washington, Rel8tion is a mobile advertising company, provi\n",
            "des hyperlocal mobile advertising technology.\n",
            "\n",
            "2): www.vivino.com |   Score: 0.24756376950653555\n",
            "Founded in 2010 and based in California, US, Vivino, Inc. operates an online marketplace which offer\n",
            "s wines.\n",
            "\n",
            "3): www.ptmind.com |   Score: 0.2414055139165946\n",
            "Founded in 2010 and based in Washington, US, Ptmind Inc. develops and owns a heatmap and web analyti\n",
            "cs platform. The company's products are Ptengine and DataDeck that help businesses share, organize, \n",
            "optimize and visualize their data in real-time.\n",
            "\n",
            "4): www.letshum.com |   Score: 0.23875489117615364\n",
            "Founded in 2010 and based in California, US, Hum operates as a email and chat application focused on\n",
            " real-time conversation and presence.\n",
            "\n",
            "5): www.jumpbikes.com |   Score: 0.23340909626911388\n",
            "Founded in 2010 and based in New York, US, Social Bicycles, Inc., doing business as JUMP Bikes, prov\n",
            "ides a dockless e-bike sharing system that allows its users to have access to their e-bikes using a \n",
            "mobile application.\n",
            "\n",
            "6): www.bifflabs.com |   Score: 0.22008426115107493\n",
            "Founded in 2010, Spindle Labs, formerly knwon as Biff Labs, Inc. develops mobile software. The compa\n",
            "ny provides solution for structuring social data.\n",
            "\n",
            "7): www.4me.com |   Score: 0.20366356869253172\n",
            "Founded in 2010 and based in California, US, 4me, Inc. operates as a developer of enterprise managem\n",
            "ent platform that enables organizations to collaborate and manage their service providers and gainin\n",
            "g real-time insights of their service levels.\n",
            "\n",
            "8): www.yesware.com |   Score: 0.1938086853392787\n",
            "Founded in 2010 and based in Massachusetts, US, Yesware, Inc. is a provider of email services that o\n",
            "rganize inboxes, track conversations, pop reminders of pending requests, reduce data entry and provi\n",
            "de real-time research on correspondents.\n",
            "\n",
            "9): www.bigswitch.com |   Score: 0.19176997616562683\n",
            "Founded in 2010 and based in California, US, Big Switch Networks, Inc. is a data networking company \n",
            "that provides data center switching, monitoring, visibility, and security solutions for businesses a\n",
            "nd organizations to increase operational efficiency and reduce networking costs.\n",
            "\n",
            "10): www.treatfeed.com |   Score: 0.19149199283983492\n",
            "Founded in 2010, based in Los Angeles, California, TreatFeed gives word-of-mouth rewards system, whi\n",
            "ch provide its members to earn redeemable points and cash for sharing deals and product info with th\n",
            "eir friends online.\n",
            "\n"
          ],
          "name": "stdout"
        }
      ]
    },
    {
      "cell_type": "code",
      "metadata": {
        "id": "c4ltieRwgwUg",
        "outputId": "30863a21-e5ab-49d8-9cc2-4aa4180b7755",
        "colab": {
          "base_uri": "https://localhost:8080/",
          "height": 363
        }
      },
      "source": [
        "n =10\n",
        "top_10 = pd.DataFrame({\"startup\":[],\"score\":[],\"background\":[]})\n",
        "for i in range(n):\n",
        "  website = startups_score.iloc[i].website\n",
        "  score = startups_score.iloc[i].score\n",
        "  top_10 = top_10.append({\"startup\":website,\"score\":score,\"background\":startups_score.iloc[i].info},ignore_index=True)\n",
        "\n",
        "top_10"
      ],
      "execution_count": 100,
      "outputs": [
        {
          "output_type": "execute_result",
          "data": {
            "text/html": [
              "<div>\n",
              "<style scoped>\n",
              "    .dataframe tbody tr th:only-of-type {\n",
              "        vertical-align: middle;\n",
              "    }\n",
              "\n",
              "    .dataframe tbody tr th {\n",
              "        vertical-align: top;\n",
              "    }\n",
              "\n",
              "    .dataframe thead th {\n",
              "        text-align: right;\n",
              "    }\n",
              "</style>\n",
              "<table border=\"1\" class=\"dataframe\">\n",
              "  <thead>\n",
              "    <tr style=\"text-align: right;\">\n",
              "      <th></th>\n",
              "      <th>startup</th>\n",
              "      <th>score</th>\n",
              "      <th>background</th>\n",
              "    </tr>\n",
              "  </thead>\n",
              "  <tbody>\n",
              "    <tr>\n",
              "      <th>0</th>\n",
              "      <td>www.rel8tion.com</td>\n",
              "      <td>0.290578</td>\n",
              "      <td>Founded in 2010 and is based in Seattle, Washi...</td>\n",
              "    </tr>\n",
              "    <tr>\n",
              "      <th>1</th>\n",
              "      <td>www.vivino.com</td>\n",
              "      <td>0.247564</td>\n",
              "      <td>Founded in 2010 and based in California, US, V...</td>\n",
              "    </tr>\n",
              "    <tr>\n",
              "      <th>2</th>\n",
              "      <td>www.ptmind.com</td>\n",
              "      <td>0.241406</td>\n",
              "      <td>Founded in 2010 and based in Washington, US, P...</td>\n",
              "    </tr>\n",
              "    <tr>\n",
              "      <th>3</th>\n",
              "      <td>www.letshum.com</td>\n",
              "      <td>0.238755</td>\n",
              "      <td>Founded in 2010 and based in California, US, H...</td>\n",
              "    </tr>\n",
              "    <tr>\n",
              "      <th>4</th>\n",
              "      <td>www.jumpbikes.com</td>\n",
              "      <td>0.233409</td>\n",
              "      <td>Founded in 2010 and based in New York, US, Soc...</td>\n",
              "    </tr>\n",
              "    <tr>\n",
              "      <th>5</th>\n",
              "      <td>www.bifflabs.com</td>\n",
              "      <td>0.220084</td>\n",
              "      <td>Founded in 2010, Spindle Labs, formerly knwon ...</td>\n",
              "    </tr>\n",
              "    <tr>\n",
              "      <th>6</th>\n",
              "      <td>www.4me.com</td>\n",
              "      <td>0.203664</td>\n",
              "      <td>Founded in 2010 and based in California, US, 4...</td>\n",
              "    </tr>\n",
              "    <tr>\n",
              "      <th>7</th>\n",
              "      <td>www.yesware.com</td>\n",
              "      <td>0.193809</td>\n",
              "      <td>Founded in 2010 and based in Massachusetts, US...</td>\n",
              "    </tr>\n",
              "    <tr>\n",
              "      <th>8</th>\n",
              "      <td>www.bigswitch.com</td>\n",
              "      <td>0.191770</td>\n",
              "      <td>Founded in 2010 and based in California, US, B...</td>\n",
              "    </tr>\n",
              "    <tr>\n",
              "      <th>9</th>\n",
              "      <td>www.treatfeed.com</td>\n",
              "      <td>0.191492</td>\n",
              "      <td>Founded in 2010, based in Los Angeles, Califor...</td>\n",
              "    </tr>\n",
              "  </tbody>\n",
              "</table>\n",
              "</div>"
            ],
            "text/plain": [
              "             startup  ...                                         background\n",
              "0   www.rel8tion.com  ...  Founded in 2010 and is based in Seattle, Washi...\n",
              "1     www.vivino.com  ...  Founded in 2010 and based in California, US, V...\n",
              "2     www.ptmind.com  ...  Founded in 2010 and based in Washington, US, P...\n",
              "3    www.letshum.com  ...  Founded in 2010 and based in California, US, H...\n",
              "4  www.jumpbikes.com  ...  Founded in 2010 and based in New York, US, Soc...\n",
              "5   www.bifflabs.com  ...  Founded in 2010, Spindle Labs, formerly knwon ...\n",
              "6        www.4me.com  ...  Founded in 2010 and based in California, US, 4...\n",
              "7    www.yesware.com  ...  Founded in 2010 and based in Massachusetts, US...\n",
              "8  www.bigswitch.com  ...  Founded in 2010 and based in California, US, B...\n",
              "9  www.treatfeed.com  ...  Founded in 2010, based in Los Angeles, Califor...\n",
              "\n",
              "[10 rows x 3 columns]"
            ]
          },
          "metadata": {
            "tags": []
          },
          "execution_count": 100
        }
      ]
    },
    {
      "cell_type": "code",
      "metadata": {
        "id": "YMEIoLrGWKU8"
      },
      "source": [
        ""
      ],
      "execution_count": 92,
      "outputs": []
    }
  ]
}
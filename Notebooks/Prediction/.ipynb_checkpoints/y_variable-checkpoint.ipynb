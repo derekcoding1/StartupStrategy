{
 "cells": [
  {
   "cell_type": "markdown",
   "metadata": {},
   "source": [
    "# Dependent variable\n",
    "## all_deals.dta"
   ]
  },
  {
   "cell_type": "code",
   "execution_count": 1,
   "metadata": {},
   "outputs": [],
   "source": [
    "import pandas as pd\n",
    "import numpy as np\n",
    "import matplotlib.pyplot as plt\n",
    "\n",
    "%matplotlib inline"
   ]
  },
  {
   "cell_type": "code",
   "execution_count": 5,
   "metadata": {},
   "outputs": [],
   "source": [
    "# load data\n",
    "datadir = '/Users/liwangzhi/Documents/GitHub/StartupStrategy/data'\n",
    "data = pd.read_stata(datadir+\"/all_deals.dta\")\n",
    "data[\"dealdate\"] = pd.to_datetime(data.dealdate)"
   ]
  },
  {
   "cell_type": "code",
   "execution_count": 6,
   "metadata": {},
   "outputs": [
    {
     "name": "stdout",
     "output_type": "stream",
     "text": [
      "(72797, 45)\n"
     ]
    },
    {
     "data": {
      "text/html": [
       "<div>\n",
       "<style scoped>\n",
       "    .dataframe tbody tr th:only-of-type {\n",
       "        vertical-align: middle;\n",
       "    }\n",
       "\n",
       "    .dataframe tbody tr th {\n",
       "        vertical-align: top;\n",
       "    }\n",
       "\n",
       "    .dataframe thead th {\n",
       "        text-align: right;\n",
       "    }\n",
       "</style>\n",
       "<table border=\"1\" class=\"dataframe\">\n",
       "  <thead>\n",
       "    <tr style=\"text-align: right;\">\n",
       "      <th></th>\n",
       "      <th>portfoliocompanyid</th>\n",
       "      <th>website</th>\n",
       "      <th>dealid</th>\n",
       "      <th>portfoliocompany</th>\n",
       "      <th>background</th>\n",
       "      <th>investorsbuyersfirms</th>\n",
       "      <th>portfoliocompanycountry</th>\n",
       "      <th>dealdescription</th>\n",
       "      <th>stage</th>\n",
       "      <th>dealdate</th>\n",
       "      <th>...</th>\n",
       "      <th>dealsizeeurmn</th>\n",
       "      <th>acquiredshare</th>\n",
       "      <th>financialadvisorsbuyers</th>\n",
       "      <th>financialadvisorssellers</th>\n",
       "      <th>legaladvisorsbuyers</th>\n",
       "      <th>legaladvisorssellers</th>\n",
       "      <th>has_no_background</th>\n",
       "      <th>incyear</th>\n",
       "      <th>_merge</th>\n",
       "      <th>has_website</th>\n",
       "    </tr>\n",
       "  </thead>\n",
       "  <tbody>\n",
       "    <tr>\n",
       "      <th>0</th>\n",
       "      <td>26178</td>\n",
       "      <td>www.barracuda.com</td>\n",
       "      <td>V114584</td>\n",
       "      <td>Barracuda Networks, Inc.</td>\n",
       "      <td>Founded in 2002 and based in California, Unite...</td>\n",
       "      <td>Focus Ventures</td>\n",
       "      <td>US</td>\n",
       "      <td>In September 2006, Barracuda Networks, Inc. ra...</td>\n",
       "      <td>Series D/Round 4</td>\n",
       "      <td>2006-09-26</td>\n",
       "      <td>...</td>\n",
       "      <td>NaN</td>\n",
       "      <td>NaN</td>\n",
       "      <td></td>\n",
       "      <td></td>\n",
       "      <td></td>\n",
       "      <td></td>\n",
       "      <td>0</td>\n",
       "      <td>2002</td>\n",
       "      <td>matched (3)</td>\n",
       "      <td>1</td>\n",
       "    </tr>\n",
       "    <tr>\n",
       "      <th>1</th>\n",
       "      <td>26580</td>\n",
       "      <td>www.fleetcor.com</td>\n",
       "      <td>V18681</td>\n",
       "      <td>FleetCor Technologies, Inc.</td>\n",
       "      <td>Founded in 2000 and based in Georgia, US, Flee...</td>\n",
       "      <td>Bain Capital</td>\n",
       "      <td>US</td>\n",
       "      <td>In June 2005, FleetCor Technologies raised USD...</td>\n",
       "      <td>Series D/Round 4</td>\n",
       "      <td>2005-06-01</td>\n",
       "      <td>...</td>\n",
       "      <td>67.33</td>\n",
       "      <td>NaN</td>\n",
       "      <td></td>\n",
       "      <td></td>\n",
       "      <td></td>\n",
       "      <td></td>\n",
       "      <td>0</td>\n",
       "      <td>2000</td>\n",
       "      <td>matched (3)</td>\n",
       "      <td>1</td>\n",
       "    </tr>\n",
       "    <tr>\n",
       "      <th>2</th>\n",
       "      <td>26635</td>\n",
       "      <td>www.leafgroup.com</td>\n",
       "      <td>V4520</td>\n",
       "      <td>Leaf Group Ltd.</td>\n",
       "      <td>Founded in 2006 and based in California, US, L...</td>\n",
       "      <td>Oak Investment Partners, Generation Partners, ...</td>\n",
       "      <td>US</td>\n",
       "      <td>In March 2008, returning investors 3i, Generat...</td>\n",
       "      <td>Series D/Round 4</td>\n",
       "      <td>2008-03-24</td>\n",
       "      <td>...</td>\n",
       "      <td>31.42</td>\n",
       "      <td>NaN</td>\n",
       "      <td></td>\n",
       "      <td></td>\n",
       "      <td></td>\n",
       "      <td></td>\n",
       "      <td>0</td>\n",
       "      <td>2006</td>\n",
       "      <td>matched (3)</td>\n",
       "      <td>1</td>\n",
       "    </tr>\n",
       "    <tr>\n",
       "      <th>3</th>\n",
       "      <td>26957</td>\n",
       "      <td>www.sawayasegalas.com</td>\n",
       "      <td>V9012</td>\n",
       "      <td>Sawaya Segalas &amp; Co.</td>\n",
       "      <td>Founded in 2001 and based in New York, United ...</td>\n",
       "      <td>VOSS of Norway ASA, Centra Capital, Juggernaut...</td>\n",
       "      <td>US</td>\n",
       "      <td>In August 2011, Sawaya Segalas &amp; Co. raised US...</td>\n",
       "      <td>Growth Capital/Expansion</td>\n",
       "      <td>2011-08-03</td>\n",
       "      <td>...</td>\n",
       "      <td>16.16</td>\n",
       "      <td>NaN</td>\n",
       "      <td></td>\n",
       "      <td></td>\n",
       "      <td></td>\n",
       "      <td></td>\n",
       "      <td>0</td>\n",
       "      <td>2001</td>\n",
       "      <td>matched (3)</td>\n",
       "      <td>1</td>\n",
       "    </tr>\n",
       "    <tr>\n",
       "      <th>4</th>\n",
       "      <td>28167</td>\n",
       "      <td>www.activeinterestmedia.com</td>\n",
       "      <td>V213946</td>\n",
       "      <td>Active Interest Media Inc.</td>\n",
       "      <td>Founded in 2003 and based in Colorado, US, Act...</td>\n",
       "      <td>Pocket Outdoor Media, Inc., Zone 5 Ventures</td>\n",
       "      <td>US</td>\n",
       "      <td>In June 2020, Pocket Outdoor Media, Inc., a po...</td>\n",
       "      <td>Add-on</td>\n",
       "      <td>2020-06-30</td>\n",
       "      <td>...</td>\n",
       "      <td>NaN</td>\n",
       "      <td>NaN</td>\n",
       "      <td></td>\n",
       "      <td></td>\n",
       "      <td></td>\n",
       "      <td></td>\n",
       "      <td>0</td>\n",
       "      <td>2003</td>\n",
       "      <td>matched (3)</td>\n",
       "      <td>1</td>\n",
       "    </tr>\n",
       "  </tbody>\n",
       "</table>\n",
       "<p>5 rows × 45 columns</p>\n",
       "</div>"
      ],
      "text/plain": [
       "   portfoliocompanyid                      website   dealid  \\\n",
       "0               26178            www.barracuda.com  V114584   \n",
       "1               26580             www.fleetcor.com   V18681   \n",
       "2               26635            www.leafgroup.com    V4520   \n",
       "3               26957        www.sawayasegalas.com    V9012   \n",
       "4               28167  www.activeinterestmedia.com  V213946   \n",
       "\n",
       "              portfoliocompany  \\\n",
       "0     Barracuda Networks, Inc.   \n",
       "1  FleetCor Technologies, Inc.   \n",
       "2              Leaf Group Ltd.   \n",
       "3         Sawaya Segalas & Co.   \n",
       "4   Active Interest Media Inc.   \n",
       "\n",
       "                                          background  \\\n",
       "0  Founded in 2002 and based in California, Unite...   \n",
       "1  Founded in 2000 and based in Georgia, US, Flee...   \n",
       "2  Founded in 2006 and based in California, US, L...   \n",
       "3  Founded in 2001 and based in New York, United ...   \n",
       "4  Founded in 2003 and based in Colorado, US, Act...   \n",
       "\n",
       "                                investorsbuyersfirms portfoliocompanycountry  \\\n",
       "0                                     Focus Ventures                      US   \n",
       "1                                       Bain Capital                      US   \n",
       "2  Oak Investment Partners, Generation Partners, ...                      US   \n",
       "3  VOSS of Norway ASA, Centra Capital, Juggernaut...                      US   \n",
       "4        Pocket Outdoor Media, Inc., Zone 5 Ventures                      US   \n",
       "\n",
       "                                     dealdescription  \\\n",
       "0  In September 2006, Barracuda Networks, Inc. ra...   \n",
       "1  In June 2005, FleetCor Technologies raised USD...   \n",
       "2  In March 2008, returning investors 3i, Generat...   \n",
       "3  In August 2011, Sawaya Segalas & Co. raised US...   \n",
       "4  In June 2020, Pocket Outdoor Media, Inc., a po...   \n",
       "\n",
       "                      stage   dealdate  ... dealsizeeurmn  acquiredshare  \\\n",
       "0          Series D/Round 4 2006-09-26  ...           NaN            NaN   \n",
       "1          Series D/Round 4 2005-06-01  ...         67.33            NaN   \n",
       "2          Series D/Round 4 2008-03-24  ...         31.42            NaN   \n",
       "3  Growth Capital/Expansion 2011-08-03  ...         16.16            NaN   \n",
       "4                    Add-on 2020-06-30  ...           NaN            NaN   \n",
       "\n",
       "   financialadvisorsbuyers financialadvisorssellers legaladvisorsbuyers  \\\n",
       "0                                                                         \n",
       "1                                                                         \n",
       "2                                                                         \n",
       "3                                                                         \n",
       "4                                                                         \n",
       "\n",
       "  legaladvisorssellers has_no_background incyear       _merge has_website  \n",
       "0                                      0    2002  matched (3)           1  \n",
       "1                                      0    2000  matched (3)           1  \n",
       "2                                      0    2006  matched (3)           1  \n",
       "3                                      0    2001  matched (3)           1  \n",
       "4                                      0    2003  matched (3)           1  \n",
       "\n",
       "[5 rows x 45 columns]"
      ]
     },
     "execution_count": 6,
     "metadata": {},
     "output_type": "execute_result"
    }
   ],
   "source": [
    "print(data.shape)\n",
    "data.head()"
   ]
  },
  {
   "cell_type": "code",
   "execution_count": 7,
   "metadata": {},
   "outputs": [
    {
     "name": "stdout",
     "output_type": "stream",
     "text": [
      "<class 'pandas.core.frame.DataFrame'>\n",
      "Int64Index: 72797 entries, 0 to 72796\n",
      "Data columns (total 45 columns):\n",
      " #   Column                       Non-Null Count  Dtype         \n",
      "---  ------                       --------------  -----         \n",
      " 0   portfoliocompanyid           72797 non-null  int32         \n",
      " 1   website                      72797 non-null  object        \n",
      " 2   dealid                       72797 non-null  object        \n",
      " 3   portfoliocompany             72797 non-null  object        \n",
      " 4   background                   72797 non-null  object        \n",
      " 5   investorsbuyersfirms         72797 non-null  object        \n",
      " 6   portfoliocompanycountry      72797 non-null  object        \n",
      " 7   dealdescription              72797 non-null  object        \n",
      " 8   stage                        72797 non-null  object        \n",
      " 9   dealdate                     72785 non-null  datetime64[ns]\n",
      " 10  dealcurrency                 72797 non-null  object        \n",
      " 11  dealsizecurrmn               59675 non-null  float64       \n",
      " 12  dealsizeusdmn                59675 non-null  float64       \n",
      " 13  portfoliocompanystatus       72797 non-null  object        \n",
      " 14  dealstatus                   72797 non-null  object        \n",
      " 15  investorcountry              72797 non-null  object        \n",
      " 16  investorregion               72797 non-null  object        \n",
      " 17  investorcity                 72797 non-null  object        \n",
      " 18  investorstatecounty          72797 non-null  object        \n",
      " 19  portfoliocompanyregion       72797 non-null  object        \n",
      " 20  portfoliocompanycity         72797 non-null  object        \n",
      " 21  portfoliocompanystatecounty  72797 non-null  object        \n",
      " 22  portfoliocompanywebsite      72797 non-null  object        \n",
      " 23  companyrevenuecurrmn         431 non-null    float64       \n",
      " 24  entryrevenuemultiple         390 non-null    float64       \n",
      " 25  ebitdacurrmn                 173 non-null    float64       \n",
      " 26  entryebitdamultiple          146 non-null    float64       \n",
      " 27  investorsbuyersfunds         72797 non-null  object        \n",
      " 28  industryclassification       72797 non-null  object        \n",
      " 29  primaryindustry              72797 non-null  object        \n",
      " 30  subindustries                72797 non-null  object        \n",
      " 31  industryverticals            72797 non-null  object        \n",
      " 32  boughtfromsellersfirms       72797 non-null  object        \n",
      " 33  leadpartners                 72797 non-null  object        \n",
      " 34  boardrepresentatives         72797 non-null  object        \n",
      " 35  dealsizeeurmn                59675 non-null  float64       \n",
      " 36  acquiredshare                178 non-null    float64       \n",
      " 37  financialadvisorsbuyers      72797 non-null  object        \n",
      " 38  financialadvisorssellers     72797 non-null  object        \n",
      " 39  legaladvisorsbuyers          72797 non-null  object        \n",
      " 40  legaladvisorssellers         72797 non-null  object        \n",
      " 41  has_no_background            72797 non-null  int8          \n",
      " 42  incyear                      72797 non-null  int16         \n",
      " 43  _merge                       72797 non-null  category      \n",
      " 44  has_website                  72797 non-null  int8          \n",
      "dtypes: category(1), datetime64[ns](1), float64(8), int16(1), int32(1), int8(2), object(31)\n",
      "memory usage: 23.4+ MB\n"
     ]
    }
   ],
   "source": [
    "data.info()"
   ]
  },
  {
   "cell_type": "code",
   "execution_count": 8,
   "metadata": {},
   "outputs": [
    {
     "data": {
      "text/plain": [
       "(Timestamp('1987-06-16 00:00:00'), Timestamp('2020-07-23 00:00:00'))"
      ]
     },
     "execution_count": 8,
     "metadata": {},
     "output_type": "execute_result"
    }
   ],
   "source": [
    "data.dealdate.min(),data.dealdate.max()"
   ]
  },
  {
   "cell_type": "code",
   "execution_count": 9,
   "metadata": {
    "scrolled": true
   },
   "outputs": [
    {
     "data": {
      "image/png": "[encoded data removed]",
      "text/plain": [
       "<Figure size 720x432 with 1 Axes>"
      ]
     },
     "metadata": {
      "needs_background": "light"
     },
     "output_type": "display_data"
    }
   ],
   "source": [
    "d = data.groupby(\"dealdate\").portfoliocompanyid.count()\n",
    "fig, ax = plt.subplots(figsize=(10,6))\n",
    "ax.set_title(\"Deals per year\")\n",
    "d.resample(\"Y\").sum().plot(kind=\"line\",style=\".-\");"
   ]
  },
  {
   "cell_type": "code",
   "execution_count": 10,
   "metadata": {},
   "outputs": [
    {
     "data": {
      "image/png": "[encoded data removed]",
      "text/plain": [
       "<Figure size 576x432 with 1 Axes>"
      ]
     },
     "metadata": {
      "needs_background": "light"
     },
     "output_type": "display_data"
    }
   ],
   "source": [
    "fig, ax = plt.subplots(figsize=(8,6))\n",
    "ax.set_title(\"Deal stage - count\")\n",
    "data.stage.value_counts().plot(kind=\"bar\",ax=ax);"
   ]
  },
  {
   "cell_type": "code",
   "execution_count": 11,
   "metadata": {},
   "outputs": [
    {
     "name": "stdout",
     "output_type": "stream",
     "text": [
      "The 99th percentile is 209.0\n"
     ]
    },
    {
     "data": {
      "image/png": "[encoded data removed]",
      "text/plain": [
       "<Figure size 864x432 with 2 Axes>"
      ]
     },
     "metadata": {
      "needs_background": "light"
     },
     "output_type": "display_data"
    }
   ],
   "source": [
    "fig, ax = plt.subplots(1,2,figsize=(12,6))\n",
    "data.dealsizeusdmn.hist(bins=30,ax=ax[0])\n",
    "per = data.dealsizeusdmn.quantile(0.99)\n",
    "ax[0].axvline(per,color=\"red\")\n",
    "ax[0].set_title(\"Deal size Histogram\")\n",
    "ax[0].set_xlabel(\"usd mn\")\n",
    "print(f\"The 99th percentile is {round(per)}\")\n",
    "ax[1].set_title(\"Deal size Histogram - Zoomed in\")\n",
    "ax[1].set_xlabel(\"usd mn\")\n",
    "data[data.dealsizeusdmn<=per].dealsizeusdmn.hist(bins=30,ax=ax[1]);"
   ]
  },
  {
   "cell_type": "code",
   "execution_count": 32,
   "metadata": {},
   "outputs": [],
   "source": [
    "d1 = data[data.stage==\"Seed\"].groupby(\"portfoliocompanyid\").dealsizeusdmn.sum()\n",
    "first_rounds =[\"Seed\",\"Series A/Round 1\",\"Series B/Round 2\",\"Series C/Round 3\",\"Series D/Round 4\"]\n",
    "d2 = data[data.stage.isin(first_rounds)].groupby(\"portfoliocompanyid\").dealsizeusdmn.sum()\n",
    "d3 = data[data.stage==\"Unspecified Round\"].groupby(\"portfoliocompanyid\").dealsizeusdmn.sum()"
   ]
  },
  {
   "cell_type": "code",
   "execution_count": 33,
   "metadata": {},
   "outputs": [
    {
     "data": {
      "text/html": [
       "<div>\n",
       "<style scoped>\n",
       "    .dataframe tbody tr th:only-of-type {\n",
       "        vertical-align: middle;\n",
       "    }\n",
       "\n",
       "    .dataframe tbody tr th {\n",
       "        vertical-align: top;\n",
       "    }\n",
       "\n",
       "    .dataframe thead th {\n",
       "        text-align: right;\n",
       "    }\n",
       "</style>\n",
       "<table border=\"1\" class=\"dataframe\">\n",
       "  <thead>\n",
       "    <tr style=\"text-align: right;\">\n",
       "      <th></th>\n",
       "      <th>dealcounts</th>\n",
       "      <th>dealsizeusdmn</th>\n",
       "      <th>seed_founding</th>\n",
       "      <th>firstrounds_founding</th>\n",
       "      <th>unspecified_founding</th>\n",
       "    </tr>\n",
       "    <tr>\n",
       "      <th>portfoliocompanyid</th>\n",
       "      <th></th>\n",
       "      <th></th>\n",
       "      <th></th>\n",
       "      <th></th>\n",
       "      <th></th>\n",
       "    </tr>\n",
       "  </thead>\n",
       "  <tbody>\n",
       "    <tr>\n",
       "      <th>26178</th>\n",
       "      <td>8</td>\n",
       "      <td>351.22</td>\n",
       "      <td>0.00</td>\n",
       "      <td>80.00</td>\n",
       "      <td>271.22</td>\n",
       "    </tr>\n",
       "    <tr>\n",
       "      <th>26580</th>\n",
       "      <td>16</td>\n",
       "      <td>812.00</td>\n",
       "      <td>0.00</td>\n",
       "      <td>292.00</td>\n",
       "      <td>0.00</td>\n",
       "    </tr>\n",
       "    <tr>\n",
       "      <th>26635</th>\n",
       "      <td>8</td>\n",
       "      <td>710.00</td>\n",
       "      <td>0.00</td>\n",
       "      <td>710.00</td>\n",
       "      <td>0.00</td>\n",
       "    </tr>\n",
       "    <tr>\n",
       "      <th>26957</th>\n",
       "      <td>1</td>\n",
       "      <td>18.00</td>\n",
       "      <td>0.00</td>\n",
       "      <td>0.00</td>\n",
       "      <td>0.00</td>\n",
       "    </tr>\n",
       "    <tr>\n",
       "      <th>28167</th>\n",
       "      <td>1</td>\n",
       "      <td>0.00</td>\n",
       "      <td>0.00</td>\n",
       "      <td>0.00</td>\n",
       "      <td>0.00</td>\n",
       "    </tr>\n",
       "    <tr>\n",
       "      <th>...</th>\n",
       "      <td>...</td>\n",
       "      <td>...</td>\n",
       "      <td>...</td>\n",
       "      <td>...</td>\n",
       "      <td>...</td>\n",
       "    </tr>\n",
       "    <tr>\n",
       "      <th>384356</th>\n",
       "      <td>1</td>\n",
       "      <td>10.00</td>\n",
       "      <td>10.00</td>\n",
       "      <td>10.00</td>\n",
       "      <td>0.00</td>\n",
       "    </tr>\n",
       "    <tr>\n",
       "      <th>384360</th>\n",
       "      <td>2</td>\n",
       "      <td>0.15</td>\n",
       "      <td>0.15</td>\n",
       "      <td>0.15</td>\n",
       "      <td>0.00</td>\n",
       "    </tr>\n",
       "    <tr>\n",
       "      <th>384390</th>\n",
       "      <td>1</td>\n",
       "      <td>0.00</td>\n",
       "      <td>0.00</td>\n",
       "      <td>0.00</td>\n",
       "      <td>0.00</td>\n",
       "    </tr>\n",
       "    <tr>\n",
       "      <th>384391</th>\n",
       "      <td>1</td>\n",
       "      <td>28.50</td>\n",
       "      <td>0.00</td>\n",
       "      <td>28.50</td>\n",
       "      <td>0.00</td>\n",
       "    </tr>\n",
       "    <tr>\n",
       "      <th>384432</th>\n",
       "      <td>4</td>\n",
       "      <td>1.62</td>\n",
       "      <td>0.00</td>\n",
       "      <td>0.00</td>\n",
       "      <td>1.62</td>\n",
       "    </tr>\n",
       "  </tbody>\n",
       "</table>\n",
       "<p>13704 rows × 5 columns</p>\n",
       "</div>"
      ],
      "text/plain": [
       "                    dealcounts  dealsizeusdmn  seed_founding  \\\n",
       "portfoliocompanyid                                             \n",
       "26178                        8         351.22           0.00   \n",
       "26580                       16         812.00           0.00   \n",
       "26635                        8         710.00           0.00   \n",
       "26957                        1          18.00           0.00   \n",
       "28167                        1           0.00           0.00   \n",
       "...                        ...            ...            ...   \n",
       "384356                       1          10.00          10.00   \n",
       "384360                       2           0.15           0.15   \n",
       "384390                       1           0.00           0.00   \n",
       "384391                       1          28.50           0.00   \n",
       "384432                       4           1.62           0.00   \n",
       "\n",
       "                    firstrounds_founding  unspecified_founding  \n",
       "portfoliocompanyid                                              \n",
       "26178                              80.00                271.22  \n",
       "26580                             292.00                  0.00  \n",
       "26635                             710.00                  0.00  \n",
       "26957                               0.00                  0.00  \n",
       "28167                               0.00                  0.00  \n",
       "...                                  ...                   ...  \n",
       "384356                             10.00                  0.00  \n",
       "384360                              0.15                  0.00  \n",
       "384390                              0.00                  0.00  \n",
       "384391                             28.50                  0.00  \n",
       "384432                              0.00                  1.62  \n",
       "\n",
       "[13704 rows x 5 columns]"
      ]
     },
     "execution_count": 33,
     "metadata": {},
     "output_type": "execute_result"
    }
   ],
   "source": [
    "y_vars = data.groupby(\"portfoliocompanyid\").agg({\"portfoliocompanyid\":\"count\",\"dealsizeusdmn\":\"sum\"})\n",
    "y_vars.columns = [\"dealcounts\",\"dealsizeusdmn\"]\n",
    "y_vars[\"seed_founding\"] = y_vars.index.map(d1).fillna(0)\n",
    "y_vars[\"firstrounds_founding\"] = y_vars.index.map(d2).fillna(0)\n",
    "y_vars[\"unspecified_founding\"] = y_vars.index.map(d3).fillna(0)\n",
    "y_vars"
   ]
  },
  {
   "cell_type": "code",
   "execution_count": 14,
   "metadata": {},
   "outputs": [
    {
     "name": "stdout",
     "output_type": "stream",
     "text": [
      "The 99th percentile is 996.0\n"
     ]
    },
    {
     "data": {
      "image/png": "[encoded data removed]",
      "text/plain": [
       "<Figure size 864x432 with 2 Axes>"
      ]
     },
     "metadata": {
      "needs_background": "light"
     },
     "output_type": "display_data"
    }
   ],
   "source": [
    "fig, ax = plt.subplots(1,2,figsize=(12,6))\n",
    "y_vars.dealsizeusdmn.hist(bins=30,ax=ax[0])\n",
    "per = y_vars.dealsizeusdmn.quantile(0.99)\n",
    "ax[0].axvline(per,color=\"red\")\n",
    "ax[0].set_title(\"Deal size per company -  Histogram\")\n",
    "ax[0].set_xlabel(\"usd mn\")\n",
    "print(f\"The 99th percentile is {round(per)}\")\n",
    "ax[1].set_title(\"Deal size per company - Histogram Zoomed in\")\n",
    "ax[1].set_xlabel(\"usd mn\")\n",
    "y_vars[y_vars.dealsizeusdmn<=per].dealsizeusdmn.hist(bins=30,ax=ax[1]);"
   ]
  },
  {
   "cell_type": "code",
   "execution_count": 15,
   "metadata": {},
   "outputs": [
    {
     "name": "stdout",
     "output_type": "stream",
     "text": [
      "The 99th percentile is 19.0\n"
     ]
    },
    {
     "data": {
      "image/png": "[encoded data removed]",
      "text/plain": [
       "<Figure size 864x432 with 2 Axes>"
      ]
     },
     "metadata": {
      "needs_background": "light"
     },
     "output_type": "display_data"
    }
   ],
   "source": [
    "fig, ax = plt.subplots(1,2,figsize=(12,6))\n",
    "y_vars.seed_founding.hist(bins=30,ax=ax[0])\n",
    "per = y_vars.seed_founding.quantile(0.99)\n",
    "ax[0].axvline(per,color=\"red\")\n",
    "ax[0].set_title(\"Seed founding -  Histogram\")\n",
    "ax[0].set_xlabel(\"usd mn\")\n",
    "print(f\"The 99th percentile is {round(per)}\")\n",
    "ax[1].set_title(\"Seed founding - Histogram Zoomed in\")\n",
    "ax[1].set_xlabel(\"usd mn\")\n",
    "y_vars[y_vars.seed_founding<=per].seed_founding.hist(bins=30,ax=ax[1]);"
   ]
  },
  {
   "cell_type": "code",
   "execution_count": 16,
   "metadata": {},
   "outputs": [
    {
     "name": "stdout",
     "output_type": "stream",
     "text": [
      "The 99th percentile is 455.0\n"
     ]
    },
    {
     "data": {
      "image/png": "[encoded data removed]",
      "text/plain": [
       "<Figure size 864x432 with 2 Axes>"
      ]
     },
     "metadata": {
      "needs_background": "light"
     },
     "output_type": "display_data"
    }
   ],
   "source": [
    "fig, ax = plt.subplots(1,2,figsize=(12,6))\n",
    "y_vars.firstrounds_founding.hist(bins=30,ax=ax[0])\n",
    "per = y_vars.firstrounds_founding.quantile(0.99)\n",
    "ax[0].axvline(per,color=\"red\")\n",
    "ax[0].set_title(\"First rounds founding -  Histogram\")\n",
    "ax[0].set_xlabel(\"usd mn\")\n",
    "print(f\"The 99th percentile is {round(per)}\")\n",
    "ax[1].set_title(\"First rounds founding - Histogram Zoomed in\")\n",
    "ax[1].set_xlabel(\"usd mn\")\n",
    "y_vars[y_vars.firstrounds_founding<=per].firstrounds_founding.hist(bins=30,ax=ax[1]);"
   ]
  },
  {
   "cell_type": "code",
   "execution_count": 17,
   "metadata": {},
   "outputs": [
    {
     "data": {
      "image/png": "[encoded data removed]",
      "text/plain": [
       "<Figure size 576x432 with 1 Axes>"
      ]
     },
     "metadata": {
      "needs_background": "light"
     },
     "output_type": "display_data"
    }
   ],
   "source": [
    "fig, ax = plt.subplots(1,1,figsize=(8,6))\n",
    "ax.set_title(\"Deals count per company\")\n",
    "ax.set_xlabel(\"Deals count\")\n",
    "y_vars.dealcounts.hist(bins=30,ax=ax);"
   ]
  },
  {
   "cell_type": "code",
   "execution_count": 56,
   "metadata": {},
   "outputs": [
    {
     "name": "stdout",
     "output_type": "stream",
     "text": [
      "In 13704 companies, 3235 get 0 in first rounds, and 1836 of them get unspecific rounds of fundings\n"
     ]
    }
   ],
   "source": [
    "# find companies with firstrounds_funding == 0\n",
    "# then check the assumption that 'most of these companies get unspecific fundings'\n",
    "first_0 = (y_vars.firstrounds_founding == 0).sum()\n",
    "total = y_vars.shape[0]\n",
    "num_unspec_in_first_0 = y_vars[(y_vars.firstrounds_founding == 0)&(y_vars.unspecified_founding == 0)].shape[0]\n",
    "print('In', total, 'companies,', first_0, 'get 0 in first rounds, and', num_unspec_in_first_0,'of them get unspecific rounds of fundings')"
   ]
  },
  {
   "cell_type": "markdown",
   "metadata": {},
   "source": [
    "## Comments\n",
    "there are a large number of companies with 0 fundings in the first rounds, which partially could be explained by the 'unspecific'. Since there is no way to assign the 'unspecific' rounds, I suggest to just focus on the ones with specified fundings. The size of data should be enough for linear regression. "
   ]
  },
  {
   "cell_type": "markdown",
   "metadata": {},
   "source": [
    "## Preqin: Venture deals Analyst - Exits"
   ]
  },
  {
   "cell_type": "code",
   "execution_count": 67,
   "metadata": {},
   "outputs": [
    {
     "name": "stdout",
     "output_type": "stream",
     "text": [
      "(11320, 23)\n"
     ]
    },
    {
     "data": {
      "text/html": [
       "<div>\n",
       "<style scoped>\n",
       "    .dataframe tbody tr th:only-of-type {\n",
       "        vertical-align: middle;\n",
       "    }\n",
       "\n",
       "    .dataframe tbody tr th {\n",
       "        vertical-align: top;\n",
       "    }\n",
       "\n",
       "    .dataframe thead th {\n",
       "        text-align: right;\n",
       "    }\n",
       "</style>\n",
       "<table border=\"1\" class=\"dataframe\">\n",
       "  <thead>\n",
       "    <tr style=\"text-align: right;\">\n",
       "      <th></th>\n",
       "      <th>Venture_Exit_ID</th>\n",
       "      <th>Venture_ID</th>\n",
       "      <th>PortFirm_ID</th>\n",
       "      <th>Portfolio Company Name</th>\n",
       "      <th>Website</th>\n",
       "      <th>Initial Investment Date</th>\n",
       "      <th>Latest Investment Date</th>\n",
       "      <th>Stages</th>\n",
       "      <th>Total Known Funding (USD mn)</th>\n",
       "      <th>Total Known Funding (EUR mn)</th>\n",
       "      <th>...</th>\n",
       "      <th>Exit Value (mn)</th>\n",
       "      <th>Exit Value (USDmn)</th>\n",
       "      <th>Exit Value (EURmn)</th>\n",
       "      <th>Acquiror (Exit)</th>\n",
       "      <th>VC Industry Classification</th>\n",
       "      <th>Primary Industry</th>\n",
       "      <th>Sub-Industries</th>\n",
       "      <th>Location</th>\n",
       "      <th>Region</th>\n",
       "      <th>Partially Exited</th>\n",
       "    </tr>\n",
       "  </thead>\n",
       "  <tbody>\n",
       "    <tr>\n",
       "      <th>0</th>\n",
       "      <td>7695</td>\n",
       "      <td>25439</td>\n",
       "      <td>92396</td>\n",
       "      <td>#waywire</td>\n",
       "      <td>www.waywire.com</td>\n",
       "      <td>30-Jun-12</td>\n",
       "      <td>30-Jun-12</td>\n",
       "      <td>Seed, Add-on</td>\n",
       "      <td>1.75</td>\n",
       "      <td>1.43</td>\n",
       "      <td>...</td>\n",
       "      <td>NaN</td>\n",
       "      <td>NaN</td>\n",
       "      <td>NaN</td>\n",
       "      <td>Waywire Enterprise</td>\n",
       "      <td>Internet</td>\n",
       "      <td>Internet</td>\n",
       "      <td>Multimedia &amp; Graphics, Social Networking &amp; Com...</td>\n",
       "      <td>US</td>\n",
       "      <td>North America</td>\n",
       "      <td>False</td>\n",
       "    </tr>\n",
       "    <tr>\n",
       "      <th>1</th>\n",
       "      <td>19373</td>\n",
       "      <td>149117</td>\n",
       "      <td>280594</td>\n",
       "      <td>@Motion Inc.</td>\n",
       "      <td>NaN</td>\n",
       "      <td>6-Apr-98</td>\n",
       "      <td>6-Jul-99</td>\n",
       "      <td>Series A/Round 1, Unspecified Round</td>\n",
       "      <td>10.00</td>\n",
       "      <td>9.70</td>\n",
       "      <td>...</td>\n",
       "      <td>NaN</td>\n",
       "      <td>NaN</td>\n",
       "      <td>NaN</td>\n",
       "      <td>Unwired Planet</td>\n",
       "      <td>Telecoms</td>\n",
       "      <td>Telecoms</td>\n",
       "      <td>Integrated Telecoms Services, Wireless Telecom...</td>\n",
       "      <td>US</td>\n",
       "      <td>North America</td>\n",
       "      <td>False</td>\n",
       "    </tr>\n",
       "    <tr>\n",
       "      <th>2</th>\n",
       "      <td>19338</td>\n",
       "      <td>148553</td>\n",
       "      <td>279351</td>\n",
       "      <td>@Road, Inc.</td>\n",
       "      <td>www.atroad.com</td>\n",
       "      <td>15-Jul-94</td>\n",
       "      <td>15-Jul-00</td>\n",
       "      <td>Series A/Round 1, Series B/Round 2, Series C/...</td>\n",
       "      <td>51.00</td>\n",
       "      <td>53.33</td>\n",
       "      <td>...</td>\n",
       "      <td>63.00 USD</td>\n",
       "      <td>63.0</td>\n",
       "      <td>71.29</td>\n",
       "      <td>NaN</td>\n",
       "      <td>Software &amp; Related</td>\n",
       "      <td>Software</td>\n",
       "      <td>Wireless, Analytics &amp; Performance Software, Co...</td>\n",
       "      <td>US</td>\n",
       "      <td>North America</td>\n",
       "      <td>True</td>\n",
       "    </tr>\n",
       "    <tr>\n",
       "      <th>3</th>\n",
       "      <td>19339</td>\n",
       "      <td>148553</td>\n",
       "      <td>279351</td>\n",
       "      <td>@Road, Inc.</td>\n",
       "      <td>www.atroad.com</td>\n",
       "      <td>15-Jul-94</td>\n",
       "      <td>15-Jul-00</td>\n",
       "      <td>Series A/Round 1, Series B/Round 2, Series C/...</td>\n",
       "      <td>51.00</td>\n",
       "      <td>53.33</td>\n",
       "      <td>...</td>\n",
       "      <td>496.00 USD</td>\n",
       "      <td>496.0</td>\n",
       "      <td>375.84</td>\n",
       "      <td>Trimble Navigation Limited</td>\n",
       "      <td>Software &amp; Related</td>\n",
       "      <td>Software</td>\n",
       "      <td>Wireless, Analytics &amp; Performance Software, Co...</td>\n",
       "      <td>US</td>\n",
       "      <td>North America</td>\n",
       "      <td>False</td>\n",
       "    </tr>\n",
       "    <tr>\n",
       "      <th>4</th>\n",
       "      <td>16832</td>\n",
       "      <td>127885</td>\n",
       "      <td>241333</td>\n",
       "      <td>@stake, Inc.</td>\n",
       "      <td>NaN</td>\n",
       "      <td>7-Jan-00</td>\n",
       "      <td>7-Jan-00</td>\n",
       "      <td>Unspecified Round</td>\n",
       "      <td>10.00</td>\n",
       "      <td>9.93</td>\n",
       "      <td>...</td>\n",
       "      <td>NaN</td>\n",
       "      <td>NaN</td>\n",
       "      <td>NaN</td>\n",
       "      <td>NortonLifeLock Inc</td>\n",
       "      <td>Other IT</td>\n",
       "      <td>IT Security</td>\n",
       "      <td>Consulting Services</td>\n",
       "      <td>US</td>\n",
       "      <td>North America</td>\n",
       "      <td>False</td>\n",
       "    </tr>\n",
       "  </tbody>\n",
       "</table>\n",
       "<p>5 rows × 23 columns</p>\n",
       "</div>"
      ],
      "text/plain": [
       "   Venture_Exit_ID  Venture_ID  PortFirm_ID Portfolio Company Name  \\\n",
       "0             7695       25439        92396               #waywire   \n",
       "1            19373      149117       280594           @Motion Inc.   \n",
       "2            19338      148553       279351            @Road, Inc.   \n",
       "3            19339      148553       279351            @Road, Inc.   \n",
       "4            16832      127885       241333           @stake, Inc.   \n",
       "\n",
       "           Website Initial Investment Date Latest Investment Date  \\\n",
       "0  www.waywire.com               30-Jun-12              30-Jun-12   \n",
       "1              NaN                6-Apr-98               6-Jul-99   \n",
       "2   www.atroad.com               15-Jul-94              15-Jul-00   \n",
       "3   www.atroad.com               15-Jul-94              15-Jul-00   \n",
       "4              NaN                7-Jan-00               7-Jan-00   \n",
       "\n",
       "                                              Stages  \\\n",
       "0                                       Seed, Add-on   \n",
       "1                Series A/Round 1, Unspecified Round   \n",
       "2   Series A/Round 1, Series B/Round 2, Series C/...   \n",
       "3   Series A/Round 1, Series B/Round 2, Series C/...   \n",
       "4                                  Unspecified Round   \n",
       "\n",
       "   Total Known Funding (USD mn)  Total Known Funding (EUR mn)  ...  \\\n",
       "0                          1.75                          1.43  ...   \n",
       "1                         10.00                          9.70  ...   \n",
       "2                         51.00                         53.33  ...   \n",
       "3                         51.00                         53.33  ...   \n",
       "4                         10.00                          9.93  ...   \n",
       "\n",
       "  Exit Value (mn) Exit Value (USDmn) Exit Value (EURmn)  \\\n",
       "0             NaN                NaN                NaN   \n",
       "1             NaN                NaN                NaN   \n",
       "2       63.00 USD               63.0              71.29   \n",
       "3      496.00 USD              496.0             375.84   \n",
       "4             NaN                NaN                NaN   \n",
       "\n",
       "              Acquiror (Exit)  VC Industry Classification  Primary Industry  \\\n",
       "0          Waywire Enterprise                    Internet          Internet   \n",
       "1              Unwired Planet                    Telecoms          Telecoms   \n",
       "2                         NaN          Software & Related          Software   \n",
       "3  Trimble Navigation Limited          Software & Related          Software   \n",
       "4          NortonLifeLock Inc                    Other IT       IT Security   \n",
       "\n",
       "                                      Sub-Industries Location         Region  \\\n",
       "0  Multimedia & Graphics, Social Networking & Com...       US  North America   \n",
       "1  Integrated Telecoms Services, Wireless Telecom...       US  North America   \n",
       "2  Wireless, Analytics & Performance Software, Co...       US  North America   \n",
       "3  Wireless, Analytics & Performance Software, Co...       US  North America   \n",
       "4                                Consulting Services       US  North America   \n",
       "\n",
       "  Partially Exited  \n",
       "0            False  \n",
       "1            False  \n",
       "2             True  \n",
       "3            False  \n",
       "4            False  \n",
       "\n",
       "[5 rows x 23 columns]"
      ]
     },
     "execution_count": 67,
     "metadata": {},
     "output_type": "execute_result"
    }
   ],
   "source": [
    "df = pd.read_csv(datadir+\"/preqin_exits.csv\",skiprows = 11)\n",
    "print(df.shape)\n",
    "df.head()"
   ]
  },
  {
   "cell_type": "code",
   "execution_count": 68,
   "metadata": {},
   "outputs": [
    {
     "name": "stdout",
     "output_type": "stream",
     "text": [
      "<class 'pandas.core.frame.DataFrame'>\n",
      "RangeIndex: 11320 entries, 0 to 11319\n",
      "Data columns (total 23 columns):\n",
      " #   Column                        Non-Null Count  Dtype  \n",
      "---  ------                        --------------  -----  \n",
      " 0   Venture_Exit_ID               11320 non-null  int64  \n",
      " 1   Venture_ID                    11320 non-null  int64  \n",
      " 2   PortFirm_ID                   11320 non-null  int64  \n",
      " 3   Portfolio Company Name        11320 non-null  object \n",
      " 4   Website                       9236 non-null   object \n",
      " 5   Initial Investment Date       11246 non-null  object \n",
      " 6   Latest Investment Date        11246 non-null  object \n",
      " 7   Stages                        11320 non-null  object \n",
      " 8   Total Known Funding (USD mn)  10242 non-null  float64\n",
      " 9   Total Known Funding (EUR mn)  10242 non-null  float64\n",
      " 10  Investors                     10952 non-null  object \n",
      " 11  Exit Date                     11262 non-null  object \n",
      " 12  Exit Type                     11320 non-null  object \n",
      " 13  Exit Value (mn)               4118 non-null   object \n",
      " 14  Exit Value (USDmn)            4118 non-null   float64\n",
      " 15  Exit Value (EURmn)            4118 non-null   float64\n",
      " 16  Acquiror (Exit)               9433 non-null   object \n",
      " 17  VC Industry Classification    11261 non-null  object \n",
      " 18  Primary Industry              11261 non-null  object \n",
      " 19  Sub-Industries                10534 non-null  object \n",
      " 20  Location                      11320 non-null  object \n",
      " 21  Region                        11320 non-null  object \n",
      " 22  Partially Exited              11320 non-null  bool   \n",
      "dtypes: bool(1), float64(4), int64(3), object(15)\n",
      "memory usage: 1.9+ MB\n"
     ]
    }
   ],
   "source": [
    "df.info()"
   ]
  },
  {
   "cell_type": "code",
   "execution_count": 69,
   "metadata": {},
   "outputs": [
    {
     "data": {
      "image/png": "[encoded data removed]",
      "text/plain": [
       "<Figure size 432x288 with 1 Axes>"
      ]
     },
     "metadata": {
      "needs_background": "light"
     },
     "output_type": "display_data"
    }
   ],
   "source": [
    "df[\"Partially Exited\"].value_counts().plot(kind=\"bar\");\n",
    "plt.gca().set_title(\"Partially Exited\");"
   ]
  },
  {
   "cell_type": "markdown",
   "metadata": {},
   "source": [
    "What does \"Partially Exited\" means?"
   ]
  },
  {
   "cell_type": "code",
   "execution_count": 19,
   "metadata": {},
   "outputs": [
    {
     "data": {
      "text/plain": [
       "Trade Sale            8425\n",
       "IPO                   1354\n",
       "Sale to GP             612\n",
       "Merger                 472\n",
       "Private Placement      282\n",
       "Restructuring          123\n",
       "Recapitalisation        27\n",
       "Sale to Management      25\n",
       "Name: Exit Type, dtype: int64"
      ]
     },
     "execution_count": 19,
     "metadata": {},
     "output_type": "execute_result"
    }
   ],
   "source": [
    "df[\"Exit Type\"].value_counts()"
   ]
  },
  {
   "cell_type": "code",
   "execution_count": 20,
   "metadata": {},
   "outputs": [
    {
     "name": "stdout",
     "output_type": "stream",
     "text": [
      "Exit types for partially exited==1:\n"
     ]
    },
    {
     "data": {
      "text/plain": [
       "IPO                   1008\n",
       "Trade Sale             528\n",
       "Private Placement      235\n",
       "Merger                 201\n",
       "Sale to GP             186\n",
       "Restructuring           14\n",
       "Recapitalisation        11\n",
       "Sale to Management       7\n",
       "Name: Exit Type, dtype: int64"
      ]
     },
     "execution_count": 20,
     "metadata": {},
     "output_type": "execute_result"
    }
   ],
   "source": [
    "print(\"Exit types for partially exited==1:\")\n",
    "df[df[\"Partially Exited\"]==1][\"Exit Type\"].value_counts()"
   ]
  },
  {
   "cell_type": "code",
   "execution_count": 21,
   "metadata": {},
   "outputs": [
    {
     "data": {
      "text/plain": [
       "1     1546\n",
       "2      179\n",
       "3       46\n",
       "4       15\n",
       "5        6\n",
       "7        4\n",
       "6        2\n",
       "10       1\n",
       "8        1\n",
       "Name: PortFirm_ID, dtype: int64"
      ]
     },
     "execution_count": 21,
     "metadata": {},
     "output_type": "execute_result"
    }
   ],
   "source": [
    "df[(df[\"Partially Exited\"]==1) ].groupby(\"PortFirm_ID\").PortFirm_ID.count().value_counts()"
   ]
  },
  {
   "cell_type": "code",
   "execution_count": 22,
   "metadata": {},
   "outputs": [
    {
     "data": {
      "text/plain": [
       "1    1326\n",
       "2      14\n",
       "Name: PortFirm_ID, dtype: int64"
      ]
     },
     "execution_count": 22,
     "metadata": {},
     "output_type": "execute_result"
    }
   ],
   "source": [
    "df[( df[\"Exit Type\"]==\"IPO\")].groupby(\"PortFirm_ID\").PortFirm_ID.count().value_counts()"
   ]
  },
  {
   "cell_type": "code",
   "execution_count": 23,
   "metadata": {},
   "outputs": [
    {
     "data": {
      "text/plain": [
       "1    994\n",
       "2      7\n",
       "Name: PortFirm_ID, dtype: int64"
      ]
     },
     "execution_count": 23,
     "metadata": {},
     "output_type": "execute_result"
    }
   ],
   "source": [
    "df[(df[\"Partially Exited\"]==1) & (df[\"Exit Type\"]==\"IPO\")].groupby(\"PortFirm_ID\").PortFirm_ID.count().value_counts()"
   ]
  },
  {
   "cell_type": "code",
   "execution_count": 70,
   "metadata": {},
   "outputs": [],
   "source": [
    "# Has IPO (d3 -> d7 by george)\n",
    "d7 = df[df[\"Exit Type\"]==\"IPO\"].groupby(\"PortFirm_ID\").PortFirm_ID.count().map(lambda x: 1)\n",
    "# IPO value\n",
    "d4 = df[df[\"Exit Type\"]==\"IPO\"].groupby(\"PortFirm_ID\")[\"Exit Value (USDmn)\"].sum()\n",
    "# Exit value\n",
    "d5 = df.groupby(\"PortFirm_ID\")[\"Exit Value (USDmn)\"].sum()\n",
    "# Exit value v2\n",
    "d6 = df[df[\"Partially Exited\"]==1].groupby(\"PortFirm_ID\")[\"Exit Value (USDmn)\"].sum()"
   ]
  },
  {
   "cell_type": "code",
   "execution_count": 71,
   "metadata": {},
   "outputs": [],
   "source": [
    "y_vars[\"has_ipo\"] = y_vars.index.map(d7).fillna(0)\n",
    "y_vars[\"ipo_value\"] = y_vars.index.map(d4).fillna(0)\n",
    "y_vars[\"exit_value\"] = y_vars.index.map(d5).fillna(0)\n",
    "y_vars[\"exit_value_partiallyexited\"] = y_vars.index.map(d6).fillna(0)"
   ]
  },
  {
   "cell_type": "code",
   "execution_count": 72,
   "metadata": {},
   "outputs": [
    {
     "data": {
      "text/html": [
       "<div>\n",
       "<style scoped>\n",
       "    .dataframe tbody tr th:only-of-type {\n",
       "        vertical-align: middle;\n",
       "    }\n",
       "\n",
       "    .dataframe tbody tr th {\n",
       "        vertical-align: top;\n",
       "    }\n",
       "\n",
       "    .dataframe thead th {\n",
       "        text-align: right;\n",
       "    }\n",
       "</style>\n",
       "<table border=\"1\" class=\"dataframe\">\n",
       "  <thead>\n",
       "    <tr style=\"text-align: right;\">\n",
       "      <th></th>\n",
       "      <th>dealcounts</th>\n",
       "      <th>dealsizeusdmn</th>\n",
       "      <th>seed_founding</th>\n",
       "      <th>firstrounds_founding</th>\n",
       "      <th>unspecified_founding</th>\n",
       "      <th>has_ipo</th>\n",
       "      <th>ipo_value</th>\n",
       "      <th>exit_value</th>\n",
       "      <th>exit_value_partiallyexited</th>\n",
       "    </tr>\n",
       "    <tr>\n",
       "      <th>portfoliocompanyid</th>\n",
       "      <th></th>\n",
       "      <th></th>\n",
       "      <th></th>\n",
       "      <th></th>\n",
       "      <th></th>\n",
       "      <th></th>\n",
       "      <th></th>\n",
       "      <th></th>\n",
       "      <th></th>\n",
       "    </tr>\n",
       "  </thead>\n",
       "  <tbody>\n",
       "    <tr>\n",
       "      <th>26178</th>\n",
       "      <td>8</td>\n",
       "      <td>351.22</td>\n",
       "      <td>0.00</td>\n",
       "      <td>80.00</td>\n",
       "      <td>271.22</td>\n",
       "      <td>1.0</td>\n",
       "      <td>74.52</td>\n",
       "      <td>1674.52</td>\n",
       "      <td>74.52</td>\n",
       "    </tr>\n",
       "    <tr>\n",
       "      <th>26580</th>\n",
       "      <td>16</td>\n",
       "      <td>812.00</td>\n",
       "      <td>0.00</td>\n",
       "      <td>292.00</td>\n",
       "      <td>0.00</td>\n",
       "      <td>1.0</td>\n",
       "      <td>292.10</td>\n",
       "      <td>491.95</td>\n",
       "      <td>491.95</td>\n",
       "    </tr>\n",
       "    <tr>\n",
       "      <th>26635</th>\n",
       "      <td>8</td>\n",
       "      <td>710.00</td>\n",
       "      <td>0.00</td>\n",
       "      <td>710.00</td>\n",
       "      <td>0.00</td>\n",
       "      <td>1.0</td>\n",
       "      <td>151.30</td>\n",
       "      <td>151.30</td>\n",
       "      <td>151.30</td>\n",
       "    </tr>\n",
       "    <tr>\n",
       "      <th>26957</th>\n",
       "      <td>1</td>\n",
       "      <td>18.00</td>\n",
       "      <td>0.00</td>\n",
       "      <td>0.00</td>\n",
       "      <td>0.00</td>\n",
       "      <td>0.0</td>\n",
       "      <td>0.00</td>\n",
       "      <td>0.00</td>\n",
       "      <td>0.00</td>\n",
       "    </tr>\n",
       "    <tr>\n",
       "      <th>28167</th>\n",
       "      <td>1</td>\n",
       "      <td>0.00</td>\n",
       "      <td>0.00</td>\n",
       "      <td>0.00</td>\n",
       "      <td>0.00</td>\n",
       "      <td>0.0</td>\n",
       "      <td>0.00</td>\n",
       "      <td>0.00</td>\n",
       "      <td>0.00</td>\n",
       "    </tr>\n",
       "    <tr>\n",
       "      <th>...</th>\n",
       "      <td>...</td>\n",
       "      <td>...</td>\n",
       "      <td>...</td>\n",
       "      <td>...</td>\n",
       "      <td>...</td>\n",
       "      <td>...</td>\n",
       "      <td>...</td>\n",
       "      <td>...</td>\n",
       "      <td>...</td>\n",
       "    </tr>\n",
       "    <tr>\n",
       "      <th>384356</th>\n",
       "      <td>1</td>\n",
       "      <td>10.00</td>\n",
       "      <td>10.00</td>\n",
       "      <td>10.00</td>\n",
       "      <td>0.00</td>\n",
       "      <td>0.0</td>\n",
       "      <td>0.00</td>\n",
       "      <td>0.00</td>\n",
       "      <td>0.00</td>\n",
       "    </tr>\n",
       "    <tr>\n",
       "      <th>384360</th>\n",
       "      <td>2</td>\n",
       "      <td>0.15</td>\n",
       "      <td>0.15</td>\n",
       "      <td>0.15</td>\n",
       "      <td>0.00</td>\n",
       "      <td>0.0</td>\n",
       "      <td>0.00</td>\n",
       "      <td>0.00</td>\n",
       "      <td>0.00</td>\n",
       "    </tr>\n",
       "    <tr>\n",
       "      <th>384390</th>\n",
       "      <td>1</td>\n",
       "      <td>0.00</td>\n",
       "      <td>0.00</td>\n",
       "      <td>0.00</td>\n",
       "      <td>0.00</td>\n",
       "      <td>0.0</td>\n",
       "      <td>0.00</td>\n",
       "      <td>0.00</td>\n",
       "      <td>0.00</td>\n",
       "    </tr>\n",
       "    <tr>\n",
       "      <th>384391</th>\n",
       "      <td>1</td>\n",
       "      <td>28.50</td>\n",
       "      <td>0.00</td>\n",
       "      <td>28.50</td>\n",
       "      <td>0.00</td>\n",
       "      <td>0.0</td>\n",
       "      <td>0.00</td>\n",
       "      <td>0.00</td>\n",
       "      <td>0.00</td>\n",
       "    </tr>\n",
       "    <tr>\n",
       "      <th>384432</th>\n",
       "      <td>4</td>\n",
       "      <td>1.62</td>\n",
       "      <td>0.00</td>\n",
       "      <td>0.00</td>\n",
       "      <td>1.62</td>\n",
       "      <td>0.0</td>\n",
       "      <td>0.00</td>\n",
       "      <td>0.00</td>\n",
       "      <td>0.00</td>\n",
       "    </tr>\n",
       "  </tbody>\n",
       "</table>\n",
       "<p>13704 rows × 9 columns</p>\n",
       "</div>"
      ],
      "text/plain": [
       "                    dealcounts  dealsizeusdmn  seed_founding  \\\n",
       "portfoliocompanyid                                             \n",
       "26178                        8         351.22           0.00   \n",
       "26580                       16         812.00           0.00   \n",
       "26635                        8         710.00           0.00   \n",
       "26957                        1          18.00           0.00   \n",
       "28167                        1           0.00           0.00   \n",
       "...                        ...            ...            ...   \n",
       "384356                       1          10.00          10.00   \n",
       "384360                       2           0.15           0.15   \n",
       "384390                       1           0.00           0.00   \n",
       "384391                       1          28.50           0.00   \n",
       "384432                       4           1.62           0.00   \n",
       "\n",
       "                    firstrounds_founding  unspecified_founding  has_ipo  \\\n",
       "portfoliocompanyid                                                        \n",
       "26178                              80.00                271.22      1.0   \n",
       "26580                             292.00                  0.00      1.0   \n",
       "26635                             710.00                  0.00      1.0   \n",
       "26957                               0.00                  0.00      0.0   \n",
       "28167                               0.00                  0.00      0.0   \n",
       "...                                  ...                   ...      ...   \n",
       "384356                             10.00                  0.00      0.0   \n",
       "384360                              0.15                  0.00      0.0   \n",
       "384390                              0.00                  0.00      0.0   \n",
       "384391                             28.50                  0.00      0.0   \n",
       "384432                              0.00                  1.62      0.0   \n",
       "\n",
       "                    ipo_value  exit_value  exit_value_partiallyexited  \n",
       "portfoliocompanyid                                                     \n",
       "26178                   74.52     1674.52                       74.52  \n",
       "26580                  292.10      491.95                      491.95  \n",
       "26635                  151.30      151.30                      151.30  \n",
       "26957                    0.00        0.00                        0.00  \n",
       "28167                    0.00        0.00                        0.00  \n",
       "...                       ...         ...                         ...  \n",
       "384356                   0.00        0.00                        0.00  \n",
       "384360                   0.00        0.00                        0.00  \n",
       "384390                   0.00        0.00                        0.00  \n",
       "384391                   0.00        0.00                        0.00  \n",
       "384432                   0.00        0.00                        0.00  \n",
       "\n",
       "[13704 rows x 9 columns]"
      ]
     },
     "execution_count": 72,
     "metadata": {},
     "output_type": "execute_result"
    }
   ],
   "source": [
    "y_vars"
   ]
  },
  {
   "cell_type": "code",
   "execution_count": 27,
   "metadata": {},
   "outputs": [
    {
     "data": {
      "image/png": "[encoded data removed]",
      "text/plain": [
       "<Figure size 432x288 with 1 Axes>"
      ]
     },
     "metadata": {
      "needs_background": "light"
     },
     "output_type": "display_data"
    }
   ],
   "source": [
    "y_vars.has_ipo.value_counts().plot(kind=\"bar\");\n",
    "plt.gca().set_title(\"Has IPO\");"
   ]
  },
  {
   "cell_type": "code",
   "execution_count": 28,
   "metadata": {},
   "outputs": [
    {
     "name": "stdout",
     "output_type": "stream",
     "text": [
      "The 99th percentile is 3667\n"
     ]
    },
    {
     "data": {
      "image/png": "[encoded data removed]",
      "text/plain": [
       "<Figure size 864x432 with 2 Axes>"
      ]
     },
     "metadata": {
      "needs_background": "light"
     },
     "output_type": "display_data"
    }
   ],
   "source": [
    "fig,ax = plt.subplots(1,2,figsize=(12,6))\n",
    "y_vars[y_vars.has_ipo==1].ipo_value.hist(bins=30,ax=ax[0])\n",
    "per = y_vars[y_vars.has_ipo==1].ipo_value.quantile(0.99)\n",
    "ax[0].axvline(per,color=\"red\")\n",
    "ax[0].set_title(\"IPO value -  Histogram\")\n",
    "ax[0].set_xlabel(\"usd mn\")\n",
    "print(f\"The 99th percentile is {round(per)}\")\n",
    "ax[1].set_title(\"IPO value - Histogram Zoomed in\")\n",
    "ax[1].set_xlabel(\"usd mn\")\n",
    "y_vars[(y_vars.has_ipo==1) & (y_vars.ipo_value<=per)].ipo_value.hist(bins=30,ax=ax[1]);"
   ]
  },
  {
   "cell_type": "code",
   "execution_count": 29,
   "metadata": {},
   "outputs": [
    {
     "name": "stdout",
     "output_type": "stream",
     "text": [
      "The 99th percentile is 4023\n"
     ]
    },
    {
     "data": {
      "image/png": "[encoded data removed]",
      "text/plain": [
       "<Figure size 864x432 with 2 Axes>"
      ]
     },
     "metadata": {
      "needs_background": "light"
     },
     "output_type": "display_data"
    }
   ],
   "source": [
    "fig,ax = plt.subplots(1,2,figsize=(12,6))\n",
    "y_vars[y_vars.exit_value>0].exit_value.hist(bins=30,ax=ax[0])\n",
    "per = y_vars[y_vars.exit_value>0].exit_value.quantile(0.99)\n",
    "ax[0].axvline(per,color=\"red\")\n",
    "ax[0].set_title(\"Exit value -  Histogram\")\n",
    "ax[0].set_xlabel(\"usd mn\")\n",
    "print(f\"The 99th percentile is {round(per)}\")\n",
    "ax[1].set_title(\"Exit value - Histogram Zoomed in\")\n",
    "ax[1].set_xlabel(\"usd mn\")\n",
    "y_vars[(y_vars.exit_value>0) & (y_vars.exit_value<=per)].exit_value.hist(bins=30,ax=ax[1]);"
   ]
  },
  {
   "cell_type": "code",
   "execution_count": 30,
   "metadata": {},
   "outputs": [
    {
     "name": "stdout",
     "output_type": "stream",
     "text": [
      "Exit value v2: Deals where partially exited==1\n",
      "The 99th percentile is 3399\n"
     ]
    },
    {
     "data": {
      "image/png": "[encoded data removed]",
      "text/plain": [
       "<Figure size 864x432 with 2 Axes>"
      ]
     },
     "metadata": {
      "needs_background": "light"
     },
     "output_type": "display_data"
    }
   ],
   "source": [
    "fig,ax = plt.subplots(1,2,figsize=(12,6))\n",
    "y_vars[y_vars.exit_value_partiallyexited>0].exit_value_partiallyexited.hist(bins=30,ax=ax[0])\n",
    "per = y_vars[y_vars.exit_value_partiallyexited>0].exit_value_partiallyexited.quantile(0.99)\n",
    "ax[0].axvline(per,color=\"red\")\n",
    "ax[0].set_title(\"Exit value v2 -  Histogram\")\n",
    "ax[0].set_xlabel(\"usd mn\")\n",
    "print(\"Exit value v2: Deals where partially exited==1\")\n",
    "print(f\"The 99th percentile is {round(per)}\")\n",
    "ax[1].set_title(\"Exit value v2 - Histogram Zoomed in\")\n",
    "ax[1].set_xlabel(\"usd mn\")\n",
    "y_vars[(y_vars.exit_value_partiallyexited>0) & (y_vars.exit_value_partiallyexited<=per)].exit_value_partiallyexited.hist(bins=30,ax=ax[1]);"
   ]
  },
  {
   "cell_type": "code",
   "execution_count": 31,
   "metadata": {},
   "outputs": [
    {
     "data": {
      "text/html": [
       "<div>\n",
       "<style scoped>\n",
       "    .dataframe tbody tr th:only-of-type {\n",
       "        vertical-align: middle;\n",
       "    }\n",
       "\n",
       "    .dataframe tbody tr th {\n",
       "        vertical-align: top;\n",
       "    }\n",
       "\n",
       "    .dataframe thead th {\n",
       "        text-align: right;\n",
       "    }\n",
       "</style>\n",
       "<table border=\"1\" class=\"dataframe\">\n",
       "  <thead>\n",
       "    <tr style=\"text-align: right;\">\n",
       "      <th></th>\n",
       "      <th>dealcounts</th>\n",
       "      <th>dealsizeusdmn</th>\n",
       "      <th>seed_founding</th>\n",
       "      <th>firstrounds_founding</th>\n",
       "      <th>has_ipo</th>\n",
       "      <th>ipo_value</th>\n",
       "      <th>exit_value</th>\n",
       "      <th>exit_value_partiallyexited</th>\n",
       "    </tr>\n",
       "    <tr>\n",
       "      <th>portfoliocompanyid</th>\n",
       "      <th></th>\n",
       "      <th></th>\n",
       "      <th></th>\n",
       "      <th></th>\n",
       "      <th></th>\n",
       "      <th></th>\n",
       "      <th></th>\n",
       "      <th></th>\n",
       "    </tr>\n",
       "  </thead>\n",
       "  <tbody>\n",
       "    <tr>\n",
       "      <th>26178</th>\n",
       "      <td>8</td>\n",
       "      <td>351.22</td>\n",
       "      <td>0.00</td>\n",
       "      <td>80.00</td>\n",
       "      <td>1.0</td>\n",
       "      <td>74.52</td>\n",
       "      <td>1674.52</td>\n",
       "      <td>74.52</td>\n",
       "    </tr>\n",
       "    <tr>\n",
       "      <th>26580</th>\n",
       "      <td>16</td>\n",
       "      <td>812.00</td>\n",
       "      <td>0.00</td>\n",
       "      <td>292.00</td>\n",
       "      <td>1.0</td>\n",
       "      <td>292.10</td>\n",
       "      <td>491.95</td>\n",
       "      <td>491.95</td>\n",
       "    </tr>\n",
       "    <tr>\n",
       "      <th>26635</th>\n",
       "      <td>8</td>\n",
       "      <td>710.00</td>\n",
       "      <td>0.00</td>\n",
       "      <td>710.00</td>\n",
       "      <td>1.0</td>\n",
       "      <td>151.30</td>\n",
       "      <td>151.30</td>\n",
       "      <td>151.30</td>\n",
       "    </tr>\n",
       "    <tr>\n",
       "      <th>26957</th>\n",
       "      <td>1</td>\n",
       "      <td>18.00</td>\n",
       "      <td>0.00</td>\n",
       "      <td>0.00</td>\n",
       "      <td>0.0</td>\n",
       "      <td>0.00</td>\n",
       "      <td>0.00</td>\n",
       "      <td>0.00</td>\n",
       "    </tr>\n",
       "    <tr>\n",
       "      <th>28167</th>\n",
       "      <td>1</td>\n",
       "      <td>0.00</td>\n",
       "      <td>0.00</td>\n",
       "      <td>0.00</td>\n",
       "      <td>0.0</td>\n",
       "      <td>0.00</td>\n",
       "      <td>0.00</td>\n",
       "      <td>0.00</td>\n",
       "    </tr>\n",
       "    <tr>\n",
       "      <th>...</th>\n",
       "      <td>...</td>\n",
       "      <td>...</td>\n",
       "      <td>...</td>\n",
       "      <td>...</td>\n",
       "      <td>...</td>\n",
       "      <td>...</td>\n",
       "      <td>...</td>\n",
       "      <td>...</td>\n",
       "    </tr>\n",
       "    <tr>\n",
       "      <th>384356</th>\n",
       "      <td>1</td>\n",
       "      <td>10.00</td>\n",
       "      <td>10.00</td>\n",
       "      <td>10.00</td>\n",
       "      <td>0.0</td>\n",
       "      <td>0.00</td>\n",
       "      <td>0.00</td>\n",
       "      <td>0.00</td>\n",
       "    </tr>\n",
       "    <tr>\n",
       "      <th>384360</th>\n",
       "      <td>2</td>\n",
       "      <td>0.15</td>\n",
       "      <td>0.15</td>\n",
       "      <td>0.15</td>\n",
       "      <td>0.0</td>\n",
       "      <td>0.00</td>\n",
       "      <td>0.00</td>\n",
       "      <td>0.00</td>\n",
       "    </tr>\n",
       "    <tr>\n",
       "      <th>384390</th>\n",
       "      <td>1</td>\n",
       "      <td>0.00</td>\n",
       "      <td>0.00</td>\n",
       "      <td>0.00</td>\n",
       "      <td>0.0</td>\n",
       "      <td>0.00</td>\n",
       "      <td>0.00</td>\n",
       "      <td>0.00</td>\n",
       "    </tr>\n",
       "    <tr>\n",
       "      <th>384391</th>\n",
       "      <td>1</td>\n",
       "      <td>28.50</td>\n",
       "      <td>0.00</td>\n",
       "      <td>28.50</td>\n",
       "      <td>0.0</td>\n",
       "      <td>0.00</td>\n",
       "      <td>0.00</td>\n",
       "      <td>0.00</td>\n",
       "    </tr>\n",
       "    <tr>\n",
       "      <th>384432</th>\n",
       "      <td>4</td>\n",
       "      <td>1.62</td>\n",
       "      <td>0.00</td>\n",
       "      <td>0.00</td>\n",
       "      <td>0.0</td>\n",
       "      <td>0.00</td>\n",
       "      <td>0.00</td>\n",
       "      <td>0.00</td>\n",
       "    </tr>\n",
       "  </tbody>\n",
       "</table>\n",
       "<p>13704 rows × 8 columns</p>\n",
       "</div>"
      ],
      "text/plain": [
       "                    dealcounts  dealsizeusdmn  seed_founding  \\\n",
       "portfoliocompanyid                                             \n",
       "26178                        8         351.22           0.00   \n",
       "26580                       16         812.00           0.00   \n",
       "26635                        8         710.00           0.00   \n",
       "26957                        1          18.00           0.00   \n",
       "28167                        1           0.00           0.00   \n",
       "...                        ...            ...            ...   \n",
       "384356                       1          10.00          10.00   \n",
       "384360                       2           0.15           0.15   \n",
       "384390                       1           0.00           0.00   \n",
       "384391                       1          28.50           0.00   \n",
       "384432                       4           1.62           0.00   \n",
       "\n",
       "                    firstrounds_founding  has_ipo  ipo_value  exit_value  \\\n",
       "portfoliocompanyid                                                         \n",
       "26178                              80.00      1.0      74.52     1674.52   \n",
       "26580                             292.00      1.0     292.10      491.95   \n",
       "26635                             710.00      1.0     151.30      151.30   \n",
       "26957                               0.00      0.0       0.00        0.00   \n",
       "28167                               0.00      0.0       0.00        0.00   \n",
       "...                                  ...      ...        ...         ...   \n",
       "384356                             10.00      0.0       0.00        0.00   \n",
       "384360                              0.15      0.0       0.00        0.00   \n",
       "384390                              0.00      0.0       0.00        0.00   \n",
       "384391                             28.50      0.0       0.00        0.00   \n",
       "384432                              0.00      0.0       0.00        0.00   \n",
       "\n",
       "                    exit_value_partiallyexited  \n",
       "portfoliocompanyid                              \n",
       "26178                                    74.52  \n",
       "26580                                   491.95  \n",
       "26635                                   151.30  \n",
       "26957                                     0.00  \n",
       "28167                                     0.00  \n",
       "...                                        ...  \n",
       "384356                                    0.00  \n",
       "384360                                    0.00  \n",
       "384390                                    0.00  \n",
       "384391                                    0.00  \n",
       "384432                                    0.00  \n",
       "\n",
       "[13704 rows x 8 columns]"
      ]
     },
     "execution_count": 31,
     "metadata": {},
     "output_type": "execute_result"
    }
   ],
   "source": [
    "y_vars"
   ]
  },
  {
   "cell_type": "code",
   "execution_count": 32,
   "metadata": {},
   "outputs": [],
   "source": [
    "# y_vars.to_csv(datadir+\"/y_vars.csv\")"
   ]
  },
  {
   "cell_type": "markdown",
   "metadata": {},
   "source": [
    "## Merger.dta"
   ]
  },
  {
   "cell_type": "code",
   "execution_count": 77,
   "metadata": {},
   "outputs": [],
   "source": [
    "data_mer = pd.read_stata(datadir+\"/mergers.dta\")"
   ]
  },
  {
   "cell_type": "code",
   "execution_count": 83,
   "metadata": {},
   "outputs": [
    {
     "data": {
      "text/html": [
       "<div>\n",
       "<style scoped>\n",
       "    .dataframe tbody tr th:only-of-type {\n",
       "        vertical-align: middle;\n",
       "    }\n",
       "\n",
       "    .dataframe tbody tr th {\n",
       "        vertical-align: top;\n",
       "    }\n",
       "\n",
       "    .dataframe thead th {\n",
       "        text-align: right;\n",
       "    }\n",
       "</style>\n",
       "<table border=\"1\" class=\"dataframe\">\n",
       "  <thead>\n",
       "    <tr style=\"text-align: right;\">\n",
       "      <th></th>\n",
       "      <th>dateannounced</th>\n",
       "      <th>dateannouncedstr</th>\n",
       "      <th>targetname</th>\n",
       "      <th>targetdescription</th>\n",
       "      <th>targetsic</th>\n",
       "      <th>targetindustrysector</th>\n",
       "      <th>targetstate</th>\n",
       "      <th>acquirorname</th>\n",
       "      <th>acquirordescription</th>\n",
       "      <th>acquirorsic</th>\n",
       "      <th>...</th>\n",
       "      <th>pctofshares</th>\n",
       "      <th>enterprisevalue</th>\n",
       "      <th>equityvalue</th>\n",
       "      <th>netincome12mo</th>\n",
       "      <th>targetcommonequity</th>\n",
       "      <th>mfull_name</th>\n",
       "      <th>match_type</th>\n",
       "      <th>match_name</th>\n",
       "      <th>match_name2</th>\n",
       "      <th>match_collapsed</th>\n",
       "    </tr>\n",
       "  </thead>\n",
       "  <tbody>\n",
       "    <tr>\n",
       "      <th>0</th>\n",
       "      <td>1990-01-02</td>\n",
       "      <td>01/02/90</td>\n",
       "      <td>Chicago,South Shore &amp; S Bend</td>\n",
       "      <td>Operate railroad</td>\n",
       "      <td>4011</td>\n",
       "      <td>Transportation and Shipping (except air)</td>\n",
       "      <td>Indiana</td>\n",
       "      <td>Chicago Southshore &amp; S Bend RR</td>\n",
       "      <td>Own and operate railroad</td>\n",
       "      <td>4011</td>\n",
       "      <td>...</td>\n",
       "      <td>100.00</td>\n",
       "      <td>np</td>\n",
       "      <td>np</td>\n",
       "      <td></td>\n",
       "      <td></td>\n",
       "      <td>CHICAGO,SOUTH SHORE &amp; S BEND</td>\n",
       "      <td></td>\n",
       "      <td>CHICAGOSOUTH SHORE &amp; S BEND</td>\n",
       "      <td>CHICAGOSOUTH SHORE &amp; S BEND</td>\n",
       "      <td>CHICAGOSOUTHSHORE&amp;SBEND</td>\n",
       "    </tr>\n",
       "    <tr>\n",
       "      <th>1</th>\n",
       "      <td>1990-01-02</td>\n",
       "      <td>01/02/90</td>\n",
       "      <td>Damon Corp-Hobby Products Bus</td>\n",
       "      <td>Manufacture hobby products</td>\n",
       "      <td>3944</td>\n",
       "      <td>Miscellaneous Manufacturing</td>\n",
       "      <td>Massachusetts</td>\n",
       "      <td>Investor Group</td>\n",
       "      <td>Investor group</td>\n",
       "      <td>6799</td>\n",
       "      <td>...</td>\n",
       "      <td>100.00</td>\n",
       "      <td>np</td>\n",
       "      <td>np</td>\n",
       "      <td></td>\n",
       "      <td></td>\n",
       "      <td>DAMON CORPORATION HOBBY PRODUCTS BUS</td>\n",
       "      <td>CORPORATION</td>\n",
       "      <td>DAMON</td>\n",
       "      <td>DAMON</td>\n",
       "      <td>DAMON</td>\n",
       "    </tr>\n",
       "    <tr>\n",
       "      <th>2</th>\n",
       "      <td>1990-01-02</td>\n",
       "      <td>01/02/90</td>\n",
       "      <td>Jefferies Group Inc</td>\n",
       "      <td>Investment bank</td>\n",
       "      <td>6211</td>\n",
       "      <td>Investment &amp; Commodity Firms,Dealers,Exchanges</td>\n",
       "      <td>California</td>\n",
       "      <td>Jefferies Group Inc</td>\n",
       "      <td>Investment bank</td>\n",
       "      <td>6211</td>\n",
       "      <td>...</td>\n",
       "      <td>14.82</td>\n",
       "      <td>1,486.82</td>\n",
       "      <td>1341.57</td>\n",
       "      <td>3.7</td>\n",
       "      <td>80.901</td>\n",
       "      <td>JEFFERIES GROUP INCORPORATED</td>\n",
       "      <td>INCORPORATED</td>\n",
       "      <td>JEFFERIES GROUP</td>\n",
       "      <td>JEFFERIES GROUP</td>\n",
       "      <td>JEFFERIESGROUP</td>\n",
       "    </tr>\n",
       "    <tr>\n",
       "      <th>3</th>\n",
       "      <td>1990-01-02</td>\n",
       "      <td>01/02/90</td>\n",
       "      <td>McCullagh Leasing Inc</td>\n",
       "      <td>Provide vehicle leasing svcs</td>\n",
       "      <td>6159</td>\n",
       "      <td>Credit Institutions</td>\n",
       "      <td>Massachusetts</td>\n",
       "      <td>General Electric Capital Corp</td>\n",
       "      <td>Commercial financing svcs</td>\n",
       "      <td>6141</td>\n",
       "      <td>...</td>\n",
       "      <td>100.00</td>\n",
       "      <td>np</td>\n",
       "      <td>np</td>\n",
       "      <td></td>\n",
       "      <td></td>\n",
       "      <td>MCCULLAGH LEASING INCORPORATED</td>\n",
       "      <td>INCORPORATED</td>\n",
       "      <td>MCCULLAGH LEASING</td>\n",
       "      <td>MCCULLAGH LEASING</td>\n",
       "      <td>MCCULLAGHLEASING</td>\n",
       "    </tr>\n",
       "    <tr>\n",
       "      <th>4</th>\n",
       "      <td>1990-01-02</td>\n",
       "      <td>01/02/90</td>\n",
       "      <td>Tate &amp; Lyle-US,CA Motor Parts</td>\n",
       "      <td>Manufacture motor components</td>\n",
       "      <td>3621</td>\n",
       "      <td>Electronic and Electrical Equipment</td>\n",
       "      <td>Unknown</td>\n",
       "      <td>Hidden Creek Industries</td>\n",
       "      <td>Mnfr motors,auto parts</td>\n",
       "      <td>3621</td>\n",
       "      <td>...</td>\n",
       "      <td>80.00</td>\n",
       "      <td>224.375</td>\n",
       "      <td>224.375</td>\n",
       "      <td></td>\n",
       "      <td></td>\n",
       "      <td>TATE &amp; LYLE US,CA MOTOR PARTS</td>\n",
       "      <td></td>\n",
       "      <td>TATE &amp; LYLE USCA MOTOR PARTS</td>\n",
       "      <td>TATE &amp; LYLE USCA MOTOR PARTS</td>\n",
       "      <td>TATE&amp;LYLEUSCAMOTORPARTS</td>\n",
       "    </tr>\n",
       "  </tbody>\n",
       "</table>\n",
       "<p>5 rows × 22 columns</p>\n",
       "</div>"
      ],
      "text/plain": [
       "  dateannounced dateannouncedstr                     targetname  \\\n",
       "0    1990-01-02         01/02/90   Chicago,South Shore & S Bend   \n",
       "1    1990-01-02         01/02/90  Damon Corp-Hobby Products Bus   \n",
       "2    1990-01-02         01/02/90            Jefferies Group Inc   \n",
       "3    1990-01-02         01/02/90          McCullagh Leasing Inc   \n",
       "4    1990-01-02         01/02/90  Tate & Lyle-US,CA Motor Parts   \n",
       "\n",
       "              targetdescription targetsic  \\\n",
       "0              Operate railroad      4011   \n",
       "1    Manufacture hobby products      3944   \n",
       "2               Investment bank      6211   \n",
       "3  Provide vehicle leasing svcs      6159   \n",
       "4  Manufacture motor components      3621   \n",
       "\n",
       "                             targetindustrysector    targetstate  \\\n",
       "0        Transportation and Shipping (except air)        Indiana   \n",
       "1                     Miscellaneous Manufacturing  Massachusetts   \n",
       "2  Investment & Commodity Firms,Dealers,Exchanges     California   \n",
       "3                             Credit Institutions  Massachusetts   \n",
       "4             Electronic and Electrical Equipment        Unknown   \n",
       "\n",
       "                     acquirorname        acquirordescription acquirorsic  ...  \\\n",
       "0  Chicago Southshore & S Bend RR   Own and operate railroad        4011  ...   \n",
       "1                  Investor Group             Investor group        6799  ...   \n",
       "2             Jefferies Group Inc            Investment bank        6211  ...   \n",
       "3   General Electric Capital Corp  Commercial financing svcs        6141  ...   \n",
       "4         Hidden Creek Industries     Mnfr motors,auto parts        3621  ...   \n",
       "\n",
       "  pctofshares enterprisevalue equityvalue netincome12mo targetcommonequity  \\\n",
       "0      100.00              np          np                                    \n",
       "1      100.00              np          np                                    \n",
       "2       14.82        1,486.82     1341.57           3.7             80.901   \n",
       "3      100.00              np          np                                    \n",
       "4       80.00         224.375     224.375                                    \n",
       "\n",
       "                             mfull_name    match_type  \\\n",
       "0          CHICAGO,SOUTH SHORE & S BEND                 \n",
       "1  DAMON CORPORATION HOBBY PRODUCTS BUS   CORPORATION   \n",
       "2          JEFFERIES GROUP INCORPORATED  INCORPORATED   \n",
       "3        MCCULLAGH LEASING INCORPORATED  INCORPORATED   \n",
       "4         TATE & LYLE US,CA MOTOR PARTS                 \n",
       "\n",
       "                     match_name                   match_name2  \\\n",
       "0   CHICAGOSOUTH SHORE & S BEND   CHICAGOSOUTH SHORE & S BEND   \n",
       "1                         DAMON                         DAMON   \n",
       "2               JEFFERIES GROUP               JEFFERIES GROUP   \n",
       "3             MCCULLAGH LEASING             MCCULLAGH LEASING   \n",
       "4  TATE & LYLE USCA MOTOR PARTS  TATE & LYLE USCA MOTOR PARTS   \n",
       "\n",
       "           match_collapsed  \n",
       "0  CHICAGOSOUTHSHORE&SBEND  \n",
       "1                    DAMON  \n",
       "2           JEFFERIESGROUP  \n",
       "3         MCCULLAGHLEASING  \n",
       "4  TATE&LYLEUSCAMOTORPARTS  \n",
       "\n",
       "[5 rows x 22 columns]"
      ]
     },
     "execution_count": 83,
     "metadata": {},
     "output_type": "execute_result"
    }
   ],
   "source": [
    "data_mer.head()"
   ]
  },
  {
   "cell_type": "code",
   "execution_count": 80,
   "metadata": {},
   "outputs": [
    {
     "name": "stdout",
     "output_type": "stream",
     "text": [
      "<class 'pandas.core.frame.DataFrame'>\n",
      "Int64Index: 71088 entries, 0 to 71087\n",
      "Data columns (total 22 columns):\n",
      " #   Column                Non-Null Count  Dtype         \n",
      "---  ------                --------------  -----         \n",
      " 0   dateannounced         71087 non-null  datetime64[ns]\n",
      " 1   dateannouncedstr      71088 non-null  object        \n",
      " 2   targetname            71088 non-null  object        \n",
      " 3   targetdescription     71088 non-null  object        \n",
      " 4   targetsic             71088 non-null  object        \n",
      " 5   targetindustrysector  71088 non-null  object        \n",
      " 6   targetstate           71088 non-null  object        \n",
      " 7   acquirorname          71088 non-null  object        \n",
      " 8   acquirordescription   71088 non-null  object        \n",
      " 9   acquirorsic           71088 non-null  object        \n",
      " 10  acquirorstate         71088 non-null  object        \n",
      " 11  acquirornation        71088 non-null  object        \n",
      " 12  pctofshares           71088 non-null  object        \n",
      " 13  enterprisevalue       71088 non-null  object        \n",
      " 14  equityvalue           71088 non-null  object        \n",
      " 15  netincome12mo         71088 non-null  object        \n",
      " 16  targetcommonequity    71088 non-null  object        \n",
      " 17  mfull_name            71088 non-null  object        \n",
      " 18  match_type            71088 non-null  object        \n",
      " 19  match_name            71088 non-null  object        \n",
      " 20  match_name2           71088 non-null  object        \n",
      " 21  match_collapsed       71088 non-null  object        \n",
      "dtypes: datetime64[ns](1), object(21)\n",
      "memory usage: 12.5+ MB\n"
     ]
    }
   ],
   "source": [
    "data_mer[\"dateannounced\"] = pd.to_datetime(data_mer.dateannounced)\n",
    "#pd.to_datetime(data_mer.dateannounced)\n",
    "data_mer.info()"
   ]
  },
  {
   "cell_type": "code",
   "execution_count": 82,
   "metadata": {},
   "outputs": [
    {
     "data": {
      "text/plain": [
       "(Timestamp('1990-01-02 00:00:00'), Timestamp('2014-06-13 00:00:00'))"
      ]
     },
     "execution_count": 82,
     "metadata": {},
     "output_type": "execute_result"
    }
   ],
   "source": [
    "data_mer.dateannounced.min(),data_mer.dateannounced.max()"
   ]
  },
  {
   "cell_type": "markdown",
   "metadata": {},
   "source": [
    "## how to utilize merger data? \n",
    "It seems reasonable to take merger as well as IPO as one of the performance measures."
   ]
  },
  {
   "cell_type": "code",
   "execution_count": null,
   "metadata": {},
   "outputs": [],
   "source": []
  }
 ],
 "metadata": {
  "kernelspec": {
   "display_name": "Python 3",
   "language": "python",
   "name": "python3"
  },
  "language_info": {
   "codemirror_mode": {
    "name": "ipython",
    "version": 3
   },
   "file_extension": ".py",
   "mimetype": "text/x-python",
   "name": "python",
   "nbconvert_exporter": "python",
   "pygments_lexer": "ipython3",
   "version": "3.7.6"
  }
 },
 "nbformat": 4,
 "nbformat_minor": 2
}

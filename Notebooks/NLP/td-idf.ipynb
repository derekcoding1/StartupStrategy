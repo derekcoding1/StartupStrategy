{
  "nbformat": 4,
  "nbformat_minor": 0,
  "metadata": {
    "colab": {
      "name": "Untitled6.ipynb",
      "provenance": [],
      "collapsed_sections": []
    },
    "kernelspec": {
      "name": "python3",
      "display_name": "Python 3"
    }
  },
  "cells": [
    {
      "cell_type": "code",
      "metadata": {
        "id": "uc7Srl5rFPTu"
      },
      "source": [
        "import pandas as pd\n",
        "import numpy as np\n",
        "import matplotlib.pyplot as plt\n",
        "import spacy\n",
        "import pathlib\n",
        "import random\n",
        "import math\n",
        "import nltk\n",
        "from nltk import word_tokenize \n",
        "from nltk.corpus import stopwords\n",
        "from nltk.stem import PorterStemmer\n",
        "from sklearn.feature_extraction.text import TfidfVectorizer"
      ],
      "execution_count": 1,
      "outputs": []
    },
    {
      "cell_type": "code",
      "metadata": {
        "id": "dvIlBerIFPWE",
        "outputId": "8424d931-068b-47ff-8977-2e8375e2bdd9",
        "colab": {
          "base_uri": "https://localhost:8080/",
          "height": 34
        }
      },
      "source": [
        "from google.colab import drive\n",
        "drive.mount('/content/drive')"
      ],
      "execution_count": 2,
      "outputs": [
        {
          "output_type": "stream",
          "text": [
            "Mounted at /content/drive\n"
          ],
          "name": "stdout"
        }
      ]
    },
    {
      "cell_type": "code",
      "metadata": {
        "id": "Dk3XYQ-QFPag"
      },
      "source": [
        "df = pd.read_stata(\"drive/My Drive/Capstone Shared Docs/data/all_deals.dta\")\n",
        "\n",
        "df_unique = df.drop_duplicates([\"portfoliocompanyid\"],keep=\"first\")"
      ],
      "execution_count": 3,
      "outputs": []
    },
    {
      "cell_type": "code",
      "metadata": {
        "id": "jSu3zH7uFPdA"
      },
      "source": [
        "path = pathlib.Path(\"drive/My Drive/Capstone Shared Docs/result/Local Oct 13 result\")"
      ],
      "execution_count": 4,
      "outputs": []
    },
    {
      "cell_type": "code",
      "metadata": {
        "id": "1ldX8MqbFPfE",
        "outputId": "f2ffc59b-1eec-4609-925c-f9a4f6cb5f2e",
        "colab": {
          "base_uri": "https://localhost:8080/",
          "height": 52
        }
      },
      "source": [
        "folders_with_data =list(path.glob('*'))\n",
        "folders_with_data =  [x for x in folders_with_data if x.is_dir()]\n",
        "folders_with_data"
      ],
      "execution_count": null,
      "outputs": [
        {
          "output_type": "execute_result",
          "data": {
            "text/plain": [
              "[PosixPath('drive/My Drive/Capstone Shared Docs/result/Local Oct 13 result/Local Oct 13 result 1-250'),\n",
              " PosixPath('drive/My Drive/Capstone Shared Docs/result/Local Oct 13 result/Local Oct 13 result_251-500')]"
            ]
          },
          "metadata": {
            "tags": []
          },
          "execution_count": 7
        }
      ]
    },
    {
      "cell_type": "code",
      "metadata": {
        "id": "SN37u1OuFPZB",
        "outputId": "f0d16807-a4d4-4750-9a60-eb9f45082173",
        "colab": {
          "base_uri": "https://localhost:8080/",
          "height": 105
        }
      },
      "source": [
        "all_paths=[]\n",
        "for f in folders_with_data:\n",
        "  paths = list(f.glob('*.txt'))\n",
        "  all_paths = all_paths + paths\n",
        "all_paths[:5]"
      ],
      "execution_count": null,
      "outputs": [
        {
          "output_type": "execute_result",
          "data": {
            "text/plain": [
              "[PosixPath('drive/My Drive/Capstone Shared Docs/result/Local Oct 13 result/Local Oct 13 result 1-250/61058_2011.txt'),\n",
              " PosixPath('drive/My Drive/Capstone Shared Docs/result/Local Oct 13 result/Local Oct 13 result 1-250/61319_2011.txt'),\n",
              " PosixPath('drive/My Drive/Capstone Shared Docs/result/Local Oct 13 result/Local Oct 13 result 1-250/61345_2011.txt'),\n",
              " PosixPath('drive/My Drive/Capstone Shared Docs/result/Local Oct 13 result/Local Oct 13 result 1-250/61791_2011.txt'),\n",
              " PosixPath('drive/My Drive/Capstone Shared Docs/result/Local Oct 13 result/Local Oct 13 result 1-250/61896_2011.txt')]"
            ]
          },
          "metadata": {
            "tags": []
          },
          "execution_count": 8
        }
      ]
    },
    {
      "cell_type": "code",
      "metadata": {
        "id": "QIPTTRTGF5jr",
        "outputId": "c444bc08-7afb-49c8-a98a-0c57467d71a9",
        "colab": {
          "base_uri": "https://localhost:8080/",
          "height": 34
        }
      },
      "source": [
        "all_text = {}\n",
        "for p in all_paths:\n",
        "    n = p.name.split(\"_\")[0]\n",
        "    file = open(p)\n",
        "    # Remove first two and last characters, because of ascii encoding\n",
        "    text = file.read().replace(\"***///***\",\"\")[2:-1]\n",
        "    # remove \"\"\n",
        "    text_list = text.split(\" \")\n",
        "    text_list = [x for x in text_list if x!=\"\"]\n",
        "    text = \" \".join(text_list)\n",
        "    file.close()\n",
        "    all_text[n] = text\n",
        "\n",
        "print(len(all_text))"
      ],
      "execution_count": null,
      "outputs": [
        {
          "output_type": "stream",
          "text": [
            "347\n"
          ],
          "name": "stdout"
        }
      ]
    },
    {
      "cell_type": "code",
      "metadata": {
        "id": "wtr1k2WHF5r6",
        "outputId": "bda88b08-10f3-4811-d229-612c4ef7df19",
        "colab": {
          "base_uri": "https://localhost:8080/",
          "height": 54
        }
      },
      "source": [
        "code_to_name = {}\n",
        "code_to_website = {}\n",
        "\n",
        "for p in all_paths:\n",
        "  n = int(p.name.split(\"_\")[0])\n",
        "  code_to_name[n] = df_unique[df_unique.portfoliocompanyid==n].iloc[0].portfoliocompany\n",
        "  code_to_website[n] = df_unique[df_unique.portfoliocompanyid==n].iloc[0].website\n",
        "\n",
        "print(list(code_to_name.values())[:5], list(code_to_website.values())[:5])"
      ],
      "execution_count": null,
      "outputs": [
        {
          "output_type": "stream",
          "text": [
            "['Kiip Inc.', 'SocialFlow, Inc.', 'Alteryx, Inc.', 'Velocita Inc.', 'Linkable Networks, Inc.'] ['www.kiip.me', 'www.socialflow.com', 'www.alteryx.com', 'www.shopsocially.com', 'www.linkablenetworks.com']\n"
          ],
          "name": "stdout"
        }
      ]
    },
    {
      "cell_type": "code",
      "metadata": {
        "id": "0QBXZVyMF6P1"
      },
      "source": [
        "codes_list = list(code_to_name.keys())\n",
        "codes_list.sort()\n",
        "code_to_index = {k:i for i,k in enumerate(codes_list)}\n",
        "index_to_code = {i:k for i,k in enumerate(codes_list)}"
      ],
      "execution_count": null,
      "outputs": []
    },
    {
      "cell_type": "code",
      "metadata": {
        "id": "EHpyBb5DF6Tt"
      },
      "source": [
        "stopWords = set(stopwords.words(\"english\"))"
      ],
      "execution_count": null,
      "outputs": []
    },
    {
      "cell_type": "code",
      "metadata": {
        "id": "h7fRlO4tPsRk"
      },
      "source": [
        "l1, l2 = [], []\n",
        "for k, v in all_text.items():\n",
        "  l1.append(k)\n",
        "  l2.append(v)"
      ],
      "execution_count": null,
      "outputs": []
    },
    {
      "cell_type": "code",
      "metadata": {
        "id": "1Meism0qP3vR"
      },
      "source": [
        "l2"
      ],
      "execution_count": null,
      "outputs": []
    },
    {
      "cell_type": "code",
      "metadata": {
        "id": "ShPazgjeP_R1"
      },
      "source": [
        "vectorizer = TfidfVectorizer(stop_words = stopWords)\n",
        "X = vectorizer.fit_transform(l2 )"
      ],
      "execution_count": null,
      "outputs": []
    },
    {
      "cell_type": "code",
      "metadata": {
        "id": "UhVMUB2cQKJO"
      },
      "source": [
        "def cos_sim(v1,v2):\n",
        "    return 1-scipy.spatial.distance.cosine(v1.toarray(),v2.toarray())\n",
        "\n",
        "def similarity_to_all(vec):\n",
        "    similarities = np.asarray([cos_sim(vec, X[i]) for i in range(0,X.shape[0])])\n",
        "    similarities = similarities.reshape(similarities.shape[0],1)\n",
        "    return similarities\n",
        "\n",
        "def get_most_similar(sim_matrix_v, startup_index, how_many=1):\n",
        "  sim_matrix_copy = sim_matrix_v.copy()\n",
        "  v = sim_matrix_copy[startup_index,:]\n",
        "  v[startup_index] = 0\n",
        "  most_similar_indices = []\n",
        "  similarity_list = []\n",
        "  for i in range(how_many):\n",
        "    ind = np.argmax(v)\n",
        "    similarity = np.max(v)\n",
        "    v[ind] = 0\n",
        "    most_similar_indices.append(ind)\n",
        "    similarity_list.append(similarity)\n",
        "  return most_similar_indices, similarity_list"
      ],
      "execution_count": null,
      "outputs": []
    },
    {
      "cell_type": "code",
      "metadata": {
        "id": "I90GuGFKXC0h"
      },
      "source": [
        "import scipy"
      ],
      "execution_count": null,
      "outputs": []
    },
    {
      "cell_type": "code",
      "metadata": {
        "id": "v-UWAS-XW_UU",
        "outputId": "e55c0189-0d37-451f-9e4e-3777b10cde4c",
        "colab": {
          "base_uri": "https://localhost:8080/",
          "height": 34
        }
      },
      "source": [
        "cos_sim(X[0],X[1])"
      ],
      "execution_count": null,
      "outputs": [
        {
          "output_type": "execute_result",
          "data": {
            "text/plain": [
              "0.9855801677800838"
            ]
          },
          "metadata": {
            "tags": []
          },
          "execution_count": 30
        }
      ]
    },
    {
      "cell_type": "code",
      "metadata": {
        "id": "KNC7sX7vXOzZ",
        "outputId": "5480e98d-94c2-40d7-d0c5-6fae74fa932a",
        "colab": {
          "base_uri": "https://localhost:8080/",
          "height": 246
        }
      },
      "source": [
        "sim_vect = []\n",
        "for i in range(0,X.shape[0]):\n",
        "    sim_vect.append(similarity_to_all(X[i]))\n",
        "sim_matrix = np.hstack(sim_vect)\n",
        "sim_matrix"
      ],
      "execution_count": null,
      "outputs": [
        {
          "output_type": "execute_result",
          "data": {
            "text/plain": [
              "array([[1.        , 0.01441983, 0.00312452, ..., 0.00967522, 0.02391946,\n",
              "        0.01389271],\n",
              "       [0.01441983, 1.        , 0.01671133, ..., 0.02512715, 0.01731169,\n",
              "        0.01637092],\n",
              "       [0.00312452, 0.01671133, 1.        , ..., 0.01200658, 0.03574773,\n",
              "        0.02788   ],\n",
              "       ...,\n",
              "       [0.00967522, 0.02512715, 0.01200658, ..., 1.        , 0.01706869,\n",
              "        0.00497433],\n",
              "       [0.02391946, 0.01731169, 0.03574773, ..., 0.01706869, 1.        ,\n",
              "        0.0363301 ],\n",
              "       [0.01389271, 0.01637092, 0.02788   , ..., 0.00497433, 0.0363301 ,\n",
              "        1.        ]])"
            ]
          },
          "metadata": {
            "tags": []
          },
          "execution_count": 39
        }
      ]
    },
    {
      "cell_type": "code",
      "metadata": {
        "id": "VxknTKLIakil"
      },
      "source": [
        "def website_from_index(ind):\n",
        "  return code_to_website[index_to_code[ind]]\n",
        "\n",
        "def index_to_backgroud(ind):\n",
        "  return df_unique[df_unique.portfoliocompanyid==int(index_to_code[ind])].iloc[0].background"
      ],
      "execution_count": null,
      "outputs": []
    },
    {
      "cell_type": "code",
      "metadata": {
        "id": "kH5xpA6lUl2i"
      },
      "source": [
        "def background_text(t, line_len,line_num):\n",
        "  b = [t[j*line_len:(j+1)*line_len] for j in range(line_num)]\n",
        "  b = \"\\n\".join([c for c in b if c!=\"\"])\n",
        "  if len(t)>line_len*line_num:\n",
        "    b+=\"...\"\n",
        "  return b"
      ],
      "execution_count": null,
      "outputs": []
    },
    {
      "cell_type": "code",
      "metadata": {
        "id": "tHtcdOYvatg5",
        "outputId": "44b2d80c-ab64-4d9d-e5aa-a7dbbccae5fe",
        "colab": {
          "base_uri": "https://localhost:8080/",
          "height": 545
        }
      },
      "source": [
        "example_index = random.randint(0,len(codes_list)-1)\n",
        "n = 5\n",
        "most_similar_index,most_similar_similarity = get_most_similar(sim_matrix, example_index, n)\n",
        "line_len = 100\n",
        "line_num = 4\n",
        "\n",
        "print(f\"Example startup: {website_from_index(example_index)}\")\n",
        "print(background_text(index_to_backgroud(example_index),line_len,line_num))\n",
        "print(\"-----------------------------------------------------------------\")\n",
        "print(\"Similar startups:\")\n",
        "for i in range(n):\n",
        "  print(f\"{i+1}): {website_from_index(most_similar_index[i])}  |   Similarity: {most_similar_similarity[i]}\")\n",
        "  background = index_to_backgroud(most_similar_index[i])\n",
        "  background = background_text(background, line_len, line_num)\n",
        "  print(background)\n",
        "  print(\"\")\n"
      ],
      "execution_count": null,
      "outputs": [
        {
          "output_type": "stream",
          "text": [
            "Example startup: www.popdust.com\n",
            "Founded in 2010, Popdust, Inc. operates a music editorial website focused on mainstream artists and \n",
            "pop music culture. It provides audiences with music news, reviews.\n",
            "-----------------------------------------------------------------\n",
            "Similar startups:\n",
            "1): www.cetas.net  |   Similarity: 0.37931138217309823\n",
            "Founded in 2010 and headquartered in Palo Alto, California, Cetas Software provides real-time big da\n",
            "ta analytics solutions to extract actionable insights for online businesses and enterprises to get i\n",
            "nstant recommendations, summarizations, segmentations and predictions from behavioral, social, locat\n",
            "ional and mobile data.\n",
            "\n",
            "2): www.luxurygaragesale.com  |   Similarity: 0.22682465417712583\n",
            "Established in 2010 and based in Chicago, Illinois, Luxury Garage Sale operates as boutique retail a\n",
            "nd digital store that sells new and used designer clothing and accessories.\n",
            "\n",
            "3): www.plumdistrict.com  |   Similarity: 0.21053130467574566\n",
            "Founded in 2010 and based in California, US, Plum District, Inc. operates an online marketplace for \n",
            "mom-oriented deals and coupons.\n",
            "\n",
            "4): www.bluecava.com  |   Similarity: 0.18940057205204563\n",
            "Founded in 2010 and based in Irvine, California, BlueCava provides device identification technology \n",
            "providing information about good, bad, and historical activities. It is used in fraud management for\n",
            " payment processing, banking, and e-commerce, cloud computing, digital rights management and softwar\n",
            "e activation applications.\n",
            "\n",
            "5): www.pipedrive.com  |   Similarity: 0.14042390489377066\n",
            "Founded in 2010 and based in New York, US, Pipedrive Inc. operates as a provider of a web-based cust\n",
            "omer relationship management and sales pipeline management software that helps enterprises to close \n",
            "deals and to manage sale processes.\n",
            "\n"
          ],
          "name": "stdout"
        }
      ]
    },
    {
      "cell_type": "code",
      "metadata": {
        "id": "ksRHwbN8U1dQ"
      },
      "source": [
        "def compute_strategy_score(similarity_list):\n",
        "  distance_list = [1-x for x in similarity_list]\n",
        "  return (1.0/len(distance_list))*np.sum(distance_list)\n",
        "\n",
        "def get_similarity_score(ind):\n",
        "  ms_index,ms_similarity = get_most_similar(sim_matrix, ind, 5)\n",
        "  return compute_strategy_score(ms_similarity)"
      ],
      "execution_count": null,
      "outputs": []
    },
    {
      "cell_type": "code",
      "metadata": {
        "id": "kdNNfnPrbjfo"
      },
      "source": [
        "all_scores={index_to_code[i]:get_similarity_score(i) for i in index_to_code}\n",
        "all_scores = sorted(all_scores.items(), key=lambda x: x[1], reverse=False)"
      ],
      "execution_count": null,
      "outputs": []
    },
    {
      "cell_type": "code",
      "metadata": {
        "id": "Vw7uc4nvbjj3",
        "outputId": "3b17a390-9cd4-4cb6-9f78-c241ff9be6bd",
        "colab": {
          "base_uri": "https://localhost:8080/",
          "height": 565
        }
      },
      "source": [
        "n =10\n",
        "for i in range(n):\n",
        "  print(f\"{i+1}): {code_to_website[all_scores[i][0]]}  |   Score: {all_scores[i][1]}\")\n",
        "  print(index_to_backgroud(code_to_index[all_scores[i][0]]), end=\"\\n\\n\")"
      ],
      "execution_count": null,
      "outputs": [
        {
          "output_type": "stream",
          "text": [
            "1): www.narrativescience.com  |   Score: 0.173984480039841\n",
            "Founded in 2010 and based in Illinois, US, Narrative Science operates as a provider of natural language generation platform using artificial intelligence.\n",
            "\n",
            "2): www.sproutsocial.com  |   Score: 0.173984480039841\n",
            "Founded in 2010 and based in Illinois, US, Sprout Social, Inc. operates as a provider of social media management software and solutions designed to allow businesses to efficiently and effectively manage and grow their social presence across multiple channels. The company's platform offers tools for streaming social media content, assessing customer metrics, and managing brands to find and interact with social audiences.\n",
            "\n",
            "3): www.vivino.com  |   Score: 0.173984480039841\n",
            "Founded in 2010 and based in California, US, Vivino, Inc. operates an online marketplace which offers wines.\n",
            "\n",
            "4): www.ziprecruiter.com  |   Score: 0.173984480039841\n",
            "Founded in 2010 and based in California, US, ZipRecruiter, Inc. operates an online job search platform, that allows users to find jobs and connect with employers.\n",
            "\n",
            "5): www.fractyl.com  |   Score: 0.173984480039841\n",
            "Founded in 2010 and based in Massachusetts, US, Fractyl Laboratories, Inc., the developer of Revita™ DMR, a surgical device used in procedural therapy that rejuvenates the lining of the duodenum. The company also provides treatments for patients with conditions resulting from insulin resistance, including type 2 diabetes, nonalcoholic steatohepatitis, and polycystic ovarian syndrome with the help of cell and gene therapy.\n",
            "\n",
            "6): www.educreations.com  |   Score: 0.5408632668474489\n",
            "Founded in 2010, based in Sunnyvale, California, Educreations, Inc. operate educreations.com, an Internet community that allows users to teach and learn.\n",
            "\n",
            "7): www.aerofs.com  |   Score: 0.5513741745933917\n",
            "Founded in 2010 and based in California, US, Air Computing, Inc. develops AeroFS software that offers private syncing and storage solutions which enable users to sync data on devices.\n",
            "\n",
            "8): www.astrolome.com  |   Score: 0.5596080790408109\n",
            "Founded in 2010 and based in California, US, Astrolome Inc. operates an online platform for customized astrology forecasting services.\n",
            "\n",
            "9): www.propertybase.com  |   Score: 0.5709219943011864\n",
            "Founded in 2010 and based in Massachusetts, US, Propertybase Inc. operates as a provider of software-as-a-service cloud-computing CRM platform and marketing solutions for real estate companies, agents and smaller brokerages.\n",
            "\n",
            "10): www.smartwires.com  |   Score: 0.5709219943011864\n",
            "Founded in 2010 and based in California, US, Smart Wires Inc. develops grid optimization solutions and collaborates with electric utilities to provide a power flow control technology for the electricity industry.\n",
            "\n"
          ],
          "name": "stdout"
        }
      ]
    },
    {
      "cell_type": "code",
      "metadata": {
        "id": "O3KgaUfVbjnd",
        "outputId": "969eac1e-6462-4e65-eb80-42bb41e6b522",
        "colab": {
          "base_uri": "https://localhost:8080/",
          "height": 343
        }
      },
      "source": [
        "n =10\n",
        "top_10 = pd.DataFrame({\"startup\":[],\"score\":[],\"background\":[]})\n",
        "for i in range(n):\n",
        "  website = code_to_website[all_scores[i][0]]\n",
        "  score = all_scores[i][1]\n",
        "  top_10 = top_10.append({\"startup\":website,\"score\":score,\"background\":index_to_backgroud(code_to_index[all_scores[i][0]])},ignore_index=True)\n",
        "\n",
        "top_10"
      ],
      "execution_count": null,
      "outputs": [
        {
          "output_type": "execute_result",
          "data": {
            "text/html": [
              "<div>\n",
              "<style scoped>\n",
              "    .dataframe tbody tr th:only-of-type {\n",
              "        vertical-align: middle;\n",
              "    }\n",
              "\n",
              "    .dataframe tbody tr th {\n",
              "        vertical-align: top;\n",
              "    }\n",
              "\n",
              "    .dataframe thead th {\n",
              "        text-align: right;\n",
              "    }\n",
              "</style>\n",
              "<table border=\"1\" class=\"dataframe\">\n",
              "  <thead>\n",
              "    <tr style=\"text-align: right;\">\n",
              "      <th></th>\n",
              "      <th>startup</th>\n",
              "      <th>score</th>\n",
              "      <th>background</th>\n",
              "    </tr>\n",
              "  </thead>\n",
              "  <tbody>\n",
              "    <tr>\n",
              "      <th>0</th>\n",
              "      <td>www.narrativescience.com</td>\n",
              "      <td>0.173984</td>\n",
              "      <td>Founded in 2010 and based in Illinois, US, Nar...</td>\n",
              "    </tr>\n",
              "    <tr>\n",
              "      <th>1</th>\n",
              "      <td>www.sproutsocial.com</td>\n",
              "      <td>0.173984</td>\n",
              "      <td>Founded in 2010 and based in Illinois, US, Spr...</td>\n",
              "    </tr>\n",
              "    <tr>\n",
              "      <th>2</th>\n",
              "      <td>www.vivino.com</td>\n",
              "      <td>0.173984</td>\n",
              "      <td>Founded in 2010 and based in California, US, V...</td>\n",
              "    </tr>\n",
              "    <tr>\n",
              "      <th>3</th>\n",
              "      <td>www.ziprecruiter.com</td>\n",
              "      <td>0.173984</td>\n",
              "      <td>Founded in 2010 and based in California, US, Z...</td>\n",
              "    </tr>\n",
              "    <tr>\n",
              "      <th>4</th>\n",
              "      <td>www.fractyl.com</td>\n",
              "      <td>0.173984</td>\n",
              "      <td>Founded in 2010 and based in Massachusetts, US...</td>\n",
              "    </tr>\n",
              "    <tr>\n",
              "      <th>5</th>\n",
              "      <td>www.educreations.com</td>\n",
              "      <td>0.540863</td>\n",
              "      <td>Founded in 2010, based in Sunnyvale, Californi...</td>\n",
              "    </tr>\n",
              "    <tr>\n",
              "      <th>6</th>\n",
              "      <td>www.aerofs.com</td>\n",
              "      <td>0.551374</td>\n",
              "      <td>Founded in 2010 and based in California, US, A...</td>\n",
              "    </tr>\n",
              "    <tr>\n",
              "      <th>7</th>\n",
              "      <td>www.astrolome.com</td>\n",
              "      <td>0.559608</td>\n",
              "      <td>Founded in 2010 and based in California, US, A...</td>\n",
              "    </tr>\n",
              "    <tr>\n",
              "      <th>8</th>\n",
              "      <td>www.propertybase.com</td>\n",
              "      <td>0.570922</td>\n",
              "      <td>Founded in 2010 and based in Massachusetts, US...</td>\n",
              "    </tr>\n",
              "    <tr>\n",
              "      <th>9</th>\n",
              "      <td>www.smartwires.com</td>\n",
              "      <td>0.570922</td>\n",
              "      <td>Founded in 2010 and based in California, US, S...</td>\n",
              "    </tr>\n",
              "  </tbody>\n",
              "</table>\n",
              "</div>"
            ],
            "text/plain": [
              "                    startup  ...                                         background\n",
              "0  www.narrativescience.com  ...  Founded in 2010 and based in Illinois, US, Nar...\n",
              "1      www.sproutsocial.com  ...  Founded in 2010 and based in Illinois, US, Spr...\n",
              "2            www.vivino.com  ...  Founded in 2010 and based in California, US, V...\n",
              "3      www.ziprecruiter.com  ...  Founded in 2010 and based in California, US, Z...\n",
              "4           www.fractyl.com  ...  Founded in 2010 and based in Massachusetts, US...\n",
              "5      www.educreations.com  ...  Founded in 2010, based in Sunnyvale, Californi...\n",
              "6            www.aerofs.com  ...  Founded in 2010 and based in California, US, A...\n",
              "7         www.astrolome.com  ...  Founded in 2010 and based in California, US, A...\n",
              "8      www.propertybase.com  ...  Founded in 2010 and based in Massachusetts, US...\n",
              "9        www.smartwires.com  ...  Founded in 2010 and based in California, US, S...\n",
              "\n",
              "[10 rows x 3 columns]"
            ]
          },
          "metadata": {
            "tags": []
          },
          "execution_count": 44
        }
      ]
    }
  ]
}
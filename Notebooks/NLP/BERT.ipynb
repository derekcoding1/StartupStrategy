{
  "nbformat": 4,
  "nbformat_minor": 0,
  "metadata": {
    "colab": {
      "name": "BERT.ipynb",
      "provenance": [],
      "collapsed_sections": [],
      "toc_visible": true
    },
    "kernelspec": {
      "name": "python3",
      "display_name": "Python 3"
    }
  },
  "cells": [
    {
      "cell_type": "markdown",
      "metadata": {
        "id": "jLCTXbk12Q-0"
      },
      "source": [
        "# **Package installation**"
      ]
    },
    {
      "cell_type": "code",
      "metadata": {
        "id": "t-U-od5yygzu",
        "outputId": "d9852830-22a8-48ad-bc66-4b08f501378a",
        "colab": {
          "base_uri": "https://localhost:8080/",
          "height": 462
        }
      },
      "source": [
        "pip install -U sentence-transformers"
      ],
      "execution_count": null,
      "outputs": [
        {
          "output_type": "stream",
          "text": [
            "Requirement already up-to-date: sentence-transformers in /usr/local/lib/python3.6/dist-packages (0.3.8)\n",
            "Requirement already satisfied, skipping upgrade: numpy in /usr/local/lib/python3.6/dist-packages (from sentence-transformers) (1.18.5)\n",
            "Requirement already satisfied, skipping upgrade: tqdm in /usr/local/lib/python3.6/dist-packages (from sentence-transformers) (4.41.1)\n",
            "Requirement already satisfied, skipping upgrade: transformers<3.4.0,>=3.1.0 in /usr/local/lib/python3.6/dist-packages (from sentence-transformers) (3.3.1)\n",
            "Requirement already satisfied, skipping upgrade: scipy in /usr/local/lib/python3.6/dist-packages (from sentence-transformers) (1.4.1)\n",
            "Requirement already satisfied, skipping upgrade: nltk in /usr/local/lib/python3.6/dist-packages (from sentence-transformers) (3.2.5)\n",
            "Requirement already satisfied, skipping upgrade: torch>=1.2.0 in /usr/local/lib/python3.6/dist-packages (from sentence-transformers) (1.6.0+cu101)\n",
            "Requirement already satisfied, skipping upgrade: scikit-learn in /usr/local/lib/python3.6/dist-packages (from sentence-transformers) (0.22.2.post1)\n",
            "Requirement already satisfied, skipping upgrade: tokenizers==0.8.1.rc2 in /usr/local/lib/python3.6/dist-packages (from transformers<3.4.0,>=3.1.0->sentence-transformers) (0.8.1rc2)\n",
            "Requirement already satisfied, skipping upgrade: requests in /usr/local/lib/python3.6/dist-packages (from transformers<3.4.0,>=3.1.0->sentence-transformers) (2.23.0)\n",
            "Requirement already satisfied, skipping upgrade: filelock in /usr/local/lib/python3.6/dist-packages (from transformers<3.4.0,>=3.1.0->sentence-transformers) (3.0.12)\n",
            "Requirement already satisfied, skipping upgrade: sacremoses in /usr/local/lib/python3.6/dist-packages (from transformers<3.4.0,>=3.1.0->sentence-transformers) (0.0.43)\n",
            "Requirement already satisfied, skipping upgrade: sentencepiece!=0.1.92 in /usr/local/lib/python3.6/dist-packages (from transformers<3.4.0,>=3.1.0->sentence-transformers) (0.1.94)\n",
            "Requirement already satisfied, skipping upgrade: packaging in /usr/local/lib/python3.6/dist-packages (from transformers<3.4.0,>=3.1.0->sentence-transformers) (20.4)\n",
            "Requirement already satisfied, skipping upgrade: dataclasses; python_version < \"3.7\" in /usr/local/lib/python3.6/dist-packages (from transformers<3.4.0,>=3.1.0->sentence-transformers) (0.7)\n",
            "Requirement already satisfied, skipping upgrade: regex!=2019.12.17 in /usr/local/lib/python3.6/dist-packages (from transformers<3.4.0,>=3.1.0->sentence-transformers) (2019.12.20)\n",
            "Requirement already satisfied, skipping upgrade: six in /usr/local/lib/python3.6/dist-packages (from nltk->sentence-transformers) (1.15.0)\n",
            "Requirement already satisfied, skipping upgrade: future in /usr/local/lib/python3.6/dist-packages (from torch>=1.2.0->sentence-transformers) (0.16.0)\n",
            "Requirement already satisfied, skipping upgrade: joblib>=0.11 in /usr/local/lib/python3.6/dist-packages (from scikit-learn->sentence-transformers) (0.17.0)\n",
            "Requirement already satisfied, skipping upgrade: urllib3!=1.25.0,!=1.25.1,<1.26,>=1.21.1 in /usr/local/lib/python3.6/dist-packages (from requests->transformers<3.4.0,>=3.1.0->sentence-transformers) (1.24.3)\n",
            "Requirement already satisfied, skipping upgrade: certifi>=2017.4.17 in /usr/local/lib/python3.6/dist-packages (from requests->transformers<3.4.0,>=3.1.0->sentence-transformers) (2020.6.20)\n",
            "Requirement already satisfied, skipping upgrade: chardet<4,>=3.0.2 in /usr/local/lib/python3.6/dist-packages (from requests->transformers<3.4.0,>=3.1.0->sentence-transformers) (3.0.4)\n",
            "Requirement already satisfied, skipping upgrade: idna<3,>=2.5 in /usr/local/lib/python3.6/dist-packages (from requests->transformers<3.4.0,>=3.1.0->sentence-transformers) (2.10)\n",
            "Requirement already satisfied, skipping upgrade: click in /usr/local/lib/python3.6/dist-packages (from sacremoses->transformers<3.4.0,>=3.1.0->sentence-transformers) (7.1.2)\n",
            "Requirement already satisfied, skipping upgrade: pyparsing>=2.0.2 in /usr/local/lib/python3.6/dist-packages (from packaging->transformers<3.4.0,>=3.1.0->sentence-transformers) (2.4.7)\n"
          ],
          "name": "stdout"
        }
      ]
    },
    {
      "cell_type": "code",
      "metadata": {
        "id": "BmrXBL680aPY",
        "outputId": "125fa6df-b8db-4d8b-b3a5-288f5a9280f0",
        "colab": {
          "base_uri": "https://localhost:8080/",
          "height": 34
        }
      },
      "source": [
        "pip install gcld3"
      ],
      "execution_count": null,
      "outputs": [
        {
          "output_type": "stream",
          "text": [
            "Requirement already satisfied: gcld3 in /usr/local/lib/python3.6/dist-packages (3.0.13)\n"
          ],
          "name": "stdout"
        }
      ]
    },
    {
      "cell_type": "code",
      "metadata": {
        "id": "ZF5EN4NE2H7P"
      },
      "source": [
        "import pandas as pd\n",
        "import numpy as np\n",
        "import matplotlib.pyplot as plt\n",
        "import spacy\n",
        "import pathlib\n",
        "import random\n",
        "import math\n",
        "import re\n",
        "import torch\n",
        "from transformers import AutoTokenizer, AutoModel\n",
        "from sklearn.metrics.pairwise import cosine_similarity\n",
        "from sklearn.metrics.pairwise import euclidean_distances\n",
        "from sentence_transformers import SentenceTransformer"
      ],
      "execution_count": null,
      "outputs": []
    },
    {
      "cell_type": "code",
      "metadata": {
        "id": "h3Xk5vv32JxK",
        "outputId": "2a7fc439-b774-4b2f-df47-7e66e0737e41",
        "colab": {
          "base_uri": "https://localhost:8080/",
          "height": 51
        }
      },
      "source": [
        "import nltk\n",
        "nltk.download('stopwords')\n",
        "from nltk.corpus import stopwords\n",
        "import gcld3"
      ],
      "execution_count": null,
      "outputs": [
        {
          "output_type": "stream",
          "text": [
            "[nltk_data] Downloading package stopwords to /root/nltk_data...\n",
            "[nltk_data]   Package stopwords is already up-to-date!\n"
          ],
          "name": "stdout"
        }
      ]
    },
    {
      "cell_type": "code",
      "metadata": {
        "id": "iBG5lU414qiy",
        "outputId": "3c5288af-62c5-47b3-a803-c390c4468c01",
        "colab": {
          "base_uri": "https://localhost:8080/",
          "height": 34
        }
      },
      "source": [
        "from google.colab import drive\n",
        "drive.mount('/content/drive')"
      ],
      "execution_count": null,
      "outputs": [
        {
          "output_type": "stream",
          "text": [
            "Drive already mounted at /content/drive; to attempt to forcibly remount, call drive.mount(\"/content/drive\", force_remount=True).\n"
          ],
          "name": "stdout"
        }
      ]
    },
    {
      "cell_type": "code",
      "metadata": {
        "id": "nasP9Q7c6DZN",
        "outputId": "5014de56-960c-41cd-8c29-b5d296d849af",
        "colab": {
          "base_uri": "https://localhost:8080/",
          "height": 85
        }
      },
      "source": [
        "!ls '/content/drive/My Drive/Capstone Shared Docs/result'"
      ],
      "execution_count": null,
      "outputs": [
        {
          "output_type": "stream",
          "text": [
            "'EC2 full run Oct14 result'  'Local Oct 13 result'\n",
            "'EC2 Oct 13 result'\t     'Local Oct 6 result'\n",
            "'EC2 Oct26 public data'      'terminal log_oct5_am.txt'\n",
            "'Error Log Resume.xlsx'      'terminal log_oct5.txt'\n"
          ],
          "name": "stdout"
        }
      ]
    },
    {
      "cell_type": "markdown",
      "metadata": {
        "id": "Rpjx0mSHA0T5"
      },
      "source": [
        "# **Loading dta files**"
      ]
    },
    {
      "cell_type": "code",
      "metadata": {
        "id": "nv4fDJh8Azpw"
      },
      "source": [
        "df_startup = pd.read_stata(\"drive/My Drive/Capstone Shared Docs/data/all_deals.dta\")\n",
        "df_startup_unique = df_startup.drop_duplicates([\"portfoliocompanyid\"],keep=\"first\")"
      ],
      "execution_count": null,
      "outputs": []
    },
    {
      "cell_type": "code",
      "metadata": {
        "id": "mtKVZEdCAz7K"
      },
      "source": [
        "df_public = pd.read_stata(\"drive/My Drive/Capstone Shared Docs/data/all_public_firms.dta\")\n",
        "df_public_unique = df_public.drop_duplicates([\"ÿþmark\"],keep=\"first\")"
      ],
      "execution_count": null,
      "outputs": []
    },
    {
      "cell_type": "markdown",
      "metadata": {
        "id": "Vgh0e5R04rPq"
      },
      "source": [
        "# **Loading txt Data Startups**"
      ]
    },
    {
      "cell_type": "code",
      "metadata": {
        "id": "lREb78Eo-GOD"
      },
      "source": [
        "path_startup = pathlib.Path(\"drive/My Drive/Capstone Shared Docs/result/EC2 full run Oct14 result\")"
      ],
      "execution_count": null,
      "outputs": []
    },
    {
      "cell_type": "code",
      "metadata": {
        "id": "ZJJjiMeP-R3R"
      },
      "source": [
        "txt_startup =list(path_startup.glob('*.txt'))"
      ],
      "execution_count": null,
      "outputs": []
    },
    {
      "cell_type": "code",
      "metadata": {
        "id": "GHvd9jfB_rIQ",
        "outputId": "e2fe95dc-14c6-43c0-e4bf-044ca58c18c7",
        "colab": {
          "base_uri": "https://localhost:8080/",
          "height": 34
        }
      },
      "source": [
        "all_text_startup = {}\n",
        "\n",
        "for p in txt_startup:\n",
        "    n = p.name.split(\"_\")[0]\n",
        "    file = open(p)\n",
        "    # Remove first two and last characters, because of ascii encoding\n",
        "    text = file.read().replace(\"***///***\",\"\")[2:-1]\n",
        "    # remove \"\"\n",
        "    text_list = text.split(\" \")\n",
        "    text_list = [x for x in text_list if x!=\"\"]\n",
        "    text = \" \".join(text_list)\n",
        "    file.close()\n",
        "    all_text_startup[n] = text\n",
        "  \n",
        "print(len(all_text_startup))"
      ],
      "execution_count": null,
      "outputs": [
        {
          "output_type": "stream",
          "text": [
            "430\n"
          ],
          "name": "stdout"
        }
      ]
    },
    {
      "cell_type": "code",
      "metadata": {
        "id": "-wp-dVCUNJhu"
      },
      "source": [
        "Txt_startup_frame = pd.DataFrame.from_dict(all_text_startup, orient='index')\n",
        "Txt_startup_frame.columns = ['Text']\n",
        "Txt_startup_frame['companyid'] = Txt_startup_frame.index\n",
        "Txt_startup_frame.index = np.arange(0,len(Txt_startup_frame.companyid))\n",
        "Txt_startup_frame = Txt_startup_frame.assign(comp_type='S')\n",
        "Txt_startup_frame = Txt_startup_frame[['companyid', 'comp_type', 'Text']]"
      ],
      "execution_count": null,
      "outputs": []
    },
    {
      "cell_type": "code",
      "metadata": {
        "id": "P5a4gquUZizc"
      },
      "source": [
        "stop_words_l=stopwords.words('english')\n",
        "Txt_startup_frame['Text_cleaned']=Txt_startup_frame.Text.apply(lambda x: \" \".join(re.sub(r'[^a-zA-Z]',' ',w).lower() for w in x.split() if re.sub(r'[^a-zA-Z]',' ',w).lower() not in stop_words_l) )"
      ],
      "execution_count": null,
      "outputs": []
    },
    {
      "cell_type": "code",
      "metadata": {
        "id": "xeFfVY_iZ8nj",
        "outputId": "415d50df-763d-41e0-eb20-d6d81d83701b",
        "colab": {
          "base_uri": "https://localhost:8080/",
          "height": 204
        }
      },
      "source": [
        "Txt_startup_frame.head()"
      ],
      "execution_count": null,
      "outputs": [
        {
          "output_type": "execute_result",
          "data": {
            "text/html": [
              "<div>\n",
              "<style scoped>\n",
              "    .dataframe tbody tr th:only-of-type {\n",
              "        vertical-align: middle;\n",
              "    }\n",
              "\n",
              "    .dataframe tbody tr th {\n",
              "        vertical-align: top;\n",
              "    }\n",
              "\n",
              "    .dataframe thead th {\n",
              "        text-align: right;\n",
              "    }\n",
              "</style>\n",
              "<table border=\"1\" class=\"dataframe\">\n",
              "  <thead>\n",
              "    <tr style=\"text-align: right;\">\n",
              "      <th></th>\n",
              "      <th>companyid</th>\n",
              "      <th>comp_type</th>\n",
              "      <th>Text</th>\n",
              "      <th>Text_cleaned</th>\n",
              "    </tr>\n",
              "  </thead>\n",
              "  <tbody>\n",
              "    <tr>\n",
              "      <th>0</th>\n",
              "      <td>73501</td>\n",
              "      <td>S</td>\n",
              "      <td>JOOR Skip navigation Member Log In Forgot pass...</td>\n",
              "      <td>joor skip navigation member log forgot passwor...</td>\n",
              "    </tr>\n",
              "    <tr>\n",
              "      <th>1</th>\n",
              "      <td>160418</td>\n",
              "      <td>S</td>\n",
              "      <td>Patients Physicians Employers Login Crossover ...</td>\n",
              "      <td>patients physicians employers login crossover ...</td>\n",
              "    </tr>\n",
              "    <tr>\n",
              "      <th>2</th>\n",
              "      <td>161261</td>\n",
              "      <td>S</td>\n",
              "      <td>Home | Recent questions | Directories | Feedba...</td>\n",
              "      <td>home   recent questions   directories   feedba...</td>\n",
              "    </tr>\n",
              "    <tr>\n",
              "      <th>3</th>\n",
              "      <td>129092</td>\n",
              "      <td>S</td>\n",
              "      <td>Nanotronics Home News Products What is nSpec ?...</td>\n",
              "      <td>nanotronics home news products nspec   system ...</td>\n",
              "    </tr>\n",
              "    <tr>\n",
              "      <th>4</th>\n",
              "      <td>77179</td>\n",
              "      <td>S</td>\n",
              "      <td>Home About Us Our Approach Technology Our Cust...</td>\n",
              "      <td>home us approach technology customers contact ...</td>\n",
              "    </tr>\n",
              "  </tbody>\n",
              "</table>\n",
              "</div>"
            ],
            "text/plain": [
              "  companyid  ...                                       Text_cleaned\n",
              "0     73501  ...  joor skip navigation member log forgot passwor...\n",
              "1    160418  ...  patients physicians employers login crossover ...\n",
              "2    161261  ...  home   recent questions   directories   feedba...\n",
              "3    129092  ...  nanotronics home news products nspec   system ...\n",
              "4     77179  ...  home us approach technology customers contact ...\n",
              "\n",
              "[5 rows x 4 columns]"
            ]
          },
          "metadata": {
            "tags": []
          },
          "execution_count": 150
        }
      ]
    },
    {
      "cell_type": "markdown",
      "metadata": {
        "id": "inxH4lpMdo7Q"
      },
      "source": [
        "# **Loading txt Data Public Companies**"
      ]
    },
    {
      "cell_type": "code",
      "metadata": {
        "id": "lBPBSvu6dv7y"
      },
      "source": [
        "path_public = pathlib.Path(\"drive/My Drive/Capstone Shared Docs/result/EC2 Oct26 public data\")"
      ],
      "execution_count": null,
      "outputs": []
    },
    {
      "cell_type": "code",
      "metadata": {
        "id": "eCeeeaebdwFU"
      },
      "source": [
        "txt_public =list(path_public.glob('*.txt'))"
      ],
      "execution_count": null,
      "outputs": []
    },
    {
      "cell_type": "code",
      "metadata": {
        "id": "F3DD_lDMdwPN",
        "outputId": "1a26b19f-aeb8-4188-a0b9-cb20af98b44c",
        "colab": {
          "base_uri": "https://localhost:8080/",
          "height": 34
        }
      },
      "source": [
        "all_text_public = {}\n",
        "\n",
        "for p in txt_public:\n",
        "    n = p.name.split(\"_\")[0]\n",
        "    file = open(p)\n",
        "    # Remove first two and last characters, because of ascii encoding\n",
        "    text = file.read().replace(\"***///***\",\"\")[2:-1]\n",
        "    # remove \"\"\n",
        "    text_list = text.split(\" \")\n",
        "    text_list = [x for x in text_list if x!=\"\"]\n",
        "    text = \" \".join(text_list)\n",
        "    file.close()\n",
        "    all_text_public[n] = text\n",
        "\n",
        "print(len(all_text_public))"
      ],
      "execution_count": null,
      "outputs": [
        {
          "output_type": "stream",
          "text": [
            "536\n"
          ],
          "name": "stdout"
        }
      ]
    },
    {
      "cell_type": "code",
      "metadata": {
        "id": "IP1G4F9BeIjm"
      },
      "source": [
        "Txt_public_frame = pd.DataFrame.from_dict(all_text_public, orient='index')\n",
        "Txt_public_frame.columns = ['Text']\n",
        "Txt_public_frame['companyid'] = Txt_public_frame.index\n",
        "Txt_public_frame.index = np.arange(0,len(Txt_public_frame.companyid))\n",
        "Txt_public_frame = Txt_public_frame.assign(comp_type='P')\n",
        "Txt_public_frame = Txt_public_frame[['companyid', 'comp_type', 'Text']]"
      ],
      "execution_count": null,
      "outputs": []
    },
    {
      "cell_type": "code",
      "metadata": {
        "id": "r2ni6-Dbeq3i"
      },
      "source": [
        "stop_words_l=stopwords.words('english')\n",
        "Txt_public_frame['Text_cleaned']=Txt_public_frame.Text.apply(lambda x: \" \".join(re.sub(r'[^a-zA-Z]',' ',w).lower() for w in x.split() if re.sub(r'[^a-zA-Z]',' ',w).lower() not in stop_words_l) )"
      ],
      "execution_count": null,
      "outputs": []
    },
    {
      "cell_type": "code",
      "metadata": {
        "id": "4_QQIVh-evsz",
        "outputId": "0ada6ee8-acc6-42dd-8e6d-1bfd0d981d5c",
        "colab": {
          "base_uri": "https://localhost:8080/",
          "height": 204
        }
      },
      "source": [
        "Txt_public_frame\n",
        "Txt_public_frame.head()"
      ],
      "execution_count": null,
      "outputs": [
        {
          "output_type": "execute_result",
          "data": {
            "text/html": [
              "<div>\n",
              "<style scoped>\n",
              "    .dataframe tbody tr th:only-of-type {\n",
              "        vertical-align: middle;\n",
              "    }\n",
              "\n",
              "    .dataframe tbody tr th {\n",
              "        vertical-align: top;\n",
              "    }\n",
              "\n",
              "    .dataframe thead th {\n",
              "        text-align: right;\n",
              "    }\n",
              "</style>\n",
              "<table border=\"1\" class=\"dataframe\">\n",
              "  <thead>\n",
              "    <tr style=\"text-align: right;\">\n",
              "      <th></th>\n",
              "      <th>companyid</th>\n",
              "      <th>comp_type</th>\n",
              "      <th>Text</th>\n",
              "      <th>Text_cleaned</th>\n",
              "    </tr>\n",
              "  </thead>\n",
              "  <tbody>\n",
              "    <tr>\n",
              "      <th>0</th>\n",
              "      <td>151</td>\n",
              "      <td>P</td>\n",
              "      <td>CVR Energy is an independent petroleum refiner...</td>\n",
              "      <td>cvr energy independent petroleum refiner marke...</td>\n",
              "    </tr>\n",
              "    <tr>\n",
              "      <th>1</th>\n",
              "      <td>1658</td>\n",
              "      <td>P</td>\n",
              "      <td>COMPANY Executive Profiles History Company Val...</td>\n",
              "      <td>company executive profiles history company val...</td>\n",
              "    </tr>\n",
              "    <tr>\n",
              "      <th>2</th>\n",
              "      <td>5503</td>\n",
              "      <td>P</td>\n",
              "      <td>Home | About Us | Locations | ATM Locations | ...</td>\n",
              "      <td>home   us   locations   atm locations   contac...</td>\n",
              "    </tr>\n",
              "    <tr>\n",
              "      <th>3</th>\n",
              "      <td>2901</td>\n",
              "      <td>P</td>\n",
              "      <td>Home | Site Map | Contact Us Information is be...</td>\n",
              "      <td>home   site map   contact us information colle...</td>\n",
              "    </tr>\n",
              "    <tr>\n",
              "      <th>4</th>\n",
              "      <td>1510</td>\n",
              "      <td>P</td>\n",
              "      <td>Search: Corporate Info | Contact GAF | News &amp; ...</td>\n",
              "      <td>search  corporate info   contact gaf   news   ...</td>\n",
              "    </tr>\n",
              "  </tbody>\n",
              "</table>\n",
              "</div>"
            ],
            "text/plain": [
              "  companyid  ...                                       Text_cleaned\n",
              "0       151  ...  cvr energy independent petroleum refiner marke...\n",
              "1      1658  ...  company executive profiles history company val...\n",
              "2      5503  ...  home   us   locations   atm locations   contac...\n",
              "3      2901  ...  home   site map   contact us information colle...\n",
              "4      1510  ...  search  corporate info   contact gaf   news   ...\n",
              "\n",
              "[5 rows x 4 columns]"
            ]
          },
          "metadata": {
            "tags": []
          },
          "execution_count": 156
        }
      ]
    },
    {
      "cell_type": "markdown",
      "metadata": {
        "id": "qIlY3JW2h8ts"
      },
      "source": [
        "# **Concatenate Public and Startup DB**"
      ]
    },
    {
      "cell_type": "code",
      "metadata": {
        "id": "qiy1zTKfirar"
      },
      "source": [
        "Txt_all_frame = pd.concat([Txt_startup_frame, Txt_public_frame])\n",
        "Txt_all_frame.index = np.arange(0,len(Txt_all_frame.companyid))"
      ],
      "execution_count": null,
      "outputs": []
    },
    {
      "cell_type": "code",
      "metadata": {
        "id": "6bOsNCrloe7s",
        "outputId": "c7000816-5b50-4070-f84d-5df0c3e8baf9",
        "colab": {
          "base_uri": "https://localhost:8080/",
          "height": 204
        }
      },
      "source": [
        "Txt_all_frame.head()"
      ],
      "execution_count": null,
      "outputs": [
        {
          "output_type": "execute_result",
          "data": {
            "text/html": [
              "<div>\n",
              "<style scoped>\n",
              "    .dataframe tbody tr th:only-of-type {\n",
              "        vertical-align: middle;\n",
              "    }\n",
              "\n",
              "    .dataframe tbody tr th {\n",
              "        vertical-align: top;\n",
              "    }\n",
              "\n",
              "    .dataframe thead th {\n",
              "        text-align: right;\n",
              "    }\n",
              "</style>\n",
              "<table border=\"1\" class=\"dataframe\">\n",
              "  <thead>\n",
              "    <tr style=\"text-align: right;\">\n",
              "      <th></th>\n",
              "      <th>companyid</th>\n",
              "      <th>comp_type</th>\n",
              "      <th>Text</th>\n",
              "      <th>Text_cleaned</th>\n",
              "    </tr>\n",
              "  </thead>\n",
              "  <tbody>\n",
              "    <tr>\n",
              "      <th>0</th>\n",
              "      <td>73501</td>\n",
              "      <td>S</td>\n",
              "      <td>JOOR Skip navigation Member Log In Forgot pass...</td>\n",
              "      <td>joor skip navigation member log forgot passwor...</td>\n",
              "    </tr>\n",
              "    <tr>\n",
              "      <th>1</th>\n",
              "      <td>160418</td>\n",
              "      <td>S</td>\n",
              "      <td>Patients Physicians Employers Login Crossover ...</td>\n",
              "      <td>patients physicians employers login crossover ...</td>\n",
              "    </tr>\n",
              "    <tr>\n",
              "      <th>2</th>\n",
              "      <td>161261</td>\n",
              "      <td>S</td>\n",
              "      <td>Home | Recent questions | Directories | Feedba...</td>\n",
              "      <td>home   recent questions   directories   feedba...</td>\n",
              "    </tr>\n",
              "    <tr>\n",
              "      <th>3</th>\n",
              "      <td>129092</td>\n",
              "      <td>S</td>\n",
              "      <td>Nanotronics Home News Products What is nSpec ?...</td>\n",
              "      <td>nanotronics home news products nspec   system ...</td>\n",
              "    </tr>\n",
              "    <tr>\n",
              "      <th>4</th>\n",
              "      <td>77179</td>\n",
              "      <td>S</td>\n",
              "      <td>Home About Us Our Approach Technology Our Cust...</td>\n",
              "      <td>home us approach technology customers contact ...</td>\n",
              "    </tr>\n",
              "  </tbody>\n",
              "</table>\n",
              "</div>"
            ],
            "text/plain": [
              "  companyid  ...                                       Text_cleaned\n",
              "0     73501  ...  joor skip navigation member log forgot passwor...\n",
              "1    160418  ...  patients physicians employers login crossover ...\n",
              "2    161261  ...  home   recent questions   directories   feedba...\n",
              "3    129092  ...  nanotronics home news products nspec   system ...\n",
              "4     77179  ...  home us approach technology customers contact ...\n",
              "\n",
              "[5 rows x 4 columns]"
            ]
          },
          "metadata": {
            "tags": []
          },
          "execution_count": 158
        }
      ]
    },
    {
      "cell_type": "markdown",
      "metadata": {
        "id": "_1Vav7zszip3"
      },
      "source": [
        "# **Solving some language issues**"
      ]
    },
    {
      "cell_type": "code",
      "metadata": {
        "id": "LzAxzNFX0CDA",
        "outputId": "9d36f21f-43fd-4eca-c34b-211ced126036",
        "colab": {
          "base_uri": "https://localhost:8080/",
          "height": 80
        }
      },
      "source": [
        "Txt_all_frame.iloc[33:34,:]"
      ],
      "execution_count": null,
      "outputs": [
        {
          "output_type": "execute_result",
          "data": {
            "text/html": [
              "<div>\n",
              "<style scoped>\n",
              "    .dataframe tbody tr th:only-of-type {\n",
              "        vertical-align: middle;\n",
              "    }\n",
              "\n",
              "    .dataframe tbody tr th {\n",
              "        vertical-align: top;\n",
              "    }\n",
              "\n",
              "    .dataframe thead th {\n",
              "        text-align: right;\n",
              "    }\n",
              "</style>\n",
              "<table border=\"1\" class=\"dataframe\">\n",
              "  <thead>\n",
              "    <tr style=\"text-align: right;\">\n",
              "      <th></th>\n",
              "      <th>companyid</th>\n",
              "      <th>comp_type</th>\n",
              "      <th>Text</th>\n",
              "      <th>Text_cleaned</th>\n",
              "    </tr>\n",
              "  </thead>\n",
              "  <tbody>\n",
              "    <tr>\n",
              "      <th>33</th>\n",
              "      <td>230198</td>\n",
              "      <td>S</td>\n",
              "      <td>Presentacin Asesores / Colaboradores Com desca...</td>\n",
              "      <td>presentacin asesores   colaboradores com desca...</td>\n",
              "    </tr>\n",
              "  </tbody>\n",
              "</table>\n",
              "</div>"
            ],
            "text/plain": [
              "   companyid  ...                                       Text_cleaned\n",
              "33    230198  ...  presentacin asesores   colaboradores com desca...\n",
              "\n",
              "[1 rows x 4 columns]"
            ]
          },
          "metadata": {
            "tags": []
          },
          "execution_count": 159
        }
      ]
    },
    {
      "cell_type": "code",
      "metadata": {
        "id": "JXQSgXCe0nNx"
      },
      "source": [
        "lan = []\n",
        "rel_lan = []\n",
        "detector = gcld3.NNetLanguageIdentifier(min_num_bytes=0, max_num_bytes=10000)\n",
        "\n",
        "for i in range(len(Txt_all_frame['Text_cleaned'])):\n",
        "  t =Txt_all_frame.Text_cleaned[i]\n",
        "  t = str(t)\n",
        "  \n",
        "  result = detector.FindLanguage(text=t)\n",
        "  lan.append(result.language)\n",
        "  rel_lan.append(result.is_reliable)\n"
      ],
      "execution_count": null,
      "outputs": []
    },
    {
      "cell_type": "code",
      "metadata": {
        "id": "Q8NTeRhB2jl4"
      },
      "source": [
        "Txt_all_frame['language'] = lan\n",
        "Txt_all_frame['Rela_language'] = rel_lan"
      ],
      "execution_count": null,
      "outputs": []
    },
    {
      "cell_type": "code",
      "metadata": {
        "id": "IeWO8JJQ2yxJ",
        "outputId": "a9e8cac2-f53c-4484-a447-16e03aa8bfb4",
        "colab": {
          "base_uri": "https://localhost:8080/",
          "height": 68
        }
      },
      "source": [
        "Txt_all_frame.language.unique()"
      ],
      "execution_count": null,
      "outputs": [
        {
          "output_type": "execute_result",
          "data": {
            "text/plain": [
              "array(['en', 'it', 'es', 'fr', 'mg', 'no', 'sn', 'gl', 'zu', 'eo', 'da',\n",
              "       'fy', 'lb', 'de', 'sr', 'nl', 'fi', 'vi', 'hu', 'su', 'jv', 'pt',\n",
              "       'ru-Latn'], dtype=object)"
            ]
          },
          "metadata": {
            "tags": []
          },
          "execution_count": 162
        }
      ]
    },
    {
      "cell_type": "code",
      "metadata": {
        "id": "GDXT0PMLzokX",
        "outputId": "fe53cb7f-5047-4335-856b-942202ad1a2a",
        "colab": {
          "base_uri": "https://localhost:8080/",
          "height": 266
        }
      },
      "source": [
        "Txt_all_frame[Txt_all_frame.language=='es']"
      ],
      "execution_count": null,
      "outputs": [
        {
          "output_type": "execute_result",
          "data": {
            "text/html": [
              "<div>\n",
              "<style scoped>\n",
              "    .dataframe tbody tr th:only-of-type {\n",
              "        vertical-align: middle;\n",
              "    }\n",
              "\n",
              "    .dataframe tbody tr th {\n",
              "        vertical-align: top;\n",
              "    }\n",
              "\n",
              "    .dataframe thead th {\n",
              "        text-align: right;\n",
              "    }\n",
              "</style>\n",
              "<table border=\"1\" class=\"dataframe\">\n",
              "  <thead>\n",
              "    <tr style=\"text-align: right;\">\n",
              "      <th></th>\n",
              "      <th>companyid</th>\n",
              "      <th>comp_type</th>\n",
              "      <th>Text</th>\n",
              "      <th>Text_cleaned</th>\n",
              "      <th>language</th>\n",
              "      <th>Rela_language</th>\n",
              "    </tr>\n",
              "  </thead>\n",
              "  <tbody>\n",
              "    <tr>\n",
              "      <th>27</th>\n",
              "      <td>112162</td>\n",
              "      <td>S</td>\n",
              "      <td>Bienvenido al Nuevo Mundo de Nativo Network . ...</td>\n",
              "      <td>bienvenido al nuevo mundo de nativo network   ...</td>\n",
              "      <td>es</td>\n",
              "      <td>True</td>\n",
              "    </tr>\n",
              "    <tr>\n",
              "      <th>33</th>\n",
              "      <td>230198</td>\n",
              "      <td>S</td>\n",
              "      <td>Presentacin Asesores / Colaboradores Com desca...</td>\n",
              "      <td>presentacin asesores   colaboradores com desca...</td>\n",
              "      <td>es</td>\n",
              "      <td>True</td>\n",
              "    </tr>\n",
              "    <tr>\n",
              "      <th>74</th>\n",
              "      <td>297244</td>\n",
              "      <td>S</td>\n",
              "      <td>movista.com Algunos sitios relacionados con: m...</td>\n",
              "      <td>movista com algunos sitios relacionados con  m...</td>\n",
              "      <td>es</td>\n",
              "      <td>True</td>\n",
              "    </tr>\n",
              "    <tr>\n",
              "      <th>355</th>\n",
              "      <td>150133</td>\n",
              "      <td>S</td>\n",
              "      <td>Error 503 Service Unavailable Service Unavaila...</td>\n",
              "      <td>error     service unavailable service unavaila...</td>\n",
              "      <td>es</td>\n",
              "      <td>True</td>\n",
              "    </tr>\n",
              "    <tr>\n",
              "      <th>508</th>\n",
              "      <td>4691</td>\n",
              "      <td>P</td>\n",
              "      <td>Call Us 24/7 1-800-786-7235 Why Bank Stem Cell...</td>\n",
              "      <td>call us                     bank stem cells  v...</td>\n",
              "      <td>es</td>\n",
              "      <td>True</td>\n",
              "    </tr>\n",
              "    <tr>\n",
              "      <th>773</th>\n",
              "      <td>4640</td>\n",
              "      <td>P</td>\n",
              "      <td>Welcome to the Worlds Healthy Coffee Company M...</td>\n",
              "      <td>welcome worlds healthy coffee company manufact...</td>\n",
              "      <td>es</td>\n",
              "      <td>True</td>\n",
              "    </tr>\n",
              "    <tr>\n",
              "      <th>803</th>\n",
              "      <td>51</td>\n",
              "      <td>P</td>\n",
              "      <td>-------- Including dojo Configurations -------...</td>\n",
              "      <td>including dojo configurations        ...</td>\n",
              "      <td>es</td>\n",
              "      <td>False</td>\n",
              "    </tr>\n",
              "  </tbody>\n",
              "</table>\n",
              "</div>"
            ],
            "text/plain": [
              "    companyid comp_type  ... language Rela_language\n",
              "27     112162         S  ...       es          True\n",
              "33     230198         S  ...       es          True\n",
              "74     297244         S  ...       es          True\n",
              "355    150133         S  ...       es          True\n",
              "508      4691         P  ...       es          True\n",
              "773      4640         P  ...       es          True\n",
              "803        51         P  ...       es         False\n",
              "\n",
              "[7 rows x 6 columns]"
            ]
          },
          "metadata": {
            "tags": []
          },
          "execution_count": 163
        }
      ]
    },
    {
      "cell_type": "code",
      "metadata": {
        "id": "ZQC9TPPOztwn",
        "outputId": "a669a5e5-07f2-47c5-8222-f7f4cfc7edaf",
        "colab": {
          "base_uri": "https://localhost:8080/",
          "height": 266
        }
      },
      "source": [
        "Txt_all_frame[Txt_all_frame.language=='fr']"
      ],
      "execution_count": null,
      "outputs": [
        {
          "output_type": "execute_result",
          "data": {
            "text/html": [
              "<div>\n",
              "<style scoped>\n",
              "    .dataframe tbody tr th:only-of-type {\n",
              "        vertical-align: middle;\n",
              "    }\n",
              "\n",
              "    .dataframe tbody tr th {\n",
              "        vertical-align: top;\n",
              "    }\n",
              "\n",
              "    .dataframe thead th {\n",
              "        text-align: right;\n",
              "    }\n",
              "</style>\n",
              "<table border=\"1\" class=\"dataframe\">\n",
              "  <thead>\n",
              "    <tr style=\"text-align: right;\">\n",
              "      <th></th>\n",
              "      <th>companyid</th>\n",
              "      <th>comp_type</th>\n",
              "      <th>Text</th>\n",
              "      <th>Text_cleaned</th>\n",
              "      <th>language</th>\n",
              "      <th>Rela_language</th>\n",
              "    </tr>\n",
              "  </thead>\n",
              "  <tbody>\n",
              "    <tr>\n",
              "      <th>55</th>\n",
              "      <td>93431</td>\n",
              "      <td>S</td>\n",
              "      <td>banned interdit verboden vietato prohibido ver...</td>\n",
              "      <td>banned interdit verboden vietato prohibido ver...</td>\n",
              "      <td>fr</td>\n",
              "      <td>False</td>\n",
              "    </tr>\n",
              "    <tr>\n",
              "      <th>257</th>\n",
              "      <td>139205</td>\n",
              "      <td>S</td>\n",
              "      <td>Recherche de noms de domaine : www.indom.com L...</td>\n",
              "      <td>recherche de noms de domaine   www indom com l...</td>\n",
              "      <td>fr</td>\n",
              "      <td>True</td>\n",
              "    </tr>\n",
              "    <tr>\n",
              "      <th>316</th>\n",
              "      <td>107417</td>\n",
              "      <td>S</td>\n",
              "      <td>Index of / cgi-bin/ dev/ Apache/2.2.15 (Unix) ...</td>\n",
              "      <td>index   cgi bin  dev  apache         unix  mod...</td>\n",
              "      <td>fr</td>\n",
              "      <td>True</td>\n",
              "    </tr>\n",
              "    <tr>\n",
              "      <th>343</th>\n",
              "      <td>129019</td>\n",
              "      <td>S</td>\n",
              "      <td>banned interdit verboden vietato prohibido ver...</td>\n",
              "      <td>banned interdit verboden vietato prohibido ver...</td>\n",
              "      <td>fr</td>\n",
              "      <td>False</td>\n",
              "    </tr>\n",
              "    <tr>\n",
              "      <th>491</th>\n",
              "      <td>5208</td>\n",
              "      <td>P</td>\n",
              "      <td>Alpha Innotech is now part of Cell Biosciences...</td>\n",
              "      <td>alpha innotech part cell biosciences  visit ww...</td>\n",
              "      <td>fr</td>\n",
              "      <td>True</td>\n",
              "    </tr>\n",
              "    <tr>\n",
              "      <th>650</th>\n",
              "      <td>5107</td>\n",
              "      <td>P</td>\n",
              "      <td>Forbidden You don't have permission to access ...</td>\n",
              "      <td>forbidden don t permission access   server  ap...</td>\n",
              "      <td>fr</td>\n",
              "      <td>True</td>\n",
              "    </tr>\n",
              "    <tr>\n",
              "      <th>733</th>\n",
              "      <td>3106</td>\n",
              "      <td>P</td>\n",
              "      <td>Skip Navigation Country UK (English) France (F...</td>\n",
              "      <td>skip navigation country uk  english  france  f...</td>\n",
              "      <td>fr</td>\n",
              "      <td>True</td>\n",
              "    </tr>\n",
              "  </tbody>\n",
              "</table>\n",
              "</div>"
            ],
            "text/plain": [
              "    companyid comp_type  ... language Rela_language\n",
              "55      93431         S  ...       fr         False\n",
              "257    139205         S  ...       fr          True\n",
              "316    107417         S  ...       fr          True\n",
              "343    129019         S  ...       fr         False\n",
              "491      5208         P  ...       fr          True\n",
              "650      5107         P  ...       fr          True\n",
              "733      3106         P  ...       fr          True\n",
              "\n",
              "[7 rows x 6 columns]"
            ]
          },
          "metadata": {
            "tags": []
          },
          "execution_count": 164
        }
      ]
    },
    {
      "cell_type": "code",
      "metadata": {
        "id": "iKg79uIR4bST"
      },
      "source": [
        "Txt_all_frame_en = Txt_all_frame[(Txt_all_frame.language=='en') ] #| ( (Txt_all_frame.language!='en') & (Txt_all_frame.language==False) )\n",
        "Txt_all_frame_en.index = np.arange(0,len(Txt_all_frame_en.companyid))"
      ],
      "execution_count": null,
      "outputs": []
    },
    {
      "cell_type": "markdown",
      "metadata": {
        "id": "QHtMM6W56UUy"
      },
      "source": [
        "# **Lenght of text**"
      ]
    },
    {
      "cell_type": "code",
      "metadata": {
        "id": "0MYFdp015S5s",
        "outputId": "0adda210-35c0-4233-ad5f-b34b8184672c",
        "colab": {
          "base_uri": "https://localhost:8080/",
          "height": 221
        }
      },
      "source": [
        "word_len = [len(i.split()) for i in Txt_all_frame_en.Text_cleaned ]\n",
        "text_len = [len(i) for i in Txt_all_frame_en.Text_cleaned ]\n",
        "Txt_all_frame_en['Word_len'] = word_len\n",
        "Txt_all_frame_en['Text_len'] = text_len"
      ],
      "execution_count": null,
      "outputs": [
        {
          "output_type": "stream",
          "text": [
            "/usr/local/lib/python3.6/dist-packages/ipykernel_launcher.py:3: SettingWithCopyWarning: \n",
            "A value is trying to be set on a copy of a slice from a DataFrame.\n",
            "Try using .loc[row_indexer,col_indexer] = value instead\n",
            "\n",
            "See the caveats in the documentation: https://pandas.pydata.org/pandas-docs/stable/user_guide/indexing.html#returning-a-view-versus-a-copy\n",
            "  This is separate from the ipykernel package so we can avoid doing imports until\n",
            "/usr/local/lib/python3.6/dist-packages/ipykernel_launcher.py:4: SettingWithCopyWarning: \n",
            "A value is trying to be set on a copy of a slice from a DataFrame.\n",
            "Try using .loc[row_indexer,col_indexer] = value instead\n",
            "\n",
            "See the caveats in the documentation: https://pandas.pydata.org/pandas-docs/stable/user_guide/indexing.html#returning-a-view-versus-a-copy\n",
            "  after removing the cwd from sys.path.\n"
          ],
          "name": "stderr"
        }
      ]
    },
    {
      "cell_type": "code",
      "metadata": {
        "id": "S5MPzO9xMWRh",
        "outputId": "2997657f-af3a-4ad9-adc9-e66865f9c7e4",
        "colab": {
          "base_uri": "https://localhost:8080/",
          "height": 204
        }
      },
      "source": [
        "Txt_all_frame_en.head()"
      ],
      "execution_count": null,
      "outputs": [
        {
          "output_type": "execute_result",
          "data": {
            "text/html": [
              "<div>\n",
              "<style scoped>\n",
              "    .dataframe tbody tr th:only-of-type {\n",
              "        vertical-align: middle;\n",
              "    }\n",
              "\n",
              "    .dataframe tbody tr th {\n",
              "        vertical-align: top;\n",
              "    }\n",
              "\n",
              "    .dataframe thead th {\n",
              "        text-align: right;\n",
              "    }\n",
              "</style>\n",
              "<table border=\"1\" class=\"dataframe\">\n",
              "  <thead>\n",
              "    <tr style=\"text-align: right;\">\n",
              "      <th></th>\n",
              "      <th>companyid</th>\n",
              "      <th>comp_type</th>\n",
              "      <th>Text</th>\n",
              "      <th>Text_cleaned</th>\n",
              "      <th>language</th>\n",
              "      <th>Rela_language</th>\n",
              "      <th>Word_len</th>\n",
              "      <th>Text_len</th>\n",
              "    </tr>\n",
              "  </thead>\n",
              "  <tbody>\n",
              "    <tr>\n",
              "      <th>0</th>\n",
              "      <td>73501</td>\n",
              "      <td>S</td>\n",
              "      <td>JOOR Skip navigation Member Log In Forgot pass...</td>\n",
              "      <td>joor skip navigation member log forgot passwor...</td>\n",
              "      <td>en</td>\n",
              "      <td>True</td>\n",
              "      <td>3614</td>\n",
              "      <td>27748</td>\n",
              "    </tr>\n",
              "    <tr>\n",
              "      <th>1</th>\n",
              "      <td>160418</td>\n",
              "      <td>S</td>\n",
              "      <td>Patients Physicians Employers Login Crossover ...</td>\n",
              "      <td>patients physicians employers login crossover ...</td>\n",
              "      <td>en</td>\n",
              "      <td>True</td>\n",
              "      <td>66</td>\n",
              "      <td>489</td>\n",
              "    </tr>\n",
              "    <tr>\n",
              "      <th>2</th>\n",
              "      <td>161261</td>\n",
              "      <td>S</td>\n",
              "      <td>Home | Recent questions | Directories | Feedba...</td>\n",
              "      <td>home   recent questions   directories   feedba...</td>\n",
              "      <td>en</td>\n",
              "      <td>True</td>\n",
              "      <td>92</td>\n",
              "      <td>656</td>\n",
              "    </tr>\n",
              "    <tr>\n",
              "      <th>3</th>\n",
              "      <td>129092</td>\n",
              "      <td>S</td>\n",
              "      <td>Nanotronics Home News Products What is nSpec ?...</td>\n",
              "      <td>nanotronics home news products nspec   system ...</td>\n",
              "      <td>en</td>\n",
              "      <td>True</td>\n",
              "      <td>2337</td>\n",
              "      <td>19264</td>\n",
              "    </tr>\n",
              "    <tr>\n",
              "      <th>4</th>\n",
              "      <td>77179</td>\n",
              "      <td>S</td>\n",
              "      <td>Home About Us Our Approach Technology Our Cust...</td>\n",
              "      <td>home us approach technology customers contact ...</td>\n",
              "      <td>en</td>\n",
              "      <td>True</td>\n",
              "      <td>167</td>\n",
              "      <td>1326</td>\n",
              "    </tr>\n",
              "  </tbody>\n",
              "</table>\n",
              "</div>"
            ],
            "text/plain": [
              "  companyid comp_type  ... Word_len Text_len\n",
              "0     73501         S  ...     3614    27748\n",
              "1    160418         S  ...       66      489\n",
              "2    161261         S  ...       92      656\n",
              "3    129092         S  ...     2337    19264\n",
              "4     77179         S  ...      167     1326\n",
              "\n",
              "[5 rows x 8 columns]"
            ]
          },
          "metadata": {
            "tags": []
          },
          "execution_count": 167
        }
      ]
    },
    {
      "cell_type": "code",
      "metadata": {
        "id": "t-Y9sUvT8FKc",
        "outputId": "f65b1ed9-a1f5-48da-d979-734d79a08e79",
        "colab": {
          "base_uri": "https://localhost:8080/",
          "height": 34
        }
      },
      "source": [
        "Txt_all_frame_en.Word_len.mean()"
      ],
      "execution_count": null,
      "outputs": [
        {
          "output_type": "execute_result",
          "data": {
            "text/plain": [
              "30677.095135135136"
            ]
          },
          "metadata": {
            "tags": []
          },
          "execution_count": 168
        }
      ]
    },
    {
      "cell_type": "code",
      "metadata": {
        "id": "jk-_X8dIMk6A",
        "outputId": "bb7780f5-da2c-4317-af99-168a724dba03",
        "colab": {
          "base_uri": "https://localhost:8080/",
          "height": 34
        }
      },
      "source": [
        "Txt_all_frame_en.Text_len.mean()"
      ],
      "execution_count": null,
      "outputs": [
        {
          "output_type": "execute_result",
          "data": {
            "text/plain": [
              "133178.79027027026"
            ]
          },
          "metadata": {
            "tags": []
          },
          "execution_count": 169
        }
      ]
    },
    {
      "cell_type": "code",
      "metadata": {
        "id": "hdglnbdT8I-P",
        "outputId": "ba0722ae-2998-4624-eb7a-dad37eb78d71",
        "colab": {
          "base_uri": "https://localhost:8080/",
          "height": 34
        }
      },
      "source": [
        "Txt_all_frame_en.Word_len.max()"
      ],
      "execution_count": null,
      "outputs": [
        {
          "output_type": "execute_result",
          "data": {
            "text/plain": [
              "4806695"
            ]
          },
          "metadata": {
            "tags": []
          },
          "execution_count": 170
        }
      ]
    },
    {
      "cell_type": "code",
      "metadata": {
        "id": "c9MrneE9MqOv",
        "outputId": "66628438-c44f-4492-b5b5-537523365f9a",
        "colab": {
          "base_uri": "https://localhost:8080/",
          "height": 34
        }
      },
      "source": [
        "Txt_all_frame_en.Text_len.max()"
      ],
      "execution_count": null,
      "outputs": [
        {
          "output_type": "execute_result",
          "data": {
            "text/plain": [
              "16065268"
            ]
          },
          "metadata": {
            "tags": []
          },
          "execution_count": 171
        }
      ]
    },
    {
      "cell_type": "code",
      "metadata": {
        "id": "DuxX5e5M8Kp_",
        "outputId": "cfb72e42-20ae-4df0-9f48-e7be4b9aa950",
        "colab": {
          "base_uri": "https://localhost:8080/",
          "height": 34
        }
      },
      "source": [
        "np.percentile(Txt_all_frame_en.Word_len, 95)"
      ],
      "execution_count": null,
      "outputs": [
        {
          "output_type": "execute_result",
          "data": {
            "text/plain": [
              "58185.59999999997"
            ]
          },
          "metadata": {
            "tags": []
          },
          "execution_count": 173
        }
      ]
    },
    {
      "cell_type": "code",
      "metadata": {
        "id": "CrFrRSdLMwiY",
        "outputId": "b8789351-e07f-465c-ade4-dbfeb1699f92",
        "colab": {
          "base_uri": "https://localhost:8080/",
          "height": 34
        }
      },
      "source": [
        "np.percentile(Txt_all_frame_en.Text_len, 95)"
      ],
      "execution_count": null,
      "outputs": [
        {
          "output_type": "execute_result",
          "data": {
            "text/plain": [
              "353595.39999999985"
            ]
          },
          "metadata": {
            "tags": []
          },
          "execution_count": 174
        }
      ]
    },
    {
      "cell_type": "code",
      "metadata": {
        "id": "rT4ba5bv5TLG",
        "outputId": "73eed63b-2721-47c4-bc6c-89e9e4a9524a",
        "colab": {
          "base_uri": "https://localhost:8080/",
          "height": 34
        }
      },
      "source": [
        "np.percentile(Txt_all_frame_en.Word_len, 99)"
      ],
      "execution_count": null,
      "outputs": [
        {
          "output_type": "execute_result",
          "data": {
            "text/plain": [
              "565369.6799999988"
            ]
          },
          "metadata": {
            "tags": []
          },
          "execution_count": 175
        }
      ]
    },
    {
      "cell_type": "code",
      "metadata": {
        "id": "IxPlldtfM0pQ",
        "outputId": "42adbbeb-b643-48ba-c7ee-d161f37509ba",
        "colab": {
          "base_uri": "https://localhost:8080/",
          "height": 34
        }
      },
      "source": [
        "np.percentile(Txt_all_frame_en.Text_len, 99)"
      ],
      "execution_count": null,
      "outputs": [
        {
          "output_type": "execute_result",
          "data": {
            "text/plain": [
              "2461761.719999997"
            ]
          },
          "metadata": {
            "tags": []
          },
          "execution_count": 176
        }
      ]
    },
    {
      "cell_type": "markdown",
      "metadata": {
        "id": "95JNHS4l-MN-"
      },
      "source": [
        "# **BERT Implementation**"
      ]
    },
    {
      "cell_type": "markdown",
      "metadata": {
        "id": "sTGUG99aANGw"
      },
      "source": [
        "### **Example 1**"
      ]
    },
    {
      "cell_type": "code",
      "metadata": {
        "id": "7aFmBdA7-Ymu"
      },
      "source": [
        "sentences = ['This framework generates embeddings for each input sentence',\n",
        "             'Sentences are passed as a list of string.',\n",
        "             'The quick brown fox jumps over the lazy dog.']"
      ],
      "execution_count": null,
      "outputs": []
    },
    {
      "cell_type": "code",
      "metadata": {
        "id": "rJQYMofl-YyG"
      },
      "source": [
        "tokenizer = AutoTokenizer.from_pretrained(\"sentence-transformers/roberta-large-nli-stsb-mean-tokens\")\n",
        "model = AutoModel.from_pretrained(\"sentence-transformers/roberta-large-nli-stsb-mean-tokens\")\n"
      ],
      "execution_count": null,
      "outputs": []
    },
    {
      "cell_type": "code",
      "metadata": {
        "id": "T6sYw1xq-Y5u"
      },
      "source": [
        "encoded_input = tokenizer(sentences, padding=True, truncation=True, max_length=128, return_tensors='pt')"
      ],
      "execution_count": null,
      "outputs": []
    },
    {
      "cell_type": "code",
      "metadata": {
        "id": "7ijVBlXp-ZCm"
      },
      "source": [
        "with torch.no_grad():\n",
        "    model_output = model(**encoded_input)"
      ],
      "execution_count": null,
      "outputs": []
    },
    {
      "cell_type": "code",
      "metadata": {
        "id": "FC6HCCod_lHB"
      },
      "source": [
        "def mean_pooling(model_output, attention_mask):\n",
        "    token_embeddings = model_output[0] #First element of model_output contains all token embeddings\n",
        "    input_mask_expanded = attention_mask.unsqueeze(-1).expand(token_embeddings.size()).float()\n",
        "    sum_embeddings = torch.sum(token_embeddings * input_mask_expanded, 1)\n",
        "    sum_mask = torch.clamp(input_mask_expanded.sum(1), min=1e-9)\n",
        "    return sum_embeddings / sum_mask"
      ],
      "execution_count": null,
      "outputs": []
    },
    {
      "cell_type": "code",
      "metadata": {
        "id": "IhFzGWSr_lKJ"
      },
      "source": [
        "sentence_embeddings = mean_pooling(model_output, encoded_input['attention_mask'])"
      ],
      "execution_count": null,
      "outputs": []
    },
    {
      "cell_type": "code",
      "metadata": {
        "id": "mWV_iR_e_lNP",
        "outputId": "749b3903-da98-4666-c478-dab3ecfb6bf9",
        "colab": {
          "base_uri": "https://localhost:8080/",
          "height": 68
        }
      },
      "source": [
        "sentence_embeddings"
      ],
      "execution_count": null,
      "outputs": [
        {
          "output_type": "execute_result",
          "data": {
            "text/plain": [
              "tensor([[ 0.6307, -0.2880,  0.0535,  ...,  0.2687, -2.2384,  0.2251],\n",
              "        [ 0.2207, -0.8046,  0.1843,  ...,  0.6993, -1.7670,  0.1126],\n",
              "        [-0.1782,  0.0875, -0.7615,  ..., -0.6984, -0.1316, -0.1113]])"
            ]
          },
          "metadata": {
            "tags": []
          },
          "execution_count": 183
        }
      ]
    },
    {
      "cell_type": "code",
      "metadata": {
        "id": "ddCL64b1A85Q",
        "outputId": "83d1bcf1-8363-405c-bb2b-7b89828e2838",
        "colab": {
          "base_uri": "https://localhost:8080/",
          "height": 34
        }
      },
      "source": [
        "sentence_embeddings.shape"
      ],
      "execution_count": null,
      "outputs": [
        {
          "output_type": "execute_result",
          "data": {
            "text/plain": [
              "torch.Size([3, 1024])"
            ]
          },
          "metadata": {
            "tags": []
          },
          "execution_count": 184
        }
      ]
    },
    {
      "cell_type": "markdown",
      "metadata": {
        "id": "XxgIwayiATyR"
      },
      "source": [
        "### **Example 2**"
      ]
    },
    {
      "cell_type": "code",
      "metadata": {
        "id": "4eb--qH2AS-A"
      },
      "source": [
        "sbert_model = SentenceTransformer('roberta-large-nli-stsb-mean-tokens')"
      ],
      "execution_count": null,
      "outputs": []
    },
    {
      "cell_type": "code",
      "metadata": {
        "id": "2Okt_AL9AD0Y"
      },
      "source": [
        "sentence_embeddings = sbert_model.encode(sentences)"
      ],
      "execution_count": null,
      "outputs": []
    },
    {
      "cell_type": "code",
      "metadata": {
        "id": "1Nl3WF6wAD8T",
        "outputId": "7888aaa9-fb4b-4b0f-c060-40db59ce87b8",
        "colab": {
          "base_uri": "https://localhost:8080/",
          "height": 119
        }
      },
      "source": [
        "sentence_embeddings"
      ],
      "execution_count": null,
      "outputs": [
        {
          "output_type": "execute_result",
          "data": {
            "text/plain": [
              "array([[ 0.6306941 , -0.2880172 ,  0.05346152, ...,  0.26867366,\n",
              "        -2.2383592 ,  0.22513251],\n",
              "       [ 0.22073454, -0.8045986 ,  0.18434067, ...,  0.6992715 ,\n",
              "        -1.7669749 ,  0.11263788],\n",
              "       [-0.1781616 ,  0.08751994, -0.76151556, ..., -0.69839   ,\n",
              "        -0.13163872, -0.11128177]], dtype=float32)"
            ]
          },
          "metadata": {
            "tags": []
          },
          "execution_count": 187
        }
      ]
    },
    {
      "cell_type": "code",
      "metadata": {
        "id": "im3kuezvAEAP",
        "outputId": "b2d885ab-f942-45b0-9a1f-84119765c9f8",
        "colab": {
          "base_uri": "https://localhost:8080/",
          "height": 34
        }
      },
      "source": [
        "sentence_embeddings.shape"
      ],
      "execution_count": null,
      "outputs": [
        {
          "output_type": "execute_result",
          "data": {
            "text/plain": [
              "(3, 1024)"
            ]
          },
          "metadata": {
            "tags": []
          },
          "execution_count": 188
        }
      ]
    },
    {
      "cell_type": "markdown",
      "metadata": {
        "id": "KPJUHKWmBPUn"
      },
      "source": [
        "### **Example Long Text**"
      ]
    },
    {
      "cell_type": "code",
      "metadata": {
        "id": "XptyJC7Z6Vop",
        "outputId": "d6ac138d-2814-43cc-8ea7-5ac116a7e197",
        "colab": {
          "base_uri": "https://localhost:8080/",
          "height": 34
        }
      },
      "source": [
        "webtext = Txt_all_frame_en.iloc[81,3]\n",
        "len(webtext.split())"
      ],
      "execution_count": null,
      "outputs": [
        {
          "output_type": "execute_result",
          "data": {
            "text/plain": [
              "80751"
            ]
          },
          "metadata": {
            "tags": []
          },
          "execution_count": 189
        }
      ]
    },
    {
      "cell_type": "code",
      "metadata": {
        "id": "xQgwYWLRBeXx",
        "outputId": "da0ed787-aca2-467d-d59d-414c2aac3a83",
        "colab": {
          "base_uri": "https://localhost:8080/",
          "height": 51
        }
      },
      "source": [
        "%%time\n",
        "encoded_input = tokenizer(webtext, padding=True, truncation=True, max_length=128, return_tensors='pt')\n",
        "\n",
        "with torch.no_grad():\n",
        "    model_output = model(**encoded_input)\n",
        "\n",
        "v = mean_pooling(model_output, encoded_input['attention_mask'])\n",
        "\n",
        "v.shape"
      ],
      "execution_count": null,
      "outputs": [
        {
          "output_type": "stream",
          "text": [
            "CPU times: user 53.3 s, sys: 930 ms, total: 54.2 s\n",
            "Wall time: 54.3 s\n"
          ],
          "name": "stdout"
        }
      ]
    },
    {
      "cell_type": "code",
      "metadata": {
        "id": "Xh46TA2cBebG",
        "outputId": "6d41d01f-719e-4dac-c123-4956b4c4e559",
        "colab": {
          "base_uri": "https://localhost:8080/",
          "height": 51
        }
      },
      "source": [
        "%%time\n",
        "\n",
        "v = sbert_model.encode(webtext)\n",
        "\n",
        "v.shape"
      ],
      "execution_count": null,
      "outputs": [
        {
          "output_type": "stream",
          "text": [
            "CPU times: user 52.9 s, sys: 952 ms, total: 53.8 s\n",
            "Wall time: 53.9 s\n"
          ],
          "name": "stdout"
        }
      ]
    },
    {
      "cell_type": "code",
      "metadata": {
        "id": "mTcMtUWhBefg",
        "outputId": "d930c7c8-2fa1-4921-db12-107a2e8f8232",
        "colab": {
          "base_uri": "https://localhost:8080/",
          "height": 34
        }
      },
      "source": [
        "webtext2 = Txt_all_frame_en.iloc[82,3]\n",
        "len(webtext2.split())"
      ],
      "execution_count": null,
      "outputs": [
        {
          "output_type": "execute_result",
          "data": {
            "text/plain": [
              "448150"
            ]
          },
          "metadata": {
            "tags": []
          },
          "execution_count": 192
        }
      ]
    },
    {
      "cell_type": "code",
      "metadata": {
        "id": "faGpmTZgBek5",
        "outputId": "abb86d7f-db40-4a3e-baa6-ee06936428a8",
        "colab": {
          "base_uri": "https://localhost:8080/",
          "height": 52
        }
      },
      "source": [
        "#%%time\n",
        "#encoded_input = tokenizer(webtext2, padding=True, truncation=True, max_length=128, return_tensors='pt')\n",
        "\n",
        "#with torch.no_grad():\n",
        "    #model_output = model(**encoded_input)\n",
        "\n",
        "#v = mean_pooling(model_output, encoded_input['attention_mask'])\n",
        "\n",
        "#v.shape"
      ],
      "execution_count": null,
      "outputs": [
        {
          "output_type": "stream",
          "text": [
            "CPU times: user 29min 35s, sys: 34.1 s, total: 30min 9s\n",
            "Wall time: 30min 13s\n"
          ],
          "name": "stdout"
        }
      ]
    },
    {
      "cell_type": "markdown",
      "metadata": {
        "id": "vTzrB4ElNHXH"
      },
      "source": [
        "# **BERT implemnentation with Truncation ~ 95 lenght percentile**"
      ]
    },
    {
      "cell_type": "code",
      "metadata": {
        "id": "5UC7W4ITBenz"
      },
      "source": [
        "sbert_model = SentenceTransformer('roberta-large-nli-stsb-mean-tokens')"
      ],
      "execution_count": null,
      "outputs": []
    },
    {
      "cell_type": "code",
      "metadata": {
        "id": "T5S7yMeIfD9J",
        "outputId": "83889e22-829f-4062-f87b-8229dd57da99",
        "colab": {
          "base_uri": "https://localhost:8080/",
          "height": 328
        }
      },
      "source": [
        "Complete_frame = Txt_all_frame_en\n",
        "Complete_frame.head(9)"
      ],
      "execution_count": null,
      "outputs": [
        {
          "output_type": "execute_result",
          "data": {
            "text/html": [
              "<div>\n",
              "<style scoped>\n",
              "    .dataframe tbody tr th:only-of-type {\n",
              "        vertical-align: middle;\n",
              "    }\n",
              "\n",
              "    .dataframe tbody tr th {\n",
              "        vertical-align: top;\n",
              "    }\n",
              "\n",
              "    .dataframe thead th {\n",
              "        text-align: right;\n",
              "    }\n",
              "</style>\n",
              "<table border=\"1\" class=\"dataframe\">\n",
              "  <thead>\n",
              "    <tr style=\"text-align: right;\">\n",
              "      <th></th>\n",
              "      <th>companyid</th>\n",
              "      <th>comp_type</th>\n",
              "      <th>Text</th>\n",
              "      <th>Text_cleaned</th>\n",
              "      <th>language</th>\n",
              "      <th>Rela_language</th>\n",
              "      <th>Word_len</th>\n",
              "      <th>Text_len</th>\n",
              "    </tr>\n",
              "  </thead>\n",
              "  <tbody>\n",
              "    <tr>\n",
              "      <th>0</th>\n",
              "      <td>73501</td>\n",
              "      <td>S</td>\n",
              "      <td>JOOR Skip navigation Member Log In Forgot pass...</td>\n",
              "      <td>joor skip navigation member log forgot passwor...</td>\n",
              "      <td>en</td>\n",
              "      <td>True</td>\n",
              "      <td>3614</td>\n",
              "      <td>27748</td>\n",
              "    </tr>\n",
              "    <tr>\n",
              "      <th>1</th>\n",
              "      <td>160418</td>\n",
              "      <td>S</td>\n",
              "      <td>Patients Physicians Employers Login Crossover ...</td>\n",
              "      <td>patients physicians employers login crossover ...</td>\n",
              "      <td>en</td>\n",
              "      <td>True</td>\n",
              "      <td>66</td>\n",
              "      <td>489</td>\n",
              "    </tr>\n",
              "    <tr>\n",
              "      <th>2</th>\n",
              "      <td>161261</td>\n",
              "      <td>S</td>\n",
              "      <td>Home | Recent questions | Directories | Feedba...</td>\n",
              "      <td>home   recent questions   directories   feedba...</td>\n",
              "      <td>en</td>\n",
              "      <td>True</td>\n",
              "      <td>92</td>\n",
              "      <td>656</td>\n",
              "    </tr>\n",
              "    <tr>\n",
              "      <th>3</th>\n",
              "      <td>129092</td>\n",
              "      <td>S</td>\n",
              "      <td>Nanotronics Home News Products What is nSpec ?...</td>\n",
              "      <td>nanotronics home news products nspec   system ...</td>\n",
              "      <td>en</td>\n",
              "      <td>True</td>\n",
              "      <td>2337</td>\n",
              "      <td>19264</td>\n",
              "    </tr>\n",
              "    <tr>\n",
              "      <th>4</th>\n",
              "      <td>77179</td>\n",
              "      <td>S</td>\n",
              "      <td>Home About Us Our Approach Technology Our Cust...</td>\n",
              "      <td>home us approach technology customers contact ...</td>\n",
              "      <td>en</td>\n",
              "      <td>True</td>\n",
              "      <td>167</td>\n",
              "      <td>1326</td>\n",
              "    </tr>\n",
              "    <tr>\n",
              "      <th>5</th>\n",
              "      <td>89064</td>\n",
              "      <td>S</td>\n",
              "      <td>StyleSaint Something incredible is happening i...</td>\n",
              "      <td>stylesaint something incredible happening fash...</td>\n",
              "      <td>en</td>\n",
              "      <td>True</td>\n",
              "      <td>8</td>\n",
              "      <td>68</td>\n",
              "    </tr>\n",
              "    <tr>\n",
              "      <th>6</th>\n",
              "      <td>76857</td>\n",
              "      <td>S</td>\n",
              "      <td>Client Login Signup Free Consultation Services...</td>\n",
              "      <td>client login signup free consultation services...</td>\n",
              "      <td>en</td>\n",
              "      <td>True</td>\n",
              "      <td>6487</td>\n",
              "      <td>49653</td>\n",
              "    </tr>\n",
              "    <tr>\n",
              "      <th>7</th>\n",
              "      <td>77461</td>\n",
              "      <td>S</td>\n",
              "      <td>Connection Engine beta Have an account? Sign i...</td>\n",
              "      <td>connection engine beta account  sign username ...</td>\n",
              "      <td>en</td>\n",
              "      <td>True</td>\n",
              "      <td>107</td>\n",
              "      <td>873</td>\n",
              "    </tr>\n",
              "    <tr>\n",
              "      <th>8</th>\n",
              "      <td>88411</td>\n",
              "      <td>S</td>\n",
              "      <td>Blog Features About Management Team Investors ...</td>\n",
              "      <td>blog features management team investors adviso...</td>\n",
              "      <td>en</td>\n",
              "      <td>True</td>\n",
              "      <td>4664</td>\n",
              "      <td>35884</td>\n",
              "    </tr>\n",
              "  </tbody>\n",
              "</table>\n",
              "</div>"
            ],
            "text/plain": [
              "  companyid comp_type  ... Word_len Text_len\n",
              "0     73501         S  ...     3614    27748\n",
              "1    160418         S  ...       66      489\n",
              "2    161261         S  ...       92      656\n",
              "3    129092         S  ...     2337    19264\n",
              "4     77179         S  ...      167     1326\n",
              "5     89064         S  ...        8       68\n",
              "6     76857         S  ...     6487    49653\n",
              "7     77461         S  ...      107      873\n",
              "8     88411         S  ...     4664    35884\n",
              "\n",
              "[9 rows x 8 columns]"
            ]
          },
          "metadata": {
            "tags": []
          },
          "execution_count": 194
        }
      ]
    },
    {
      "cell_type": "code",
      "metadata": {
        "id": "3KERRcZ9Beim",
        "outputId": "81dbb30c-4792-4f9d-9f5c-7abc9b17df16",
        "colab": {
          "base_uri": "https://localhost:8080/",
          "height": 51
        }
      },
      "source": [
        "%%time\n",
        "docs_train = []\n",
        "\n",
        "pct = int(np.percentile(Txt_all_frame_en.Text_len, 95))\n",
        "\n",
        "for i in range(len(Complete_frame)):\n",
        "\n",
        "  if len(Complete_frame['Text_cleaned'][i]) > pct :\n",
        "    v = sbert_model.encode(Complete_frame['Text_cleaned'][i][:pct])\n",
        "    docs_train.append(v)\n",
        "  \n",
        "  else:\n",
        "    v = sbert_model.encode(Complete_frame['Text_cleaned'][i])\n",
        "    docs_train.append(v)\n"
      ],
      "execution_count": null,
      "outputs": [
        {
          "output_type": "stream",
          "text": [
            "CPU times: user 1h 12min 55s, sys: 1min 2s, total: 1h 13min 58s\n",
            "Wall time: 1h 14min 4s\n"
          ],
          "name": "stdout"
        }
      ]
    },
    {
      "cell_type": "code",
      "metadata": {
        "id": "hrJrQbTbecQ1",
        "outputId": "606baf4d-e4d0-4ca5-eab8-73699a0e1aed",
        "colab": {
          "base_uri": "https://localhost:8080/",
          "height": 34
        }
      },
      "source": [
        "X_train = np.vstack([d.T for d in docs_train])\n",
        "X_train.shape"
      ],
      "execution_count": null,
      "outputs": [
        {
          "output_type": "execute_result",
          "data": {
            "text/plain": [
              "(925, 1024)"
            ]
          },
          "metadata": {
            "tags": []
          },
          "execution_count": 196
        }
      ]
    },
    {
      "cell_type": "code",
      "metadata": {
        "id": "moDqwRWm4BV3"
      },
      "source": [
        "with open('/content/drive/My Drive/Capstone Shared Docs/BERT_matrix.npy', 'wb') as f:\n",
        "  np.save(f, X_train)"
      ],
      "execution_count": null,
      "outputs": []
    },
    {
      "cell_type": "code",
      "metadata": {
        "id": "Vcx2tjbYVPh8"
      },
      "source": [
        "pairwise_similarities=cosine_similarity(X_train)\n"
      ],
      "execution_count": null,
      "outputs": []
    },
    {
      "cell_type": "code",
      "metadata": {
        "id": "g4an8z4rZBd3"
      },
      "source": [
        "def get_most_similar(sim_matrix_v, startup_index, how_many=1):\n",
        "  sim_matrix_copy = sim_matrix_v.copy()\n",
        "  v = sim_matrix_copy[startup_index,:]\n",
        "  v[startup_index] = 0\n",
        "  most_similar_indices = []\n",
        "  similarity_list = []\n",
        "  for i in range(how_many):\n",
        "    ind = np.argmax(v)\n",
        "    similarity = np.max(v)\n",
        "    v[ind] = 0\n",
        "    most_similar_indices.append(ind)\n",
        "    similarity_list.append(similarity)\n",
        "  return most_similar_indices, similarity_list"
      ],
      "execution_count": null,
      "outputs": []
    },
    {
      "cell_type": "code",
      "metadata": {
        "id": "SJrDSpx9ZUlV"
      },
      "source": [
        "Dict_similarity = []\n",
        "Strat_score = []\n",
        "n = 5\n",
        "\n",
        "for i in range(len(Complete_frame.companyid)):\n",
        "\n",
        "  most_similar_index,most_similar_similarity = get_most_similar(pairwise_similarities, i, n)\n",
        "  IDs = [Complete_frame.companyid[j] for j in most_similar_index]\n",
        "  dict_sim = {IDs[i]: most_similar_similarity[i] for i in range(len(IDs))} \n",
        "  strategy_score = np.mean(1-np.array(most_similar_similarity))\n",
        "\n",
        "  Dict_similarity.append(dict_sim)\n",
        "  Strat_score.append(strategy_score)"
      ],
      "execution_count": null,
      "outputs": []
    },
    {
      "cell_type": "code",
      "metadata": {
        "id": "L2vqa0RWg-Jc"
      },
      "source": [
        "Complete_frame['Dict_similarity'] = Dict_similarity\n",
        "Complete_frame['Strat_score'] = Strat_score"
      ],
      "execution_count": null,
      "outputs": []
    },
    {
      "cell_type": "code",
      "metadata": {
        "id": "NfHk4KCBl5At"
      },
      "source": [
        "Complete_frame.to_csv('/content/drive/My Drive/Capstone Shared Docs/BERT_Results.csv')"
      ],
      "execution_count": null,
      "outputs": []
    },
    {
      "cell_type": "code",
      "metadata": {
        "id": "nDJMD6xAEsFn",
        "outputId": "d11c6c94-67b1-4e92-e6ed-b055c52a8d4c",
        "colab": {
          "base_uri": "https://localhost:8080/",
          "height": 374
        }
      },
      "source": [
        "Complete_frame.head()"
      ],
      "execution_count": null,
      "outputs": [
        {
          "output_type": "execute_result",
          "data": {
            "text/html": [
              "<div>\n",
              "<style scoped>\n",
              "    .dataframe tbody tr th:only-of-type {\n",
              "        vertical-align: middle;\n",
              "    }\n",
              "\n",
              "    .dataframe tbody tr th {\n",
              "        vertical-align: top;\n",
              "    }\n",
              "\n",
              "    .dataframe thead th {\n",
              "        text-align: right;\n",
              "    }\n",
              "</style>\n",
              "<table border=\"1\" class=\"dataframe\">\n",
              "  <thead>\n",
              "    <tr style=\"text-align: right;\">\n",
              "      <th></th>\n",
              "      <th>companyid</th>\n",
              "      <th>comp_type</th>\n",
              "      <th>Text</th>\n",
              "      <th>Text_cleaned</th>\n",
              "      <th>language</th>\n",
              "      <th>Rela_language</th>\n",
              "      <th>Word_len</th>\n",
              "      <th>Text_len</th>\n",
              "      <th>Dict_similarity</th>\n",
              "      <th>Strat_score</th>\n",
              "    </tr>\n",
              "  </thead>\n",
              "  <tbody>\n",
              "    <tr>\n",
              "      <th>0</th>\n",
              "      <td>73501</td>\n",
              "      <td>S</td>\n",
              "      <td>JOOR Skip navigation Member Log In Forgot pass...</td>\n",
              "      <td>joor skip navigation member log forgot passwor...</td>\n",
              "      <td>en</td>\n",
              "      <td>True</td>\n",
              "      <td>3614</td>\n",
              "      <td>27748</td>\n",
              "      <td>{'87812': 0.75534654, '2187': 0.7421633, '9555...</td>\n",
              "      <td>0.265543</td>\n",
              "    </tr>\n",
              "    <tr>\n",
              "      <th>1</th>\n",
              "      <td>160418</td>\n",
              "      <td>S</td>\n",
              "      <td>Patients Physicians Employers Login Crossover ...</td>\n",
              "      <td>patients physicians employers login crossover ...</td>\n",
              "      <td>en</td>\n",
              "      <td>True</td>\n",
              "      <td>66</td>\n",
              "      <td>489</td>\n",
              "      <td>{'3652': 0.6156608, '1028': 0.60842973, '415':...</td>\n",
              "      <td>0.401242</td>\n",
              "    </tr>\n",
              "    <tr>\n",
              "      <th>2</th>\n",
              "      <td>161261</td>\n",
              "      <td>S</td>\n",
              "      <td>Home | Recent questions | Directories | Feedba...</td>\n",
              "      <td>home   recent questions   directories   feedba...</td>\n",
              "      <td>en</td>\n",
              "      <td>True</td>\n",
              "      <td>92</td>\n",
              "      <td>656</td>\n",
              "      <td>{'4178': 0.71706617, '3972': 0.6322659, '28515...</td>\n",
              "      <td>0.359790</td>\n",
              "    </tr>\n",
              "    <tr>\n",
              "      <th>3</th>\n",
              "      <td>129092</td>\n",
              "      <td>S</td>\n",
              "      <td>Nanotronics Home News Products What is nSpec ?...</td>\n",
              "      <td>nanotronics home news products nspec   system ...</td>\n",
              "      <td>en</td>\n",
              "      <td>True</td>\n",
              "      <td>2337</td>\n",
              "      <td>19264</td>\n",
              "      <td>{'4760': 0.728186, '4006': 0.67883325, '3322':...</td>\n",
              "      <td>0.323905</td>\n",
              "    </tr>\n",
              "    <tr>\n",
              "      <th>4</th>\n",
              "      <td>77179</td>\n",
              "      <td>S</td>\n",
              "      <td>Home About Us Our Approach Technology Our Cust...</td>\n",
              "      <td>home us approach technology customers contact ...</td>\n",
              "      <td>en</td>\n",
              "      <td>True</td>\n",
              "      <td>167</td>\n",
              "      <td>1326</td>\n",
              "      <td>{'96097': 0.7260119, '71320': 0.72508353, '722...</td>\n",
              "      <td>0.282603</td>\n",
              "    </tr>\n",
              "  </tbody>\n",
              "</table>\n",
              "</div>"
            ],
            "text/plain": [
              "  companyid  ... Strat_score\n",
              "0     73501  ...    0.265543\n",
              "1    160418  ...    0.401242\n",
              "2    161261  ...    0.359790\n",
              "3    129092  ...    0.323905\n",
              "4     77179  ...    0.282603\n",
              "\n",
              "[5 rows x 10 columns]"
            ]
          },
          "metadata": {
            "tags": []
          },
          "execution_count": 203
        }
      ]
    }
  ]
}